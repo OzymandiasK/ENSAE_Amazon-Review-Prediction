{
 "cells": [
  {
   "cell_type": "markdown",
   "metadata": {},
   "source": [
    "# ENSAE Master Spécialisé Data Science - Projet Python de 1er semestre"
   ]
  },
  {
   "cell_type": "markdown",
   "metadata": {},
   "source": [
    "*Par Alexandre Combessie et Thibaut Duguet*"
   ]
  },
  {
   "cell_type": "markdown",
   "metadata": {},
   "source": [
    "## Chargement des données"
   ]
  },
  {
   "cell_type": "markdown",
   "metadata": {},
   "source": [
    "Les données complètes sont disponibles sur le site http://jmcauley.ucsd.edu/data/amazon/links.html. Pour commencer, on se concentre sur des bases de données pour des catégories spécifiques de produit, afin d'avoir une taille raisonnable."
   ]
  },
  {
   "cell_type": "code",
   "execution_count": 1,
   "metadata": {
    "collapsed": false
   },
   "outputs": [],
   "source": [
    "import os\n",
    "import json\n",
    "import gzip\n",
    "import pandas as pd\n",
    "import numpy as np\n",
    "import matplotlib\n",
    "import matplotlib.pyplot as plt\n",
    "import numpy as np\n",
    "import ipywidgets as widgets\n",
    "from IPython.display import display\n",
    "import statistics as stat\n",
    "from io import StringIO\n",
    "import nltk\n",
    "import sklearn"
   ]
  },
  {
   "cell_type": "markdown",
   "metadata": {},
   "source": [
    "Tout d'abord, on sélectionne la catégorie de produit à étudier:"
   ]
  },
  {
   "cell_type": "code",
   "execution_count": 2,
   "metadata": {
    "collapsed": false
   },
   "outputs": [],
   "source": [
    "category_options={\n",
    "    \"Musical Instruments\": \"reviews_Musical_Instruments.json.gz\",\n",
    "    \"Baby\": \"reviews_Baby.json.gz\",\n",
    "    \"Movies and TV\": \"reviews_Movies_and_TV.json.gz\",\n",
    "}\n",
    "dropdown = widgets.Dropdown(options=category_options, description=\"Catégorie de produit à étudier\")\n",
    "display(dropdown)"
   ]
  },
  {
   "cell_type": "markdown",
   "metadata": {},
   "source": [
    "Ensuite, on décompresse le fichier pour obtenir un fichier en format json"
   ]
  },
  {
   "cell_type": "code",
   "execution_count": null,
   "metadata": {
    "collapsed": false
   },
   "outputs": [],
   "source": [
    "if(not(os.path.isfile(dropdown.value[:-3]))):\n",
    "    inputFile = gzip.open(dropdown.value, 'rb')\n",
    "    outputFile = open(dropdown.value[:-3], 'wb')\n",
    "    outputFile.write(inputFile.read())\n",
    "    inputFile.close()\n",
    "    outputFile.close()"
   ]
  },
  {
   "cell_type": "markdown",
   "metadata": {},
   "source": [
    "On la transforme en Pandas DataFrame "
   ]
  },
  {
   "cell_type": "code",
   "execution_count": null,
   "metadata": {
    "collapsed": false
   },
   "outputs": [],
   "source": [
    "data=[]\n",
    "filepath=dropdown.value[:-3]\n",
    "with open(filepath) as f:\n",
    "    for line in f:\n",
    "        data.append(json.loads(line))\n",
    "df=pd.DataFrame(data)"
   ]
  },
  {
   "cell_type": "code",
   "execution_count": null,
   "metadata": {
    "collapsed": true
   },
   "outputs": [],
   "source": [
    "df.to_csv(\"Movies and TV.csv\", sep='\\t')"
   ]
  },
  {
   "cell_type": "code",
   "execution_count": 3,
   "metadata": {
    "collapsed": false
   },
   "outputs": [],
   "source": [
    "df=pd.read_csv(\"Movies and TV.csv\", sep='\\t')"
   ]
  },
  {
   "cell_type": "code",
   "execution_count": 4,
   "metadata": {
    "collapsed": false
   },
   "outputs": [
    {
     "name": "stdout",
     "output_type": "stream",
     "text": [
      "(4607088, 10)\n"
     ]
    },
    {
     "data": {
      "text/html": [
       "<div>\n",
       "<table border=\"1\" class=\"dataframe\">\n",
       "  <thead>\n",
       "    <tr style=\"text-align: right;\">\n",
       "      <th></th>\n",
       "      <th>Unnamed: 0</th>\n",
       "      <th>asin</th>\n",
       "      <th>helpful</th>\n",
       "      <th>overall</th>\n",
       "      <th>reviewText</th>\n",
       "      <th>reviewTime</th>\n",
       "      <th>reviewerID</th>\n",
       "      <th>reviewerName</th>\n",
       "      <th>summary</th>\n",
       "      <th>unixReviewTime</th>\n",
       "    </tr>\n",
       "  </thead>\n",
       "  <tbody>\n",
       "    <tr>\n",
       "      <th>0</th>\n",
       "      <td>0</td>\n",
       "      <td>0000143502</td>\n",
       "      <td>[0, 0]</td>\n",
       "      <td>5</td>\n",
       "      <td>This has some great tips as always and is help...</td>\n",
       "      <td>01 17, 2013</td>\n",
       "      <td>A3R5OBKS7OM2IR</td>\n",
       "      <td>Rebecca L. Johnson</td>\n",
       "      <td>Alton... nough said</td>\n",
       "      <td>1358380800</td>\n",
       "    </tr>\n",
       "    <tr>\n",
       "      <th>1</th>\n",
       "      <td>1</td>\n",
       "      <td>0000143529</td>\n",
       "      <td>[0, 0]</td>\n",
       "      <td>5</td>\n",
       "      <td>This is a great pastry guide.  I love how Alto...</td>\n",
       "      <td>10 2, 2013</td>\n",
       "      <td>A3R5OBKS7OM2IR</td>\n",
       "      <td>Rebecca L. Johnson</td>\n",
       "      <td>Ah Alton...</td>\n",
       "      <td>1380672000</td>\n",
       "    </tr>\n",
       "    <tr>\n",
       "      <th>2</th>\n",
       "      <td>2</td>\n",
       "      <td>0000143561</td>\n",
       "      <td>[2, 4]</td>\n",
       "      <td>2</td>\n",
       "      <td>I have to admit that I am a fan of Giada's coo...</td>\n",
       "      <td>07 17, 2008</td>\n",
       "      <td>AH3QC2PC1VTGP</td>\n",
       "      <td>Great Home Cook</td>\n",
       "      <td>Don't waste your money</td>\n",
       "      <td>1216252800</td>\n",
       "    </tr>\n",
       "    <tr>\n",
       "      <th>3</th>\n",
       "      <td>3</td>\n",
       "      <td>0000143588</td>\n",
       "      <td>[9, 9]</td>\n",
       "      <td>5</td>\n",
       "      <td>I bought these two volumes new and spent over ...</td>\n",
       "      <td>03 13, 2009</td>\n",
       "      <td>A3LKP6WPMP9UKX</td>\n",
       "      <td>Anna V. Carroll</td>\n",
       "      <td>VOLUME 1 &amp; VOLUME 2-BETTER THAN THERAPY</td>\n",
       "      <td>1236902400</td>\n",
       "    </tr>\n",
       "    <tr>\n",
       "      <th>4</th>\n",
       "      <td>4</td>\n",
       "      <td>0000143588</td>\n",
       "      <td>[1, 4]</td>\n",
       "      <td>5</td>\n",
       "      <td>I am very pleased with the dvd only wish i cou...</td>\n",
       "      <td>01 18, 2009</td>\n",
       "      <td>AVIY68KEPQ5ZD</td>\n",
       "      <td>Rebecca Millington</td>\n",
       "      <td>Barefoot Contesst Vol 2</td>\n",
       "      <td>1232236800</td>\n",
       "    </tr>\n",
       "  </tbody>\n",
       "</table>\n",
       "</div>"
      ],
      "text/plain": [
       "   Unnamed: 0        asin helpful  overall  \\\n",
       "0           0  0000143502  [0, 0]        5   \n",
       "1           1  0000143529  [0, 0]        5   \n",
       "2           2  0000143561  [2, 4]        2   \n",
       "3           3  0000143588  [9, 9]        5   \n",
       "4           4  0000143588  [1, 4]        5   \n",
       "\n",
       "                                          reviewText   reviewTime  \\\n",
       "0  This has some great tips as always and is help...  01 17, 2013   \n",
       "1  This is a great pastry guide.  I love how Alto...   10 2, 2013   \n",
       "2  I have to admit that I am a fan of Giada's coo...  07 17, 2008   \n",
       "3  I bought these two volumes new and spent over ...  03 13, 2009   \n",
       "4  I am very pleased with the dvd only wish i cou...  01 18, 2009   \n",
       "\n",
       "       reviewerID        reviewerName  \\\n",
       "0  A3R5OBKS7OM2IR  Rebecca L. Johnson   \n",
       "1  A3R5OBKS7OM2IR  Rebecca L. Johnson   \n",
       "2   AH3QC2PC1VTGP     Great Home Cook   \n",
       "3  A3LKP6WPMP9UKX     Anna V. Carroll   \n",
       "4   AVIY68KEPQ5ZD  Rebecca Millington   \n",
       "\n",
       "                                   summary  unixReviewTime  \n",
       "0                      Alton... nough said      1358380800  \n",
       "1                              Ah Alton...      1380672000  \n",
       "2                   Don't waste your money      1216252800  \n",
       "3  VOLUME 1 & VOLUME 2-BETTER THAN THERAPY      1236902400  \n",
       "4                  Barefoot Contesst Vol 2      1232236800  "
      ]
     },
     "execution_count": 4,
     "metadata": {},
     "output_type": "execute_result"
    }
   ],
   "source": [
    "print(df.shape)\n",
    "df.head()"
   ]
  },
  {
   "cell_type": "markdown",
   "metadata": {},
   "source": [
    "## Séparation Training and Validation sets"
   ]
  },
  {
   "cell_type": "markdown",
   "metadata": {},
   "source": [
    "Avant de commencer toute analyse ou modélisation, il faut séparer l'échantillon d'entrainement et l'échantillon de validation. On procède comme suit:"
   ]
  },
  {
   "cell_type": "code",
   "execution_count": 4,
   "metadata": {
    "collapsed": false
   },
   "outputs": [
    {
     "name": "stdout",
     "output_type": "stream",
     "text": [
      "(3685670, 10) (921418, 10)\n"
     ]
    }
   ],
   "source": [
    "from sklearn.cross_validation import train_test_split\n",
    "y = df[\"overall\"]\n",
    "X = df.drop(\"overall\",axis=1,inplace=False)\n",
    "X_train,X_test,y_train,y_test = train_test_split(X.index,y,test_size=0.2)\n",
    "df_train=pd.concat([X,y],axis=1).iloc[X_train] # return dataframe train\n",
    "df_test=pd.concat([X,y],axis=1).iloc[X_test] # return dataframe test\n",
    "print(df_train.shape, df_test.shape)"
   ]
  },
  {
   "cell_type": "code",
   "execution_count": 5,
   "metadata": {
    "collapsed": true
   },
   "outputs": [],
   "source": [
    "del df"
   ]
  },
  {
   "cell_type": "code",
   "execution_count": 6,
   "metadata": {
    "collapsed": true
   },
   "outputs": [],
   "source": [
    "del X, y"
   ]
  },
  {
   "cell_type": "code",
   "execution_count": 7,
   "metadata": {
    "collapsed": false
   },
   "outputs": [],
   "source": [
    "del X_train, X_test"
   ]
  },
  {
   "cell_type": "markdown",
   "metadata": {},
   "source": [
    "## Analyse descriptive"
   ]
  },
  {
   "cell_type": "markdown",
   "metadata": {},
   "source": [
    "Regardons la structure de la table:"
   ]
  },
  {
   "cell_type": "code",
   "execution_count": 9,
   "metadata": {
    "collapsed": false
   },
   "outputs": [
    {
     "data": {
      "text/html": [
       "<div>\n",
       "<table border=\"1\" class=\"dataframe\">\n",
       "  <thead>\n",
       "    <tr style=\"text-align: right;\">\n",
       "      <th></th>\n",
       "      <th>Unnamed: 0</th>\n",
       "      <th>asin</th>\n",
       "      <th>helpful</th>\n",
       "      <th>reviewText</th>\n",
       "      <th>reviewTime</th>\n",
       "      <th>reviewerID</th>\n",
       "      <th>reviewerName</th>\n",
       "      <th>summary</th>\n",
       "      <th>unixReviewTime</th>\n",
       "      <th>overall</th>\n",
       "    </tr>\n",
       "  </thead>\n",
       "  <tbody>\n",
       "    <tr>\n",
       "      <th>2733833</th>\n",
       "      <td>2733833</td>\n",
       "      <td>B000VXWK8Q</td>\n",
       "      <td>[1, 1]</td>\n",
       "      <td>i love this, this brings back memorys its wort...</td>\n",
       "      <td>07 18, 2013</td>\n",
       "      <td>A37U0U3OTXWY7N</td>\n",
       "      <td>nick retherford</td>\n",
       "      <td>good product</td>\n",
       "      <td>1374105600</td>\n",
       "      <td>5</td>\n",
       "    </tr>\n",
       "    <tr>\n",
       "      <th>3089918</th>\n",
       "      <td>3089918</td>\n",
       "      <td>B001OQ17SI</td>\n",
       "      <td>[0, 0]</td>\n",
       "      <td>Given this really is for Steelers fans, having...</td>\n",
       "      <td>05 13, 2009</td>\n",
       "      <td>A17L2COJUQLTM3</td>\n",
       "      <td>Jason Brynford-Jones</td>\n",
       "      <td>Having only brief highlights was a disappointment</td>\n",
       "      <td>1242172800</td>\n",
       "      <td>3</td>\n",
       "    </tr>\n",
       "    <tr>\n",
       "      <th>907509</th>\n",
       "      <td>907509</td>\n",
       "      <td>6304117752</td>\n",
       "      <td>[0, 0]</td>\n",
       "      <td>After 183 Amazon.com reviews, these few though...</td>\n",
       "      <td>03 17, 2001</td>\n",
       "      <td>A2J0U1XP6JPL9L</td>\n",
       "      <td>Charles W. Adams \"Charles W. Adams\"</td>\n",
       "      <td>Julie Andrews/Rodgers &amp;amp; Hammerstein classi...</td>\n",
       "      <td>984787200</td>\n",
       "      <td>5</td>\n",
       "    </tr>\n",
       "    <tr>\n",
       "      <th>465383</th>\n",
       "      <td>465383</td>\n",
       "      <td>6300182355</td>\n",
       "      <td>[0, 0]</td>\n",
       "      <td>Definently worth the money and wait, completel...</td>\n",
       "      <td>08 17, 2013</td>\n",
       "      <td>A3LXKXHQDTH4Q1</td>\n",
       "      <td>Jason Harris</td>\n",
       "      <td>Flash Gordon Movie</td>\n",
       "      <td>1376697600</td>\n",
       "      <td>5</td>\n",
       "    </tr>\n",
       "    <tr>\n",
       "      <th>3879830</th>\n",
       "      <td>3879830</td>\n",
       "      <td>B005LAIHZY</td>\n",
       "      <td>[1, 1]</td>\n",
       "      <td>Very fun for the whole family.  No crude humor...</td>\n",
       "      <td>12 27, 2012</td>\n",
       "      <td>A6RHOAE7AN48D</td>\n",
       "      <td>Mandy</td>\n",
       "      <td>Cute movie</td>\n",
       "      <td>1356566400</td>\n",
       "      <td>5</td>\n",
       "    </tr>\n",
       "  </tbody>\n",
       "</table>\n",
       "</div>"
      ],
      "text/plain": [
       "         Unnamed: 0        asin helpful  \\\n",
       "2733833     2733833  B000VXWK8Q  [1, 1]   \n",
       "3089918     3089918  B001OQ17SI  [0, 0]   \n",
       "907509       907509  6304117752  [0, 0]   \n",
       "465383       465383  6300182355  [0, 0]   \n",
       "3879830     3879830  B005LAIHZY  [1, 1]   \n",
       "\n",
       "                                                reviewText   reviewTime  \\\n",
       "2733833  i love this, this brings back memorys its wort...  07 18, 2013   \n",
       "3089918  Given this really is for Steelers fans, having...  05 13, 2009   \n",
       "907509   After 183 Amazon.com reviews, these few though...  03 17, 2001   \n",
       "465383   Definently worth the money and wait, completel...  08 17, 2013   \n",
       "3879830  Very fun for the whole family.  No crude humor...  12 27, 2012   \n",
       "\n",
       "             reviewerID                         reviewerName  \\\n",
       "2733833  A37U0U3OTXWY7N                      nick retherford   \n",
       "3089918  A17L2COJUQLTM3                 Jason Brynford-Jones   \n",
       "907509   A2J0U1XP6JPL9L  Charles W. Adams \"Charles W. Adams\"   \n",
       "465383   A3LXKXHQDTH4Q1                         Jason Harris   \n",
       "3879830   A6RHOAE7AN48D                                Mandy   \n",
       "\n",
       "                                                   summary  unixReviewTime  \\\n",
       "2733833                                       good product      1374105600   \n",
       "3089918  Having only brief highlights was a disappointment      1242172800   \n",
       "907509   Julie Andrews/Rodgers &amp; Hammerstein classi...       984787200   \n",
       "465383                                  Flash Gordon Movie      1376697600   \n",
       "3879830                                         Cute movie      1356566400   \n",
       "\n",
       "         overall  \n",
       "2733833        5  \n",
       "3089918        3  \n",
       "907509         5  \n",
       "465383         5  \n",
       "3879830        5  "
      ]
     },
     "execution_count": 9,
     "metadata": {},
     "output_type": "execute_result"
    }
   ],
   "source": [
    "df_train.head()"
   ]
  },
  {
   "cell_type": "code",
   "execution_count": 10,
   "metadata": {
    "collapsed": true
   },
   "outputs": [],
   "source": [
    "del df_train[\"reviewerName\"], df_test[\"reviewerName\"]"
   ]
  },
  {
   "cell_type": "markdown",
   "metadata": {},
   "source": [
    "Etudions les dimensions clés de la table:"
   ]
  },
  {
   "cell_type": "code",
   "execution_count": 11,
   "metadata": {
    "collapsed": false
   },
   "outputs": [
    {
     "name": "stdout",
     "output_type": "stream",
     "text": [
      "Le nombre total de reviews est: 3685670\n",
      "Le nombre total de produits est: 187873\n",
      "Le nombre total de reviewers est: 1781889\n",
      "Soit un nombre moyen de 19.6 reviews par produit\n",
      "Soit un nombre moyen de 2.1 reviews par reviewers\n"
     ]
    }
   ],
   "source": [
    "Nbreviews=len(df_train)\n",
    "Nbproducts=len(set(df_train[\"asin\"]))\n",
    "Nbreviewers=len(set(df_train[\"reviewerID\"]))\n",
    "print(\"Le nombre total de reviews est: \"+str(Nbreviews))\n",
    "print(\"Le nombre total de produits est: \"+str(Nbproducts))\n",
    "print(\"Le nombre total de reviewers est: \"+str(Nbreviewers))\n",
    "print(\"Soit un nombre moyen de \"+str(round(Nbreviews/Nbproducts,1))+ \" reviews par produit\")\n",
    "print(\"Soit un nombre moyen de \"+str(round(Nbreviews/Nbreviewers,1))+ \" reviews par reviewers\")"
   ]
  },
  {
   "cell_type": "markdown",
   "metadata": {},
   "source": [
    "Analysons la distribution des notes des reviews"
   ]
  },
  {
   "cell_type": "code",
   "execution_count": 12,
   "metadata": {
    "collapsed": false
   },
   "outputs": [
    {
     "name": "stdout",
     "output_type": "stream",
     "text": [
      "count    3685670.00\n",
      "mean           4.19\n",
      "std            1.23\n",
      "min            1.00\n",
      "25%            4.00\n",
      "50%            5.00\n",
      "75%            5.00\n",
      "max            5.00\n",
      "Name: overall, dtype: float64\n"
     ]
    },
    {
     "data": {
      "image/png": "[encoded data removed]",
      "text/plain": [
       "<matplotlib.figure.Figure at 0x10f0cf198>"
      ]
     },
     "metadata": {},
     "output_type": "display_data"
    }
   ],
   "source": [
    "print(df_train[\"overall\"].describe().round(2))\n",
    "%matplotlib inline \n",
    "a=[int(i) for i in df_train[\"overall\"]]\n",
    "bins=range(1,7)\n",
    "fig, ax = plt.subplots(1,1)\n",
    "ax.hist(a, bins=bins, align='left', color=\"grey\", rwidth=0.7)\n",
    "ax.set_xticks(bins[:-1])\n",
    "plt.title(\"Histogramme des notes des reviews\");\n",
    "plt.xlabel(\"Note\");\n",
    "plt.ylabel(\"Nombre de reviews\");"
   ]
  },
  {
   "cell_type": "markdown",
   "metadata": {},
   "source": [
    "Regardons la distribution des notes moyennes par produit. On constate que la distribution est moins \"skewed\" que précedemment."
   ]
  },
  {
   "cell_type": "code",
   "execution_count": 13,
   "metadata": {
    "collapsed": false
   },
   "outputs": [
    {
     "name": "stdout",
     "output_type": "stream",
     "text": [
      "count    187873.00\n",
      "mean          4.02\n",
      "std           1.01\n",
      "min           1.00\n",
      "25%           3.50\n",
      "50%           4.25\n",
      "75%           5.00\n",
      "max           5.00\n",
      "Name: overall, dtype: float64\n"
     ]
    },
    {
     "data": {
      "image/png": "[encoded data removed]",
      "text/plain": [
       "<matplotlib.figure.Figure at 0x222a27f28>"
      ]
     },
     "metadata": {},
     "output_type": "display_data"
    }
   ],
   "source": [
    "average_note_byproduct=df_train[[\"asin\",\"overall\"]].groupby(\"asin\", as_index=False).mean()\n",
    "print(average_note_byproduct[\"overall\"].describe().round(2))\n",
    "%matplotlib inline \n",
    "bins=range(1,7)\n",
    "fig, ax = plt.subplots(1,1)\n",
    "ax.hist(average_note_byproduct[\"overall\"], bins=bins, align='left', color=\"grey\", rwidth=0.7)\n",
    "ax.set_xticks(bins[:-1])\n",
    "plt.title(\"Histogramme des notes moyennes par produit\");\n",
    "plt.xlabel(\"Note\");\n",
    "plt.ylabel(\"Nombre de produits\");"
   ]
  },
  {
   "cell_type": "markdown",
   "metadata": {},
   "source": [
    "Regardons la distribution du nombre de reviews par utilisateur."
   ]
  },
  {
   "cell_type": "code",
   "execution_count": 14,
   "metadata": {
    "collapsed": false
   },
   "outputs": [
    {
     "name": "stdout",
     "output_type": "stream",
     "text": [
      "count    1781889.00\n",
      "mean           2.07\n",
      "std            9.83\n",
      "min            1.00\n",
      "25%            1.00\n",
      "50%            1.00\n",
      "75%            2.00\n",
      "max         2115.00\n",
      "dtype: float64\n"
     ]
    },
    {
     "data": {
      "image/png": "[encoded data removed]",
      "text/plain": [
       "<matplotlib.figure.Figure at 0x105df4e80>"
      ]
     },
     "metadata": {},
     "output_type": "display_data"
    }
   ],
   "source": [
    "import collections\n",
    "Nbreview_by_user=collections.Counter(df_train[\"reviewerID\"])\n",
    "print(pd.Series(Nbreview_by_user).describe().round(2))\n",
    "bins=range(1,10,1)\n",
    "a = np.clip(list(Nbreview_by_user.values()), 1, 10)\n",
    "fig, ax = plt.subplots(1,1)\n",
    "ax.hist(a, bins=bins, align='left', color=\"grey\", rwidth=0.7)\n",
    "plt.title(\"Histogramme du nombre de reviews par utilisateur\");\n",
    "plt.xlabel(\"Nombre de reviews\");\n",
    "plt.ylabel(\"Nombre d'utilisateurs\");"
   ]
  },
  {
   "cell_type": "markdown",
   "metadata": {},
   "source": [
    "Définissons la fonction de comptage du nombre de mots d'une review et appliquons la à nos données"
   ]
  },
  {
   "cell_type": "code",
   "execution_count": 8,
   "metadata": {
    "collapsed": true
   },
   "outputs": [],
   "source": [
    "def countWords(review):\n",
    "    return(len(review.split()))"
   ]
  },
  {
   "cell_type": "code",
   "execution_count": 9,
   "metadata": {
    "collapsed": false
   },
   "outputs": [],
   "source": [
    "df_train[\"countWordsReview\"] = df_train[\"reviewText\"].astype(str).apply(countWords)\n",
    "df_test[\"countWordsReview\"] = df_test[\"reviewText\"].astype(str).apply(countWords)\n",
    "df_train[\"countWordsSummary\"] = df_train[\"summary\"].astype(str).apply(countWords)\n",
    "df_test[\"countWordsSummary\"] = df_test[\"summary\"].astype(str).apply(countWords)"
   ]
  },
  {
   "cell_type": "markdown",
   "metadata": {},
   "source": [
    "Regardons la distribution du nombre de mots des reviews"
   ]
  },
  {
   "cell_type": "code",
   "execution_count": 17,
   "metadata": {
    "collapsed": false
   },
   "outputs": [
    {
     "name": "stdout",
     "output_type": "stream",
     "text": [
      "count    3685670.00\n",
      "mean         108.44\n",
      "std          157.45\n",
      "min            1.00\n",
      "25%           27.00\n",
      "50%           51.00\n",
      "75%          122.00\n",
      "max         5925.00\n",
      "Name: countWordsReview, dtype: float64\n"
     ]
    }
   ],
   "source": [
    "print(df_train[\"countWordsReview\"].describe().round(2))"
   ]
  },
  {
   "cell_type": "code",
   "execution_count": 25,
   "metadata": {
    "collapsed": false
   },
   "outputs": [
    {
     "data": {
      "image/png": "[encoded data removed]",
      "text/plain": [
       "<matplotlib.figure.Figure at 0x123d271d0>"
      ]
     },
     "metadata": {},
     "output_type": "display_data"
    }
   ],
   "source": [
    "%matplotlib inline \n",
    "bins=range(0,430,30)\n",
    "a = list(np.clip(df_train[\"countWordsReview\"], 0, 400))\n",
    "fig, ax = plt.subplots(1,1)\n",
    "ax.hist(a, bins=bins, align='left', color=\"grey\", rwidth=0.7)\n",
    "plt.title(\"Histogramme du nombre de mots par review\");\n",
    "plt.xlabel(\"Nombre de mots\");\n",
    "plt.ylabel(\"Nombre de reviews\");"
   ]
  },
  {
   "cell_type": "markdown",
   "metadata": {},
   "source": [
    "Maintenant regardons plus spécifiquement entre 0 et 100 mots"
   ]
  },
  {
   "cell_type": "code",
   "execution_count": 20,
   "metadata": {
    "collapsed": false
   },
   "outputs": [
    {
     "data": {
      "image/png": "[encoded data removed]",
      "text/plain": [
       "<matplotlib.figure.Figure at 0x10f1d4080>"
      ]
     },
     "metadata": {},
     "output_type": "display_data"
    }
   ],
   "source": [
    "a = [s for s in df_train[\"countWordsReview\"] if s < 101]\n",
    "%matplotlib inline \n",
    "bins=range(0,100,5)\n",
    "fig, ax = plt.subplots(1,1)\n",
    "ax.hist(a, bins=bins, align='left', color=\"grey\", rwidth=0.7)\n",
    "plt.title(\"Histogramme du nombre de mots par review\");\n",
    "plt.xlabel(\"Nombre de mots\");\n",
    "plt.ylabel(\"Nombre de reviews\");"
   ]
  },
  {
   "cell_type": "markdown",
   "metadata": {},
   "source": [
    "## Préparation des données"
   ]
  },
  {
   "cell_type": "markdown",
   "metadata": {},
   "source": [
    "On prépare les données de texte en utilisant la fonction `TfidfVectorizer` du package `sklearn`. Notons que nous utilisons les stopwords donnés par `nltk` pour réduire le nombre de mots."
   ]
  },
  {
   "cell_type": "code",
   "execution_count": 11,
   "metadata": {
    "collapsed": false
   },
   "outputs": [],
   "source": [
    "from sklearn.feature_extraction.text import TfidfVectorizer\n",
    "from nltk.corpus import stopwords\n",
    "tfidf_vect = TfidfVectorizer()\n",
    "tfidf_vect_stopword = TfidfVectorizer(stop_words= stopwords.words('english'), min_df=0.001)"
   ]
  },
  {
   "cell_type": "markdown",
   "metadata": {},
   "source": [
    "### 1. Texte complet de la review"
   ]
  },
  {
   "cell_type": "markdown",
   "metadata": {},
   "source": [
    "#### a. Echantillon Train"
   ]
  },
  {
   "cell_type": "code",
   "execution_count": 12,
   "metadata": {
    "collapsed": false
   },
   "outputs": [
    {
     "data": {
      "text/plain": [
       "(3685670, 5663)"
      ]
     },
     "execution_count": 12,
     "metadata": {},
     "output_type": "execute_result"
    }
   ],
   "source": [
    "corpus_train_reviewText=list(df_train[\"reviewText\"].astype(str))\n",
    "X_train_tfidf_reviewText = tfidf_vect_stopword.fit_transform(corpus_train_reviewText)\n",
    "X_train_tfidf_reviewText.shape"
   ]
  },
  {
   "cell_type": "code",
   "execution_count": 13,
   "metadata": {
    "collapsed": true
   },
   "outputs": [],
   "source": [
    "del df_train[\"reviewText\"]"
   ]
  },
  {
   "cell_type": "markdown",
   "metadata": {},
   "source": [
    "#### b. Echantillon Test"
   ]
  },
  {
   "cell_type": "code",
   "execution_count": 14,
   "metadata": {
    "collapsed": false
   },
   "outputs": [
    {
     "data": {
      "text/plain": [
       "(921418, 5663)"
      ]
     },
     "execution_count": 14,
     "metadata": {},
     "output_type": "execute_result"
    }
   ],
   "source": [
    "corpus_test_reviewText=list(df_test[\"reviewText\"].astype(str))\n",
    "X_test_tfidf_reviewText = tfidf_vect_stopword.transform(corpus_test_reviewText)\n",
    "X_test_tfidf_reviewText.shape"
   ]
  },
  {
   "cell_type": "code",
   "execution_count": 15,
   "metadata": {
    "collapsed": true
   },
   "outputs": [],
   "source": [
    "del df_test[\"reviewText\"]"
   ]
  },
  {
   "cell_type": "markdown",
   "metadata": {},
   "source": [
    "### 2. Texte du résumé de la review"
   ]
  },
  {
   "cell_type": "markdown",
   "metadata": {},
   "source": [
    "#### a. Echantillon Train"
   ]
  },
  {
   "cell_type": "code",
   "execution_count": 16,
   "metadata": {
    "collapsed": false
   },
   "outputs": [
    {
     "data": {
      "text/plain": [
       "(3685670, 396)"
      ]
     },
     "execution_count": 16,
     "metadata": {},
     "output_type": "execute_result"
    }
   ],
   "source": [
    "corpus_train_summary=list(df_train[\"summary\"].astype(str))\n",
    "X_train_tfidf_summary = tfidf_vect_stopword.fit_transform(corpus_train_summary)\n",
    "X_train_tfidf_summary.shape"
   ]
  },
  {
   "cell_type": "code",
   "execution_count": 17,
   "metadata": {
    "collapsed": true
   },
   "outputs": [],
   "source": [
    "del df_train[\"summary\"]"
   ]
  },
  {
   "cell_type": "markdown",
   "metadata": {},
   "source": [
    "#### b. Echantillon Test"
   ]
  },
  {
   "cell_type": "code",
   "execution_count": 18,
   "metadata": {
    "collapsed": false
   },
   "outputs": [
    {
     "data": {
      "text/plain": [
       "(921418, 396)"
      ]
     },
     "execution_count": 18,
     "metadata": {},
     "output_type": "execute_result"
    }
   ],
   "source": [
    "corpus_test_summary=list(df_test[\"summary\"].astype(str))\n",
    "X_test_tfidf_summary = tfidf_vect_stopword.transform(corpus_test_summary)\n",
    "X_test_tfidf_summary.shape"
   ]
  },
  {
   "cell_type": "code",
   "execution_count": 19,
   "metadata": {
    "collapsed": true
   },
   "outputs": [],
   "source": [
    "del df_test[\"summary\"]"
   ]
  },
  {
   "cell_type": "markdown",
   "metadata": {},
   "source": [
    "### 3. Features supplémentaires"
   ]
  },
  {
   "cell_type": "markdown",
   "metadata": {},
   "source": [
    "Nous allons créer des variables pour le mois et le jour de la review, ce qui peut influencer la note."
   ]
  },
  {
   "cell_type": "code",
   "execution_count": 20,
   "metadata": {
    "collapsed": false
   },
   "outputs": [
    {
     "data": {
      "text/plain": [
       "1544338    Thu\n",
       "3367318    Tue\n",
       "37434      Wed\n",
       "2907236    Thu\n",
       "854364     Fri\n",
       "Name: Weekday, dtype: category\n",
       "Categories (7, object): [Fri, Mon, Sat, Sun, Thu, Tue, Wed]"
      ]
     },
     "execution_count": 20,
     "metadata": {},
     "output_type": "execute_result"
    }
   ],
   "source": [
    "from datetime import datetime\n",
    "df_train[\"Weekday\"] = df_train[\"unixReviewTime\"].apply(lambda x: datetime.strftime(datetime.fromtimestamp(x),'%a')).astype('category')\n",
    "df_test[\"Weekday\"] = df_test[\"unixReviewTime\"].apply(lambda x: datetime.strftime(datetime.fromtimestamp(x),'%a')).astype('category')\n",
    "df_train[\"Weekday\"].head()"
   ]
  },
  {
   "cell_type": "code",
   "execution_count": 21,
   "metadata": {
    "collapsed": false
   },
   "outputs": [
    {
     "data": {
      "text/plain": [
       "1544338    08\n",
       "3367318    08\n",
       "37434      02\n",
       "2907236    10\n",
       "854364     05\n",
       "Name: Month, dtype: category\n",
       "Categories (12, object): [01, 02, 03, 04, ..., 09, 10, 11, 12]"
      ]
     },
     "execution_count": 21,
     "metadata": {},
     "output_type": "execute_result"
    }
   ],
   "source": [
    "df_train[\"Month\"] = df_train[\"unixReviewTime\"].apply(lambda x: datetime.strftime(datetime.fromtimestamp(x),'%m')).astype('category')\n",
    "df_test[\"Month\"] = df_test[\"unixReviewTime\"].apply(lambda x: datetime.strftime(datetime.fromtimestamp(x),'%m')).astype('category')\n",
    "df_train[\"Month\"].head()"
   ]
  },
  {
   "cell_type": "code",
   "execution_count": 22,
   "metadata": {
    "collapsed": true
   },
   "outputs": [],
   "source": [
    "from sklearn.feature_extraction import DictVectorizer\n",
    "dic_vec = DictVectorizer()"
   ]
  },
  {
   "cell_type": "markdown",
   "metadata": {},
   "source": [
    "#### a. Echantillon Train"
   ]
  },
  {
   "cell_type": "code",
   "execution_count": 23,
   "metadata": {
    "collapsed": false
   },
   "outputs": [
    {
     "name": "stdout",
     "output_type": "stream",
     "text": [
      "(3685670, 2)\n"
     ]
    }
   ],
   "source": [
    "from sklearn.preprocessing import normalize\n",
    "X_train_countWords=normalize(df_train[[\"countWordsReview\",\"countWordsSummary\"]].astype(float),axis=0)\n",
    "print(X_train_countWords.shape)"
   ]
  },
  {
   "cell_type": "code",
   "execution_count": 24,
   "metadata": {
    "collapsed": false
   },
   "outputs": [
    {
     "data": {
      "text/plain": [
       "(3685670, 7)"
      ]
     },
     "execution_count": 24,
     "metadata": {},
     "output_type": "execute_result"
    }
   ],
   "source": [
    "dic_train_weekdays = pd.DataFrame(df_train[\"Weekday\"]).to_dict('records')\n",
    "X_train_weekdays = dic_vec.fit_transform(dic_train_weekdays)\n",
    "X_train_weekdays.shape"
   ]
  },
  {
   "cell_type": "code",
   "execution_count": 25,
   "metadata": {
    "collapsed": false
   },
   "outputs": [
    {
     "data": {
      "text/plain": [
       "(3685670, 12)"
      ]
     },
     "execution_count": 25,
     "metadata": {},
     "output_type": "execute_result"
    }
   ],
   "source": [
    "dic_train_months = pd.DataFrame(df_train[\"Month\"]).to_dict('records')\n",
    "X_train_months = dic_vec.fit_transform(dic_train_months)\n",
    "X_train_months.shape"
   ]
  },
  {
   "cell_type": "markdown",
   "metadata": {},
   "source": [
    "#### b. Echantillon Test"
   ]
  },
  {
   "cell_type": "code",
   "execution_count": 26,
   "metadata": {
    "collapsed": false
   },
   "outputs": [
    {
     "name": "stdout",
     "output_type": "stream",
     "text": [
      "(921418, 2)\n"
     ]
    }
   ],
   "source": [
    "from sklearn.preprocessing import normalize\n",
    "X_test_countWords=normalize(df_test[[\"countWordsReview\",\"countWordsSummary\"]].astype(float),axis=0)\n",
    "print(X_test_countWords.shape)"
   ]
  },
  {
   "cell_type": "code",
   "execution_count": 27,
   "metadata": {
    "collapsed": false
   },
   "outputs": [
    {
     "data": {
      "text/plain": [
       "(921418, 7)"
      ]
     },
     "execution_count": 27,
     "metadata": {},
     "output_type": "execute_result"
    }
   ],
   "source": [
    "dic_test_weekdays = pd.DataFrame(df_test[\"Weekday\"]).to_dict('records')\n",
    "X_test_weekdays = dic_vec.fit_transform(dic_test_weekdays)\n",
    "X_test_weekdays.shape"
   ]
  },
  {
   "cell_type": "code",
   "execution_count": 28,
   "metadata": {
    "collapsed": false
   },
   "outputs": [
    {
     "data": {
      "text/plain": [
       "(921418, 12)"
      ]
     },
     "execution_count": 28,
     "metadata": {},
     "output_type": "execute_result"
    }
   ],
   "source": [
    "dic_test_months = pd.DataFrame(df_test[\"Month\"]).to_dict('records')\n",
    "X_test_months = dic_vec.fit_transform(dic_test_months)\n",
    "X_test_months.shape"
   ]
  },
  {
   "cell_type": "code",
   "execution_count": 29,
   "metadata": {
    "collapsed": true
   },
   "outputs": [],
   "source": [
    "del df_train[\"unixReviewTime\"], df_test[\"unixReviewTime\"], df_train[\"Month\"], df_test[\"Month\"], df_train[\"Weekday\"], df_test[\"Weekday\"]"
   ]
  },
  {
   "cell_type": "code",
   "execution_count": 30,
   "metadata": {
    "collapsed": true
   },
   "outputs": [],
   "source": [
    "del df_train[\"reviewTime\"], df_test[\"reviewTime\"], df_train[\"helpful\"], df_test[\"helpful\"]"
   ]
  },
  {
   "cell_type": "markdown",
   "metadata": {},
   "source": [
    "### 4. Combinaison de toutes les features"
   ]
  },
  {
   "cell_type": "markdown",
   "metadata": {},
   "source": [
    "#### a. Echantillon Train"
   ]
  },
  {
   "cell_type": "code",
   "execution_count": 31,
   "metadata": {
    "collapsed": false
   },
   "outputs": [
    {
     "name": "stdout",
     "output_type": "stream",
     "text": [
      "(3685670, 6059)\n"
     ]
    }
   ],
   "source": [
    "from scipy.sparse import hstack\n",
    "X_train_alltext=hstack([X_train_tfidf_reviewText, X_train_tfidf_summary])\n",
    "print(X_train_alltext.shape)"
   ]
  },
  {
   "cell_type": "code",
   "execution_count": 32,
   "metadata": {
    "collapsed": false
   },
   "outputs": [
    {
     "name": "stdout",
     "output_type": "stream",
     "text": [
      "(3685670, 6080)\n"
     ]
    }
   ],
   "source": [
    "X_train_allfeatures = hstack([X_train_alltext,X_train_countWords, X_train_weekdays, X_train_months])\n",
    "print(X_train_allfeatures.shape)"
   ]
  },
  {
   "cell_type": "code",
   "execution_count": 33,
   "metadata": {
    "collapsed": false
   },
   "outputs": [
    {
     "name": "stdout",
     "output_type": "stream",
     "text": [
      "(3685670, 21)\n"
     ]
    }
   ],
   "source": [
    "X_train_supfeatures = hstack([X_train_countWords, X_train_weekdays, X_train_months])\n",
    "print(X_train_supfeatures.shape)"
   ]
  },
  {
   "cell_type": "markdown",
   "metadata": {},
   "source": [
    "#### b. Echantillon Test"
   ]
  },
  {
   "cell_type": "code",
   "execution_count": 34,
   "metadata": {
    "collapsed": false
   },
   "outputs": [
    {
     "name": "stdout",
     "output_type": "stream",
     "text": [
      "(921418, 6059)\n"
     ]
    }
   ],
   "source": [
    "X_test_alltext=hstack([X_test_tfidf_reviewText, X_test_tfidf_summary])\n",
    "print(X_test_alltext.shape)"
   ]
  },
  {
   "cell_type": "code",
   "execution_count": 35,
   "metadata": {
    "collapsed": false
   },
   "outputs": [
    {
     "name": "stdout",
     "output_type": "stream",
     "text": [
      "(921418, 6080)\n"
     ]
    }
   ],
   "source": [
    "X_test_allfeatures = hstack([X_test_alltext,X_test_countWords, X_test_weekdays, X_test_months])\n",
    "print(X_test_allfeatures.shape)"
   ]
  },
  {
   "cell_type": "code",
   "execution_count": 36,
   "metadata": {
    "collapsed": false
   },
   "outputs": [
    {
     "name": "stdout",
     "output_type": "stream",
     "text": [
      "(921418, 21)\n"
     ]
    }
   ],
   "source": [
    "X_test_supfeatures = hstack([X_test_countWords, X_test_weekdays, X_test_months])\n",
    "print(X_test_supfeatures.shape)"
   ]
  },
  {
   "cell_type": "markdown",
   "metadata": {},
   "source": [
    "## Machine Learning"
   ]
  },
  {
   "cell_type": "markdown",
   "metadata": {},
   "source": [
    "En utilisant la librairie `sklearn`, nous allons appliquer les modèles suivants:\n",
    "- Naive Bayes avec modèle multinomial, \n",
    "- Support Vector Machines avec Stochastic Gradient Descent et fonction de perte logistique, \n",
    "- k-Nearest Neighbors. \n",
    "\n",
    "Nous avons essayé des Random Forests mais les calculs n'ont jamais pu aboutir, compte tenu du grand nombre de dimensions. Nous avons choisi un modèle Multinomial pour le Naive Bayes car il est bien adapté aux données (matrice sparse de grande dimension). Un modèle Naive Bayes gaussian n'est pas compatible avec les matrices sparses, et un modèle Naive Bayes Bernoulli ne peut prendre que des variables booléennes en entrée. Quant au choix de la fonction de perte logistique pour le modèle Support Vector Machines, c'est la seule fonction qui permet de calculer des probabilités sur les valeurs prédites et donc de déterminer le critère AUC."
   ]
  },
  {
   "cell_type": "markdown",
   "metadata": {},
   "source": [
    "### 1. Texte complet de la review"
   ]
  },
  {
   "cell_type": "code",
   "execution_count": 37,
   "metadata": {
    "collapsed": false
   },
   "outputs": [],
   "source": [
    "from sklearn.naive_bayes import MultinomialNB\n",
    "clf = MultinomialNB().fit(X_train_tfidf_reviewText, y_train.astype('category'))\n",
    "predicted_NaiveBayes_reviewText = clf.predict(X_test_tfidf_reviewText)"
   ]
  },
  {
   "cell_type": "code",
   "execution_count": 38,
   "metadata": {
    "collapsed": false
   },
   "outputs": [],
   "source": [
    "from sklearn.linear_model import SGDClassifier\n",
    "SGDclass = SGDClassifier(loss='log', penalty='l2', alpha=1e-3, n_iter=5, random_state=42)\n",
    "clf2 = SGDclass.fit(X_train_tfidf_reviewText, y_train.astype('category'))\n",
    "predicted_SVM_reviewText = clf2.predict(X_test_tfidf_reviewText)"
   ]
  },
  {
   "cell_type": "markdown",
   "metadata": {},
   "source": [
    "### 2. Texte du résumé de la review"
   ]
  },
  {
   "cell_type": "code",
   "execution_count": 42,
   "metadata": {
    "collapsed": true
   },
   "outputs": [],
   "source": [
    "from sklearn.naive_bayes import MultinomialNB\n",
    "clf = MultinomialNB().fit(X_train_tfidf_summary, y_train.astype('category'))\n",
    "predicted_NaiveBayes_summary = clf.predict(X_test_tfidf_summary)"
   ]
  },
  {
   "cell_type": "code",
   "execution_count": 43,
   "metadata": {
    "collapsed": false
   },
   "outputs": [],
   "source": [
    "from sklearn.linear_model import SGDClassifier\n",
    "clf2 = SGDclass.fit(X_train_tfidf_summary, y_train.astype('category'))\n",
    "predicted_SVM_summary = clf2.predict(X_test_tfidf_summary)"
   ]
  },
  {
   "cell_type": "markdown",
   "metadata": {},
   "source": [
    "### 3. Texte complet et résumé de la review"
   ]
  },
  {
   "cell_type": "code",
   "execution_count": 44,
   "metadata": {
    "collapsed": false
   },
   "outputs": [],
   "source": [
    "from sklearn.naive_bayes import MultinomialNB\n",
    "clf = MultinomialNB().fit(X_train_alltext, y_train.astype('category'))\n",
    "predicted_NaiveBayes_alltext = clf.predict(X_test_alltext)"
   ]
  },
  {
   "cell_type": "code",
   "execution_count": 45,
   "metadata": {
    "collapsed": false
   },
   "outputs": [],
   "source": [
    "from sklearn.linear_model import SGDClassifier\n",
    "clf2 = SGDclass.fit(X_train_alltext, y_train.astype('category'))\n",
    "predicted_SVM_alltext = clf2.predict(X_test_alltext)"
   ]
  },
  {
   "cell_type": "markdown",
   "metadata": {},
   "source": [
    "### 4. Features supplémentaires"
   ]
  },
  {
   "cell_type": "code",
   "execution_count": 46,
   "metadata": {
    "collapsed": true
   },
   "outputs": [],
   "source": [
    "from sklearn.naive_bayes import MultinomialNB\n",
    "clf = MultinomialNB().fit(X_train_supfeatures, y_train.astype('category'))\n",
    "predicted_NaiveBayes_supfeatures = clf.predict(X_test_supfeatures)"
   ]
  },
  {
   "cell_type": "code",
   "execution_count": 47,
   "metadata": {
    "collapsed": true
   },
   "outputs": [],
   "source": [
    "from sklearn.linear_model import SGDClassifier\n",
    "clf2 = SGDclass.fit(X_train_supfeatures, y_train.astype('category'))\n",
    "predicted_SVM_supfeatures = clf2.predict(X_test_supfeatures)"
   ]
  },
  {
   "cell_type": "markdown",
   "metadata": {},
   "source": [
    "### 5. Combinaison de toutes les features"
   ]
  },
  {
   "cell_type": "code",
   "execution_count": 48,
   "metadata": {
    "collapsed": false
   },
   "outputs": [],
   "source": [
    "from sklearn.naive_bayes import MultinomialNB\n",
    "clf = MultinomialNB().fit(X_train_allfeatures, y_train.astype('category'))\n",
    "predicted_NaiveBayes_allfeatures = clf.predict(X_test_allfeatures)"
   ]
  },
  {
   "cell_type": "code",
   "execution_count": 49,
   "metadata": {
    "collapsed": true
   },
   "outputs": [],
   "source": [
    "from sklearn.linear_model import SGDClassifier\n",
    "clf2 = SGDclass.fit(X_train_allfeatures, y_train.astype('category'))\n",
    "predicted_SVM_allfeatures = clf2.predict(X_test_allfeatures)"
   ]
  },
  {
   "cell_type": "markdown",
   "metadata": {},
   "source": [
    "# Evaluation de la performance"
   ]
  },
  {
   "cell_type": "markdown",
   "metadata": {},
   "source": [
    "### 1. Pour le texte complet de la review"
   ]
  },
  {
   "cell_type": "code",
   "execution_count": 39,
   "metadata": {
    "collapsed": false
   },
   "outputs": [
    {
     "name": "stdout",
     "output_type": "stream",
     "text": [
      "L'accuracy du classifieur Naive Bayes est de 63.1%\n",
      "L'accuracy du classifieur SVM est de 60.0%\n"
     ]
    }
   ],
   "source": [
    "print(\"L'accuracy du classifieur Naive Bayes est de \"+str((np.mean(predicted_NaiveBayes_reviewText == y_test)*100).round(1))+\"%\")\n",
    "print(\"L'accuracy du classifieur SVM est de \"+str((np.mean(predicted_SVM_reviewText == y_test)*100).round(1))+\"%\")"
   ]
  },
  {
   "cell_type": "code",
   "execution_count": 40,
   "metadata": {
    "collapsed": false
   },
   "outputs": [
    {
     "name": "stdout",
     "output_type": "stream",
     "text": [
      "Performance par classe du classifieur Naive Bayes \n",
      "              precision    recall  f1-score   support\n",
      "\n",
      "        1.0       0.74      0.29      0.42     67901\n",
      "        2.0       0.41      0.01      0.02     46531\n",
      "        3.0       0.39      0.04      0.07     82869\n",
      "        4.0       0.36      0.09      0.15    171826\n",
      "        5.0       0.64      0.98      0.78    552291\n",
      "\n",
      "avg / total       0.56      0.63      0.53    921418\n",
      "\n",
      "Performance par classe du classifieur SVM \n",
      "              precision    recall  f1-score   support\n",
      "\n",
      "        1.0       0.86      0.00      0.00     67901\n",
      "        2.0       0.00      0.00      0.00     46531\n",
      "        3.0       1.00      0.00      0.00     82869\n",
      "        4.0       0.37      0.00      0.00    171826\n",
      "        5.0       0.60      1.00      0.75    552291\n",
      "\n",
      "avg / total       0.58      0.60      0.45    921418\n",
      "\n"
     ]
    },
    {
     "name": "stderr",
     "output_type": "stream",
     "text": [
      "/Users/apple/anaconda/lib/python3.5/site-packages/sklearn/metrics/classification.py:1074: UndefinedMetricWarning: Precision and F-score are ill-defined and being set to 0.0 in labels with no predicted samples.\n",
      "  'precision', 'predicted', average, warn_for)\n"
     ]
    }
   ],
   "source": [
    "print(\"Performance par classe du classifieur Naive Bayes \\n\",sklearn.metrics.classification_report(y_test, predicted_NaiveBayes_reviewText))\n",
    "print(\"Performance par classe du classifieur SVM \\n\",sklearn.metrics.classification_report(y_test, predicted_SVM_reviewText))"
   ]
  },
  {
   "cell_type": "code",
   "execution_count": 41,
   "metadata": {
    "collapsed": false
   },
   "outputs": [
    {
     "name": "stdout",
     "output_type": "stream",
     "text": [
      "Matrice de confusion du classifieur Naive Bayes \n",
      " [[ 19773    669   1249   2218  43992]\n",
      " [  4108    566   2557   5093  34207]\n",
      " [  1568    132   2962  11769  66438]\n",
      " [   607      5    611  16126 154477]\n",
      " [   775      7    121   9338 542050]]\n",
      "Matrice de confusion du classifieur SVM \n",
      " [[    92      0      0     62  67747]\n",
      " [    14      0      0    126  46391]\n",
      " [     1      0      1    301  82566]\n",
      " [     0      0      0    420 171406]\n",
      " [     0      0      0    240 552051]]\n"
     ]
    }
   ],
   "source": [
    "print(\"Matrice de confusion du classifieur Naive Bayes \\n\",sklearn.metrics.confusion_matrix(y_test, predicted_NaiveBayes_reviewText))\n",
    "print(\"Matrice de confusion du classifieur SVM \\n\",sklearn.metrics.confusion_matrix(y_test, predicted_SVM_reviewText))"
   ]
  },
  {
   "cell_type": "markdown",
   "metadata": {},
   "source": [
    "### 2. Pour le résumé de la review"
   ]
  },
  {
   "cell_type": "code",
   "execution_count": 50,
   "metadata": {
    "collapsed": false
   },
   "outputs": [
    {
     "name": "stdout",
     "output_type": "stream",
     "text": [
      "L'accuracy du classifieur Naive Bayes est de 63.0%\n",
      "L'accuracy du classifieur SVM est de 60.2%\n"
     ]
    }
   ],
   "source": [
    "print(\"L'accuracy du classifieur Naive Bayes est de \"+str((np.mean(predicted_NaiveBayes_summary == y_test)*100).round(1))+\"%\")\n",
    "print(\"L'accuracy du classifieur SVM est de \"+str((np.mean(predicted_SVM_summary == y_test)*100).round(1))+\"%\")"
   ]
  },
  {
   "cell_type": "code",
   "execution_count": 51,
   "metadata": {
    "collapsed": false
   },
   "outputs": [
    {
     "name": "stdout",
     "output_type": "stream",
     "text": [
      "Performance par classe du classifieur Naive Bayes \n",
      "              precision    recall  f1-score   support\n",
      "\n",
      "        1.0       0.56      0.25      0.35     67901\n",
      "        2.0       0.40      0.03      0.06     46531\n",
      "        3.0       0.49      0.11      0.18     82869\n",
      "        4.0       0.44      0.08      0.14    171826\n",
      "        5.0       0.64      0.97      0.78    552291\n",
      "\n",
      "avg / total       0.57      0.63      0.54    921418\n",
      "\n",
      "Performance par classe du classifieur SVM \n",
      "              precision    recall  f1-score   support\n",
      "\n",
      "        1.0       0.79      0.00      0.00     67901\n",
      "        2.0       0.00      0.00      0.00     46531\n",
      "        3.0       0.68      0.02      0.04     82869\n",
      "        4.0       0.38      0.03      0.06    171826\n",
      "        5.0       0.60      0.99      0.75    552291\n",
      "\n",
      "avg / total       0.55      0.60      0.46    921418\n",
      "\n"
     ]
    },
    {
     "name": "stderr",
     "output_type": "stream",
     "text": [
      "/Users/apple/anaconda/lib/python3.5/site-packages/sklearn/metrics/classification.py:1074: UndefinedMetricWarning: Precision and F-score are ill-defined and being set to 0.0 in labels with no predicted samples.\n",
      "  'precision', 'predicted', average, warn_for)\n"
     ]
    }
   ],
   "source": [
    "print(\"Performance par classe du classifieur Naive Bayes \\n\",sklearn.metrics.classification_report(y_test, predicted_NaiveBayes_summary))\n",
    "print(\"Performance par classe du classifieur SVM \\n\",sklearn.metrics.classification_report(y_test, predicted_SVM_summary))"
   ]
  },
  {
   "cell_type": "code",
   "execution_count": 52,
   "metadata": {
    "collapsed": false
   },
   "outputs": [
    {
     "name": "stdout",
     "output_type": "stream",
     "text": [
      "Matrice de confusion du classifieur Naive Bayes \n",
      " [[ 17039   1116   1179   1136  47431]\n",
      " [  5338   1594   2845   1861  34893]\n",
      " [  3272    946   8981   6097  63573]\n",
      " [  2128    215   3609  14545 151329]\n",
      " [  2490     88   1854   9705 538154]]\n",
      "Matrice de confusion du classifieur SVM \n",
      " [[   123      0     56    555  67167]\n",
      " [    22      0    358    796  45355]\n",
      " [     5      0   1804   2232  78828]\n",
      " [     2      0    309   5105 166410]\n",
      " [     3      0    116   4655 547517]]\n"
     ]
    }
   ],
   "source": [
    "print(\"Matrice de confusion du classifieur Naive Bayes \\n\",sklearn.metrics.confusion_matrix(y_test, predicted_NaiveBayes_summary))\n",
    "print(\"Matrice de confusion du classifieur SVM \\n\",sklearn.metrics.confusion_matrix(y_test, predicted_SVM_summary))"
   ]
  },
  {
   "cell_type": "markdown",
   "metadata": {},
   "source": [
    "### 3. Texte complet et résumé de la review"
   ]
  },
  {
   "cell_type": "code",
   "execution_count": 53,
   "metadata": {
    "collapsed": false
   },
   "outputs": [
    {
     "name": "stdout",
     "output_type": "stream",
     "text": [
      "L'accuracy du classifieur Naive Bayes est de 66.6%\n",
      "L'accuracy du classifieur SVM est de 61.2%\n"
     ]
    }
   ],
   "source": [
    "print(\"L'accuracy du classifieur Naive Bayes est de \"+str((np.mean(predicted_NaiveBayes_alltext == y_test)*100).round(1))+\"%\")\n",
    "print(\"L'accuracy du classifieur SVM est de \"+str((np.mean(predicted_SVM_alltext == y_test)*100).round(1))+\"%\")"
   ]
  },
  {
   "cell_type": "code",
   "execution_count": 54,
   "metadata": {
    "collapsed": false
   },
   "outputs": [
    {
     "name": "stdout",
     "output_type": "stream",
     "text": [
      "Performance par classe du classifieur Naive Bayes \n",
      "              precision    recall  f1-score   support\n",
      "\n",
      "        1.0       0.65      0.48      0.55     67901\n",
      "        2.0       0.43      0.09      0.15     46531\n",
      "        3.0       0.47      0.18      0.26     82869\n",
      "        4.0       0.42      0.24      0.31    171826\n",
      "        5.0       0.71      0.94      0.81    552291\n",
      "\n",
      "avg / total       0.62      0.67      0.62    921418\n",
      "\n",
      "Performance par classe du classifieur SVM \n",
      "              precision    recall  f1-score   support\n",
      "\n",
      "        1.0       0.79      0.06      0.12     67901\n",
      "        2.0       1.00      0.00      0.00     46531\n",
      "        3.0       0.70      0.03      0.06     82869\n",
      "        4.0       0.44      0.05      0.10    171826\n",
      "        5.0       0.62      0.99      0.76    552291\n",
      "\n",
      "avg / total       0.62      0.61      0.49    921418\n",
      "\n"
     ]
    }
   ],
   "source": [
    "print(\"Performance par classe du classifieur Naive Bayes \\n\",sklearn.metrics.classification_report(y_test, predicted_NaiveBayes_alltext))\n",
    "print(\"Performance par classe du classifieur SVM \\n\",sklearn.metrics.classification_report(y_test, predicted_SVM_alltext))"
   ]
  },
  {
   "cell_type": "code",
   "execution_count": 55,
   "metadata": {
    "collapsed": false
   },
   "outputs": [
    {
     "name": "stdout",
     "output_type": "stream",
     "text": [
      "Matrice de confusion du classifieur Naive Bayes \n",
      " [[ 32658   3343   2556   3287  26057]\n",
      " [  8164   4400   6519   6750  20698]\n",
      " [  4137   1920  15028  20293  41491]\n",
      " [  2159    380   5984  41620 121683]\n",
      " [  2805    247   2212  26703 520324]]\n",
      "Matrice de confusion du classifieur SVM \n",
      " [[  4392      0     99    904  62506]\n",
      " [   733      1    565   1746  43486]\n",
      " [   270      0   2762   5029  74808]\n",
      " [    95      0    422   9396 161913]\n",
      " [    55      0     74   4522 547640]]\n"
     ]
    }
   ],
   "source": [
    "print(\"Matrice de confusion du classifieur Naive Bayes \\n\",sklearn.metrics.confusion_matrix(y_test, predicted_NaiveBayes_alltext))\n",
    "print(\"Matrice de confusion du classifieur SVM \\n\",sklearn.metrics.confusion_matrix(y_test, predicted_SVM_alltext))"
   ]
  },
  {
   "cell_type": "markdown",
   "metadata": {},
   "source": [
    "### 4. Features supplémentaires"
   ]
  },
  {
   "cell_type": "code",
   "execution_count": 56,
   "metadata": {
    "collapsed": false
   },
   "outputs": [
    {
     "name": "stdout",
     "output_type": "stream",
     "text": [
      "L'accuracy du classifieur Naive Bayes est de 59.9%\n",
      "L'accuracy du classifieur SVM est de 59.9%\n"
     ]
    }
   ],
   "source": [
    "print(\"L'accuracy du classifieur Naive Bayes est de \"+str((np.mean(predicted_NaiveBayes_supfeatures == y_test)*100).round(1))+\"%\")\n",
    "print(\"L'accuracy du classifieur SVM est de \"+str((np.mean(predicted_SVM_supfeatures == y_test)*100).round(1))+\"%\")"
   ]
  },
  {
   "cell_type": "code",
   "execution_count": 57,
   "metadata": {
    "collapsed": false
   },
   "outputs": [
    {
     "name": "stdout",
     "output_type": "stream",
     "text": [
      "Performance par classe du classifieur Naive Bayes \n",
      "              precision    recall  f1-score   support\n",
      "\n",
      "        1.0       0.00      0.00      0.00     67901\n",
      "        2.0       0.00      0.00      0.00     46531\n",
      "        3.0       0.00      0.00      0.00     82869\n",
      "        4.0       0.00      0.00      0.00    171826\n",
      "        5.0       0.60      1.00      0.75    552291\n",
      "\n",
      "avg / total       0.36      0.60      0.45    921418\n",
      "\n",
      "Performance par classe du classifieur SVM \n",
      "              precision    recall  f1-score   support\n",
      "\n",
      "        1.0       0.00      0.00      0.00     67901\n",
      "        2.0       0.00      0.00      0.00     46531\n",
      "        3.0       0.00      0.00      0.00     82869\n",
      "        4.0       0.00      0.00      0.00    171826\n",
      "        5.0       0.60      1.00      0.75    552291\n",
      "\n",
      "avg / total       0.36      0.60      0.45    921418\n",
      "\n"
     ]
    },
    {
     "name": "stderr",
     "output_type": "stream",
     "text": [
      "/Users/apple/anaconda/lib/python3.5/site-packages/sklearn/metrics/classification.py:1074: UndefinedMetricWarning: Precision and F-score are ill-defined and being set to 0.0 in labels with no predicted samples.\n",
      "  'precision', 'predicted', average, warn_for)\n"
     ]
    }
   ],
   "source": [
    "print(\"Performance par classe du classifieur Naive Bayes \\n\",sklearn.metrics.classification_report(y_test, predicted_NaiveBayes_supfeatures))\n",
    "print(\"Performance par classe du classifieur SVM \\n\",sklearn.metrics.classification_report(y_test, predicted_SVM_supfeatures))"
   ]
  },
  {
   "cell_type": "code",
   "execution_count": 58,
   "metadata": {
    "collapsed": false
   },
   "outputs": [
    {
     "name": "stdout",
     "output_type": "stream",
     "text": [
      "Matrice de confusion du classifieur Naive Bayes \n",
      " [[     0      0      0      0  67901]\n",
      " [     0      0      0      0  46531]\n",
      " [     0      0      0      0  82869]\n",
      " [     0      0      0      0 171826]\n",
      " [     0      0      0      0 552291]]\n",
      "Matrice de confusion du classifieur SVM \n",
      " [[     0      0      0      0  67901]\n",
      " [     0      0      0      0  46531]\n",
      " [     0      0      0      0  82869]\n",
      " [     0      0      0      0 171826]\n",
      " [     0      0      0      0 552291]]\n"
     ]
    }
   ],
   "source": [
    "print(\"Matrice de confusion du classifieur Naive Bayes \\n\",sklearn.metrics.confusion_matrix(y_test, predicted_NaiveBayes_supfeatures))\n",
    "print(\"Matrice de confusion du classifieur SVM \\n\",sklearn.metrics.confusion_matrix(y_test, predicted_SVM_supfeatures))"
   ]
  },
  {
   "cell_type": "markdown",
   "metadata": {},
   "source": [
    "On constate qu'il s'agit d'un classifieur sans intérêt, car il ne prédit que des 5."
   ]
  },
  {
   "cell_type": "markdown",
   "metadata": {},
   "source": [
    "### 3. Pour la combinaison des features"
   ]
  },
  {
   "cell_type": "code",
   "execution_count": 59,
   "metadata": {
    "collapsed": false
   },
   "outputs": [
    {
     "name": "stdout",
     "output_type": "stream",
     "text": [
      "L'accuracy du classifieur Naive Bayes est de 66.5%\n",
      "L'accuracy du classifieur SVM est de 61.3%\n"
     ]
    }
   ],
   "source": [
    "print(\"L'accuracy du classifieur Naive Bayes est de \"+str((np.mean(predicted_NaiveBayes_allfeatures == y_test)*100).round(1))+\"%\")\n",
    "print(\"L'accuracy du classifieur SVM est de \"+str((np.mean(predicted_SVM_allfeatures == y_test)*100).round(1))+\"%\")"
   ]
  },
  {
   "cell_type": "code",
   "execution_count": 60,
   "metadata": {
    "collapsed": false
   },
   "outputs": [
    {
     "name": "stdout",
     "output_type": "stream",
     "text": [
      "Performance par classe du classifieur Naive Bayes \n",
      "              precision    recall  f1-score   support\n",
      "\n",
      "        1.0       0.65      0.48      0.55     67901\n",
      "        2.0       0.42      0.10      0.16     46531\n",
      "        3.0       0.46      0.18      0.26     82869\n",
      "        4.0       0.42      0.25      0.31    171826\n",
      "        5.0       0.71      0.94      0.81    552291\n",
      "\n",
      "avg / total       0.62      0.67      0.62    921418\n",
      "\n",
      "Performance par classe du classifieur SVM \n",
      "              precision    recall  f1-score   support\n",
      "\n",
      "        1.0       0.79      0.07      0.13     67901\n",
      "        2.0       1.00      0.00      0.00     46531\n",
      "        3.0       0.70      0.03      0.07     82869\n",
      "        4.0       0.44      0.06      0.10    171826\n",
      "        5.0       0.62      0.99      0.76    552291\n",
      "\n",
      "avg / total       0.62      0.61      0.49    921418\n",
      "\n"
     ]
    }
   ],
   "source": [
    "print(\"Performance par classe du classifieur Naive Bayes \\n\",sklearn.metrics.classification_report(y_test, predicted_NaiveBayes_allfeatures))\n",
    "print(\"Performance par classe du classifieur SVM \\n\",sklearn.metrics.classification_report(y_test, predicted_SVM_allfeatures))"
   ]
  },
  {
   "cell_type": "code",
   "execution_count": 61,
   "metadata": {
    "collapsed": false
   },
   "outputs": [
    {
     "name": "stdout",
     "output_type": "stream",
     "text": [
      "Matrice de confusion du classifieur Naive Bayes \n",
      " [[ 32505   3442   2597   3470  25887]\n",
      " [  8134   4459   6632   6936  20370]\n",
      " [  4098   1951  15132  20760  40928]\n",
      " [  2147    407   6169  43419 119684]\n",
      " [  2832    275   2329  29605 517250]]\n",
      "Matrice de confusion du classifieur SVM \n",
      " [[  4615      0    114    913  62259]\n",
      " [   785      1    567   1764  43414]\n",
      " [   295      0   2854   5114  74606]\n",
      " [   112      0    441   9545 161728]\n",
      " [    53      0     82   4604 547552]]\n"
     ]
    }
   ],
   "source": [
    "print(\"Matrice de confusion du classifieur Naive Bayes \\n\",sklearn.metrics.confusion_matrix(y_test, predicted_NaiveBayes_allfeatures))\n",
    "print(\"Matrice de confusion du classifieur SVM \\n\",sklearn.metrics.confusion_matrix(y_test, predicted_SVM_allfeatures))"
   ]
  },
  {
   "cell_type": "markdown",
   "metadata": {},
   "source": [
    "## Simplification du problème en classification binaire"
   ]
  },
  {
   "cell_type": "markdown",
   "metadata": {},
   "source": [
    "En étudiant les matrices de confusion obtenues, on voit qu'il est difficile de prédire distinctement les notes entre 1 et 4. Nous allons donc nous ramener à un sous-problème de classification binaire, c'est-à-dire de prédire si la note sera de 5 ou non."
   ]
  },
  {
   "cell_type": "code",
   "execution_count": 62,
   "metadata": {
    "collapsed": false
   },
   "outputs": [],
   "source": [
    "def bin_transformation(x):\n",
    "    if x==5:\n",
    "        return(\"1\")\n",
    "    else:\n",
    "        return(\"0\")"
   ]
  },
  {
   "cell_type": "code",
   "execution_count": 63,
   "metadata": {
    "collapsed": false
   },
   "outputs": [],
   "source": [
    "y_train_bin=y_train.apply(bin_transformation).astype(\"category\")\n",
    "y_test_bin=y_test.apply(bin_transformation).astype(\"category\")"
   ]
  },
  {
   "cell_type": "markdown",
   "metadata": {},
   "source": [
    "On ré-entraîne tous les classifieurs pour ce problème binaire:"
   ]
  },
  {
   "cell_type": "code",
   "execution_count": 64,
   "metadata": {
    "collapsed": false
   },
   "outputs": [],
   "source": [
    "#Texte complet de la review\n",
    "clf = MultinomialNB().fit(X_train_tfidf_reviewText, y_train_bin)\n",
    "predicted_bin_NaiveBayes_reviewText = clf.predict(X_test_tfidf_reviewText)\n",
    "clf2 = SGDclass.fit(X_train_tfidf_reviewText, y_train_bin)\n",
    "predicted_bin_SVM_reviewText = clf2.predict(X_test_tfidf_reviewText)\n",
    "#Texte du résumé de la review\n",
    "clf = MultinomialNB().fit(X_train_tfidf_summary, y_train_bin)\n",
    "predicted_bin_NaiveBayes_summary = clf.predict(X_test_tfidf_summary)\n",
    "clf2 = SGDclass.fit(X_train_tfidf_summary, y_train_bin)\n",
    "predicted_bin_SVM_summary = clf2.predict(X_test_tfidf_summary)\n",
    "#Texte complet et résumé de la review\n",
    "clf = MultinomialNB().fit(X_train_alltext, y_train_bin)\n",
    "predicted_bin_NaiveBayes_alltext = clf.predict(X_test_alltext)\n",
    "clf2 = SGDclass.fit(X_train_alltext, y_train_bin)\n",
    "predicted_bin_SVM_alltext = clf2.predict(X_test_alltext)\n",
    "#Features supplémentaires\n",
    "clf = MultinomialNB().fit(X_train_supfeatures, y_train_bin)\n",
    "predicted_bin_NaiveBayes_supfeatures = clf.predict(X_test_supfeatures)\n",
    "clf2 = SGDclass.fit(X_train_supfeatures, y_train_bin)\n",
    "predicted_bin_SVM_supfeatures = clf2.predict(X_test_supfeatures)\n",
    "#Combinaison de toutes les features\n",
    "clf = MultinomialNB().fit(X_train_allfeatures, y_train_bin)\n",
    "predicted_bin_NaiveBayes_allfeatures = clf.predict(X_test_allfeatures)\n",
    "clf2 = SGDclass.fit(X_train_allfeatures, y_train_bin)\n",
    "predicted_bin_SVM_allfeatures = clf.predict(X_test_allfeatures)"
   ]
  },
  {
   "cell_type": "markdown",
   "metadata": {},
   "source": [
    "Maintenant on peut réévaluer l'ensemble des classifieurs sur nos features. Notons qu'on calcule les indicateurs Precision, Recall et f1-score pour le label \"5\" uniquement étant donné que le problème est binaire."
   ]
  },
  {
   "cell_type": "code",
   "execution_count": 65,
   "metadata": {
    "collapsed": false
   },
   "outputs": [
    {
     "name": "stderr",
     "output_type": "stream",
     "text": [
      "/Users/apple/anaconda/lib/python3.5/site-packages/sklearn/metrics/classification.py:1074: UndefinedMetricWarning: Precision and F-score are ill-defined and being set to 0.0 in labels with no predicted samples.\n",
      "  'precision', 'predicted', average, warn_for)\n"
     ]
    },
    {
     "data": {
      "text/html": [
       "<div>\n",
       "<table border=\"1\" class=\"dataframe\">\n",
       "  <thead>\n",
       "    <tr style=\"text-align: right;\">\n",
       "      <th></th>\n",
       "      <th>Accuracy</th>\n",
       "      <th>Precision</th>\n",
       "      <th>Recall</th>\n",
       "      <th>f1-score</th>\n",
       "    </tr>\n",
       "  </thead>\n",
       "  <tbody>\n",
       "    <tr>\n",
       "      <th>ReviewText-NaiveBayes</th>\n",
       "      <td>71.9%</td>\n",
       "      <td>69.5%</td>\n",
       "      <td>94.6%</td>\n",
       "      <td>80.2%</td>\n",
       "    </tr>\n",
       "    <tr>\n",
       "      <th>ReviewText-SVM</th>\n",
       "      <td>71.9%</td>\n",
       "      <td>69.5%</td>\n",
       "      <td>94.6%</td>\n",
       "      <td>80.2%</td>\n",
       "    </tr>\n",
       "    <tr>\n",
       "      <th>Summary-NaiveBayes</th>\n",
       "      <td>68.3%</td>\n",
       "      <td>68.3%</td>\n",
       "      <td>88.0%</td>\n",
       "      <td>76.9%</td>\n",
       "    </tr>\n",
       "    <tr>\n",
       "      <th>Summary-SVM</th>\n",
       "      <td>67.0%</td>\n",
       "      <td>65.8%</td>\n",
       "      <td>93.6%</td>\n",
       "      <td>77.3%</td>\n",
       "    </tr>\n",
       "    <tr>\n",
       "      <th>Alltext-NaiveBayes</th>\n",
       "      <td>77.9%</td>\n",
       "      <td>79.0%</td>\n",
       "      <td>86.0%</td>\n",
       "      <td>82.4%</td>\n",
       "    </tr>\n",
       "    <tr>\n",
       "      <th>Alltext-SVM</th>\n",
       "      <td>76.2%</td>\n",
       "      <td>74.7%</td>\n",
       "      <td>91.1%</td>\n",
       "      <td>82.1%</td>\n",
       "    </tr>\n",
       "    <tr>\n",
       "      <th>Supfeatures-NaiveBayes</th>\n",
       "      <td>59.9%</td>\n",
       "      <td>59.9%</td>\n",
       "      <td>100.0%</td>\n",
       "      <td>75.0%</td>\n",
       "    </tr>\n",
       "    <tr>\n",
       "      <th>Supfeatures-SVM</th>\n",
       "      <td>59.9%</td>\n",
       "      <td>59.9%</td>\n",
       "      <td>100.0%</td>\n",
       "      <td>75.0%</td>\n",
       "    </tr>\n",
       "    <tr>\n",
       "      <th>Allfeatures-NaiveBayes</th>\n",
       "      <td>77.7%</td>\n",
       "      <td>78.8%</td>\n",
       "      <td>85.7%</td>\n",
       "      <td>82.1%</td>\n",
       "    </tr>\n",
       "    <tr>\n",
       "      <th>Allfeatures-SVM</th>\n",
       "      <td>77.7%</td>\n",
       "      <td>78.8%</td>\n",
       "      <td>85.7%</td>\n",
       "      <td>82.1%</td>\n",
       "    </tr>\n",
       "  </tbody>\n",
       "</table>\n",
       "</div>"
      ],
      "text/plain": [
       "                       Accuracy Precision  Recall f1-score\n",
       "ReviewText-NaiveBayes     71.9%     69.5%   94.6%    80.2%\n",
       "ReviewText-SVM            71.9%     69.5%   94.6%    80.2%\n",
       "Summary-NaiveBayes        68.3%     68.3%   88.0%    76.9%\n",
       "Summary-SVM               67.0%     65.8%   93.6%    77.3%\n",
       "Alltext-NaiveBayes        77.9%     79.0%   86.0%    82.4%\n",
       "Alltext-SVM               76.2%     74.7%   91.1%    82.1%\n",
       "Supfeatures-NaiveBayes    59.9%     59.9%  100.0%    75.0%\n",
       "Supfeatures-SVM           59.9%     59.9%  100.0%    75.0%\n",
       "Allfeatures-NaiveBayes    77.7%     78.8%   85.7%    82.1%\n",
       "Allfeatures-SVM           77.7%     78.8%   85.7%    82.1%"
      ]
     },
     "execution_count": 65,
     "metadata": {},
     "output_type": "execute_result"
    }
   ],
   "source": [
    "index_clf=[\"ReviewText-NaiveBayes\",\"ReviewText-SVM\",\"Summary-NaiveBayes\",\"Summary-SVM\",\n",
    "           \"Alltext-NaiveBayes\",\"Alltext-SVM\",\"Supfeatures-NaiveBayes\",\"Supfeatures-SVM\",\n",
    "          \"Allfeatures-NaiveBayes\",\"Allfeatures-SVM\"]\n",
    "predicted_clf=[predicted_bin_SVM_reviewText, predicted_bin_SVM_reviewText, \n",
    "              predicted_bin_NaiveBayes_summary, predicted_bin_SVM_summary,\n",
    "             predicted_bin_NaiveBayes_alltext, predicted_bin_SVM_alltext,\n",
    "             predicted_bin_NaiveBayes_supfeatures, predicted_bin_SVM_supfeatures,\n",
    "             predicted_bin_NaiveBayes_allfeatures, predicted_bin_SVM_allfeatures]\n",
    "def percent_round1(x):\n",
    "    return(str((x*100).round(1))+\"%\")\n",
    "Accuracy_clf=[percent_round1(np.mean(x==y_test_bin)) for x in predicted_clf]\n",
    "Report_clf=[sklearn.metrics.precision_recall_fscore_support(y_test_bin, x) for x in predicted_clf]\n",
    "Precision_clf=[percent_round1(x[0][1]) for x in Report_clf]\n",
    "Recall_clf=[percent_round1(x[1][1]) for x in Report_clf]\n",
    "f1score_clf=[percent_round1(x[2][1]) for x in Report_clf]\n",
    "\n",
    "dic_clf = {'Accuracy' : pd.Series(Accuracy_clf, index=index_clf),\n",
    "     'Precision' : pd.Series(Precision_clf, index=index_clf),\n",
    "     'Recall' : pd.Series(Recall_clf, index=index_clf),\n",
    "     'f1-score': pd.Series(f1score_clf, index=index_clf),\n",
    "    }\n",
    "df_clf=pd.DataFrame(dic_clf)\n",
    "df_clf"
   ]
  },
  {
   "cell_type": "markdown",
   "metadata": {},
   "source": [
    "On voit que le classifieur le plus performant est le **Naive Bayes sur tout le texte**, sans les features supplémentaires. L'ajout des features supplémentaires n'augmente pas particulièrement la performance, sauf pour le modèle SVM, qui reste cependant en dessous du NaiveBayes. De manière générale, la performance des classifieurs SVM est inférieure ou égale à celle des classifieurs Naive Bayes."
   ]
  },
  {
   "cell_type": "markdown",
   "metadata": {},
   "source": [
    "Enfin, pour évaluer la performance, nous allons tracer la courbe de ROC et évaluer le critère AUC. Pour faciliter la lisibilité du graphique, on élimine le classifieur uniquement sur les variables supplémentaires, car celui-ci ne prédit que des 5."
   ]
  },
  {
   "cell_type": "code",
   "execution_count": 68,
   "metadata": {
    "collapsed": false
   },
   "outputs": [],
   "source": [
    "#Texte complet de la review\n",
    "clf = MultinomialNB().fit(X_train_tfidf_reviewText, y_train_bin)\n",
    "probas_bin_NaiveBayes_reviewText = clf.predict_proba(X_test_tfidf_reviewText)[:,1]\n",
    "clf2 = SGDclass.fit(X_train_tfidf_reviewText, y_train_bin)\n",
    "probas_bin_SVM_reviewText = clf2.predict_proba(X_test_tfidf_reviewText)[:,1]\n",
    "#Texte du résumé de la review\n",
    "clf = MultinomialNB().fit(X_train_tfidf_summary, y_train_bin)\n",
    "probas_bin_NaiveBayes_summary = clf.predict_proba(X_test_tfidf_summary)[:,1]\n",
    "clf2 = SGDclass.fit(X_train_tfidf_summary, y_train_bin)\n",
    "probas_bin_SVM_summary = clf2.predict_proba(X_test_tfidf_summary)[:,1]\n",
    "#Texte complet et résumé de la review\n",
    "clf = MultinomialNB().fit(X_train_alltext, y_train_bin)\n",
    "probas_bin_NaiveBayes_alltext = clf.predict_proba(X_test_alltext)[:,1]\n",
    "clf2 = SGDclass.fit(X_train_alltext, y_train_bin)\n",
    "probas_bin_SVM_alltext = clf2.predict_proba(X_test_alltext)[:,1]\n",
    "#Combinaison de toutes les features\n",
    "clf = MultinomialNB().fit(X_train_allfeatures, y_train_bin)\n",
    "probas_bin_NaiveBayes_allfeatures = clf.predict_proba(X_test_allfeatures)[:,1]\n",
    "clf2 = SGDclass.fit(X_train_allfeatures, y_train_bin)\n",
    "probas_bin_SVM_allfeatures = clf.predict_proba(X_test_allfeatures)[:,1]"
   ]
  },
  {
   "cell_type": "code",
   "execution_count": 90,
   "metadata": {
    "collapsed": false
   },
   "outputs": [
    {
     "data": {
      "text/plain": [
       "<matplotlib.legend.Legend at 0x15985f898>"
      ]
     },
     "execution_count": 90,
     "metadata": {},
     "output_type": "execute_result"
    },
    {
     "data": {
      "image/png": "[encoded data removed]",
      "text/plain": [
       "<matplotlib.figure.Figure at 0x1b324beb8>"
      ]
     },
     "metadata": {},
     "output_type": "display_data"
    }
   ],
   "source": [
    "%matplotlib inline\n",
    "matplotlib.rcParams['figure.figsize'] = (10, 6)\n",
    "from sklearn.metrics import roc_curve, auc\n",
    "probas = [probas_bin_NaiveBayes_reviewText,probas_bin_SVM_reviewText,\n",
    "         probas_bin_NaiveBayes_summary, probas_bin_SVM_summary,\n",
    "         probas_bin_NaiveBayes_alltext, probas_bin_SVM_alltext,\n",
    "         probas_bin_NaiveBayes_allfeatures, probas_bin_SVM_allfeatures]\n",
    "labels=[\"ReviewText-NaiveBayes\",\"ReviewText-SVM\",\"Summary-NaiveBayes\",\"Summary-SVM\",\n",
    "        \"Alltext-NaiveBayes\",\"Alltext-SVM\",\"Allfeatures-NaiveBayes\",\"Allfeatures-SVM\"]\n",
    "fpr= [None] * len(probas)\n",
    "tpr=[None] * len(probas)\n",
    "thresholds=[None] * len(probas)\n",
    "roc_auc=[None] * len(probas)\n",
    "for i in range(len(probas)):    \n",
    "    fpr[i], tpr[i], thresholds[i] = sklearn.metrics.roc_curve(y_test_bin.ravel().astype(float), probas[i], pos_label=1.0)\n",
    "    roc_auc[i]=auc(fpr[i],tpr[i])\n",
    "    plt.plot(fpr[i], tpr[i], label=labels[i]+\" (AUC = %0.2f)\" % roc_auc[i])\n",
    "plt.plot([0, 1], [0, 1], 'k--')\n",
    "plt.xlim([0.0, 1.0])\n",
    "plt.ylim([0.0, 1.0])\n",
    "plt.xlabel('False Positive Rate')\n",
    "plt.ylabel('True Positive Rate')\n",
    "plt.title('Courbes de ROC (Receiver Operating characteristic)')\n",
    "plt.legend(loc=\"lower right\")"
   ]
  },
  {
   "cell_type": "code",
   "execution_count": 88,
   "metadata": {
    "collapsed": false
   },
   "outputs": [
    {
     "data": {
      "text/plain": [
       "0.59939245814603148"
      ]
     },
     "execution_count": 88,
     "metadata": {},
     "output_type": "execute_result"
    }
   ],
   "source": [
    "np.mean(y_test_bin.ravel().astype(float))"
   ]
  },
  {
   "cell_type": "markdown",
   "metadata": {},
   "source": [
    "On voit que l'apport des features supplémentaires n'importe qu'un petit gain d'AUC au classifieur SVM. Les modèles Naive Bayes sont toujours bien supérieurs en termes d'AUC aux modèles SVM."
   ]
  },
  {
   "cell_type": "markdown",
   "metadata": {},
   "source": [
    "## Optimisation des hyper-paramètres pour la classification binaire"
   ]
  },
  {
   "cell_type": "markdown",
   "metadata": {},
   "source": [
    "Nous allons nous concentrer ici sur l'optimisation des hyperparamètres de chacun des classifieurs sur l'intégralité des features."
   ]
  },
  {
   "cell_type": "markdown",
   "metadata": {},
   "source": [
    "### 1. Optimisation du classifieur Naive Bayes"
   ]
  },
  {
   "cell_type": "code",
   "execution_count": 71,
   "metadata": {
    "collapsed": false
   },
   "outputs": [
    {
     "data": {
      "text/plain": [
       "GridSearchCV(cv=None, error_score='raise',\n",
       "       estimator=MultinomialNB(alpha=1.0, class_prior=None, fit_prior=True),\n",
       "       fit_params={}, iid=True, n_jobs=1,\n",
       "       param_grid={'alpha': [0.001, 0.20506122448979594, 0.40912244897959188, 0.61318367346938785, 0.81724489795918376, 1.0213061224489797, 1.2253673469387756, 1.4294285714285715, 1.6334897959183674, 1.8375510204081633, 2.0416122448979594, 2.2456734693877554, 2.4497346938775513, 2.6537959183673472, 2.85785...6938775510213, 9.1837551020408164, 9.3878163265306132, 9.5918775510204082, 9.795938775510205, 10.0]},\n",
       "       pre_dispatch='2*n_jobs', refit=True, scoring=None, verbose=0)"
      ]
     },
     "execution_count": 71,
     "metadata": {},
     "output_type": "execute_result"
    }
   ],
   "source": [
    "from sklearn import grid_search\n",
    "parameters_NB = {'alpha':list(np.linspace(0.001,10,50))}\n",
    "clf1=grid_search.GridSearchCV(MultinomialNB(), parameters_NB)\n",
    "clf1.fit(X_train_allfeatures, y_train_bin)"
   ]
  },
  {
   "cell_type": "code",
   "execution_count": 72,
   "metadata": {
    "collapsed": false
   },
   "outputs": [
    {
     "name": "stdout",
     "output_type": "stream",
     "text": [
      "alpha: 0.001\n"
     ]
    }
   ],
   "source": [
    "best_parameters, score, _ = max(clf1.grid_scores_, key=lambda x: x[1])\n",
    "for param_name in sorted(parameters_NB.keys()):\n",
    "    print(\"%s: %r\" % (param_name, best_parameters[param_name]))"
   ]
  },
  {
   "cell_type": "code",
   "execution_count": 73,
   "metadata": {
    "collapsed": false
   },
   "outputs": [
    {
     "data": {
      "text/plain": [
       "0.77645421320953856"
      ]
     },
     "execution_count": 73,
     "metadata": {},
     "output_type": "execute_result"
    }
   ],
   "source": [
    "score"
   ]
  },
  {
   "cell_type": "code",
   "execution_count": 79,
   "metadata": {
    "collapsed": true
   },
   "outputs": [],
   "source": [
    "predicted_bin_NaiveBayes_optim_allfeatures = clf1.predict(X_test_allfeatures)"
   ]
  },
  {
   "cell_type": "markdown",
   "metadata": {},
   "source": [
    "### 2. Optimisation du classifieur SVM"
   ]
  },
  {
   "cell_type": "code",
   "execution_count": 74,
   "metadata": {
    "collapsed": false
   },
   "outputs": [
    {
     "data": {
      "text/plain": [
       "GridSearchCV(cv=None, error_score='raise',\n",
       "       estimator=SGDClassifier(alpha=0.0001, average=False, class_weight=None, epsilon=0.1,\n",
       "       eta0=0.0, fit_intercept=True, l1_ratio=0.15,\n",
       "       learning_rate='optimal', loss='hinge', n_iter=5, n_jobs=1,\n",
       "       penalty='l2', power_t=0.5, random_state=None, shuffle=True,\n",
       "       verbose=0, warm_start=False),\n",
       "       fit_params={}, iid=True, n_jobs=1,\n",
       "       param_grid={'alpha': [9.9999999999999995e-07, 2.1387755102040818e-05, 4.1775510204081632e-05, 6.2163265306122456e-05, 8.2551020408163267e-05, 0.00010293877551020408, 0.00012332653061224492, 0.00014371428571428573, 0.00016410204081632654, 0.00018448979591836735, 0.00020487755102040816, 0.000225265306...97961224489795926, 0.001], 'penalty': ['l2', 'l1', 'elasticnet'], 'loss': ['modified_huber', 'log']},\n",
       "       pre_dispatch='2*n_jobs', refit=True, scoring=None, verbose=0)"
      ]
     },
     "execution_count": 74,
     "metadata": {},
     "output_type": "execute_result"
    }
   ],
   "source": [
    "parameters_SVM = {'alpha':list(np.linspace(0.000001,0.001,50)),\n",
    "                  'loss':[\"modified_huber\",\"log\"],\n",
    "                  'penalty': [\"l2\", \"l1\",\"elasticnet\"],\n",
    "                 }\n",
    "clf2=grid_search.GridSearchCV(SGDClassifier(), parameters_SVM)\n",
    "clf2.fit(X_train_allfeatures, y_train_bin)"
   ]
  },
  {
   "cell_type": "code",
   "execution_count": 75,
   "metadata": {
    "collapsed": false
   },
   "outputs": [
    {
     "name": "stdout",
     "output_type": "stream",
     "text": [
      "alpha: 6.2163265306122456e-05\n",
      "loss: 'modified_huber'\n",
      "penalty: 'l2'\n"
     ]
    }
   ],
   "source": [
    "best_parameters, score, _ = max(clf2.grid_scores_, key=lambda x: x[1])\n",
    "for param_name in sorted(parameters_SVM.keys()):\n",
    "    print(\"%s: %r\" % (param_name, best_parameters[param_name]))"
   ]
  },
  {
   "cell_type": "code",
   "execution_count": 76,
   "metadata": {
    "collapsed": true
   },
   "outputs": [],
   "source": [
    "predicted_bin_SVM_optim_allfeatures = clf2.predict(X_test_allfeatures)"
   ]
  },
  {
   "cell_type": "markdown",
   "metadata": {},
   "source": [
    "### Comparaison de performance entre classifieurs optimisés et non optimisés"
   ]
  },
  {
   "cell_type": "code",
   "execution_count": 80,
   "metadata": {
    "collapsed": false
   },
   "outputs": [
    {
     "data": {
      "text/html": [
       "<div>\n",
       "<table border=\"1\" class=\"dataframe\">\n",
       "  <thead>\n",
       "    <tr style=\"text-align: right;\">\n",
       "      <th></th>\n",
       "      <th>Accuracy</th>\n",
       "      <th>Precision</th>\n",
       "      <th>Recall</th>\n",
       "      <th>f1-score</th>\n",
       "    </tr>\n",
       "  </thead>\n",
       "  <tbody>\n",
       "    <tr>\n",
       "      <th>NaiveBayes-Basic</th>\n",
       "      <td>77.7%</td>\n",
       "      <td>78.8%</td>\n",
       "      <td>85.7%</td>\n",
       "      <td>82.1%</td>\n",
       "    </tr>\n",
       "    <tr>\n",
       "      <th>NaiveBayes-Optimized</th>\n",
       "      <td>77.7%</td>\n",
       "      <td>78.8%</td>\n",
       "      <td>85.7%</td>\n",
       "      <td>82.1%</td>\n",
       "    </tr>\n",
       "    <tr>\n",
       "      <th>SVM-Basic</th>\n",
       "      <td>77.7%</td>\n",
       "      <td>78.8%</td>\n",
       "      <td>85.7%</td>\n",
       "      <td>82.1%</td>\n",
       "    </tr>\n",
       "    <tr>\n",
       "      <th>SVM-Optimized</th>\n",
       "      <td>80.5%</td>\n",
       "      <td>81.0%</td>\n",
       "      <td>88.2%</td>\n",
       "      <td>84.4%</td>\n",
       "    </tr>\n",
       "  </tbody>\n",
       "</table>\n",
       "</div>"
      ],
      "text/plain": [
       "                     Accuracy Precision Recall f1-score\n",
       "NaiveBayes-Basic        77.7%     78.8%  85.7%    82.1%\n",
       "NaiveBayes-Optimized    77.7%     78.8%  85.7%    82.1%\n",
       "SVM-Basic               77.7%     78.8%  85.7%    82.1%\n",
       "SVM-Optimized           80.5%     81.0%  88.2%    84.4%"
      ]
     },
     "execution_count": 80,
     "metadata": {},
     "output_type": "execute_result"
    }
   ],
   "source": [
    "index_clf=[\"NaiveBayes-Basic\",\"NaiveBayes-Optimized\",\"SVM-Basic\",\"SVM-Optimized\"]\n",
    "predicted_clf=[predicted_bin_NaiveBayes_allfeatures, predicted_bin_NaiveBayes_optim_allfeatures,\n",
    "               predicted_bin_SVM_allfeatures, predicted_bin_SVM_optim_allfeatures]\n",
    "def percent_round1(x):\n",
    "    return(str((x*100).round(1))+\"%\")\n",
    "Accuracy_clf=[percent_round1(np.mean(x==y_test_bin)) for x in predicted_clf]\n",
    "Report_clf=[sklearn.metrics.precision_recall_fscore_support(y_test_bin, x) for x in predicted_clf]\n",
    "Precision_clf=[percent_round1(x[0][1]) for x in Report_clf]\n",
    "Recall_clf=[percent_round1(x[1][1]) for x in Report_clf]\n",
    "f1score_clf=[percent_round1(x[2][1]) for x in Report_clf]\n",
    "\n",
    "dic_clf = {'Accuracy' : pd.Series(Accuracy_clf, index=index_clf),\n",
    "     'Precision' : pd.Series(Precision_clf, index=index_clf),\n",
    "     'Recall' : pd.Series(Recall_clf, index=index_clf),\n",
    "     'f1-score': pd.Series(f1score_clf, index=index_clf),\n",
    "    }\n",
    "df_clf=pd.DataFrame(dic_clf)\n",
    "df_clf"
   ]
  },
  {
   "cell_type": "markdown",
   "metadata": {},
   "source": [
    "On voit que l'optimisation est sensible pour le classifieur SVM, qui dépasse maintenant le classifieur Naive Bayes. Cependant, le temps de calcul a été beaucoup plus long pour SVM que pour Naive Bayes."
   ]
  },
  {
   "cell_type": "markdown",
   "metadata": {},
   "source": [
    "## Analyse de la performance en fonction du nombre de mots"
   ]
  },
  {
   "cell_type": "code",
   "execution_count": null,
   "metadata": {
    "collapsed": false
   },
   "outputs": [],
   "source": [
    "def createBins(x):\n",
    "    if x[\"countWordsReview\"] < 17:\n",
    "        return(17)\n",
    "    elif x[\"countWordsReview\"] < 30:\n",
    "        return(30)\n",
    "    elif x[\"countWordsReview\"] < 60:\n",
    "        return(60)\n",
    "    elif x[\"countWordsReview\"] < 100:\n",
    "        return(100)\n",
    "    elif x[\"countWordsReview\"] < 200:\n",
    "        return(200)\n",
    "    else:\n",
    "        return(300)"
   ]
  },
  {
   "cell_type": "code",
   "execution_count": null,
   "metadata": {
    "collapsed": true
   },
   "outputs": [],
   "source": []
  },
  {
   "cell_type": "code",
   "execution_count": null,
   "metadata": {
    "collapsed": true
   },
   "outputs": [],
   "source": [
    "dfy = pd.DataFrame(y_test)"
   ]
  },
  {
   "cell_type": "code",
   "execution_count": null,
   "metadata": {
    "collapsed": true
   },
   "outputs": [],
   "source": [
    "dfy[\"predicted\"] = predicted_bin_SVM_allfeatures"
   ]
  },
  {
   "cell_type": "code",
   "execution_count": null,
   "metadata": {
    "collapsed": true
   },
   "outputs": [],
   "source": [
    "dfy[\"reviewText\"] = df_test[\"reviewText\"]"
   ]
  },
  {
   "cell_type": "code",
   "execution_count": null,
   "metadata": {
    "collapsed": true
   },
   "outputs": [],
   "source": [
    "dfy[\"countWordsReview\"] = dfy[\"reviewText\"].apply(countWords)"
   ]
  },
  {
   "cell_type": "code",
   "execution_count": null,
   "metadata": {
    "collapsed": false
   },
   "outputs": [],
   "source": [
    "type(predicted_bin_SVM_allfeatures)"
   ]
  },
  {
   "cell_type": "code",
   "execution_count": null,
   "metadata": {
    "collapsed": false
   },
   "outputs": [],
   "source": [
    "predicted_bin_SVM_allfeatures"
   ]
  },
  {
   "cell_type": "code",
   "execution_count": null,
   "metadata": {
    "collapsed": false
   },
   "outputs": [],
   "source": [
    "y_test"
   ]
  },
  {
   "cell_type": "code",
   "execution_count": null,
   "metadata": {
    "collapsed": false
   },
   "outputs": [],
   "source": [
    "dfy = pd.DataFrame(y_test)\n",
    "dfy[\"predicted\"] = predicted_bin_SVM_allfeatures\n",
    "dfy[\"reviewText\"] = df_test[\"reviewText\"]\n",
    "dfy[\"countWordsReview\"] = dfy[\"reviewText\"].apply(countWords)\n",
    "dfy[\"qualite\"] = abs(predicted_bin_SVM_allfeatures - y_test)\n",
    "dfy[\"bin\"] = dfy.apply(createBins, axis = 1)\n",
    "dfy.head()"
   ]
  },
  {
   "cell_type": "code",
   "execution_count": null,
   "metadata": {
    "collapsed": false
   },
   "outputs": [],
   "source": [
    "np.mean(dfy[dfy.bin==30][\"qualite\"])"
   ]
  },
  {
   "cell_type": "code",
   "execution_count": null,
   "metadata": {
    "collapsed": false
   },
   "outputs": [],
   "source": [
    "sum(abs(predicted_reviewText - y_test))"
   ]
  },
  {
   "cell_type": "markdown",
   "metadata": {},
   "source": [
    "## Bits of useless code (so far)"
   ]
  },
  {
   "cell_type": "code",
   "execution_count": null,
   "metadata": {
    "collapsed": false
   },
   "outputs": [],
   "source": [
    "#an example with another function TfidfVectorizer using frequency instead of count\n",
    "from sklearn.feature_extraction.text import TfidfVectorizer\n",
    "corpus = [\"This is very strange\",\n",
    "          \"This is very nice\"]\n",
    "vectorizer = TfidfVectorizer(min_df=1)\n",
    "X = vectorizer.fit_transform(corpus)\n",
    "idf = vectorizer.idf_\n",
    "print(dict(zip(vectorizer.get_feature_names(), idf)))"
   ]
  },
  {
   "cell_type": "code",
   "execution_count": null,
   "metadata": {
    "collapsed": false
   },
   "outputs": [],
   "source": [
    "# A possible approach that would require to construct pipelines\n",
    "from sklearn.pipeline import FeatureUnion\n",
    "from sklearn.feature_extraction import HashingVectorizer\n",
    "hash_vect = HashingVectorizer()"
   ]
  },
  {
   "cell_type": "code",
   "execution_count": null,
   "metadata": {
    "collapsed": false
   },
   "outputs": [],
   "source": [
    "for i in range(0,5) :\n",
    "        print(str(corpus_test_reviewText[i]) +\"\\n\"+ \"------ We predict \"+ str(predicted_reviewText[i])+\"\\n\")"
   ]
  },
  {
   "cell_type": "markdown",
   "metadata": {},
   "source": [
    "Then: draw multi class ROC Curve using this example: http://scikit-learn.org/stable/auto_examples/model_selection/plot_roc.html"
   ]
  },
  {
   "cell_type": "markdown",
   "metadata": {},
   "source": [
    "# Todo"
   ]
  },
  {
   "cell_type": "markdown",
   "metadata": {},
   "source": [
    "- Analyse de la performance en fonction du nombre de mots\n",
    "- Ajout d'un classifieur kNN\n",
    "- Analyse des features les plus importantes dans chaque modèle"
   ]
  }
 ],
 "metadata": {
  "kernelspec": {
   "display_name": "Python 3",
   "language": "python",
   "name": "python3"
  },
  "language_info": {
   "codemirror_mode": {
    "name": "ipython",
    "version": 3
   },
   "file_extension": ".py",
   "mimetype": "text/x-python",
   "name": "python",
   "nbconvert_exporter": "python",
   "pygments_lexer": "ipython3",
   "version": "3.5.1"
  }
 },
 "nbformat": 4,
 "nbformat_minor": 0
}
