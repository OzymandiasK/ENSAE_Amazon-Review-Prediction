{
 "cells": [
  {
   "cell_type": "markdown",
   "metadata": {},
   "source": [
    "# Chargement des données"
   ]
  },
  {
   "cell_type": "markdown",
   "metadata": {},
   "source": [
    "Les données complètes sont disponibles sur le site http://jmcauley.ucsd.edu/data/amazon/links.html. Pour commencer, on se concentre sur des bases de données pour des catégories spécifiques de produit, afin d'avoir une taille raisonnable."
   ]
  },
  {
   "cell_type": "code",
   "execution_count": 74,
   "metadata": {
    "collapsed": false
   },
   "outputs": [],
   "source": [
    "import os\n",
    "import json\n",
    "import gzip\n",
    "import pandas as pd\n",
    "import numpy as np\n",
    "import matplotlib\n",
    "import matplotlib.pyplot as plt\n",
    "import numpy as np\n",
    "import ipywidgets as widgets\n",
    "from IPython.display import display\n",
    "import statistics as stat\n",
    "from io import StringIO"
   ]
  },
  {
   "cell_type": "markdown",
   "metadata": {},
   "source": [
    "Tout d'abord, on sélectionne la catégorie de produit à étudier:"
   ]
  },
  {
   "cell_type": "code",
   "execution_count": 2,
   "metadata": {
    "collapsed": false
   },
   "outputs": [],
   "source": [
    "category_options={\n",
    "    \"Musical Instruments\": \"reviews_Musical_Instruments.json.gz\",\n",
    "    \"Baby\": \"reviews_Baby.json.gz\",\n",
    "    \"Movies and TV\": \"reviews_Movies_and_TV.json.gz\",\n",
    "}\n",
    "dropdown = widgets.Dropdown(options=category_options, description=\"Catégorie de produit à étudier\")\n",
    "display(dropdown)"
   ]
  },
  {
   "cell_type": "markdown",
   "metadata": {},
   "source": [
    "Ensuite, on décompresse le fichier pour obtenir un fichier en format json"
   ]
  },
  {
   "cell_type": "code",
   "execution_count": 3,
   "metadata": {
    "collapsed": false
   },
   "outputs": [],
   "source": [
    "if(not(os.path.isfile(dropdown.value[:-3]))):\n",
    "    inputFile = gzip.open(dropdown.value, 'rb')\n",
    "    outputFile = open(dropdown.value[:-3], 'wb')\n",
    "    outputFile.write(inputFile.read())\n",
    "    inputFile.close()\n",
    "    outputFile.close()"
   ]
  },
  {
   "cell_type": "markdown",
   "metadata": {},
   "source": [
    "On la transforme en Pandas DataFrame "
   ]
  },
  {
   "cell_type": "code",
   "execution_count": 4,
   "metadata": {
    "collapsed": false
   },
   "outputs": [],
   "source": [
    "data=[]\n",
    "filepath=dropdown.value[:-3]\n",
    "with open(filepath) as f:\n",
    "    for line in f:\n",
    "        data.append(json.loads(line))\n",
    "df=pd.DataFrame(data)"
   ]
  },
  {
   "cell_type": "markdown",
   "metadata": {},
   "source": [
    "# Analyse descriptive"
   ]
  },
  {
   "cell_type": "markdown",
   "metadata": {},
   "source": [
    "Regardons la structure de la table:"
   ]
  },
  {
   "cell_type": "code",
   "execution_count": 5,
   "metadata": {
    "collapsed": false
   },
   "outputs": [
    {
     "data": {
      "text/html": [
       "<div>\n",
       "<table border=\"1\" class=\"dataframe\">\n",
       "  <thead>\n",
       "    <tr style=\"text-align: right;\">\n",
       "      <th></th>\n",
       "      <th>asin</th>\n",
       "      <th>helpful</th>\n",
       "      <th>overall</th>\n",
       "      <th>reviewText</th>\n",
       "      <th>reviewTime</th>\n",
       "      <th>reviewerID</th>\n",
       "      <th>reviewerName</th>\n",
       "      <th>summary</th>\n",
       "      <th>unixReviewTime</th>\n",
       "    </tr>\n",
       "  </thead>\n",
       "  <tbody>\n",
       "    <tr>\n",
       "      <th>0</th>\n",
       "      <td>0006428320</td>\n",
       "      <td>[0, 0]</td>\n",
       "      <td>3</td>\n",
       "      <td>The portfolio is fine except for the fact that...</td>\n",
       "      <td>03 11, 2014</td>\n",
       "      <td>A1YS9MDZP93857</td>\n",
       "      <td>John Taylor</td>\n",
       "      <td>Parts missing</td>\n",
       "      <td>1394496000</td>\n",
       "    </tr>\n",
       "    <tr>\n",
       "      <th>1</th>\n",
       "      <td>0014072149</td>\n",
       "      <td>[0, 0]</td>\n",
       "      <td>5</td>\n",
       "      <td>If you are a serious violin student on a budge...</td>\n",
       "      <td>06 6, 2013</td>\n",
       "      <td>A3TS466QBAWB9D</td>\n",
       "      <td>Silver Pencil</td>\n",
       "      <td>Perform it with a friend, today!</td>\n",
       "      <td>1370476800</td>\n",
       "    </tr>\n",
       "    <tr>\n",
       "      <th>2</th>\n",
       "      <td>0041291905</td>\n",
       "      <td>[0, 0]</td>\n",
       "      <td>5</td>\n",
       "      <td>This is and excellent edition and perfectly tr...</td>\n",
       "      <td>10 14, 2013</td>\n",
       "      <td>A3BUDYITWUSIS7</td>\n",
       "      <td>joyce gabriel cornett</td>\n",
       "      <td>Vivalldi's Four Seasons</td>\n",
       "      <td>1381708800</td>\n",
       "    </tr>\n",
       "    <tr>\n",
       "      <th>3</th>\n",
       "      <td>0041913574</td>\n",
       "      <td>[0, 0]</td>\n",
       "      <td>5</td>\n",
       "      <td>Perfect for someone who is an opera fan or a w...</td>\n",
       "      <td>09 23, 2010</td>\n",
       "      <td>A19K10Z0D2NTZK</td>\n",
       "      <td>TexasCowboy</td>\n",
       "      <td>Full score: voice and orchestra</td>\n",
       "      <td>1285200000</td>\n",
       "    </tr>\n",
       "    <tr>\n",
       "      <th>4</th>\n",
       "      <td>0201891859</td>\n",
       "      <td>[0, 1]</td>\n",
       "      <td>1</td>\n",
       "      <td>How many Nocturnes does it contain? All of the...</td>\n",
       "      <td>10 17, 2012</td>\n",
       "      <td>A14X336IB4JD89</td>\n",
       "      <td>dfjm53</td>\n",
       "      <td>Unable to determine contents</td>\n",
       "      <td>1350432000</td>\n",
       "    </tr>\n",
       "  </tbody>\n",
       "</table>\n",
       "</div>"
      ],
      "text/plain": [
       "         asin helpful  overall  \\\n",
       "0  0006428320  [0, 0]        3   \n",
       "1  0014072149  [0, 0]        5   \n",
       "2  0041291905  [0, 0]        5   \n",
       "3  0041913574  [0, 0]        5   \n",
       "4  0201891859  [0, 1]        1   \n",
       "\n",
       "                                          reviewText   reviewTime  \\\n",
       "0  The portfolio is fine except for the fact that...  03 11, 2014   \n",
       "1  If you are a serious violin student on a budge...   06 6, 2013   \n",
       "2  This is and excellent edition and perfectly tr...  10 14, 2013   \n",
       "3  Perfect for someone who is an opera fan or a w...  09 23, 2010   \n",
       "4  How many Nocturnes does it contain? All of the...  10 17, 2012   \n",
       "\n",
       "       reviewerID           reviewerName                           summary  \\\n",
       "0  A1YS9MDZP93857            John Taylor                     Parts missing   \n",
       "1  A3TS466QBAWB9D          Silver Pencil  Perform it with a friend, today!   \n",
       "2  A3BUDYITWUSIS7  joyce gabriel cornett           Vivalldi's Four Seasons   \n",
       "3  A19K10Z0D2NTZK            TexasCowboy   Full score: voice and orchestra   \n",
       "4  A14X336IB4JD89                 dfjm53      Unable to determine contents   \n",
       "\n",
       "   unixReviewTime  \n",
       "0      1394496000  \n",
       "1      1370476800  \n",
       "2      1381708800  \n",
       "3      1285200000  \n",
       "4      1350432000  "
      ]
     },
     "execution_count": 5,
     "metadata": {},
     "output_type": "execute_result"
    }
   ],
   "source": [
    "df.head()"
   ]
  },
  {
   "cell_type": "markdown",
   "metadata": {},
   "source": [
    "Etudions les dimensions clés de la table:"
   ]
  },
  {
   "cell_type": "code",
   "execution_count": 6,
   "metadata": {
    "collapsed": false
   },
   "outputs": [
    {
     "name": "stdout",
     "output_type": "stream",
     "text": [
      "Le nombre total de reviews est: 500183\n",
      "Le nombre total de produits est: 83048\n",
      "Le nombre total de reviewers est: 339235\n",
      "Soit un nombre moyen de 6.0 reviews par produit\n",
      "Soit un nombre moyen de 1.5 reviews par reviewers\n"
     ]
    }
   ],
   "source": [
    "Nbreviews=len(df)\n",
    "Nbproducts=len(set(df[\"asin\"]))\n",
    "Nbreviewers=len(set(df[\"reviewerID\"]))\n",
    "print(\"Le nombre total de reviews est: \"+str(Nbreviews))\n",
    "print(\"Le nombre total de produits est: \"+str(Nbproducts))\n",
    "print(\"Le nombre total de reviewers est: \"+str(Nbreviewers))\n",
    "print(\"Soit un nombre moyen de \"+str(round(Nbreviews/Nbproducts,1))+ \" reviews par produit\")\n",
    "print(\"Soit un nombre moyen de \"+str(round(Nbreviews/Nbreviewers,1))+ \" reviews par reviewers\")"
   ]
  },
  {
   "cell_type": "markdown",
   "metadata": {},
   "source": [
    "Analysons la distribution des notes des reviews"
   ]
  },
  {
   "cell_type": "code",
   "execution_count": 7,
   "metadata": {
    "collapsed": false
   },
   "outputs": [
    {
     "name": "stdout",
     "output_type": "stream",
     "text": [
      "count    500183.000000\n",
      "mean          4.244361\n",
      "std           1.203369\n",
      "min           1.000000\n",
      "25%           4.000000\n",
      "50%           5.000000\n",
      "75%           5.000000\n",
      "max           5.000000\n",
      "Name: overall, dtype: float64\n"
     ]
    },
    {
     "data": {
      "image/png": "[encoded data removed]",
      "text/plain": [
       "<matplotlib.figure.Figure at 0x147960588>"
      ]
     },
     "metadata": {},
     "output_type": "display_data"
    }
   ],
   "source": [
    "print(df[\"overall\"].describe())\n",
    "%matplotlib inline \n",
    "plt.hist([int(i) for i in df[\"overall\"]]);\n",
    "plt.title(\"Histogramme des notes des reviews\");\n",
    "plt.xlabel(\"Note\");\n",
    "plt.ylabel(\"Frequence\");\n",
    "plt.xticks(range(1,6));"
   ]
  },
  {
   "cell_type": "markdown",
   "metadata": {},
   "source": [
    "Regardons la distribution du nombre de reviews par produit"
   ]
  },
  {
   "cell_type": "code",
   "execution_count": 9,
   "metadata": {
    "collapsed": false
   },
   "outputs": [
    {
     "data": {
      "text/plain": [
       "'If you are a serious violin student on a budget, this edition has it all: Piano accompaniment, low price, urtext solo parts, and annotations by Maestro David Oistrakh where Bach\\'s penmanship is hard to decipher.  Additions (in dashes) are easily distinguishable from the original bowings.  This is a delightful concerto that all intermediate level violinists should perform with a violin buddy.  Get your copy, today, along with \"The Green Violin; Theory, Ear Training, and Musicianship for Violinists\" book to prepare for this concerto and for more advanced playing!'"
      ]
     },
     "execution_count": 9,
     "metadata": {},
     "output_type": "execute_result"
    }
   ],
   "source": [
    "df[\"reviewText\"][1]"
   ]
  },
  {
   "cell_type": "markdown",
   "metadata": {},
   "source": [
    "Définition de la fonction de comptage du nombre de mots d'une review"
   ]
  },
  {
   "cell_type": "code",
   "execution_count": 13,
   "metadata": {
    "collapsed": false
   },
   "outputs": [],
   "source": [
    "import re\n",
    "def countWords(review):\n",
    "    return (len(re.findall(r'\\w+', review[\"reviewText\"])))"
   ]
  },
  {
   "cell_type": "code",
   "execution_count": 30,
   "metadata": {
    "collapsed": false
   },
   "outputs": [],
   "source": [
    "df[\"countWordsReview\"] = df.apply(countWords, axis = 1)"
   ]
  },
  {
   "cell_type": "code",
   "execution_count": 31,
   "metadata": {
    "collapsed": false
   },
   "outputs": [
    {
     "data": {
      "text/html": [
       "<div>\n",
       "<table border=\"1\" class=\"dataframe\">\n",
       "  <thead>\n",
       "    <tr style=\"text-align: right;\">\n",
       "      <th></th>\n",
       "      <th>asin</th>\n",
       "      <th>helpful</th>\n",
       "      <th>overall</th>\n",
       "      <th>reviewText</th>\n",
       "      <th>reviewTime</th>\n",
       "      <th>reviewerID</th>\n",
       "      <th>reviewerName</th>\n",
       "      <th>summary</th>\n",
       "      <th>unixReviewTime</th>\n",
       "      <th>countWordsReview</th>\n",
       "    </tr>\n",
       "  </thead>\n",
       "  <tbody>\n",
       "    <tr>\n",
       "      <th>0</th>\n",
       "      <td>0006428320</td>\n",
       "      <td>[0, 0]</td>\n",
       "      <td>3</td>\n",
       "      <td>The portfolio is fine except for the fact that...</td>\n",
       "      <td>03 11, 2014</td>\n",
       "      <td>A1YS9MDZP93857</td>\n",
       "      <td>John Taylor</td>\n",
       "      <td>Parts missing</td>\n",
       "      <td>1394496000</td>\n",
       "      <td>21</td>\n",
       "    </tr>\n",
       "    <tr>\n",
       "      <th>1</th>\n",
       "      <td>0014072149</td>\n",
       "      <td>[0, 0]</td>\n",
       "      <td>5</td>\n",
       "      <td>If you are a serious violin student on a budge...</td>\n",
       "      <td>06 6, 2013</td>\n",
       "      <td>A3TS466QBAWB9D</td>\n",
       "      <td>Silver Pencil</td>\n",
       "      <td>Perform it with a friend, today!</td>\n",
       "      <td>1370476800</td>\n",
       "      <td>89</td>\n",
       "    </tr>\n",
       "    <tr>\n",
       "      <th>2</th>\n",
       "      <td>0041291905</td>\n",
       "      <td>[0, 0]</td>\n",
       "      <td>5</td>\n",
       "      <td>This is and excellent edition and perfectly tr...</td>\n",
       "      <td>10 14, 2013</td>\n",
       "      <td>A3BUDYITWUSIS7</td>\n",
       "      <td>joyce gabriel cornett</td>\n",
       "      <td>Vivalldi's Four Seasons</td>\n",
       "      <td>1381708800</td>\n",
       "      <td>31</td>\n",
       "    </tr>\n",
       "    <tr>\n",
       "      <th>3</th>\n",
       "      <td>0041913574</td>\n",
       "      <td>[0, 0]</td>\n",
       "      <td>5</td>\n",
       "      <td>Perfect for someone who is an opera fan or a w...</td>\n",
       "      <td>09 23, 2010</td>\n",
       "      <td>A19K10Z0D2NTZK</td>\n",
       "      <td>TexasCowboy</td>\n",
       "      <td>Full score: voice and orchestra</td>\n",
       "      <td>1285200000</td>\n",
       "      <td>127</td>\n",
       "    </tr>\n",
       "    <tr>\n",
       "      <th>4</th>\n",
       "      <td>0201891859</td>\n",
       "      <td>[0, 1]</td>\n",
       "      <td>1</td>\n",
       "      <td>How many Nocturnes does it contain? All of the...</td>\n",
       "      <td>10 17, 2012</td>\n",
       "      <td>A14X336IB4JD89</td>\n",
       "      <td>dfjm53</td>\n",
       "      <td>Unable to determine contents</td>\n",
       "      <td>1350432000</td>\n",
       "      <td>25</td>\n",
       "    </tr>\n",
       "  </tbody>\n",
       "</table>\n",
       "</div>"
      ],
      "text/plain": [
       "         asin helpful  overall  \\\n",
       "0  0006428320  [0, 0]        3   \n",
       "1  0014072149  [0, 0]        5   \n",
       "2  0041291905  [0, 0]        5   \n",
       "3  0041913574  [0, 0]        5   \n",
       "4  0201891859  [0, 1]        1   \n",
       "\n",
       "                                          reviewText   reviewTime  \\\n",
       "0  The portfolio is fine except for the fact that...  03 11, 2014   \n",
       "1  If you are a serious violin student on a budge...   06 6, 2013   \n",
       "2  This is and excellent edition and perfectly tr...  10 14, 2013   \n",
       "3  Perfect for someone who is an opera fan or a w...  09 23, 2010   \n",
       "4  How many Nocturnes does it contain? All of the...  10 17, 2012   \n",
       "\n",
       "       reviewerID           reviewerName                           summary  \\\n",
       "0  A1YS9MDZP93857            John Taylor                     Parts missing   \n",
       "1  A3TS466QBAWB9D          Silver Pencil  Perform it with a friend, today!   \n",
       "2  A3BUDYITWUSIS7  joyce gabriel cornett           Vivalldi's Four Seasons   \n",
       "3  A19K10Z0D2NTZK            TexasCowboy   Full score: voice and orchestra   \n",
       "4  A14X336IB4JD89                 dfjm53      Unable to determine contents   \n",
       "\n",
       "   unixReviewTime  countWordsReview  \n",
       "0      1394496000                21  \n",
       "1      1370476800                89  \n",
       "2      1381708800                31  \n",
       "3      1285200000               127  \n",
       "4      1350432000                25  "
      ]
     },
     "execution_count": 31,
     "metadata": {},
     "output_type": "execute_result"
    }
   ],
   "source": [
    "df.head()"
   ]
  },
  {
   "cell_type": "code",
   "execution_count": 35,
   "metadata": {
    "collapsed": false
   },
   "outputs": [
    {
     "name": "stdout",
     "output_type": "stream",
     "text": [
      "6045 0 51 91.0517070752\n"
     ]
    }
   ],
   "source": [
    "a = df[\"countWordsReview\"]\n",
    "print(max(a), min(a), stat.median(a), stat.mean(a))\n"
   ]
  },
  {
   "cell_type": "code",
   "execution_count": 60,
   "metadata": {
    "collapsed": false
   },
   "outputs": [
    {
     "data": {
      "image/png": "[encoded data removed]",
      "text/plain": [
       "<matplotlib.figure.Figure at 0x149c1b550>"
      ]
     },
     "metadata": {},
     "output_type": "display_data"
    }
   ],
   "source": [
    "%matplotlib inline \n",
    "a=df[\"countWordsReview\"]\n",
    "bins=range(0,330,30)\n",
    "a = np.clip(df[\"countWordsReview\"], 0, 300)\n",
    "fig, ax = plt.subplots(1,1)\n",
    "ax.hist(a, bins=bins, align='left', color=\"grey\", rwidth=0.7)\n",
    "##ax.set_xticks(bins[:-1])\n",
    "plt.title(\"Histogramme du nombre de mots par review\");\n",
    "plt.xlabel(\"Nombre de mots\");\n",
    "plt.ylabel(\"\");"
   ]
  },
  {
   "cell_type": "markdown",
   "metadata": {},
   "source": [
    "On zoome sur les reviews entre 0 et 100 mots."
   ]
  },
  {
   "cell_type": "code",
   "execution_count": 73,
   "metadata": {
    "collapsed": false
   },
   "outputs": [
    {
     "data": {
      "image/png": "[encoded data removed]",
      "text/plain": [
       "<matplotlib.figure.Figure at 0x149b350b8>"
      ]
     },
     "metadata": {},
     "output_type": "display_data"
    }
   ],
   "source": [
    "a = [s for s in df[\"countWordsReview\"] if s < 101]\n",
    "%matplotlib inline \n",
    "bins=range(0,100,5)\n",
    "fig, ax = plt.subplots(1,1)\n",
    "ax.hist(a, bins=bins, align='left', color=\"grey\", rwidth=0.7)\n",
    "##ax.set_xticks(bins[:-1])\n",
    "plt.title(\"Histogramme du nombre de mots par review\");\n",
    "plt.xlabel(\"Nombre de mots\");\n",
    "plt.ylabel(\"\");"
   ]
  },
  {
   "cell_type": "code",
   "execution_count": 77,
   "metadata": {
    "collapsed": true
   },
   "outputs": [],
   "source": [
    "buf = StringIO()\n",
    "\n",
    "for i in range(df.shape[0]):\n",
    "    buf.write(df[\"reviewText\"][i])"
   ]
  },
  {
   "cell_type": "markdown",
   "metadata": {},
   "source": [
    "# Préparation des données"
   ]
  },
  {
   "cell_type": "code",
   "execution_count": 162,
   "metadata": {
    "collapsed": true
   },
   "outputs": [],
   "source": [
    "import nltk"
   ]
  }
 ],
 "metadata": {
  "kernelspec": {
   "display_name": "Python 3",
   "language": "python",
   "name": "python3"
  },
  "language_info": {
   "codemirror_mode": {
    "name": "ipython",
    "version": 3
   },
   "file_extension": ".py",
   "mimetype": "text/x-python",
   "name": "python",
   "nbconvert_exporter": "python",
   "pygments_lexer": "ipython3",
   "version": "3.4.3"
  }
 },
 "nbformat": 4,
 "nbformat_minor": 0
}
