{
 "cells": [
  {
   "cell_type": "markdown",
   "metadata": {},
   "source": [
    "# Chargement des données"
   ]
  },
  {
   "cell_type": "markdown",
   "metadata": {},
   "source": [
    "Les données complètes sont disponibles sur le site http://jmcauley.ucsd.edu/data/amazon/links.html. Pour commencer, on se concentre sur des bases de données pour des catégories spécifiques de produit, afin d'avoir une taille raisonnable."
   ]
  },
  {
   "cell_type": "code",
   "execution_count": 1,
   "metadata": {
    "collapsed": false
   },
   "outputs": [],
   "source": [
    "import os\n",
    "import json\n",
    "import gzip\n",
    "import pandas as pd\n",
    "import numpy as np\n",
    "import matplotlib\n",
    "import matplotlib.pyplot as plt\n",
    "import numpy as np\n",
    "import ipywidgets as widgets\n",
    "from IPython.display import display\n",
    "import statistics as stat\n",
    "from io import StringIO\n",
    "import nltk\n",
    "import sklearn"
   ]
  },
  {
   "cell_type": "markdown",
   "metadata": {},
   "source": [
    "Tout d'abord, on sélectionne la catégorie de produit à étudier:"
   ]
  },
  {
   "cell_type": "code",
   "execution_count": 2,
   "metadata": {
    "collapsed": false
   },
   "outputs": [],
   "source": [
    "category_options={\n",
    "    \"Musical Instruments\": \"reviews_Musical_Instruments.json.gz\",\n",
    "    \"Baby\": \"reviews_Baby.json.gz\",\n",
    "    \"Movies and TV\": \"reviews_Movies_and_TV.json.gz\",\n",
    "}\n",
    "dropdown = widgets.Dropdown(options=category_options, description=\"Catégorie de produit à étudier\")\n",
    "display(dropdown)"
   ]
  },
  {
   "cell_type": "markdown",
   "metadata": {},
   "source": [
    "Ensuite, on décompresse le fichier pour obtenir un fichier en format json"
   ]
  },
  {
   "cell_type": "code",
   "execution_count": 3,
   "metadata": {
    "collapsed": false
   },
   "outputs": [],
   "source": [
    "if(not(os.path.isfile(dropdown.value[:-3]))):\n",
    "    inputFile = gzip.open(dropdown.value, 'rb')\n",
    "    outputFile = open(dropdown.value[:-3], 'wb')\n",
    "    outputFile.write(inputFile.read())\n",
    "    inputFile.close()\n",
    "    outputFile.close()"
   ]
  },
  {
   "cell_type": "markdown",
   "metadata": {},
   "source": [
    "On la transforme en Pandas DataFrame "
   ]
  },
  {
   "cell_type": "code",
   "execution_count": 4,
   "metadata": {
    "collapsed": false
   },
   "outputs": [],
   "source": [
    "data=[]\n",
    "filepath=dropdown.value[:-3]\n",
    "with open(filepath) as f:\n",
    "    for line in f:\n",
    "        data.append(json.loads(line))\n",
    "df=pd.DataFrame(data)"
   ]
  },
  {
   "cell_type": "code",
   "execution_count": 16,
   "metadata": {
    "collapsed": false
   },
   "outputs": [
    {
     "data": {
      "text/html": [
       "<div>\n",
       "<table border=\"1\" class=\"dataframe\">\n",
       "  <thead>\n",
       "    <tr style=\"text-align: right;\">\n",
       "      <th></th>\n",
       "      <th>asin</th>\n",
       "      <th>helpful</th>\n",
       "      <th>overall</th>\n",
       "      <th>reviewText</th>\n",
       "      <th>reviewTime</th>\n",
       "      <th>reviewerID</th>\n",
       "      <th>reviewerName</th>\n",
       "      <th>summary</th>\n",
       "      <th>unixReviewTime</th>\n",
       "    </tr>\n",
       "  </thead>\n",
       "  <tbody>\n",
       "    <tr>\n",
       "      <th>0</th>\n",
       "      <td>0006428320</td>\n",
       "      <td>[0, 0]</td>\n",
       "      <td>3</td>\n",
       "      <td>The portfolio is fine except for the fact that...</td>\n",
       "      <td>03 11, 2014</td>\n",
       "      <td>A1YS9MDZP93857</td>\n",
       "      <td>John Taylor</td>\n",
       "      <td>Parts missing</td>\n",
       "      <td>1394496000</td>\n",
       "    </tr>\n",
       "    <tr>\n",
       "      <th>1</th>\n",
       "      <td>0014072149</td>\n",
       "      <td>[0, 0]</td>\n",
       "      <td>5</td>\n",
       "      <td>If you are a serious violin student on a budge...</td>\n",
       "      <td>06 6, 2013</td>\n",
       "      <td>A3TS466QBAWB9D</td>\n",
       "      <td>Silver Pencil</td>\n",
       "      <td>Perform it with a friend, today!</td>\n",
       "      <td>1370476800</td>\n",
       "    </tr>\n",
       "    <tr>\n",
       "      <th>2</th>\n",
       "      <td>0041291905</td>\n",
       "      <td>[0, 0]</td>\n",
       "      <td>5</td>\n",
       "      <td>This is and excellent edition and perfectly tr...</td>\n",
       "      <td>10 14, 2013</td>\n",
       "      <td>A3BUDYITWUSIS7</td>\n",
       "      <td>joyce gabriel cornett</td>\n",
       "      <td>Vivalldi's Four Seasons</td>\n",
       "      <td>1381708800</td>\n",
       "    </tr>\n",
       "    <tr>\n",
       "      <th>3</th>\n",
       "      <td>0041913574</td>\n",
       "      <td>[0, 0]</td>\n",
       "      <td>5</td>\n",
       "      <td>Perfect for someone who is an opera fan or a w...</td>\n",
       "      <td>09 23, 2010</td>\n",
       "      <td>A19K10Z0D2NTZK</td>\n",
       "      <td>TexasCowboy</td>\n",
       "      <td>Full score: voice and orchestra</td>\n",
       "      <td>1285200000</td>\n",
       "    </tr>\n",
       "    <tr>\n",
       "      <th>4</th>\n",
       "      <td>0201891859</td>\n",
       "      <td>[0, 1]</td>\n",
       "      <td>1</td>\n",
       "      <td>How many Nocturnes does it contain? All of the...</td>\n",
       "      <td>10 17, 2012</td>\n",
       "      <td>A14X336IB4JD89</td>\n",
       "      <td>dfjm53</td>\n",
       "      <td>Unable to determine contents</td>\n",
       "      <td>1350432000</td>\n",
       "    </tr>\n",
       "  </tbody>\n",
       "</table>\n",
       "</div>"
      ],
      "text/plain": [
       "         asin helpful  overall  \\\n",
       "0  0006428320  [0, 0]        3   \n",
       "1  0014072149  [0, 0]        5   \n",
       "2  0041291905  [0, 0]        5   \n",
       "3  0041913574  [0, 0]        5   \n",
       "4  0201891859  [0, 1]        1   \n",
       "\n",
       "                                          reviewText   reviewTime  \\\n",
       "0  The portfolio is fine except for the fact that...  03 11, 2014   \n",
       "1  If you are a serious violin student on a budge...   06 6, 2013   \n",
       "2  This is and excellent edition and perfectly tr...  10 14, 2013   \n",
       "3  Perfect for someone who is an opera fan or a w...  09 23, 2010   \n",
       "4  How many Nocturnes does it contain? All of the...  10 17, 2012   \n",
       "\n",
       "       reviewerID           reviewerName                           summary  \\\n",
       "0  A1YS9MDZP93857            John Taylor                     Parts missing   \n",
       "1  A3TS466QBAWB9D          Silver Pencil  Perform it with a friend, today!   \n",
       "2  A3BUDYITWUSIS7  joyce gabriel cornett           Vivalldi's Four Seasons   \n",
       "3  A19K10Z0D2NTZK            TexasCowboy   Full score: voice and orchestra   \n",
       "4  A14X336IB4JD89                 dfjm53      Unable to determine contents   \n",
       "\n",
       "   unixReviewTime  \n",
       "0      1394496000  \n",
       "1      1370476800  \n",
       "2      1381708800  \n",
       "3      1285200000  \n",
       "4      1350432000  "
      ]
     },
     "execution_count": 16,
     "metadata": {},
     "output_type": "execute_result"
    }
   ],
   "source": [
    "df.head()"
   ]
  },
  {
   "cell_type": "markdown",
   "metadata": {},
   "source": [
    "# Séparation Training and Validation sets"
   ]
  },
  {
   "cell_type": "markdown",
   "metadata": {},
   "source": [
    "Avant de commencer toute analyse ou modélisation, il faut séparer l'échantillon d'entrainement et l'échantillon de validation. On procède comme suit:"
   ]
  },
  {
   "cell_type": "code",
   "execution_count": 19,
   "metadata": {
    "collapsed": false
   },
   "outputs": [],
   "source": [
    "from sklearn.cross_validation import train_test_split\n",
    "y = df[\"overall\"]\n",
    "X = df.drop(\"overall\",axis=1,inplace=False)\n",
    "X_train,X_test,y_train,y_test = train_test_split(X.index,y,test_size=0.2)\n",
    "df_train=pd.concat([X,y],axis=1).iloc[X_train] # return dataframe train\n",
    "df_test=pd.concat([X,y],axis=1).iloc[X_test] # return dataframe test"
   ]
  },
  {
   "cell_type": "markdown",
   "metadata": {},
   "source": [
    "# Analyse descriptive [Attention ne prend pas encore en compte la séparation ci dessus]"
   ]
  },
  {
   "cell_type": "markdown",
   "metadata": {},
   "source": [
    "Regardons la structure de la table:"
   ]
  },
  {
   "cell_type": "code",
   "execution_count": 20,
   "metadata": {
    "collapsed": false
   },
   "outputs": [
    {
     "data": {
      "text/html": [
       "<div>\n",
       "<table border=\"1\" class=\"dataframe\">\n",
       "  <thead>\n",
       "    <tr style=\"text-align: right;\">\n",
       "      <th></th>\n",
       "      <th>asin</th>\n",
       "      <th>helpful</th>\n",
       "      <th>reviewText</th>\n",
       "      <th>reviewTime</th>\n",
       "      <th>reviewerID</th>\n",
       "      <th>reviewerName</th>\n",
       "      <th>summary</th>\n",
       "      <th>unixReviewTime</th>\n",
       "      <th>overall</th>\n",
       "    </tr>\n",
       "  </thead>\n",
       "  <tbody>\n",
       "    <tr>\n",
       "      <th>229659</th>\n",
       "      <td>B001G7BWQ2</td>\n",
       "      <td>[0, 1]</td>\n",
       "      <td>Full disclosure, I am a brand new guitar playe...</td>\n",
       "      <td>12 30, 2012</td>\n",
       "      <td>A1MRGI2CTPU4Z3</td>\n",
       "      <td>P. C. Burger</td>\n",
       "      <td>Beautiful instrument</td>\n",
       "      <td>1356825600</td>\n",
       "      <td>5</td>\n",
       "    </tr>\n",
       "    <tr>\n",
       "      <th>339214</th>\n",
       "      <td>B0040ICQVO</td>\n",
       "      <td>[0, 0]</td>\n",
       "      <td>USING THESE FOR WEDDING CENTERPIECES AND LOOK ...</td>\n",
       "      <td>04 19, 2014</td>\n",
       "      <td>A2GZRJQ86XIV12</td>\n",
       "      <td>Krystal</td>\n",
       "      <td>LOOK GREAT</td>\n",
       "      <td>1397865600</td>\n",
       "      <td>4</td>\n",
       "    </tr>\n",
       "    <tr>\n",
       "      <th>96206</th>\n",
       "      <td>B00063678K</td>\n",
       "      <td>[0, 0]</td>\n",
       "      <td>Does exactly what it says, offers a pedal for ...</td>\n",
       "      <td>03 4, 2014</td>\n",
       "      <td>A3U6KVSQMET9SY</td>\n",
       "      <td>Miles Roozen</td>\n",
       "      <td>Excellent</td>\n",
       "      <td>1393891200</td>\n",
       "      <td>5</td>\n",
       "    </tr>\n",
       "    <tr>\n",
       "      <th>470571</th>\n",
       "      <td>B00CA4S3HQ</td>\n",
       "      <td>[1, 1]</td>\n",
       "      <td>Great music. I was recommended to get this on ...</td>\n",
       "      <td>12 3, 2013</td>\n",
       "      <td>A2ZFBTGPDP6PH6</td>\n",
       "      <td>C Fox</td>\n",
       "      <td>Love it</td>\n",
       "      <td>1386028800</td>\n",
       "      <td>5</td>\n",
       "    </tr>\n",
       "    <tr>\n",
       "      <th>317550</th>\n",
       "      <td>B003JCF5Y2</td>\n",
       "      <td>[0, 0]</td>\n",
       "      <td>Great cable at a great price. Quiet, well made...</td>\n",
       "      <td>09 7, 2011</td>\n",
       "      <td>A3ACQ419NKCXVK</td>\n",
       "      <td>bluecrew84</td>\n",
       "      <td>A must have for your studio arsenal</td>\n",
       "      <td>1315353600</td>\n",
       "      <td>5</td>\n",
       "    </tr>\n",
       "  </tbody>\n",
       "</table>\n",
       "</div>"
      ],
      "text/plain": [
       "              asin helpful                                         reviewText  \\\n",
       "229659  B001G7BWQ2  [0, 1]  Full disclosure, I am a brand new guitar playe...   \n",
       "339214  B0040ICQVO  [0, 0]  USING THESE FOR WEDDING CENTERPIECES AND LOOK ...   \n",
       "96206   B00063678K  [0, 0]  Does exactly what it says, offers a pedal for ...   \n",
       "470571  B00CA4S3HQ  [1, 1]  Great music. I was recommended to get this on ...   \n",
       "317550  B003JCF5Y2  [0, 0]  Great cable at a great price. Quiet, well made...   \n",
       "\n",
       "         reviewTime      reviewerID  reviewerName  \\\n",
       "229659  12 30, 2012  A1MRGI2CTPU4Z3  P. C. Burger   \n",
       "339214  04 19, 2014  A2GZRJQ86XIV12       Krystal   \n",
       "96206    03 4, 2014  A3U6KVSQMET9SY  Miles Roozen   \n",
       "470571   12 3, 2013  A2ZFBTGPDP6PH6         C Fox   \n",
       "317550   09 7, 2011  A3ACQ419NKCXVK    bluecrew84   \n",
       "\n",
       "                                    summary  unixReviewTime  overall  \n",
       "229659                 Beautiful instrument      1356825600        5  \n",
       "339214                           LOOK GREAT      1397865600        4  \n",
       "96206                             Excellent      1393891200        5  \n",
       "470571                              Love it      1386028800        5  \n",
       "317550  A must have for your studio arsenal      1315353600        5  "
      ]
     },
     "execution_count": 20,
     "metadata": {},
     "output_type": "execute_result"
    }
   ],
   "source": [
    "df_train.head()"
   ]
  },
  {
   "cell_type": "markdown",
   "metadata": {},
   "source": [
    "Etudions les dimensions clés de la table:"
   ]
  },
  {
   "cell_type": "code",
   "execution_count": 9,
   "metadata": {
    "collapsed": false
   },
   "outputs": [
    {
     "name": "stdout",
     "output_type": "stream",
     "text": [
      "Le nombre total de reviews est: 400146\n",
      "Le nombre total de produits est: 74955\n",
      "Le nombre total de reviewers est: 283288\n",
      "Soit un nombre moyen de 5.3 reviews par produit\n",
      "Soit un nombre moyen de 1.4 reviews par reviewers\n"
     ]
    }
   ],
   "source": [
    "Nbreviews=len(df_train)\n",
    "Nbproducts=len(set(df_train[\"asin\"]))\n",
    "Nbreviewers=len(set(df_train[\"reviewerID\"]))\n",
    "print(\"Le nombre total de reviews est: \"+str(Nbreviews))\n",
    "print(\"Le nombre total de produits est: \"+str(Nbproducts))\n",
    "print(\"Le nombre total de reviewers est: \"+str(Nbreviewers))\n",
    "print(\"Soit un nombre moyen de \"+str(round(Nbreviews/Nbproducts,1))+ \" reviews par produit\")\n",
    "print(\"Soit un nombre moyen de \"+str(round(Nbreviews/Nbreviewers,1))+ \" reviews par reviewers\")"
   ]
  },
  {
   "cell_type": "markdown",
   "metadata": {},
   "source": [
    "Analysons la distribution des notes des reviews"
   ]
  },
  {
   "cell_type": "code",
   "execution_count": 55,
   "metadata": {
    "collapsed": false
   },
   "outputs": [
    {
     "name": "stdout",
     "output_type": "stream",
     "text": [
      "count    400146.00\n",
      "mean          4.24\n",
      "std           1.20\n",
      "min           1.00\n",
      "25%           4.00\n",
      "50%           5.00\n",
      "75%           5.00\n",
      "max           5.00\n",
      "Name: overall, dtype: float64\n"
     ]
    },
    {
     "data": {
      "image/png": "[encoded data removed]",
      "text/plain": [
       "<matplotlib.figure.Figure at 0x3917dd30>"
      ]
     },
     "metadata": {},
     "output_type": "display_data"
    }
   ],
   "source": [
    "print(df_train[\"overall\"].describe().round(2))\n",
    "%matplotlib inline \n",
    "a=[int(i) for i in df_train[\"overall\"]]\n",
    "bins=range(1,7)\n",
    "fig, ax = plt.subplots(1,1)\n",
    "ax.hist(a, bins=bins, align='left', color=\"grey\", rwidth=0.7)\n",
    "ax.set_xticks(bins[:-1])\n",
    "plt.title(\"Histogramme des notes des reviews\");\n",
    "plt.xlabel(\"Note\");\n",
    "plt.ylabel(\"Nombre de reviews\");"
   ]
  },
  {
   "cell_type": "markdown",
   "metadata": {},
   "source": [
    "Regardons la distribution des notes moyennes par produit. On constate que la distribution est moins \"skewed\" que précedemment."
   ]
  },
  {
   "cell_type": "code",
   "execution_count": 60,
   "metadata": {
    "collapsed": false
   },
   "outputs": [
    {
     "name": "stdout",
     "output_type": "stream",
     "text": [
      "count    74986.00\n",
      "mean         4.23\n",
      "std          1.00\n",
      "min          1.00\n",
      "25%          4.00\n",
      "50%          4.57\n",
      "75%          5.00\n",
      "max          5.00\n",
      "Name: overall, dtype: float64\n"
     ]
    },
    {
     "data": {
      "image/png": "[encoded data removed]",
      "text/plain": [
       "<matplotlib.figure.Figure at 0x4d343d30>"
      ]
     },
     "metadata": {},
     "output_type": "display_data"
    }
   ],
   "source": [
    "average_note_byproduct=df_train[[\"asin\",\"overall\"]].groupby(\"asin\", as_index=False).mean()\n",
    "print(average_note_byproduct[\"overall\"].describe().round(2))\n",
    "%matplotlib inline \n",
    "bins=range(1,7)\n",
    "fig, ax = plt.subplots(1,1)\n",
    "ax.hist(average_note_byproduct[\"overall\"], bins=bins, align='left', color=\"grey\", rwidth=0.7)\n",
    "ax.set_xticks(bins[:-1])\n",
    "plt.title(\"Histogramme des notes moyennes par produit\");\n",
    "plt.xlabel(\"Note\");\n",
    "plt.ylabel(\"Nombre de produits\");"
   ]
  },
  {
   "cell_type": "markdown",
   "metadata": {},
   "source": [
    "Regardons la distribution du nombre de reviews par utilisateur."
   ]
  },
  {
   "cell_type": "code",
   "execution_count": 62,
   "metadata": {
    "collapsed": false
   },
   "outputs": [
    {
     "name": "stdout",
     "output_type": "stream",
     "text": [
      "count    283393.00\n",
      "mean          1.41\n",
      "std           2.03\n",
      "min           1.00\n",
      "25%           1.00\n",
      "50%           1.00\n",
      "75%           1.00\n",
      "max         386.00\n",
      "dtype: float64\n"
     ]
    },
    {
     "data": {
      "image/png": "[encoded data removed]",
      "text/plain": [
       "<matplotlib.figure.Figure at 0x4c3eacc0>"
      ]
     },
     "metadata": {},
     "output_type": "display_data"
    }
   ],
   "source": [
    "import collections\n",
    "Nbreview_by_user=collections.Counter(df_train[\"reviewerID\"])\n",
    "print(pd.Series(Nbreview_by_user).describe().round(2))\n",
    "bins=range(1,10,1)\n",
    "a = np.clip(list(Nbreview_by_user.values()), 1, 10)\n",
    "fig, ax = plt.subplots(1,1)\n",
    "ax.hist(a, bins=bins, align='left', color=\"grey\", rwidth=0.7)\n",
    "plt.title(\"Histogramme du nombre de reviews par utilisateur\");\n",
    "plt.xlabel(\"Nombre de reviews\");\n",
    "plt.ylabel(\"Nombre d'utilisateurs\");"
   ]
  },
  {
   "cell_type": "markdown",
   "metadata": {},
   "source": [
    "Définissons la fonction de comptage du nombre de mots d'une review et appliquons la à nos données"
   ]
  },
  {
   "cell_type": "code",
   "execution_count": 26,
   "metadata": {
    "collapsed": true
   },
   "outputs": [],
   "source": [
    "import re\n",
    "def countWords(review):\n",
    "    return (len(re.findall(r'\\w+', review[\"reviewText\"])))"
   ]
  },
  {
   "cell_type": "code",
   "execution_count": 28,
   "metadata": {
    "collapsed": false
   },
   "outputs": [],
   "source": [
    "df_train[\"countWordsReview\"] = df_train.apply(countWords, axis = 1)\n",
    "df_test[\"countWordsReview\"] = df_train.apply(countWords, axis = 1)"
   ]
  },
  {
   "cell_type": "markdown",
   "metadata": {},
   "source": [
    "Regardons la distribution du nombre de mots des reviews"
   ]
  },
  {
   "cell_type": "code",
   "execution_count": 67,
   "metadata": {
    "collapsed": false
   },
   "outputs": [
    {
     "name": "stdout",
     "output_type": "stream",
     "text": [
      "count    400146.00\n",
      "mean         90.97\n",
      "std         124.02\n",
      "min           0.00\n",
      "25%          28.00\n",
      "50%          51.00\n",
      "75%         103.00\n",
      "max        6045.00\n",
      "Name: countWordsReview, dtype: float64\n"
     ]
    }
   ],
   "source": [
    "print(df_train[\"countWordsReview\"].describe().round(2))"
   ]
  },
  {
   "cell_type": "code",
   "execution_count": 68,
   "metadata": {
    "collapsed": false
   },
   "outputs": [
    {
     "data": {
      "image/png": "[encoded data removed]",
      "text/plain": [
       "<matplotlib.figure.Figure at 0x4d682748>"
      ]
     },
     "metadata": {},
     "output_type": "display_data"
    }
   ],
   "source": [
    "%matplotlib inline \n",
    "bins=range(0,430,30)\n",
    "a = np.clip(df_train[\"countWordsReview\"], 0, 400)\n",
    "fig, ax = plt.subplots(1,1)\n",
    "ax.hist(a, bins=bins, align='left', color=\"grey\", rwidth=0.7)\n",
    "plt.title(\"Histogramme du nombre de mots par review\");\n",
    "plt.xlabel(\"Nombre de mots\");\n",
    "plt.ylabel(\"Nombre de reviews\");"
   ]
  },
  {
   "cell_type": "markdown",
   "metadata": {},
   "source": [
    "Maintenant regardons plus spécifiquement entre 0 et 100 mots"
   ]
  },
  {
   "cell_type": "code",
   "execution_count": 69,
   "metadata": {
    "collapsed": false
   },
   "outputs": [
    {
     "data": {
      "image/png": "[encoded data removed]",
      "text/plain": [
       "<matplotlib.figure.Figure at 0x50736828>"
      ]
     },
     "metadata": {},
     "output_type": "display_data"
    }
   ],
   "source": [
    "a = [s for s in df_train[\"countWordsReview\"] if s < 101]\n",
    "%matplotlib inline \n",
    "bins=range(0,100,5)\n",
    "fig, ax = plt.subplots(1,1)\n",
    "ax.hist(a, bins=bins, align='left', color=\"grey\", rwidth=0.7)\n",
    "plt.title(\"Histogramme du nombre de mots par review\");\n",
    "plt.xlabel(\"Nombre de mots\");\n",
    "plt.ylabel(\"Nombre de reviews\");"
   ]
  },
  {
   "cell_type": "code",
   "execution_count": 15,
   "metadata": {
    "collapsed": false
   },
   "outputs": [],
   "source": [
    "#buf = StringIO()\n",
    "#for i in range(df.shape[0]):\n",
    "    #buf.write(df[\"reviewText\"][i])"
   ]
  },
  {
   "cell_type": "markdown",
   "metadata": {},
   "source": [
    "En dernière étape, nous allons créer des variables pour le mois et le jour de la review, ce qui peut influencer la note."
   ]
  },
  {
   "cell_type": "code",
   "execution_count": 168,
   "metadata": {
    "collapsed": false
   },
   "outputs": [
    {
     "data": {
      "text/plain": [
       "229659    12\n",
       "339214    04\n",
       "96206     03\n",
       "470571    12\n",
       "317550    09\n",
       "Name: Month, dtype: category\n",
       "Categories (12, object): [01, 02, 03, 04, ..., 09, 10, 11, 12]"
      ]
     },
     "execution_count": 168,
     "metadata": {},
     "output_type": "execute_result"
    }
   ],
   "source": [
    "from datetime import datetime\n",
    "df_train[\"Month\"] = df_train[\"unixReviewTime\"].apply(lambda x: datetime.strftime(datetime.fromtimestamp(x),'%m')).astype('category')\n",
    "df_test[\"Month\"] = df_test[\"unixReviewTime\"].apply(lambda x: datetime.strftime(datetime.fromtimestamp(x),'%m')).astype('category')\n",
    "df_train[\"Month\"].head()"
   ]
  },
  {
   "cell_type": "code",
   "execution_count": 169,
   "metadata": {
    "collapsed": false
   },
   "outputs": [
    {
     "data": {
      "text/plain": [
       "229659    Sun\n",
       "339214    Sat\n",
       "96206     Tue\n",
       "470571    Tue\n",
       "317550    Wed\n",
       "Name: Weekday, dtype: category\n",
       "Categories (7, object): [Fri, Mon, Sat, Sun, Thu, Tue, Wed]"
      ]
     },
     "execution_count": 169,
     "metadata": {},
     "output_type": "execute_result"
    }
   ],
   "source": [
    "df_train[\"Weekday\"] = df_train[\"unixReviewTime\"].apply(lambda x: datetime.strftime(datetime.fromtimestamp(x),'%a')).astype('category')\n",
    "df_test[\"Weekday\"] = df_test[\"unixReviewTime\"].apply(lambda x: datetime.strftime(datetime.fromtimestamp(x),'%a')).astype('category')\n",
    "df_train[\"Weekday\"].head()"
   ]
  },
  {
   "cell_type": "markdown",
   "metadata": {},
   "source": [
    "# Préparation des données"
   ]
  },
  {
   "cell_type": "markdown",
   "metadata": {},
   "source": [
    "On prépare les données en utilisant les fonctions `Count Vectorizer` et `TfidfTransformer` du package `sklearn`. Notons que nous utilisons les stopwords donnés par `nltk` pour réduire le nombre de mots."
   ]
  },
  {
   "cell_type": "code",
   "execution_count": 202,
   "metadata": {
    "collapsed": false
   },
   "outputs": [
    {
     "data": {
      "text/plain": [
       "(400146, 218690)"
      ]
     },
     "execution_count": 202,
     "metadata": {},
     "output_type": "execute_result"
    }
   ],
   "source": [
    "from sklearn.feature_extraction.text import CountVectorizer\n",
    "corpus=list(df_train[\"reviewText\"])\n",
    "count_vect = CountVectorizer()\n",
    "X_train_counts = count_vect.fit_transform(corpus)\n",
    "X_train_counts.shape"
   ]
  },
  {
   "cell_type": "code",
   "execution_count": 203,
   "metadata": {
    "collapsed": false
   },
   "outputs": [
    {
     "data": {
      "text/plain": [
       "(400146, 218567)"
      ]
     },
     "execution_count": 203,
     "metadata": {},
     "output_type": "execute_result"
    }
   ],
   "source": [
    "from sklearn.feature_extraction.text import CountVectorizer\n",
    "from nltk.corpus import stopwords\n",
    "count_vect = CountVectorizer(stop_words= stopwords.words('english'))\n",
    "X_train_counts = count_vect.fit_transform(corpus)\n",
    "X_train_counts.shape"
   ]
  },
  {
   "cell_type": "code",
   "execution_count": 204,
   "metadata": {
    "collapsed": false
   },
   "outputs": [
    {
     "data": {
      "text/plain": [
       "(400146, 218567)"
      ]
     },
     "execution_count": 204,
     "metadata": {},
     "output_type": "execute_result"
    }
   ],
   "source": [
    "from sklearn.feature_extraction.text import TfidfTransformer\n",
    "tfidf_transformer = TfidfTransformer()\n",
    "X_train_tfidf = tfidf_transformer.fit_transform(X_train_counts)\n",
    "X_train_tfidf.shape"
   ]
  },
  {
   "cell_type": "code",
   "execution_count": 189,
   "metadata": {
    "collapsed": false
   },
   "outputs": [
    {
     "name": "stdout",
     "output_type": "stream",
     "text": [
      "(400146, 260435)\n"
     ]
    }
   ],
   "source": [
    "##from scipy.sparse import hstack\n",
    "##X_train_tfidf_ReviewAndSummary=hstack([X_train_tfidf_reviewText, X_train_tfidf_summary])\n",
    "##print(X_train_tfidf_ReviewAndSummary.shape)"
   ]
  },
  {
   "cell_type": "markdown",
   "metadata": {},
   "source": [
    "# Machine Learning"
   ]
  },
  {
   "cell_type": "code",
   "execution_count": 206,
   "metadata": {
    "collapsed": false
   },
   "outputs": [],
   "source": [
    "from sklearn.naive_bayes import MultinomialNB\n",
    "clf = MultinomialNB().fit(X_train_tfidf, y_train.astype('category'))"
   ]
  },
  {
   "cell_type": "code",
   "execution_count": 207,
   "metadata": {
    "collapsed": false
   },
   "outputs": [],
   "source": [
    "corpus_test=list(df_test[\"reviewText\"])\n",
    "X_test_counts = count_vect.transform(corpus_test)\n",
    "X_test_tfidf = tfidf_transformer.transform(X_test_counts)\n",
    "predicted = clf.predict(X_test_tfidf)"
   ]
  },
  {
   "cell_type": "code",
   "execution_count": 208,
   "metadata": {
    "collapsed": false
   },
   "outputs": [],
   "source": [
    "from sklearn.linear_model import SGDClassifier\n",
    "SGDclass=SGDClassifier(loss='hinge', penalty='l2', alpha=1e-3, n_iter=5, random_state=42)\n",
    "clf2=SGDclass.fit(X_train_tfidf, y_train.astype('category'))\n",
    "predicted2 = clf2.predict(X_test_tfidf)"
   ]
  },
  {
   "cell_type": "markdown",
   "metadata": {},
   "source": [
    "# Evaluation de la performance"
   ]
  },
  {
   "cell_type": "code",
   "execution_count": 209,
   "metadata": {
    "collapsed": false
   },
   "outputs": [
    {
     "data": {
      "text/plain": [
       "0.6199406219698711"
      ]
     },
     "execution_count": 209,
     "metadata": {},
     "output_type": "execute_result"
    }
   ],
   "source": [
    "np.mean(predicted == y_test)"
   ]
  },
  {
   "cell_type": "code",
   "execution_count": 210,
   "metadata": {
    "collapsed": false
   },
   "outputs": [
    {
     "data": {
      "text/plain": [
       "0.61961074402471084"
      ]
     },
     "execution_count": 210,
     "metadata": {},
     "output_type": "execute_result"
    }
   ],
   "source": [
    "np.mean(predicted2 == y_test)"
   ]
  },
  {
   "cell_type": "code",
   "execution_count": 211,
   "metadata": {
    "collapsed": false
   },
   "outputs": [
    {
     "name": "stdout",
     "output_type": "stream",
     "text": [
      "             precision    recall  f1-score   support\n",
      "\n",
      "        1.0       0.95      0.01      0.02      7048\n",
      "        2.0       0.00      0.00      0.00      4480\n",
      "        3.0       0.25      0.00      0.00      7654\n",
      "        4.0       0.50      0.00      0.00     18899\n",
      "        5.0       0.62      1.00      0.77     61956\n",
      "\n",
      "avg / total       0.56      0.62      0.48    100037\n",
      "\n",
      "[[   59     0     0     0  6989]\n",
      " [    1     0     0     0  4479]\n",
      " [    2     0     1     4  7647]\n",
      " [    0     0     0     7 18892]\n",
      " [    0     0     3     3 61950]]\n"
     ]
    },
    {
     "name": "stderr",
     "output_type": "stream",
     "text": [
      "D:\\Users\\acombess\\PythonENSAE\\python\\lib\\site-packages\\sklearn\\metrics\\classification.py:958: UndefinedMetricWarning: Precision and F-score are ill-defined and being set to 0.0 in labels with no predicted samples.\n",
      "  'precision', 'predicted', average, warn_for)\n"
     ]
    }
   ],
   "source": [
    "from sklearn import metrics\n",
    "print(metrics.classification_report(y_test, predicted))\n",
    "print(metrics.confusion_matrix(y_test, predicted))"
   ]
  },
  {
   "cell_type": "code",
   "execution_count": 212,
   "metadata": {
    "collapsed": false
   },
   "outputs": [
    {
     "name": "stdout",
     "output_type": "stream",
     "text": [
      "             precision    recall  f1-score   support\n",
      "\n",
      "        1.0       0.85      0.00      0.01      7048\n",
      "        2.0       0.00      0.00      0.00      4480\n",
      "        3.0       0.00      0.00      0.00      7654\n",
      "        4.0       0.00      0.00      0.00     18899\n",
      "        5.0       0.62      1.00      0.77     61956\n",
      "\n",
      "avg / total       0.44      0.62      0.47    100037\n",
      "\n",
      "[[   28     0     0     0  7020]\n",
      " [    4     0     0     0  4476]\n",
      " [    0     0     0     0  7654]\n",
      " [    1     0     0     0 18898]\n",
      " [    0     0     0     0 61956]]\n"
     ]
    },
    {
     "name": "stderr",
     "output_type": "stream",
     "text": [
      "D:\\Users\\acombess\\PythonENSAE\\python\\lib\\site-packages\\sklearn\\metrics\\classification.py:958: UndefinedMetricWarning: Precision and F-score are ill-defined and being set to 0.0 in labels with no predicted samples.\n",
      "  'precision', 'predicted', average, warn_for)\n"
     ]
    }
   ],
   "source": [
    "from sklearn import metrics\n",
    "print(metrics.classification_report(y_test, predicted2))\n",
    "print(metrics.confusion_matrix(y_test, predicted2))"
   ]
  },
  {
   "cell_type": "markdown",
   "metadata": {},
   "source": [
    "Then: draw multi class ROC Curve using this example: http://scikit-learn.org/stable/auto_examples/model_selection/plot_roc.html"
   ]
  },
  {
   "cell_type": "code",
   "execution_count": 213,
   "metadata": {
    "collapsed": false
   },
   "outputs": [
    {
     "name": "stdout",
     "output_type": "stream",
     "text": [
      "This is a well made clutch that is very easy to use and holds up well.  I have both the Remo and this one and they are about equal in performance.  The Gibraltar is more robust and a hair larger and easier to operate the quick release.  It's also a bit heavier.  The Gibraltar is about eight bucks cheaper too.  I use the Remo on my DW 6000 series light weight hihat stand with the very short rod cause it's smaller and lighter.  I use the Gibraltar on my heavier stands.  They are both excellent and are the only way to go for the future.  I'll never go back to screw ons again.------ We predict 5.0\n",
      "They always seem to produce albums that I can listen to from beginning to end. I need to see these guys live next.------ We predict 5.0\n",
      "soft, light weight, long.  leather ends hold strap pins tightly.  I ordered another!------ We predict 5.0\n",
      "For price, this unit fits our bill perfectly.We use it in for a Line Dance Group which meets 2 days a week.  We connect it to he Auditorium soundsystem and we are very pleased with it's operation.  We need  2 mic's at the same time and this gives usthat  and 2 spare units.  We use it for our voice and music needs.If the system continues to provide the same excellent operation for the long haul we will be more than satisfied..t------ We predict 5.0\n",
      "for 20 bucks, this thing works wonderful, but do not expect to get a 200 dollar amp sound from it. Great for solo practice sessions and back yard parties.------ We predict 5.0\n",
      "I was carrying around my uke by the neck.  I had nothing to protect it, or carry it around.  It fits my basic needs.------ We predict 5.0\n",
      "I bought these mics in lieu of a headset mic because of the on/off switches. Teaching dance allows me to utilize the mic, switch it off, put it in my pocket, and instruct. The same situation for my partner. Great mics for the money with excellent tone quality.------ We predict 5.0\n",
      "Professional drummer who uses a lot of Evans heads.  This head should not be used for a bass drum.  Even by determining the lowest possible tone, it's still going to sound like a mid tom.  We spent hours trying to get a good sound out of it, and was unable to do so.  For a head with a deep, booming sound for about the same price, try the Evans EMAD with the interchangable damper rings. You'll be much happier.------ We predict 5.0\n",
      "This is very universal and beautiful. A far more durable case than most. The extra storage it offers is very handy for keeping the cleaning stuff with the flute, but not in the way.------ We predict 5.0\n",
      "These GLS cables are not the toughest cables out there but for patch cables in a recording rack, I'll buy these every time.  These cables are the best deal for the money I could find especially when buying multi-packs.  I'd recommend them for anything but constant touring use.------ We predict 5.0\n",
      "Randall is kinda cheap, this thing sounds ok at bet but no real power in any direction. At least not enough to really do anything interesting. It has a lot of gain but you even feel it wear thin in any tunning lower than D.I tried it as a preamp, a pedal, and a straight in for recording. It's best straight in, but kinda just sounds like a non analog pedal.------ We predict 5.0\n",
      "A little larger than we thought but an excellent case for my daughter to use since our original case doesn't have a handle at all.------ We predict 5.0\n",
      "They all sound great! it met my expectations and beyond! great quality and really light, great for a starter to pick its favorite tone.------ We predict 5.0\n",
      "Here again some of the Religious songs didn't sound quite right in the same vein as the Country Classics cartridge.  It was disappointing.  There were also mistakes in the printing of the song words.------ We predict 5.0\n",
      "Most importantly: this stand gently holds my Selmers.  I treat this stand like crap as I haul it to and from gigs and it is in great shape.  The stand is very strong and very well made.  Unless you're going to be throwing this stand off the back of a truck on the interstate, it'll stand up to what you throw at it.------ We predict 5.0\n",
      "I recently purchased a MXL-4000 microphone for recording voices at our studio and I wanted a good enough XLR cable to carry the mic's signal without adding or removing anything on its way. I found good reviews of GLS Audio cables online and I ordered the 25\" version at a reasonable price. It was delivered very quickly and I already have had the chance to test it. It has a heavy duty construction and good isolation. Connection of the plugs is firm and tight, and it is long enough, allowing for easy mobility.Recommended.------ We predict 5.0\n",
      "I definitely recommend it. I've tried my mic with and without and there is a very notable difference. It is high quality and easily attaches to stands or even the side of a desk.------ We predict 5.0\n",
      "I know nothing about the violin bow... but I can say that it looks just like the picture. Got it in the mail really fast. Hope the person that is receiving it as a present loves it as well.------ We predict 5.0\n",
      "it works fine for the first few  months then it kills your computer. This murdered my macbook pro. i cant even hardly type on this mac becuase it distorted the button. it disconnects everytime i record. not worth the money at all.------ We predict 5.0\n",
      "Good priceGood qualityI would definetly recommend this speaker wire to anyone whom is going to install a sorround system------ We predict 5.0\n"
     ]
    }
   ],
   "source": [
    "for i in range(0,20) :\n",
    "        print(str(corpus_test[i]) + \"------ We predict \"+ str(predicted[i]))"
   ]
  },
  {
   "cell_type": "markdown",
   "metadata": {},
   "source": [
    "# Analyse de la performance en fonction du nombre de mots"
   ]
  },
  {
   "cell_type": "code",
   "execution_count": 255,
   "metadata": {
    "collapsed": false
   },
   "outputs": [],
   "source": [
    "def createBins(x):\n",
    "    if x[\"countWordsSummary\"] < 30:\n",
    "        return(30)\n",
    "    elif x[\"countWordsSummary\"] < 100:\n",
    "        return(100)\n",
    "    elif x[\"countWordsSummary\"] < 200:\n",
    "        return(200)\n",
    "    else:\n",
    "        return(300)"
   ]
  },
  {
   "cell_type": "code",
   "execution_count": 256,
   "metadata": {
    "collapsed": false
   },
   "outputs": [
    {
     "data": {
      "text/html": [
       "<div>\n",
       "<table border=\"1\" class=\"dataframe\">\n",
       "  <thead>\n",
       "    <tr style=\"text-align: right;\">\n",
       "      <th></th>\n",
       "      <th>overall</th>\n",
       "      <th>predicted</th>\n",
       "      <th>reviewText</th>\n",
       "      <th>countWordsReview</th>\n",
       "      <th>summary</th>\n",
       "      <th>countWordsSummary</th>\n",
       "      <th>qualite</th>\n",
       "      <th>bin</th>\n",
       "    </tr>\n",
       "  </thead>\n",
       "  <tbody>\n",
       "    <tr>\n",
       "      <th>126863</th>\n",
       "      <td>5</td>\n",
       "      <td>5</td>\n",
       "      <td>I'm using this clamp to mount a ride cymbal on...</td>\n",
       "      <td>39</td>\n",
       "      <td>Solid, great addition</td>\n",
       "      <td>39</td>\n",
       "      <td>0</td>\n",
       "      <td>100</td>\n",
       "    </tr>\n",
       "    <tr>\n",
       "      <th>393670</th>\n",
       "      <td>4</td>\n",
       "      <td>1</td>\n",
       "      <td>Pros - I bought a 12&amp;#34; x 24&amp;#34; Remo Mondo...</td>\n",
       "      <td>223</td>\n",
       "      <td>A+ Superb Quality, 5 stars accept slightly sho...</td>\n",
       "      <td>223</td>\n",
       "      <td>3</td>\n",
       "      <td>300</td>\n",
       "    </tr>\n",
       "    <tr>\n",
       "      <th>376320</th>\n",
       "      <td>5</td>\n",
       "      <td>5</td>\n",
       "      <td>First off I want to note that these speakers a...</td>\n",
       "      <td>72</td>\n",
       "      <td>This really helps dialing in your mix</td>\n",
       "      <td>72</td>\n",
       "      <td>0</td>\n",
       "      <td>100</td>\n",
       "    </tr>\n",
       "    <tr>\n",
       "      <th>139913</th>\n",
       "      <td>5</td>\n",
       "      <td>5</td>\n",
       "      <td>.The ArRe-Se label appears to be Swiss or Fren...</td>\n",
       "      <td>166</td>\n",
       "      <td>Double-Gs...</td>\n",
       "      <td>166</td>\n",
       "      <td>0</td>\n",
       "      <td>200</td>\n",
       "    </tr>\n",
       "    <tr>\n",
       "      <th>383749</th>\n",
       "      <td>4</td>\n",
       "      <td>5</td>\n",
       "      <td>We bought this for our granddaughter and she l...</td>\n",
       "      <td>29</td>\n",
       "      <td>Karaoke Player</td>\n",
       "      <td>29</td>\n",
       "      <td>1</td>\n",
       "      <td>30</td>\n",
       "    </tr>\n",
       "  </tbody>\n",
       "</table>\n",
       "</div>"
      ],
      "text/plain": [
       "        overall  predicted                                         reviewText  \\\n",
       "126863        5          5  I'm using this clamp to mount a ride cymbal on...   \n",
       "393670        4          1  Pros - I bought a 12&#34; x 24&#34; Remo Mondo...   \n",
       "376320        5          5  First off I want to note that these speakers a...   \n",
       "139913        5          5  .The ArRe-Se label appears to be Swiss or Fren...   \n",
       "383749        4          5  We bought this for our granddaughter and she l...   \n",
       "\n",
       "        countWordsReview                                            summary  \\\n",
       "126863                39                              Solid, great addition   \n",
       "393670               223  A+ Superb Quality, 5 stars accept slightly sho...   \n",
       "376320                72              This really helps dialing in your mix   \n",
       "139913               166                                       Double-Gs...   \n",
       "383749                29                                     Karaoke Player   \n",
       "\n",
       "        countWordsSummary  qualite  bin  \n",
       "126863                 39        0  100  \n",
       "393670                223        3  300  \n",
       "376320                 72        0  100  \n",
       "139913                166        0  200  \n",
       "383749                 29        1   30  "
      ]
     },
     "execution_count": 256,
     "metadata": {},
     "output_type": "execute_result"
    }
   ],
   "source": [
    "dfy = pd.DataFrame(y_test)\n",
    "dfy[\"predicted\"] = predicted\n",
    "dfy[\"reviewText\"] = df_test[\"reviewText\"]\n",
    "dfy[\"countWordsReview\"] = dfy.apply(countWords, axis = 1)\n",
    "dfy[\"summary\"] = df_test[\"summary\"]\n",
    "dfy[\"countWordsSummary\"] = dfy.apply(countWords, axis = 1)\n",
    "dfy[\"qualite\"] = abs(predicted - y_test)\n",
    "dfy[\"bin\"] = dfy.apply(createBins, axis = 1)\n",
    "dfy.head()"
   ]
  },
  {
   "cell_type": "code",
   "execution_count": 262,
   "metadata": {
    "collapsed": false
   },
   "outputs": [
    {
     "data": {
      "text/plain": [
       "0.7352659142878218"
      ]
     },
     "execution_count": 262,
     "metadata": {},
     "output_type": "execute_result"
    }
   ],
   "source": [
    "np.mean(dfy[dfy.bin==30][\"qualite\"])"
   ]
  },
  {
   "cell_type": "code",
   "execution_count": 235,
   "metadata": {
    "collapsed": false
   },
   "outputs": [
    {
     "data": {
      "text/plain": [
       "58595.0"
      ]
     },
     "execution_count": 235,
     "metadata": {},
     "output_type": "execute_result"
    }
   ],
   "source": [
    "sum(abs(predicted - y_test))"
   ]
  },
  {
   "cell_type": "markdown",
   "metadata": {},
   "source": [
    "# Bits of useless code (so far)"
   ]
  },
  {
   "cell_type": "code",
   "execution_count": 36,
   "metadata": {
    "collapsed": false
   },
   "outputs": [
    {
     "name": "stdout",
     "output_type": "stream",
     "text": [
      "{'this': 1.0, 'is': 1.0, 'strange': 1.4054651081081644, 'very': 1.0, 'nice': 1.4054651081081644}\n"
     ]
    }
   ],
   "source": [
    "#an example with another function TfidfVectorizer using frequency instead of count\n",
    "from sklearn.feature_extraction.text import TfidfVectorizer\n",
    "corpus = [\"This is very strange\",\n",
    "          \"This is very nice\"]\n",
    "vectorizer = TfidfVectorizer(min_df=1)\n",
    "X = vectorizer.fit_transform(corpus)\n",
    "idf = vectorizer.idf_\n",
    "print(dict(zip(vectorizer.get_feature_names(), idf)))"
   ]
  },
  {
   "cell_type": "code",
   "execution_count": 127,
   "metadata": {
    "collapsed": false
   },
   "outputs": [],
   "source": [
    "#Meh... Does not work yet\n",
    "#nltk.download()\n",
    "#all_words = nltk.FreqDist(w.lower() for w in nltk.word_tokenize(list(df[\"summary\"]))) Does not work yet"
   ]
  }
 ],
 "metadata": {
  "kernelspec": {
   "display_name": "Python 3",
   "language": "python",
   "name": "python3"
  },
  "language_info": {
   "codemirror_mode": {
    "name": "ipython",
    "version": 3
   },
   "file_extension": ".py",
   "mimetype": "text/x-python",
   "name": "python",
   "nbconvert_exporter": "python",
   "pygments_lexer": "ipython3",
   "version": "3.4.3"
  }
 },
 "nbformat": 4,
 "nbformat_minor": 0
}
