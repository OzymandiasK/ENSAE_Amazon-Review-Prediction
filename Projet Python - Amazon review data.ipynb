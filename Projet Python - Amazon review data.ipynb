{
 "cells": [
  {
   "cell_type": "markdown",
   "metadata": {},
   "source": [
    "# ENSAE Master Spécialisé Data Science - Projet Python de 1er semestre"
   ]
  },
  {
   "cell_type": "markdown",
   "metadata": {},
   "source": [
    "*Par Alexandre Combessie et Thibaut Duguet*"
   ]
  },
  {
   "cell_type": "markdown",
   "metadata": {},
   "source": [
    "## Chargement des données"
   ]
  },
  {
   "cell_type": "markdown",
   "metadata": {},
   "source": [
    "Les données complètes sont disponibles sur le site http://jmcauley.ucsd.edu/data/amazon/links.html. Pour commencer, on se concentre sur des bases de données pour des catégories spécifiques de produit, afin d'avoir une taille raisonnable.\n",
    "Une fois sur la page, il faut télécharger les reviews pour les catégories \"Musical Instruments\" et \"Baby\". Nous avons également travaillé sur les reviews de la catégorie \"Movies and TV\", mais la taille du fichier et les temps de calcul rendent son utilisation beaucoup moins aisée."
   ]
  },
  {
   "cell_type": "code",
   "execution_count": 3,
   "metadata": {
    "collapsed": false
   },
   "outputs": [],
   "source": [
    "import os\n",
    "import json\n",
    "import gzip\n",
    "import pandas as pd\n",
    "import numpy as np\n",
    "import matplotlib\n",
    "import matplotlib.pyplot as plt\n",
    "import numpy as np\n",
    "import ipywidgets as widgets\n",
    "from IPython.display import display\n",
    "import statistics as stat\n",
    "from io import StringIO\n",
    "import nltk\n",
    "import sklearn"
   ]
  },
  {
   "cell_type": "markdown",
   "metadata": {},
   "source": [
    "Tout d'abord, on sélectionne la catégorie de produit à étudier:"
   ]
  },
  {
   "cell_type": "code",
   "execution_count": 4,
   "metadata": {
    "collapsed": false
   },
   "outputs": [],
   "source": [
    "category_options={\n",
    "    \"Musical Instruments\": \"reviews_Musical_Instruments.json.gz\",\n",
    "    \"Baby\": \"reviews_Baby.json.gz\",\n",
    "    \"Movies and TV\": \"reviews_Movies_and_TV.json.gz\",\n",
    "}\n",
    "dropdown = widgets.Dropdown(options=category_options, description=\"Catégorie de produit à étudier\")\n",
    "display(dropdown)"
   ]
  },
  {
   "cell_type": "markdown",
   "metadata": {},
   "source": [
    "Ensuite, on décompresse le fichier pour obtenir un fichier en format json"
   ]
  },
  {
   "cell_type": "code",
   "execution_count": 5,
   "metadata": {
    "collapsed": false
   },
   "outputs": [],
   "source": [
    "if(not(os.path.isfile(dropdown.value[:-3]))):\n",
    "    inputFile = gzip.open(dropdown.value, 'rb')\n",
    "    outputFile = open(dropdown.value[:-3], 'wb')\n",
    "    outputFile.write(inputFile.read())\n",
    "    inputFile.close()\n",
    "    outputFile.close()"
   ]
  },
  {
   "cell_type": "markdown",
   "metadata": {},
   "source": [
    "On la transforme en Pandas DataFrame "
   ]
  },
  {
   "cell_type": "code",
   "execution_count": 6,
   "metadata": {
    "collapsed": false
   },
   "outputs": [],
   "source": [
    "data=[]\n",
    "filepath=dropdown.value[:-3]\n",
    "with open(filepath) as f:\n",
    "    for line in f:\n",
    "        data.append(json.loads(line))\n",
    "df=pd.DataFrame(data)"
   ]
  },
  {
   "cell_type": "code",
   "execution_count": 114,
   "metadata": {
    "collapsed": true
   },
   "outputs": [],
   "source": [
    "df=pd.DataFrame(data1)"
   ]
  },
  {
   "cell_type": "code",
   "execution_count": null,
   "metadata": {
    "collapsed": true
   },
   "outputs": [],
   "source": [
    "df.to_csv(\"Movies and TV.csv\", sep='\\t')"
   ]
  },
  {
   "cell_type": "code",
   "execution_count": 3,
   "metadata": {
    "collapsed": false
   },
   "outputs": [],
   "source": [
    "df=pd.read_csv(\"Movies and TV.csv\", sep='\\t')"
   ]
  },
  {
   "cell_type": "code",
   "execution_count": 115,
   "metadata": {
    "collapsed": false
   },
   "outputs": [
    {
     "name": "stdout",
     "output_type": "stream",
     "text": [
      "(915448, 9)\n"
     ]
    },
    {
     "data": {
      "text/html": [
       "<div>\n",
       "<table border=\"1\" class=\"dataframe\">\n",
       "  <thead>\n",
       "    <tr style=\"text-align: right;\">\n",
       "      <th></th>\n",
       "      <th>asin</th>\n",
       "      <th>helpful</th>\n",
       "      <th>overall</th>\n",
       "      <th>reviewText</th>\n",
       "      <th>reviewTime</th>\n",
       "      <th>reviewerID</th>\n",
       "      <th>reviewerName</th>\n",
       "      <th>summary</th>\n",
       "      <th>unixReviewTime</th>\n",
       "    </tr>\n",
       "  </thead>\n",
       "  <tbody>\n",
       "    <tr>\n",
       "      <th>0</th>\n",
       "      <td>0188399313</td>\n",
       "      <td>[0, 0]</td>\n",
       "      <td>5</td>\n",
       "      <td>They work very well. Easy to clean, we wash th...</td>\n",
       "      <td>05 27, 2013</td>\n",
       "      <td>A28O3NP6WR5517</td>\n",
       "      <td>Jennifer gymer</td>\n",
       "      <td>These bottles are great!</td>\n",
       "      <td>1369612800</td>\n",
       "    </tr>\n",
       "    <tr>\n",
       "      <th>1</th>\n",
       "      <td>0188399399</td>\n",
       "      <td>[1, 1]</td>\n",
       "      <td>5</td>\n",
       "      <td>it came early and was not disappointed. i love...</td>\n",
       "      <td>04 9, 2013</td>\n",
       "      <td>AX0M1Z6ZWO52J</td>\n",
       "      <td>Ash M.</td>\n",
       "      <td>perfect</td>\n",
       "      <td>1365465600</td>\n",
       "    </tr>\n",
       "    <tr>\n",
       "      <th>2</th>\n",
       "      <td>0188399518</td>\n",
       "      <td>[0, 0]</td>\n",
       "      <td>4</td>\n",
       "      <td>I ended up with a variety of different brands ...</td>\n",
       "      <td>02 14, 2014</td>\n",
       "      <td>A1KD7N84L7NIUT</td>\n",
       "      <td>Buffy Fan</td>\n",
       "      <td>Good cotton wipes</td>\n",
       "      <td>1392336000</td>\n",
       "    </tr>\n",
       "    <tr>\n",
       "      <th>3</th>\n",
       "      <td>0188399518</td>\n",
       "      <td>[1, 1]</td>\n",
       "      <td>3</td>\n",
       "      <td>These flannel wipes are OK, but in my opinion ...</td>\n",
       "      <td>07 8, 2013</td>\n",
       "      <td>A29CUDEIF4X1UO</td>\n",
       "      <td>J. D. Solbach</td>\n",
       "      <td>Sending them back.</td>\n",
       "      <td>1373241600</td>\n",
       "    </tr>\n",
       "    <tr>\n",
       "      <th>4</th>\n",
       "      <td>0316967297</td>\n",
       "      <td>[0, 0]</td>\n",
       "      <td>4</td>\n",
       "      <td>Cute quilt, the colors are perfect and my litt...</td>\n",
       "      <td>09 6, 2013</td>\n",
       "      <td>A32592TYN6C9EM</td>\n",
       "      <td>Amazon Customer</td>\n",
       "      <td>Very cute</td>\n",
       "      <td>1378425600</td>\n",
       "    </tr>\n",
       "  </tbody>\n",
       "</table>\n",
       "</div>"
      ],
      "text/plain": [
       "         asin helpful  overall  \\\n",
       "0  0188399313  [0, 0]        5   \n",
       "1  0188399399  [1, 1]        5   \n",
       "2  0188399518  [0, 0]        4   \n",
       "3  0188399518  [1, 1]        3   \n",
       "4  0316967297  [0, 0]        4   \n",
       "\n",
       "                                          reviewText   reviewTime  \\\n",
       "0  They work very well. Easy to clean, we wash th...  05 27, 2013   \n",
       "1  it came early and was not disappointed. i love...   04 9, 2013   \n",
       "2  I ended up with a variety of different brands ...  02 14, 2014   \n",
       "3  These flannel wipes are OK, but in my opinion ...   07 8, 2013   \n",
       "4  Cute quilt, the colors are perfect and my litt...   09 6, 2013   \n",
       "\n",
       "       reviewerID     reviewerName                   summary  unixReviewTime  \n",
       "0  A28O3NP6WR5517   Jennifer gymer  These bottles are great!      1369612800  \n",
       "1   AX0M1Z6ZWO52J           Ash M.                   perfect      1365465600  \n",
       "2  A1KD7N84L7NIUT        Buffy Fan         Good cotton wipes      1392336000  \n",
       "3  A29CUDEIF4X1UO    J. D. Solbach        Sending them back.      1373241600  \n",
       "4  A32592TYN6C9EM  Amazon Customer                 Very cute      1378425600  "
      ]
     },
     "execution_count": 115,
     "metadata": {},
     "output_type": "execute_result"
    }
   ],
   "source": [
    "print(df.shape)\n",
    "df.head()"
   ]
  },
  {
   "cell_type": "markdown",
   "metadata": {},
   "source": [
    "## Séparation Training and Validation sets"
   ]
  },
  {
   "cell_type": "markdown",
   "metadata": {},
   "source": [
    "Avant de commencer toute analyse ou modélisation, il faut séparer l'échantillon d'entrainement et l'échantillon de validation. On procède comme suit:"
   ]
  },
  {
   "cell_type": "code",
   "execution_count": 116,
   "metadata": {
    "collapsed": false
   },
   "outputs": [
    {
     "name": "stdout",
     "output_type": "stream",
     "text": [
      "(732358, 9) (183090, 9)\n"
     ]
    }
   ],
   "source": [
    "from sklearn.cross_validation import train_test_split\n",
    "y = df[\"overall\"]\n",
    "X = df.drop(\"overall\",axis=1,inplace=False)\n",
    "X_train,X_test,y_train,y_test = train_test_split(X.index,y,test_size=0.2)\n",
    "df_train=pd.concat([X,y],axis=1).iloc[X_train] # return dataframe train\n",
    "df_test=pd.concat([X,y],axis=1).iloc[X_test] # return dataframe test\n",
    "print(df_train.shape, df_test.shape)"
   ]
  },
  {
   "cell_type": "code",
   "execution_count": 117,
   "metadata": {
    "collapsed": true
   },
   "outputs": [],
   "source": [
    "del df"
   ]
  },
  {
   "cell_type": "code",
   "execution_count": 118,
   "metadata": {
    "collapsed": true
   },
   "outputs": [],
   "source": [
    "del X, y"
   ]
  },
  {
   "cell_type": "code",
   "execution_count": 119,
   "metadata": {
    "collapsed": false
   },
   "outputs": [],
   "source": [
    "del X_train, X_test"
   ]
  },
  {
   "cell_type": "markdown",
   "metadata": {},
   "source": [
    "## Analyse descriptive"
   ]
  },
  {
   "cell_type": "markdown",
   "metadata": {},
   "source": [
    "Regardons la structure de la table:"
   ]
  },
  {
   "cell_type": "code",
   "execution_count": 120,
   "metadata": {
    "collapsed": false
   },
   "outputs": [
    {
     "data": {
      "text/html": [
       "<div>\n",
       "<table border=\"1\" class=\"dataframe\">\n",
       "  <thead>\n",
       "    <tr style=\"text-align: right;\">\n",
       "      <th></th>\n",
       "      <th>asin</th>\n",
       "      <th>helpful</th>\n",
       "      <th>reviewText</th>\n",
       "      <th>reviewTime</th>\n",
       "      <th>reviewerID</th>\n",
       "      <th>reviewerName</th>\n",
       "      <th>summary</th>\n",
       "      <th>unixReviewTime</th>\n",
       "      <th>overall</th>\n",
       "    </tr>\n",
       "  </thead>\n",
       "  <tbody>\n",
       "    <tr>\n",
       "      <th>446247</th>\n",
       "      <td>B002RXM9M0</td>\n",
       "      <td>[0, 0]</td>\n",
       "      <td>I am very happy with the dreambaby toy chain. ...</td>\n",
       "      <td>02 2, 2014</td>\n",
       "      <td>A32JCNFALAFPME</td>\n",
       "      <td>TaLona Brooks</td>\n",
       "      <td>dreambaby toy chain</td>\n",
       "      <td>1391299200</td>\n",
       "      <td>5</td>\n",
       "    </tr>\n",
       "    <tr>\n",
       "      <th>693612</th>\n",
       "      <td>B005G3QSF2</td>\n",
       "      <td>[0, 0]</td>\n",
       "      <td>We had twins in March, so we actually go two o...</td>\n",
       "      <td>05 20, 2014</td>\n",
       "      <td>A3CSPK6HLMNTAT</td>\n",
       "      <td>Paul Townsend</td>\n",
       "      <td>Work fine when they work right</td>\n",
       "      <td>1400544000</td>\n",
       "      <td>3</td>\n",
       "    </tr>\n",
       "    <tr>\n",
       "      <th>338612</th>\n",
       "      <td>B001GQ2RW6</td>\n",
       "      <td>[0, 1]</td>\n",
       "      <td>Not all kids Potty train early therefore they ...</td>\n",
       "      <td>10 14, 2013</td>\n",
       "      <td>A25OV5MGGUX64Y</td>\n",
       "      <td>NAZLY LEON</td>\n",
       "      <td>Potty Seat is too small as most are.</td>\n",
       "      <td>1381708800</td>\n",
       "      <td>1</td>\n",
       "    </tr>\n",
       "    <tr>\n",
       "      <th>452357</th>\n",
       "      <td>B002TMSXF6</td>\n",
       "      <td>[0, 0]</td>\n",
       "      <td>I wish this worked but it doesn't. Just doesn'...</td>\n",
       "      <td>11 5, 2013</td>\n",
       "      <td>A1SJLHSU5SLBM0</td>\n",
       "      <td>Maine Shopper</td>\n",
       "      <td>Doesn't stick</td>\n",
       "      <td>1383609600</td>\n",
       "      <td>1</td>\n",
       "    </tr>\n",
       "    <tr>\n",
       "      <th>94538</th>\n",
       "      <td>B0007KMUH4</td>\n",
       "      <td>[0, 0]</td>\n",
       "      <td>This was very nice as our little guy got older...</td>\n",
       "      <td>03 11, 2013</td>\n",
       "      <td>AYE83D52EMFZT</td>\n",
       "      <td>Ginger Wik</td>\n",
       "      <td>Loved it!</td>\n",
       "      <td>1362960000</td>\n",
       "      <td>5</td>\n",
       "    </tr>\n",
       "  </tbody>\n",
       "</table>\n",
       "</div>"
      ],
      "text/plain": [
       "              asin helpful                                         reviewText  \\\n",
       "446247  B002RXM9M0  [0, 0]  I am very happy with the dreambaby toy chain. ...   \n",
       "693612  B005G3QSF2  [0, 0]  We had twins in March, so we actually go two o...   \n",
       "338612  B001GQ2RW6  [0, 1]  Not all kids Potty train early therefore they ...   \n",
       "452357  B002TMSXF6  [0, 0]  I wish this worked but it doesn't. Just doesn'...   \n",
       "94538   B0007KMUH4  [0, 0]  This was very nice as our little guy got older...   \n",
       "\n",
       "         reviewTime      reviewerID   reviewerName  \\\n",
       "446247   02 2, 2014  A32JCNFALAFPME  TaLona Brooks   \n",
       "693612  05 20, 2014  A3CSPK6HLMNTAT  Paul Townsend   \n",
       "338612  10 14, 2013  A25OV5MGGUX64Y     NAZLY LEON   \n",
       "452357   11 5, 2013  A1SJLHSU5SLBM0  Maine Shopper   \n",
       "94538   03 11, 2013   AYE83D52EMFZT     Ginger Wik   \n",
       "\n",
       "                                     summary  unixReviewTime  overall  \n",
       "446247                   dreambaby toy chain      1391299200        5  \n",
       "693612        Work fine when they work right      1400544000        3  \n",
       "338612  Potty Seat is too small as most are.      1381708800        1  \n",
       "452357                         Doesn't stick      1383609600        1  \n",
       "94538                              Loved it!      1362960000        5  "
      ]
     },
     "execution_count": 120,
     "metadata": {},
     "output_type": "execute_result"
    }
   ],
   "source": [
    "df_train.head()"
   ]
  },
  {
   "cell_type": "code",
   "execution_count": 121,
   "metadata": {
    "collapsed": true
   },
   "outputs": [],
   "source": [
    "del df_train[\"reviewerName\"], df_test[\"reviewerName\"]"
   ]
  },
  {
   "cell_type": "markdown",
   "metadata": {},
   "source": [
    "Etudions les dimensions clés de la table:"
   ]
  },
  {
   "cell_type": "code",
   "execution_count": 122,
   "metadata": {
    "collapsed": false
   },
   "outputs": [
    {
     "name": "stdout",
     "output_type": "stream",
     "text": [
      "Le nombre total de reviews est: 732358\n",
      "Le nombre total de produits est: 59373\n",
      "Le nombre total de reviewers est: 451872\n",
      "Soit un nombre moyen de 12.3 reviews par produit\n",
      "Soit un nombre moyen de 1.6 reviews par reviewers\n"
     ]
    }
   ],
   "source": [
    "Nbreviews=len(df_train)\n",
    "Nbproducts=len(set(df_train[\"asin\"]))\n",
    "Nbreviewers=len(set(df_train[\"reviewerID\"]))\n",
    "print(\"Le nombre total de reviews est: \"+str(Nbreviews))\n",
    "print(\"Le nombre total de produits est: \"+str(Nbproducts))\n",
    "print(\"Le nombre total de reviewers est: \"+str(Nbreviewers))\n",
    "print(\"Soit un nombre moyen de \"+str(round(Nbreviews/Nbproducts,1))+ \" reviews par produit\")\n",
    "print(\"Soit un nombre moyen de \"+str(round(Nbreviews/Nbreviewers,1))+ \" reviews par reviewers\")"
   ]
  },
  {
   "cell_type": "markdown",
   "metadata": {},
   "source": [
    "Analysons la distribution des notes des reviews"
   ]
  },
  {
   "cell_type": "code",
   "execution_count": 123,
   "metadata": {
    "collapsed": false
   },
   "outputs": [
    {
     "name": "stdout",
     "output_type": "stream",
     "text": [
      "count    732358.00\n",
      "mean          4.12\n",
      "std           1.29\n",
      "min           1.00\n",
      "25%           4.00\n",
      "50%           5.00\n",
      "75%           5.00\n",
      "max           5.00\n",
      "Name: overall, dtype: float64\n"
     ]
    },
    {
     "data": {
      "image/png": "[encoded data removed]",
      "text/plain": [
       "<matplotlib.figure.Figure at 0x15a385a20>"
      ]
     },
     "metadata": {},
     "output_type": "display_data"
    }
   ],
   "source": [
    "print(df_train[\"overall\"].describe().round(2))\n",
    "%matplotlib inline \n",
    "a=[int(i) for i in df_train[\"overall\"]]\n",
    "bins=range(1,7)\n",
    "fig, ax = plt.subplots(1,1)\n",
    "ax.hist(a, bins=bins, align='left', color=\"grey\", rwidth=0.7)\n",
    "ax.set_xticks(bins[:-1])\n",
    "plt.title(\"Histogramme des notes des reviews\");\n",
    "plt.xlabel(\"Note\");\n",
    "plt.ylabel(\"Nombre de reviews\");"
   ]
  },
  {
   "cell_type": "markdown",
   "metadata": {},
   "source": [
    "Regardons la distribution des notes moyennes par produit. On constate que la distribution est moins \"skewed\" que précedemment."
   ]
  },
  {
   "cell_type": "code",
   "execution_count": 124,
   "metadata": {
    "collapsed": false
   },
   "outputs": [
    {
     "name": "stdout",
     "output_type": "stream",
     "text": [
      "count    59373.00\n",
      "mean         4.06\n",
      "std          1.04\n",
      "min          1.00\n",
      "25%          3.57\n",
      "50%          4.33\n",
      "75%          5.00\n",
      "max          5.00\n",
      "Name: overall, dtype: float64\n"
     ]
    },
    {
     "data": {
      "image/png": "[encoded data removed]",
      "text/plain": [
       "<matplotlib.figure.Figure at 0x14c4a57b8>"
      ]
     },
     "metadata": {},
     "output_type": "display_data"
    }
   ],
   "source": [
    "average_note_byproduct=df_train[[\"asin\",\"overall\"]].groupby(\"asin\", as_index=False).mean()\n",
    "print(average_note_byproduct[\"overall\"].describe().round(2))\n",
    "%matplotlib inline \n",
    "bins=range(1,7)\n",
    "fig, ax = plt.subplots(1,1)\n",
    "ax.hist(average_note_byproduct[\"overall\"], bins=bins, align='left', color=\"grey\", rwidth=0.7)\n",
    "ax.set_xticks(bins[:-1])\n",
    "plt.title(\"Histogramme des notes moyennes par produit\");\n",
    "plt.xlabel(\"Note\");\n",
    "plt.ylabel(\"Nombre de produits\");"
   ]
  },
  {
   "cell_type": "markdown",
   "metadata": {},
   "source": [
    "Regardons la distribution du nombre de reviews par utilisateur."
   ]
  },
  {
   "cell_type": "code",
   "execution_count": 125,
   "metadata": {
    "collapsed": false
   },
   "outputs": [
    {
     "name": "stdout",
     "output_type": "stream",
     "text": [
      "count    451872.00\n",
      "mean          1.62\n",
      "std           1.85\n",
      "min           1.00\n",
      "25%           1.00\n",
      "50%           1.00\n",
      "75%           2.00\n",
      "max         130.00\n",
      "dtype: float64\n"
     ]
    },
    {
     "data": {
      "image/png": "[encoded data removed]",
      "text/plain": [
       "<matplotlib.figure.Figure at 0x22cbdd8d0>"
      ]
     },
     "metadata": {},
     "output_type": "display_data"
    }
   ],
   "source": [
    "import collections\n",
    "Nbreview_by_user=collections.Counter(df_train[\"reviewerID\"])\n",
    "print(pd.Series(Nbreview_by_user).describe().round(2))\n",
    "bins=range(1,10,1)\n",
    "a = np.clip(list(Nbreview_by_user.values()), 1, 10)\n",
    "fig, ax = plt.subplots(1,1)\n",
    "ax.hist(a, bins=bins, align='left', color=\"grey\", rwidth=0.7)\n",
    "plt.title(\"Histogramme du nombre de reviews par utilisateur\");\n",
    "plt.xlabel(\"Nombre de reviews\");\n",
    "plt.ylabel(\"Nombre d'utilisateurs\");"
   ]
  },
  {
   "cell_type": "markdown",
   "metadata": {},
   "source": [
    "Définissons la fonction de comptage du nombre de mots d'une review et appliquons la à nos données"
   ]
  },
  {
   "cell_type": "code",
   "execution_count": 14,
   "metadata": {
    "collapsed": true
   },
   "outputs": [],
   "source": [
    "def countWords(review):\n",
    "    return(len(review.split()))"
   ]
  },
  {
   "cell_type": "code",
   "execution_count": 126,
   "metadata": {
    "collapsed": false
   },
   "outputs": [],
   "source": [
    "df_train[\"countWordsReview\"] = df_train[\"reviewText\"].astype(str).apply(countWords)\n",
    "df_test[\"countWordsReview\"] = df_test[\"reviewText\"].astype(str).apply(countWords)\n",
    "df_train[\"countWordsSummary\"] = df_train[\"summary\"].astype(str).apply(countWords)\n",
    "df_test[\"countWordsSummary\"] = df_test[\"summary\"].astype(str).apply(countWords)"
   ]
  },
  {
   "cell_type": "markdown",
   "metadata": {},
   "source": [
    "Regardons la distribution du nombre de mots des reviews"
   ]
  },
  {
   "cell_type": "code",
   "execution_count": 16,
   "metadata": {
    "collapsed": false
   },
   "outputs": [
    {
     "name": "stdout",
     "output_type": "stream",
     "text": [
      "count    400146.00\n",
      "mean         87.85\n",
      "std         118.40\n",
      "min           0.00\n",
      "25%          28.00\n",
      "50%          49.00\n",
      "75%          99.00\n",
      "max        5291.00\n",
      "Name: countWordsReview, dtype: float64\n"
     ]
    }
   ],
   "source": [
    "print(df_train[\"countWordsReview\"].describe().round(2))"
   ]
  },
  {
   "cell_type": "code",
   "execution_count": 17,
   "metadata": {
    "collapsed": false
   },
   "outputs": [
    {
     "data": {
      "image/png": "[encoded data removed]",
      "text/plain": [
       "<matplotlib.figure.Figure at 0x107cd0b70>"
      ]
     },
     "metadata": {},
     "output_type": "display_data"
    }
   ],
   "source": [
    "%matplotlib inline \n",
    "bins=range(0,430,30)\n",
    "a = list(np.clip(df_train[\"countWordsReview\"], 0, 400))\n",
    "fig, ax = plt.subplots(1,1)\n",
    "ax.hist(a, bins=bins, align='left', color=\"grey\", rwidth=0.7)\n",
    "plt.title(\"Histogramme du nombre de mots par review\");\n",
    "plt.xlabel(\"Nombre de mots\");\n",
    "plt.ylabel(\"Nombre de reviews\");"
   ]
  },
  {
   "cell_type": "markdown",
   "metadata": {},
   "source": [
    "Maintenant regardons plus spécifiquement entre 0 et 100 mots"
   ]
  },
  {
   "cell_type": "code",
   "execution_count": 18,
   "metadata": {
    "collapsed": false
   },
   "outputs": [
    {
     "data": {
      "image/png": "[encoded data removed]",
      "text/plain": [
       "<matplotlib.figure.Figure at 0x14c4cb780>"
      ]
     },
     "metadata": {},
     "output_type": "display_data"
    }
   ],
   "source": [
    "a = [s for s in df_train[\"countWordsReview\"] if s < 101]\n",
    "%matplotlib inline \n",
    "bins=range(0,100,5)\n",
    "fig, ax = plt.subplots(1,1)\n",
    "ax.hist(a, bins=bins, align='left', color=\"grey\", rwidth=0.7)\n",
    "plt.title(\"Histogramme du nombre de mots par review\");\n",
    "plt.xlabel(\"Nombre de mots\");\n",
    "plt.ylabel(\"Nombre de reviews\");"
   ]
  },
  {
   "cell_type": "markdown",
   "metadata": {},
   "source": [
    "## Préparation des données"
   ]
  },
  {
   "cell_type": "markdown",
   "metadata": {},
   "source": [
    "On prépare les données de texte en utilisant la fonction `TfidfVectorizer` du package `sklearn`. Notons que nous utilisons les stopwords fournis par `nltk` pour réduire le nombre de mots."
   ]
  },
  {
   "cell_type": "code",
   "execution_count": 127,
   "metadata": {
    "collapsed": false
   },
   "outputs": [],
   "source": [
    "from sklearn.feature_extraction.text import TfidfVectorizer\n",
    "from nltk.corpus import stopwords\n",
    "tfidf_vect = TfidfVectorizer()\n",
    "tfidf_vect_stopword = TfidfVectorizer(stop_words= stopwords.words('english'), min_df=0.0005)"
   ]
  },
  {
   "cell_type": "markdown",
   "metadata": {},
   "source": [
    "### 1. Texte complet de la review"
   ]
  },
  {
   "cell_type": "markdown",
   "metadata": {},
   "source": [
    "#### a. Echantillon Train"
   ]
  },
  {
   "cell_type": "code",
   "execution_count": 128,
   "metadata": {
    "collapsed": false
   },
   "outputs": [
    {
     "data": {
      "text/plain": [
       "(732358, 4990)"
      ]
     },
     "execution_count": 128,
     "metadata": {},
     "output_type": "execute_result"
    }
   ],
   "source": [
    "corpus_train_reviewText=list(df_train[\"reviewText\"].astype(str))\n",
    "X_train_tfidf_reviewText = tfidf_vect_stopword.fit_transform(corpus_train_reviewText)\n",
    "X_train_tfidf_reviewText.shape"
   ]
  },
  {
   "cell_type": "code",
   "execution_count": 23,
   "metadata": {
    "collapsed": true
   },
   "outputs": [],
   "source": [
    "del df_train[\"reviewText\"]"
   ]
  },
  {
   "cell_type": "markdown",
   "metadata": {},
   "source": [
    "#### b. Echantillon Test"
   ]
  },
  {
   "cell_type": "code",
   "execution_count": 129,
   "metadata": {
    "collapsed": false
   },
   "outputs": [
    {
     "data": {
      "text/plain": [
       "(183090, 4990)"
      ]
     },
     "execution_count": 129,
     "metadata": {},
     "output_type": "execute_result"
    }
   ],
   "source": [
    "corpus_test_reviewText=list(df_test[\"reviewText\"].astype(str))\n",
    "X_test_tfidf_reviewText = tfidf_vect_stopword.transform(corpus_test_reviewText)\n",
    "X_test_tfidf_reviewText.shape"
   ]
  },
  {
   "cell_type": "code",
   "execution_count": 25,
   "metadata": {
    "collapsed": true
   },
   "outputs": [],
   "source": [
    "del df_test[\"reviewText\"]"
   ]
  },
  {
   "cell_type": "markdown",
   "metadata": {},
   "source": [
    "### 2. Texte du résumé de la review"
   ]
  },
  {
   "cell_type": "markdown",
   "metadata": {},
   "source": [
    "#### a. Echantillon Train"
   ]
  },
  {
   "cell_type": "code",
   "execution_count": 130,
   "metadata": {
    "collapsed": false
   },
   "outputs": [
    {
     "data": {
      "text/plain": [
       "(732358, 731)"
      ]
     },
     "execution_count": 130,
     "metadata": {},
     "output_type": "execute_result"
    }
   ],
   "source": [
    "corpus_train_summary=list(df_train[\"summary\"].astype(str))\n",
    "X_train_tfidf_summary = tfidf_vect_stopword.fit_transform(corpus_train_summary)\n",
    "X_train_tfidf_summary.shape"
   ]
  },
  {
   "cell_type": "code",
   "execution_count": 27,
   "metadata": {
    "collapsed": true
   },
   "outputs": [],
   "source": [
    "del df_train[\"summary\"]"
   ]
  },
  {
   "cell_type": "markdown",
   "metadata": {},
   "source": [
    "#### b. Echantillon Test"
   ]
  },
  {
   "cell_type": "code",
   "execution_count": 131,
   "metadata": {
    "collapsed": false
   },
   "outputs": [
    {
     "data": {
      "text/plain": [
       "(183090, 731)"
      ]
     },
     "execution_count": 131,
     "metadata": {},
     "output_type": "execute_result"
    }
   ],
   "source": [
    "corpus_test_summary=list(df_test[\"summary\"].astype(str))\n",
    "X_test_tfidf_summary = tfidf_vect_stopword.transform(corpus_test_summary)\n",
    "X_test_tfidf_summary.shape"
   ]
  },
  {
   "cell_type": "code",
   "execution_count": 29,
   "metadata": {
    "collapsed": true
   },
   "outputs": [],
   "source": [
    "del df_test[\"summary\"]"
   ]
  },
  {
   "cell_type": "markdown",
   "metadata": {},
   "source": [
    "### 3. Features supplémentaires"
   ]
  },
  {
   "cell_type": "markdown",
   "metadata": {},
   "source": [
    "Nous allons créer des variables pour le mois et le jour de la review, ce qui peut influencer la note."
   ]
  },
  {
   "cell_type": "code",
   "execution_count": 132,
   "metadata": {
    "collapsed": false
   },
   "outputs": [
    {
     "data": {
      "text/plain": [
       "446247    Sun\n",
       "693612    Tue\n",
       "338612    Mon\n",
       "452357    Tue\n",
       "94538     Mon\n",
       "Name: Weekday, dtype: category\n",
       "Categories (7, object): [Fri, Mon, Sat, Sun, Thu, Tue, Wed]"
      ]
     },
     "execution_count": 132,
     "metadata": {},
     "output_type": "execute_result"
    }
   ],
   "source": [
    "from datetime import datetime\n",
    "df_train[\"Weekday\"] = df_train[\"unixReviewTime\"].apply(lambda x: datetime.strftime(datetime.fromtimestamp(x),'%a')).astype('category')\n",
    "df_test[\"Weekday\"] = df_test[\"unixReviewTime\"].apply(lambda x: datetime.strftime(datetime.fromtimestamp(x),'%a')).astype('category')\n",
    "df_train[\"Weekday\"].head()"
   ]
  },
  {
   "cell_type": "code",
   "execution_count": 133,
   "metadata": {
    "collapsed": false
   },
   "outputs": [
    {
     "data": {
      "text/plain": [
       "446247    02\n",
       "693612    05\n",
       "338612    10\n",
       "452357    11\n",
       "94538     03\n",
       "Name: Month, dtype: category\n",
       "Categories (12, object): [01, 02, 03, 04, ..., 09, 10, 11, 12]"
      ]
     },
     "execution_count": 133,
     "metadata": {},
     "output_type": "execute_result"
    }
   ],
   "source": [
    "df_train[\"Month\"] = df_train[\"unixReviewTime\"].apply(lambda x: datetime.strftime(datetime.fromtimestamp(x),'%m')).astype('category')\n",
    "df_test[\"Month\"] = df_test[\"unixReviewTime\"].apply(lambda x: datetime.strftime(datetime.fromtimestamp(x),'%m')).astype('category')\n",
    "df_train[\"Month\"].head()"
   ]
  },
  {
   "cell_type": "code",
   "execution_count": 134,
   "metadata": {
    "collapsed": true
   },
   "outputs": [],
   "source": [
    "from sklearn.feature_extraction import DictVectorizer\n",
    "dic_vec = DictVectorizer()"
   ]
  },
  {
   "cell_type": "markdown",
   "metadata": {},
   "source": [
    "#### a. Echantillon Train"
   ]
  },
  {
   "cell_type": "code",
   "execution_count": 135,
   "metadata": {
    "collapsed": false
   },
   "outputs": [
    {
     "name": "stdout",
     "output_type": "stream",
     "text": [
      "(732358, 2)\n"
     ]
    }
   ],
   "source": [
    "from sklearn.preprocessing import normalize\n",
    "X_train_countWords=normalize(df_train[[\"countWordsReview\",\"countWordsSummary\"]].astype(float),axis=0)\n",
    "print(X_train_countWords.shape)"
   ]
  },
  {
   "cell_type": "code",
   "execution_count": 137,
   "metadata": {
    "collapsed": false
   },
   "outputs": [
    {
     "data": {
      "text/plain": [
       "(732358, 7)"
      ]
     },
     "execution_count": 137,
     "metadata": {},
     "output_type": "execute_result"
    }
   ],
   "source": [
    "dic_train_weekdays = pd.DataFrame(df_train[\"Weekday\"]).to_dict('records')\n",
    "X_train_weekdays = dic_vec.fit_transform(dic_train_weekdays)\n",
    "X_train_weekdays.shape"
   ]
  },
  {
   "cell_type": "code",
   "execution_count": 138,
   "metadata": {
    "collapsed": false
   },
   "outputs": [
    {
     "data": {
      "text/plain": [
       "(732358, 12)"
      ]
     },
     "execution_count": 138,
     "metadata": {},
     "output_type": "execute_result"
    }
   ],
   "source": [
    "dic_train_months = pd.DataFrame(df_train[\"Month\"]).to_dict('records')\n",
    "X_train_months = dic_vec.fit_transform(dic_train_months)\n",
    "X_train_months.shape"
   ]
  },
  {
   "cell_type": "markdown",
   "metadata": {},
   "source": [
    "#### b. Echantillon Test"
   ]
  },
  {
   "cell_type": "code",
   "execution_count": 139,
   "metadata": {
    "collapsed": false
   },
   "outputs": [
    {
     "name": "stdout",
     "output_type": "stream",
     "text": [
      "(183090, 2)\n"
     ]
    }
   ],
   "source": [
    "from sklearn.preprocessing import normalize\n",
    "X_test_countWords=normalize(df_test[[\"countWordsReview\",\"countWordsSummary\"]].astype(float),axis=0)\n",
    "print(X_test_countWords.shape)"
   ]
  },
  {
   "cell_type": "code",
   "execution_count": 140,
   "metadata": {
    "collapsed": false
   },
   "outputs": [
    {
     "data": {
      "text/plain": [
       "(183090, 7)"
      ]
     },
     "execution_count": 140,
     "metadata": {},
     "output_type": "execute_result"
    }
   ],
   "source": [
    "dic_test_weekdays = pd.DataFrame(df_test[\"Weekday\"]).to_dict('records')\n",
    "X_test_weekdays = dic_vec.fit_transform(dic_test_weekdays)\n",
    "X_test_weekdays.shape"
   ]
  },
  {
   "cell_type": "code",
   "execution_count": 141,
   "metadata": {
    "collapsed": false
   },
   "outputs": [
    {
     "data": {
      "text/plain": [
       "(183090, 12)"
      ]
     },
     "execution_count": 141,
     "metadata": {},
     "output_type": "execute_result"
    }
   ],
   "source": [
    "dic_test_months = pd.DataFrame(df_test[\"Month\"]).to_dict('records')\n",
    "X_test_months = dic_vec.fit_transform(dic_test_months)\n",
    "X_test_months.shape"
   ]
  },
  {
   "cell_type": "code",
   "execution_count": 39,
   "metadata": {
    "collapsed": true
   },
   "outputs": [],
   "source": [
    "del df_train[\"unixReviewTime\"], df_test[\"unixReviewTime\"], df_train[\"Month\"], df_test[\"Month\"], df_train[\"Weekday\"], df_test[\"Weekday\"]"
   ]
  },
  {
   "cell_type": "code",
   "execution_count": 40,
   "metadata": {
    "collapsed": true
   },
   "outputs": [],
   "source": [
    "del df_train[\"reviewTime\"], df_test[\"reviewTime\"], df_train[\"helpful\"], df_test[\"helpful\"]"
   ]
  },
  {
   "cell_type": "markdown",
   "metadata": {},
   "source": [
    "### 4. Combinaison de toutes les features"
   ]
  },
  {
   "cell_type": "markdown",
   "metadata": {},
   "source": [
    "#### a. Echantillon Train"
   ]
  },
  {
   "cell_type": "code",
   "execution_count": 142,
   "metadata": {
    "collapsed": false
   },
   "outputs": [
    {
     "name": "stdout",
     "output_type": "stream",
     "text": [
      "(732358, 5721)\n"
     ]
    }
   ],
   "source": [
    "from scipy.sparse import hstack\n",
    "X_train_alltext=hstack([X_train_tfidf_reviewText, X_train_tfidf_summary])\n",
    "print(X_train_alltext.shape)"
   ]
  },
  {
   "cell_type": "code",
   "execution_count": 143,
   "metadata": {
    "collapsed": false
   },
   "outputs": [
    {
     "name": "stdout",
     "output_type": "stream",
     "text": [
      "(732358, 5742)\n"
     ]
    }
   ],
   "source": [
    "X_train_allfeatures = hstack([X_train_alltext,X_train_countWords, X_train_weekdays, X_train_months])\n",
    "print(X_train_allfeatures.shape)"
   ]
  },
  {
   "cell_type": "code",
   "execution_count": 144,
   "metadata": {
    "collapsed": false
   },
   "outputs": [
    {
     "name": "stdout",
     "output_type": "stream",
     "text": [
      "(732358, 21)\n"
     ]
    }
   ],
   "source": [
    "X_train_supfeatures = hstack([X_train_countWords, X_train_weekdays, X_train_months])\n",
    "print(X_train_supfeatures.shape)"
   ]
  },
  {
   "cell_type": "markdown",
   "metadata": {},
   "source": [
    "#### b. Echantillon Test"
   ]
  },
  {
   "cell_type": "code",
   "execution_count": 145,
   "metadata": {
    "collapsed": false
   },
   "outputs": [
    {
     "name": "stdout",
     "output_type": "stream",
     "text": [
      "(183090, 5721)\n"
     ]
    }
   ],
   "source": [
    "X_test_alltext=hstack([X_test_tfidf_reviewText, X_test_tfidf_summary])\n",
    "print(X_test_alltext.shape)"
   ]
  },
  {
   "cell_type": "code",
   "execution_count": 146,
   "metadata": {
    "collapsed": false
   },
   "outputs": [
    {
     "name": "stdout",
     "output_type": "stream",
     "text": [
      "(183090, 5742)\n"
     ]
    }
   ],
   "source": [
    "X_test_allfeatures = hstack([X_test_alltext,X_test_countWords, X_test_weekdays, X_test_months])\n",
    "print(X_test_allfeatures.shape)"
   ]
  },
  {
   "cell_type": "code",
   "execution_count": 147,
   "metadata": {
    "collapsed": false
   },
   "outputs": [
    {
     "name": "stdout",
     "output_type": "stream",
     "text": [
      "(183090, 21)\n"
     ]
    }
   ],
   "source": [
    "X_test_supfeatures = hstack([X_test_countWords, X_test_weekdays, X_test_months])\n",
    "print(X_test_supfeatures.shape)"
   ]
  },
  {
   "cell_type": "markdown",
   "metadata": {},
   "source": [
    "## Machine Learning"
   ]
  },
  {
   "cell_type": "markdown",
   "metadata": {},
   "source": [
    "En utilisant la librairie `sklearn`, nous allons appliquer les modèles suivants:\n",
    "- Naive Bayes avec modèle multinomial, \n",
    "- Support Vector Machines avec Stochastic Gradient Descent et fonction de perte logistique, \n",
    " \n",
    "\n",
    "Nous avons essayé des Random Forests mais les calculs n'ont jamais pu aboutir, compte tenu du grand nombre de dimensions. Nous avons choisi un modèle Multinomial pour le Naive Bayes car il est bien adapté aux données (matrice sparse de grande dimension). Un modèle Naive Bayes gaussian n'est pas compatible avec les matrices sparses, et un modèle Naive Bayes Bernoulli ne peut prendre que des variables booléennes en entrée. Quant au choix de la fonction de perte logistique pour le modèle Support Vector Machines, c'est la seule fonction qui permet de calculer des probabilités sur les valeurs prédites et donc de déterminer le critère AUC."
   ]
  },
  {
   "cell_type": "markdown",
   "metadata": {},
   "source": [
    "### 1. Texte complet de la review"
   ]
  },
  {
   "cell_type": "code",
   "execution_count": 39,
   "metadata": {
    "collapsed": false
   },
   "outputs": [],
   "source": [
    "from sklearn.naive_bayes import MultinomialNB\n",
    "clf = MultinomialNB().fit(X_train_tfidf_reviewText, y_train.astype('category'))\n",
    "predicted_NaiveBayes_reviewText = clf.predict(X_test_tfidf_reviewText)"
   ]
  },
  {
   "cell_type": "code",
   "execution_count": 40,
   "metadata": {
    "collapsed": false
   },
   "outputs": [],
   "source": [
    "from sklearn.linear_model import SGDClassifier\n",
    "SGDclass = SGDClassifier(loss='log', penalty='l2', alpha=1e-3, n_iter=5, random_state=42)\n",
    "clf2 = SGDclass.fit(X_train_tfidf_reviewText, y_train.astype('category'))\n",
    "predicted_SVM_reviewText = clf2.predict(X_test_tfidf_reviewText)"
   ]
  },
  {
   "cell_type": "markdown",
   "metadata": {},
   "source": [
    "### 2. Texte du résumé de la review"
   ]
  },
  {
   "cell_type": "code",
   "execution_count": 41,
   "metadata": {
    "collapsed": true
   },
   "outputs": [],
   "source": [
    "from sklearn.naive_bayes import MultinomialNB\n",
    "clf = MultinomialNB().fit(X_train_tfidf_summary, y_train.astype('category'))\n",
    "predicted_NaiveBayes_summary = clf.predict(X_test_tfidf_summary)"
   ]
  },
  {
   "cell_type": "code",
   "execution_count": 42,
   "metadata": {
    "collapsed": false
   },
   "outputs": [],
   "source": [
    "from sklearn.linear_model import SGDClassifier\n",
    "clf2 = SGDclass.fit(X_train_tfidf_summary, y_train.astype('category'))\n",
    "predicted_SVM_summary = clf2.predict(X_test_tfidf_summary)"
   ]
  },
  {
   "cell_type": "markdown",
   "metadata": {},
   "source": [
    "### 3. Texte complet et résumé de la review"
   ]
  },
  {
   "cell_type": "code",
   "execution_count": 43,
   "metadata": {
    "collapsed": false
   },
   "outputs": [],
   "source": [
    "from sklearn.naive_bayes import MultinomialNB\n",
    "clf = MultinomialNB().fit(X_train_alltext, y_train.astype('category'))\n",
    "predicted_NaiveBayes_alltext = clf.predict(X_test_alltext)"
   ]
  },
  {
   "cell_type": "code",
   "execution_count": 44,
   "metadata": {
    "collapsed": false
   },
   "outputs": [],
   "source": [
    "from sklearn.linear_model import SGDClassifier\n",
    "clf2 = SGDclass.fit(X_train_alltext, y_train.astype('category'))\n",
    "predicted_SVM_alltext = clf2.predict(X_test_alltext)"
   ]
  },
  {
   "cell_type": "markdown",
   "metadata": {},
   "source": [
    "### 4. Features supplémentaires"
   ]
  },
  {
   "cell_type": "code",
   "execution_count": 45,
   "metadata": {
    "collapsed": true
   },
   "outputs": [],
   "source": [
    "from sklearn.naive_bayes import MultinomialNB\n",
    "clf = MultinomialNB().fit(X_train_supfeatures, y_train.astype('category'))\n",
    "predicted_NaiveBayes_supfeatures = clf.predict(X_test_supfeatures)"
   ]
  },
  {
   "cell_type": "code",
   "execution_count": 46,
   "metadata": {
    "collapsed": true
   },
   "outputs": [],
   "source": [
    "from sklearn.linear_model import SGDClassifier\n",
    "clf2 = SGDclass.fit(X_train_supfeatures, y_train.astype('category'))\n",
    "predicted_SVM_supfeatures = clf2.predict(X_test_supfeatures)"
   ]
  },
  {
   "cell_type": "markdown",
   "metadata": {},
   "source": [
    "### 5. Combinaison de toutes les features"
   ]
  },
  {
   "cell_type": "code",
   "execution_count": 47,
   "metadata": {
    "collapsed": false
   },
   "outputs": [],
   "source": [
    "from sklearn.naive_bayes import MultinomialNB\n",
    "clf = MultinomialNB().fit(X_train_allfeatures, y_train.astype('category'))\n",
    "predicted_NaiveBayes_allfeatures = clf.predict(X_test_allfeatures)"
   ]
  },
  {
   "cell_type": "code",
   "execution_count": 48,
   "metadata": {
    "collapsed": true
   },
   "outputs": [],
   "source": [
    "from sklearn.linear_model import SGDClassifier\n",
    "clf2 = SGDclass.fit(X_train_allfeatures, y_train.astype('category'))\n",
    "predicted_SVM_allfeatures = clf2.predict(X_test_allfeatures)"
   ]
  },
  {
   "cell_type": "markdown",
   "metadata": {},
   "source": [
    "# Evaluation de la performance"
   ]
  },
  {
   "cell_type": "markdown",
   "metadata": {},
   "source": [
    "### 1. Pour le texte complet de la review"
   ]
  },
  {
   "cell_type": "code",
   "execution_count": 49,
   "metadata": {
    "collapsed": false
   },
   "outputs": [
    {
     "name": "stdout",
     "output_type": "stream",
     "text": [
      "L'accuracy du classifieur Naive Bayes est de 65.0%\n",
      "L'accuracy du classifieur SVM est de 62.0%\n"
     ]
    }
   ],
   "source": [
    "print(\"L'accuracy du classifieur Naive Bayes est de \"+str((np.mean(predicted_NaiveBayes_reviewText == y_test)*100).round(1))+\"%\")\n",
    "print(\"L'accuracy du classifieur SVM est de \"+str((np.mean(predicted_SVM_reviewText == y_test)*100).round(1))+\"%\")"
   ]
  },
  {
   "cell_type": "code",
   "execution_count": 50,
   "metadata": {
    "collapsed": false
   },
   "outputs": [
    {
     "name": "stdout",
     "output_type": "stream",
     "text": [
      "Performance par classe du classifieur Naive Bayes \n",
      "              precision    recall  f1-score   support\n",
      "\n",
      "        1.0       0.68      0.37      0.48      7140\n",
      "        2.0       0.27      0.00      0.00      4540\n",
      "        3.0       0.41      0.01      0.02      7761\n",
      "        4.0       0.43      0.03      0.06     18551\n",
      "        5.0       0.65      0.99      0.79     62045\n",
      "\n",
      "avg / total       0.58      0.65      0.54    100037\n",
      "\n",
      "Performance par classe du classifieur SVM \n",
      "              precision    recall  f1-score   support\n",
      "\n",
      "        1.0       0.00      0.00      0.00      7140\n",
      "        2.0       0.00      0.00      0.00      4540\n",
      "        3.0       0.00      0.00      0.00      7761\n",
      "        4.0       0.00      0.00      0.00     18551\n",
      "        5.0       0.62      1.00      0.77     62045\n",
      "\n",
      "avg / total       0.38      0.62      0.47    100037\n",
      "\n"
     ]
    },
    {
     "name": "stderr",
     "output_type": "stream",
     "text": [
      "/Users/thibaut/anaconda/lib/python3.4/site-packages/sklearn/metrics/classification.py:1074: UndefinedMetricWarning: Precision and F-score are ill-defined and being set to 0.0 in labels with no predicted samples.\n",
      "  'precision', 'predicted', average, warn_for)\n"
     ]
    }
   ],
   "source": [
    "print(\"Performance par classe du classifieur Naive Bayes \\n\",sklearn.metrics.classification_report(y_test, predicted_NaiveBayes_reviewText))\n",
    "print(\"Performance par classe du classifieur SVM \\n\",sklearn.metrics.classification_report(y_test, predicted_SVM_reviewText))"
   ]
  },
  {
   "cell_type": "code",
   "execution_count": 51,
   "metadata": {
    "collapsed": false
   },
   "outputs": [
    {
     "name": "stdout",
     "output_type": "stream",
     "text": [
      "Matrice de confusion du classifieur Naive Bayes \n",
      " [[ 2633     9    28    74  4396]\n",
      " [  609     4    45   153  3729]\n",
      " [  355     2    68   389  6947]\n",
      " [  144     0    19   648 17740]\n",
      " [  147     0     7   255 61636]]\n",
      "Matrice de confusion du classifieur SVM \n",
      " [[    0     0     0     0  7140]\n",
      " [    0     0     0     0  4540]\n",
      " [    0     0     0     0  7761]\n",
      " [    0     0     0     0 18551]\n",
      " [    0     0     0     0 62045]]\n"
     ]
    }
   ],
   "source": [
    "print(\"Matrice de confusion du classifieur Naive Bayes \\n\",sklearn.metrics.confusion_matrix(y_test, predicted_NaiveBayes_reviewText))\n",
    "print(\"Matrice de confusion du classifieur SVM \\n\",sklearn.metrics.confusion_matrix(y_test, predicted_SVM_reviewText))"
   ]
  },
  {
   "cell_type": "markdown",
   "metadata": {},
   "source": [
    "### 2. Pour le résumé de la review"
   ]
  },
  {
   "cell_type": "code",
   "execution_count": 52,
   "metadata": {
    "collapsed": false
   },
   "outputs": [
    {
     "name": "stdout",
     "output_type": "stream",
     "text": [
      "L'accuracy du classifieur Naive Bayes est de 66.1%\n",
      "L'accuracy du classifieur SVM est de 62.3%\n"
     ]
    }
   ],
   "source": [
    "print(\"L'accuracy du classifieur Naive Bayes est de \"+str((np.mean(predicted_NaiveBayes_summary == y_test)*100).round(1))+\"%\")\n",
    "print(\"L'accuracy du classifieur SVM est de \"+str((np.mean(predicted_SVM_summary == y_test)*100).round(1))+\"%\")"
   ]
  },
  {
   "cell_type": "code",
   "execution_count": 53,
   "metadata": {
    "collapsed": false
   },
   "outputs": [
    {
     "name": "stdout",
     "output_type": "stream",
     "text": [
      "Performance par classe du classifieur Naive Bayes \n",
      "              precision    recall  f1-score   support\n",
      "\n",
      "        1.0       0.59      0.37      0.46      7140\n",
      "        2.0       0.41      0.03      0.06      4540\n",
      "        3.0       0.52      0.13      0.21      7761\n",
      "        4.0       0.48      0.06      0.11     18551\n",
      "        5.0       0.67      0.99      0.80     62045\n",
      "\n",
      "avg / total       0.61      0.66      0.57    100037\n",
      "\n",
      "Performance par classe du classifieur SVM \n",
      "              precision    recall  f1-score   support\n",
      "\n",
      "        1.0       1.00      0.00      0.00      7140\n",
      "        2.0       0.00      0.00      0.00      4540\n",
      "        3.0       0.66      0.03      0.06      7761\n",
      "        4.0       0.41      0.04      0.07     18551\n",
      "        5.0       0.63      0.99      0.77     62045\n",
      "\n",
      "avg / total       0.59      0.62      0.49    100037\n",
      "\n"
     ]
    },
    {
     "name": "stderr",
     "output_type": "stream",
     "text": [
      "/Users/thibaut/anaconda/lib/python3.4/site-packages/sklearn/metrics/classification.py:1074: UndefinedMetricWarning: Precision and F-score are ill-defined and being set to 0.0 in labels with no predicted samples.\n",
      "  'precision', 'predicted', average, warn_for)\n"
     ]
    }
   ],
   "source": [
    "print(\"Performance par classe du classifieur Naive Bayes \\n\",sklearn.metrics.classification_report(y_test, predicted_NaiveBayes_summary))\n",
    "print(\"Performance par classe du classifieur SVM \\n\",sklearn.metrics.classification_report(y_test, predicted_SVM_summary))"
   ]
  },
  {
   "cell_type": "code",
   "execution_count": 54,
   "metadata": {
    "collapsed": false
   },
   "outputs": [
    {
     "name": "stdout",
     "output_type": "stream",
     "text": [
      "Matrice de confusion du classifieur Naive Bayes \n",
      " [[ 2661    98   123   117  4141]\n",
      " [  805   150   318   132  3135]\n",
      " [  468    81  1040   528  5644]\n",
      " [  304    16   365  1132 16734]\n",
      " [  282    17   162   434 61150]]\n",
      "Matrice de confusion du classifieur SVM \n",
      " [[    7     0     4    67  7062]\n",
      " [    0     0    32    81  4427]\n",
      " [    0     0   253   195  7313]\n",
      " [    0     0    72   669 17810]\n",
      " [    0     0    23   628 61394]]\n"
     ]
    }
   ],
   "source": [
    "print(\"Matrice de confusion du classifieur Naive Bayes \\n\",sklearn.metrics.confusion_matrix(y_test, predicted_NaiveBayes_summary))\n",
    "print(\"Matrice de confusion du classifieur SVM \\n\",sklearn.metrics.confusion_matrix(y_test, predicted_SVM_summary))"
   ]
  },
  {
   "cell_type": "markdown",
   "metadata": {},
   "source": [
    "### 3. Texte complet et résumé de la review"
   ]
  },
  {
   "cell_type": "code",
   "execution_count": 55,
   "metadata": {
    "collapsed": false
   },
   "outputs": [
    {
     "name": "stdout",
     "output_type": "stream",
     "text": [
      "L'accuracy du classifieur Naive Bayes est de 69.3%\n",
      "L'accuracy du classifieur SVM est de 63.1%\n"
     ]
    }
   ],
   "source": [
    "print(\"L'accuracy du classifieur Naive Bayes est de \"+str((np.mean(predicted_NaiveBayes_alltext == y_test)*100).round(1))+\"%\")\n",
    "print(\"L'accuracy du classifieur SVM est de \"+str((np.mean(predicted_SVM_alltext == y_test)*100).round(1))+\"%\")"
   ]
  },
  {
   "cell_type": "code",
   "execution_count": 56,
   "metadata": {
    "collapsed": false
   },
   "outputs": [
    {
     "name": "stdout",
     "output_type": "stream",
     "text": [
      "Performance par classe du classifieur Naive Bayes \n",
      "              precision    recall  f1-score   support\n",
      "\n",
      "        1.0       0.64      0.61      0.62      7140\n",
      "        2.0       0.40      0.08      0.13      4540\n",
      "        3.0       0.49      0.19      0.27      7761\n",
      "        4.0       0.49      0.18      0.26     18551\n",
      "        5.0       0.73      0.97      0.83     62045\n",
      "\n",
      "avg / total       0.64      0.69      0.63    100037\n",
      "\n",
      "Performance par classe du classifieur SVM \n",
      "              precision    recall  f1-score   support\n",
      "\n",
      "        1.0       0.89      0.05      0.10      7140\n",
      "        2.0       0.00      0.00      0.00      4540\n",
      "        3.0       0.67      0.04      0.07      7761\n",
      "        4.0       0.47      0.05      0.09     18551\n",
      "        5.0       0.63      0.99      0.77     62045\n",
      "\n",
      "avg / total       0.59      0.63      0.51    100037\n",
      "\n"
     ]
    },
    {
     "name": "stderr",
     "output_type": "stream",
     "text": [
      "/Users/thibaut/anaconda/lib/python3.4/site-packages/sklearn/metrics/classification.py:1074: UndefinedMetricWarning: Precision and F-score are ill-defined and being set to 0.0 in labels with no predicted samples.\n",
      "  'precision', 'predicted', average, warn_for)\n"
     ]
    }
   ],
   "source": [
    "print(\"Performance par classe du classifieur Naive Bayes \\n\",sklearn.metrics.classification_report(y_test, predicted_NaiveBayes_alltext))\n",
    "print(\"Performance par classe du classifieur SVM \\n\",sklearn.metrics.classification_report(y_test, predicted_SVM_alltext))"
   ]
  },
  {
   "cell_type": "code",
   "execution_count": 57,
   "metadata": {
    "collapsed": false
   },
   "outputs": [
    {
     "name": "stdout",
     "output_type": "stream",
     "text": [
      "Matrice de confusion du classifieur Naive Bayes \n",
      " [[ 4320   240   204   181  2195]\n",
      " [ 1190   352   482   397  2119]\n",
      " [  625   207  1444  1343  4142]\n",
      " [  305    54   586  3347 14259]\n",
      " [  336    36   219  1546 59908]]\n",
      "Matrice de confusion du classifieur SVM \n",
      " [[  373     0     5    85  6677]\n",
      " [   31     0    44   117  4348]\n",
      " [    6     0   305   342  7108]\n",
      " [    1     0    83   878 17589]\n",
      " [    6     0    21   463 61555]]\n"
     ]
    }
   ],
   "source": [
    "print(\"Matrice de confusion du classifieur Naive Bayes \\n\",sklearn.metrics.confusion_matrix(y_test, predicted_NaiveBayes_alltext))\n",
    "print(\"Matrice de confusion du classifieur SVM \\n\",sklearn.metrics.confusion_matrix(y_test, predicted_SVM_alltext))"
   ]
  },
  {
   "cell_type": "markdown",
   "metadata": {},
   "source": [
    "### 4. Features supplémentaires"
   ]
  },
  {
   "cell_type": "code",
   "execution_count": 58,
   "metadata": {
    "collapsed": false
   },
   "outputs": [
    {
     "name": "stdout",
     "output_type": "stream",
     "text": [
      "L'accuracy du classifieur Naive Bayes est de 62.0%\n",
      "L'accuracy du classifieur SVM est de 62.0%\n"
     ]
    }
   ],
   "source": [
    "print(\"L'accuracy du classifieur Naive Bayes est de \"+str((np.mean(predicted_NaiveBayes_supfeatures == y_test)*100).round(1))+\"%\")\n",
    "print(\"L'accuracy du classifieur SVM est de \"+str((np.mean(predicted_SVM_supfeatures == y_test)*100).round(1))+\"%\")"
   ]
  },
  {
   "cell_type": "code",
   "execution_count": 59,
   "metadata": {
    "collapsed": false
   },
   "outputs": [
    {
     "name": "stdout",
     "output_type": "stream",
     "text": [
      "Performance par classe du classifieur Naive Bayes \n",
      "              precision    recall  f1-score   support\n",
      "\n",
      "        1.0       0.00      0.00      0.00      7140\n",
      "        2.0       0.00      0.00      0.00      4540\n",
      "        3.0       0.00      0.00      0.00      7761\n",
      "        4.0       0.00      0.00      0.00     18551\n",
      "        5.0       0.62      1.00      0.77     62045\n",
      "\n",
      "avg / total       0.38      0.62      0.47    100037\n",
      "\n",
      "Performance par classe du classifieur SVM \n",
      "              precision    recall  f1-score   support\n",
      "\n",
      "        1.0       0.00      0.00      0.00      7140\n",
      "        2.0       0.00      0.00      0.00      4540\n",
      "        3.0       0.00      0.00      0.00      7761\n",
      "        4.0       0.00      0.00      0.00     18551\n",
      "        5.0       0.62      1.00      0.77     62045\n",
      "\n",
      "avg / total       0.38      0.62      0.47    100037\n",
      "\n"
     ]
    },
    {
     "name": "stderr",
     "output_type": "stream",
     "text": [
      "/Users/thibaut/anaconda/lib/python3.4/site-packages/sklearn/metrics/classification.py:1074: UndefinedMetricWarning: Precision and F-score are ill-defined and being set to 0.0 in labels with no predicted samples.\n",
      "  'precision', 'predicted', average, warn_for)\n"
     ]
    }
   ],
   "source": [
    "print(\"Performance par classe du classifieur Naive Bayes \\n\",sklearn.metrics.classification_report(y_test, predicted_NaiveBayes_supfeatures))\n",
    "print(\"Performance par classe du classifieur SVM \\n\",sklearn.metrics.classification_report(y_test, predicted_SVM_supfeatures))"
   ]
  },
  {
   "cell_type": "code",
   "execution_count": 60,
   "metadata": {
    "collapsed": false
   },
   "outputs": [
    {
     "name": "stdout",
     "output_type": "stream",
     "text": [
      "Matrice de confusion du classifieur Naive Bayes \n",
      " [[    0     0     0     0  7140]\n",
      " [    0     0     0     0  4540]\n",
      " [    0     0     0     0  7761]\n",
      " [    0     0     0     0 18551]\n",
      " [    0     0     0     0 62045]]\n",
      "Matrice de confusion du classifieur SVM \n",
      " [[    0     0     0     0  7140]\n",
      " [    0     0     0     0  4540]\n",
      " [    0     0     0     0  7761]\n",
      " [    0     0     0     0 18551]\n",
      " [    0     0     0     0 62045]]\n"
     ]
    }
   ],
   "source": [
    "print(\"Matrice de confusion du classifieur Naive Bayes \\n\",sklearn.metrics.confusion_matrix(y_test, predicted_NaiveBayes_supfeatures))\n",
    "print(\"Matrice de confusion du classifieur SVM \\n\",sklearn.metrics.confusion_matrix(y_test, predicted_SVM_supfeatures))"
   ]
  },
  {
   "cell_type": "markdown",
   "metadata": {},
   "source": [
    "On constate qu'il s'agit d'un classifieur sans intérêt, car il ne prédit que des 5."
   ]
  },
  {
   "cell_type": "markdown",
   "metadata": {},
   "source": [
    "### 3. Pour la combinaison des features"
   ]
  },
  {
   "cell_type": "code",
   "execution_count": 61,
   "metadata": {
    "collapsed": false
   },
   "outputs": [
    {
     "name": "stdout",
     "output_type": "stream",
     "text": [
      "L'accuracy du classifieur Naive Bayes est de 69.3%\n",
      "L'accuracy du classifieur SVM est de 63.2%\n"
     ]
    }
   ],
   "source": [
    "print(\"L'accuracy du classifieur Naive Bayes est de \"+str((np.mean(predicted_NaiveBayes_allfeatures == y_test)*100).round(1))+\"%\")\n",
    "print(\"L'accuracy du classifieur SVM est de \"+str((np.mean(predicted_SVM_allfeatures == y_test)*100).round(1))+\"%\")"
   ]
  },
  {
   "cell_type": "code",
   "execution_count": 62,
   "metadata": {
    "collapsed": false
   },
   "outputs": [
    {
     "name": "stdout",
     "output_type": "stream",
     "text": [
      "Performance par classe du classifieur Naive Bayes \n",
      "              precision    recall  f1-score   support\n",
      "\n",
      "        1.0       0.64      0.61      0.62      7140\n",
      "        2.0       0.39      0.08      0.13      4540\n",
      "        3.0       0.49      0.19      0.27      7761\n",
      "        4.0       0.49      0.18      0.27     18551\n",
      "        5.0       0.73      0.96      0.83     62045\n",
      "\n",
      "avg / total       0.64      0.69      0.63    100037\n",
      "\n",
      "Performance par classe du classifieur SVM \n",
      "              precision    recall  f1-score   support\n",
      "\n",
      "        1.0       0.89      0.06      0.11      7140\n",
      "        2.0       0.00      0.00      0.00      4540\n",
      "        3.0       0.66      0.04      0.07      7761\n",
      "        4.0       0.47      0.05      0.09     18551\n",
      "        5.0       0.63      0.99      0.77     62045\n",
      "\n",
      "avg / total       0.59      0.63      0.51    100037\n",
      "\n"
     ]
    },
    {
     "name": "stderr",
     "output_type": "stream",
     "text": [
      "/Users/thibaut/anaconda/lib/python3.4/site-packages/sklearn/metrics/classification.py:1074: UndefinedMetricWarning: Precision and F-score are ill-defined and being set to 0.0 in labels with no predicted samples.\n",
      "  'precision', 'predicted', average, warn_for)\n"
     ]
    }
   ],
   "source": [
    "print(\"Performance par classe du classifieur Naive Bayes \\n\",sklearn.metrics.classification_report(y_test, predicted_NaiveBayes_allfeatures))\n",
    "print(\"Performance par classe du classifieur SVM \\n\",sklearn.metrics.classification_report(y_test, predicted_SVM_allfeatures))"
   ]
  },
  {
   "cell_type": "code",
   "execution_count": 63,
   "metadata": {
    "collapsed": false
   },
   "outputs": [
    {
     "name": "stdout",
     "output_type": "stream",
     "text": [
      "Matrice de confusion du classifieur Naive Bayes \n",
      " [[ 4332   235   204   184  2185]\n",
      " [ 1190   357   475   393  2125]\n",
      " [  615   214  1444  1365  4123]\n",
      " [  302    55   594  3385 14215]\n",
      " [  329    45   224  1622 59825]]\n",
      "Matrice de confusion du classifieur SVM \n",
      " [[  417     0     5    87  6631]\n",
      " [   35     0    47   119  4339]\n",
      " [    8     0   307   351  7095]\n",
      " [    1     0    83   906 17561]\n",
      " [    6     0    21   472 61546]]\n"
     ]
    }
   ],
   "source": [
    "print(\"Matrice de confusion du classifieur Naive Bayes \\n\",sklearn.metrics.confusion_matrix(y_test, predicted_NaiveBayes_allfeatures))\n",
    "print(\"Matrice de confusion du classifieur SVM \\n\",sklearn.metrics.confusion_matrix(y_test, predicted_SVM_allfeatures))"
   ]
  },
  {
   "cell_type": "markdown",
   "metadata": {},
   "source": [
    "## Simplification du problème en classification binaire"
   ]
  },
  {
   "cell_type": "markdown",
   "metadata": {},
   "source": [
    "En étudiant les matrices de confusion obtenues, on voit qu'il est difficile de prédire distinctement les notes entre 1 et 4. Nous allons donc nous ramener à un sous-problème de classification binaire, c'est-à-dire de prédire si la note sera de 5 ou non."
   ]
  },
  {
   "cell_type": "code",
   "execution_count": 64,
   "metadata": {
    "collapsed": false
   },
   "outputs": [],
   "source": [
    "def bin_transformation(x):\n",
    "    if x==5:\n",
    "        return(\"1\")\n",
    "    else:\n",
    "        return(\"0\")"
   ]
  },
  {
   "cell_type": "code",
   "execution_count": 148,
   "metadata": {
    "collapsed": false
   },
   "outputs": [],
   "source": [
    "y_train_bin=y_train.apply(bin_transformation).astype(\"category\")\n",
    "y_test_bin=y_test.apply(bin_transformation).astype(\"category\")"
   ]
  },
  {
   "cell_type": "markdown",
   "metadata": {},
   "source": [
    "On ré-entraîne tous les classifieurs pour ce problème binaire:"
   ]
  },
  {
   "cell_type": "code",
   "execution_count": 149,
   "metadata": {
    "collapsed": false
   },
   "outputs": [],
   "source": [
    "#Texte complet de la review\n",
    "clf = MultinomialNB().fit(X_train_tfidf_reviewText, y_train_bin)\n",
    "predicted_bin_NaiveBayes_reviewText = clf.predict(X_test_tfidf_reviewText)\n",
    "clf2 = SGDclass.fit(X_train_tfidf_reviewText, y_train_bin)\n",
    "predicted_bin_SVM_reviewText = clf2.predict(X_test_tfidf_reviewText)\n",
    "#Texte du résumé de la review\n",
    "clf = MultinomialNB().fit(X_train_tfidf_summary, y_train_bin)\n",
    "predicted_bin_NaiveBayes_summary = clf.predict(X_test_tfidf_summary)\n",
    "clf2 = SGDclass.fit(X_train_tfidf_summary, y_train_bin)\n",
    "predicted_bin_SVM_summary = clf2.predict(X_test_tfidf_summary)\n",
    "#Texte complet et résumé de la review\n",
    "clf = MultinomialNB().fit(X_train_alltext, y_train_bin)\n",
    "predicted_bin_NaiveBayes_alltext = clf.predict(X_test_alltext)\n",
    "clf2 = SGDclass.fit(X_train_alltext, y_train_bin)\n",
    "predicted_bin_SVM_alltext = clf2.predict(X_test_alltext)\n",
    "#Features supplémentaires\n",
    "clf = MultinomialNB().fit(X_train_supfeatures, y_train_bin)\n",
    "predicted_bin_NaiveBayes_supfeatures = clf.predict(X_test_supfeatures)\n",
    "clf2 = SGDclass.fit(X_train_supfeatures, y_train_bin)\n",
    "predicted_bin_SVM_supfeatures = clf2.predict(X_test_supfeatures)\n",
    "#Combinaison de toutes les features\n",
    "clf = MultinomialNB().fit(X_train_allfeatures, y_train_bin)\n",
    "predicted_bin_NaiveBayes_allfeatures = clf.predict(X_test_allfeatures)\n",
    "clf2 = SGDclass.fit(X_train_allfeatures, y_train_bin)\n",
    "predicted_bin_SVM_allfeatures = clf.predict(X_test_allfeatures)"
   ]
  },
  {
   "cell_type": "markdown",
   "metadata": {},
   "source": [
    "Maintenant on peut réévaluer l'ensemble des classifieurs sur nos features. Notons qu'on calcule les indicateurs Precision, Recall et f1-score pour le label \"5\" uniquement étant donné que le problème est binaire."
   ]
  },
  {
   "cell_type": "code",
   "execution_count": 150,
   "metadata": {
    "collapsed": false
   },
   "outputs": [
    {
     "name": "stderr",
     "output_type": "stream",
     "text": [
      "/Users/thibaut/anaconda/lib/python3.4/site-packages/sklearn/metrics/classification.py:1074: UndefinedMetricWarning: Precision and F-score are ill-defined and being set to 0.0 in labels with no predicted samples.\n",
      "  'precision', 'predicted', average, warn_for)\n"
     ]
    },
    {
     "data": {
      "text/html": [
       "<div>\n",
       "<table border=\"1\" class=\"dataframe\">\n",
       "  <thead>\n",
       "    <tr style=\"text-align: right;\">\n",
       "      <th></th>\n",
       "      <th>Accuracy</th>\n",
       "      <th>Precision</th>\n",
       "      <th>Recall</th>\n",
       "      <th>f1-score</th>\n",
       "    </tr>\n",
       "  </thead>\n",
       "  <tbody>\n",
       "    <tr>\n",
       "      <th>ReviewText-NaiveBayes</th>\n",
       "      <td>75.3%</td>\n",
       "      <td>72.1%</td>\n",
       "      <td>93.9%</td>\n",
       "      <td>81.6%</td>\n",
       "    </tr>\n",
       "    <tr>\n",
       "      <th>ReviewText-SVM</th>\n",
       "      <td>75.3%</td>\n",
       "      <td>72.1%</td>\n",
       "      <td>93.9%</td>\n",
       "      <td>81.6%</td>\n",
       "    </tr>\n",
       "    <tr>\n",
       "      <th>Summary-NaiveBayes</th>\n",
       "      <td>73.5%</td>\n",
       "      <td>72.7%</td>\n",
       "      <td>87.4%</td>\n",
       "      <td>79.3%</td>\n",
       "    </tr>\n",
       "    <tr>\n",
       "      <th>Summary-SVM</th>\n",
       "      <td>73.1%</td>\n",
       "      <td>71.8%</td>\n",
       "      <td>88.3%</td>\n",
       "      <td>79.2%</td>\n",
       "    </tr>\n",
       "    <tr>\n",
       "      <th>Alltext-NaiveBayes</th>\n",
       "      <td>80.7%</td>\n",
       "      <td>80.4%</td>\n",
       "      <td>88.3%</td>\n",
       "      <td>84.2%</td>\n",
       "    </tr>\n",
       "    <tr>\n",
       "      <th>Alltext-SVM</th>\n",
       "      <td>80.7%</td>\n",
       "      <td>79.9%</td>\n",
       "      <td>89.3%</td>\n",
       "      <td>84.3%</td>\n",
       "    </tr>\n",
       "    <tr>\n",
       "      <th>Supfeatures-NaiveBayes</th>\n",
       "      <td>58.1%</td>\n",
       "      <td>58.1%</td>\n",
       "      <td>100.0%</td>\n",
       "      <td>73.5%</td>\n",
       "    </tr>\n",
       "    <tr>\n",
       "      <th>Supfeatures-SVM</th>\n",
       "      <td>58.1%</td>\n",
       "      <td>58.1%</td>\n",
       "      <td>100.0%</td>\n",
       "      <td>73.5%</td>\n",
       "    </tr>\n",
       "    <tr>\n",
       "      <th>Allfeatures-NaiveBayes</th>\n",
       "      <td>80.6%</td>\n",
       "      <td>80.4%</td>\n",
       "      <td>88.2%</td>\n",
       "      <td>84.1%</td>\n",
       "    </tr>\n",
       "    <tr>\n",
       "      <th>Allfeatures-SVM</th>\n",
       "      <td>80.6%</td>\n",
       "      <td>80.4%</td>\n",
       "      <td>88.2%</td>\n",
       "      <td>84.1%</td>\n",
       "    </tr>\n",
       "  </tbody>\n",
       "</table>\n",
       "</div>"
      ],
      "text/plain": [
       "                       Accuracy Precision  Recall f1-score\n",
       "ReviewText-NaiveBayes     75.3%     72.1%   93.9%    81.6%\n",
       "ReviewText-SVM            75.3%     72.1%   93.9%    81.6%\n",
       "Summary-NaiveBayes        73.5%     72.7%   87.4%    79.3%\n",
       "Summary-SVM               73.1%     71.8%   88.3%    79.2%\n",
       "Alltext-NaiveBayes        80.7%     80.4%   88.3%    84.2%\n",
       "Alltext-SVM               80.7%     79.9%   89.3%    84.3%\n",
       "Supfeatures-NaiveBayes    58.1%     58.1%  100.0%    73.5%\n",
       "Supfeatures-SVM           58.1%     58.1%  100.0%    73.5%\n",
       "Allfeatures-NaiveBayes    80.6%     80.4%   88.2%    84.1%\n",
       "Allfeatures-SVM           80.6%     80.4%   88.2%    84.1%"
      ]
     },
     "execution_count": 150,
     "metadata": {},
     "output_type": "execute_result"
    }
   ],
   "source": [
    "index_clf=[\"ReviewText-NaiveBayes\",\"ReviewText-SVM\",\"Summary-NaiveBayes\",\"Summary-SVM\",\n",
    "           \"Alltext-NaiveBayes\",\"Alltext-SVM\",\"Supfeatures-NaiveBayes\",\"Supfeatures-SVM\",\n",
    "          \"Allfeatures-NaiveBayes\",\"Allfeatures-SVM\"]\n",
    "predicted_clf=[predicted_bin_SVM_reviewText, predicted_bin_SVM_reviewText, \n",
    "              predicted_bin_NaiveBayes_summary, predicted_bin_SVM_summary,\n",
    "             predicted_bin_NaiveBayes_alltext, predicted_bin_SVM_alltext,\n",
    "             predicted_bin_NaiveBayes_supfeatures, predicted_bin_SVM_supfeatures,\n",
    "             predicted_bin_NaiveBayes_allfeatures, predicted_bin_SVM_allfeatures]\n",
    "def percent_round1(x):\n",
    "    return(str((x*100).round(1))+\"%\")\n",
    "Accuracy_clf=[percent_round1(np.mean(x==y_test_bin)) for x in predicted_clf]\n",
    "Report_clf=[sklearn.metrics.precision_recall_fscore_support(y_test_bin, x) for x in predicted_clf]\n",
    "Precision_clf=[percent_round1(x[0][1]) for x in Report_clf]\n",
    "Recall_clf=[percent_round1(x[1][1]) for x in Report_clf]\n",
    "f1score_clf=[percent_round1(x[2][1]) for x in Report_clf]\n",
    "\n",
    "dic_clf = {'Accuracy' : pd.Series(Accuracy_clf, index=index_clf),\n",
    "     'Precision' : pd.Series(Precision_clf, index=index_clf),\n",
    "     'Recall' : pd.Series(Recall_clf, index=index_clf),\n",
    "     'f1-score': pd.Series(f1score_clf, index=index_clf),\n",
    "    }\n",
    "df_clf=pd.DataFrame(dic_clf)\n",
    "df_clf"
   ]
  },
  {
   "cell_type": "markdown",
   "metadata": {},
   "source": [
    "On voit que le classifieur le plus performant est le **Naive Bayes sur tout le texte**, sans les features supplémentaires. L'ajout des features supplémentaires n'augmente pas particulièrement la performance, sauf pour le modèle SVM, qui reste cependant en dessous du NaiveBayes. De manière générale, la performance des classifieurs SVM est inférieure ou égale à celle des classifieurs Naive Bayes."
   ]
  },
  {
   "cell_type": "markdown",
   "metadata": {},
   "source": [
    "Enfin, pour évaluer la performance, nous allons tracer la courbe de ROC et évaluer le critère AUC. Pour faciliter la lisibilité du graphique, on élimine le classifieur uniquement sur les variables supplémentaires, car celui-ci ne prédit que des 5."
   ]
  },
  {
   "cell_type": "code",
   "execution_count": 155,
   "metadata": {
    "collapsed": false
   },
   "outputs": [],
   "source": [
    "#Texte complet de la review\n",
    "clf = MultinomialNB().fit(X_train_tfidf_reviewText, y_train_bin)\n",
    "probas_bin_NaiveBayes_reviewText = clf.predict_proba(X_test_tfidf_reviewText)[:,1]\n",
    "clf2 = SGDclass.fit(X_train_tfidf_reviewText, y_train_bin)\n",
    "probas_bin_SVM_reviewText = clf2.predict_proba(X_test_tfidf_reviewText)[:,1]\n",
    "#Texte du résumé de la review\n",
    "clf = MultinomialNB().fit(X_train_tfidf_summary, y_train_bin)\n",
    "probas_bin_NaiveBayes_summary = clf.predict_proba(X_test_tfidf_summary)[:,1]\n",
    "clf2 = SGDclass.fit(X_train_tfidf_summary, y_train_bin)\n",
    "probas_bin_SVM_summary = clf2.predict_proba(X_test_tfidf_summary)[:,1]\n",
    "#Texte complet et résumé de la review\n",
    "clf = MultinomialNB().fit(X_train_alltext, y_train_bin)\n",
    "probas_bin_NaiveBayes_alltext = clf.predict_proba(X_test_alltext)[:,1]\n",
    "clf2 = SGDclass.fit(X_train_alltext, y_train_bin)\n",
    "probas_bin_SVM_alltext = clf2.predict_proba(X_test_alltext)[:,1]\n",
    "#Combinaison de toutes les features\n",
    "clf = MultinomialNB().fit(X_train_allfeatures, y_train_bin)\n",
    "probas_bin_NaiveBayes_allfeatures = clf.predict_proba(X_test_allfeatures)[:,1]\n",
    "clf2 = SGDclass.fit(X_train_allfeatures, y_train_bin)\n",
    "probas_bin_SVM_allfeatures = clf.predict_proba(X_test_allfeatures)[:,1]"
   ]
  },
  {
   "cell_type": "code",
   "execution_count": 69,
   "metadata": {
    "collapsed": false
   },
   "outputs": [
    {
     "data": {
      "text/plain": [
       "<matplotlib.legend.Legend at 0x1730d1a20>"
      ]
     },
     "execution_count": 69,
     "metadata": {},
     "output_type": "execute_result"
    },
    {
     "data": {
      "image/png": "[encoded data removed]",
      "text/plain": [
       "<matplotlib.figure.Figure at 0x14c4c3668>"
      ]
     },
     "metadata": {},
     "output_type": "display_data"
    }
   ],
   "source": [
    "%matplotlib inline\n",
    "matplotlib.rcParams['figure.figsize'] = (10, 6)\n",
    "from sklearn.metrics import roc_curve, auc\n",
    "probas = [probas_bin_NaiveBayes_reviewText,probas_bin_SVM_reviewText,\n",
    "         probas_bin_NaiveBayes_summary, probas_bin_SVM_summary,\n",
    "         probas_bin_NaiveBayes_alltext, probas_bin_SVM_alltext,\n",
    "         probas_bin_NaiveBayes_allfeatures, probas_bin_SVM_allfeatures]\n",
    "labels=[\"ReviewText-NaiveBayes\",\"ReviewText-SVM\",\"Summary-NaiveBayes\",\"Summary-SVM\",\n",
    "        \"Alltext-NaiveBayes\",\"Alltext-SVM\",\"Allfeatures-NaiveBayes\",\"Allfeatures-SVM\"]\n",
    "fpr= [None] * len(probas)\n",
    "tpr=[None] * len(probas)\n",
    "thresholds=[None] * len(probas)\n",
    "roc_auc=[None] * len(probas)\n",
    "for i in range(len(probas)):    \n",
    "    fpr[i], tpr[i], thresholds[i] = sklearn.metrics.roc_curve(y_test_bin.ravel().astype(float), probas[i], pos_label=1.0)\n",
    "    roc_auc[i]=auc(fpr[i],tpr[i])\n",
    "    plt.plot(fpr[i], tpr[i], label=labels[i]+\" (AUC = %0.2f)\" % roc_auc[i])\n",
    "plt.plot([0, 1], [0, 1], 'k--')\n",
    "plt.xlim([0.0, 1.0])\n",
    "plt.ylim([0.0, 1.0])\n",
    "plt.xlabel('False Positive Rate')\n",
    "plt.ylabel('True Positive Rate')\n",
    "plt.title('Courbes de ROC (Receiver Operating characteristic)')\n",
    "plt.legend(loc=\"lower right\")"
   ]
  },
  {
   "cell_type": "code",
   "execution_count": 70,
   "metadata": {
    "collapsed": false
   },
   "outputs": [
    {
     "data": {
      "text/plain": [
       "0.62022051840818893"
      ]
     },
     "execution_count": 70,
     "metadata": {},
     "output_type": "execute_result"
    }
   ],
   "source": [
    "np.mean(y_test_bin.ravel().astype(float))"
   ]
  },
  {
   "cell_type": "markdown",
   "metadata": {},
   "source": [
    "On voit que l'apport des features supplémentaires n'importe qu'un petit gain d'AUC au classifieur SVM. Les modèles Naive Bayes sont toujours bien supérieurs en termes d'AUC aux modèles SVM."
   ]
  },
  {
   "cell_type": "markdown",
   "metadata": {},
   "source": [
    "## Optimisation des hyper-paramètres pour la classification binaire"
   ]
  },
  {
   "cell_type": "markdown",
   "metadata": {},
   "source": [
    "Nous allons nous concentrer ici sur l'optimisation des hyperparamètres de chacun des classifieurs sur l'intégralité des features."
   ]
  },
  {
   "cell_type": "markdown",
   "metadata": {},
   "source": [
    "### 1. Optimisation du classifieur Naive Bayes"
   ]
  },
  {
   "cell_type": "code",
   "execution_count": 156,
   "metadata": {
    "collapsed": false
   },
   "outputs": [
    {
     "data": {
      "text/plain": [
       "GridSearchCV(cv=None, error_score='raise',\n",
       "       estimator=MultinomialNB(alpha=1.0, class_prior=None, fit_prior=True),\n",
       "       fit_params={}, iid=True, n_jobs=1,\n",
       "       param_grid={'alpha': [0.001, 0.20506122448979594, 0.40912244897959188, 0.61318367346938785, 0.81724489795918376, 1.0213061224489797, 1.2253673469387756, 1.4294285714285715, 1.6334897959183674, 1.8375510204081633, 2.0416122448979594, 2.2456734693877554, 2.4497346938775513, 2.6537959183673472, 2.85785...6938775510213, 9.1837551020408164, 9.3878163265306132, 9.5918775510204082, 9.795938775510205, 10.0]},\n",
       "       pre_dispatch='2*n_jobs', refit=True, scoring=None, verbose=0)"
      ]
     },
     "execution_count": 156,
     "metadata": {},
     "output_type": "execute_result"
    }
   ],
   "source": [
    "from sklearn import grid_search\n",
    "parameters_NB = {'alpha':list(np.linspace(0.001,10,50))}\n",
    "clf1=grid_search.GridSearchCV(MultinomialNB(), parameters_NB)\n",
    "clf1.fit(X_train_allfeatures, y_train_bin)"
   ]
  },
  {
   "cell_type": "code",
   "execution_count": 157,
   "metadata": {
    "collapsed": false
   },
   "outputs": [
    {
     "name": "stdout",
     "output_type": "stream",
     "text": [
      "alpha: 0.001\n"
     ]
    }
   ],
   "source": [
    "best_parameters, score, _ = max(clf1.grid_scores_, key=lambda x: x[1])\n",
    "for param_name in sorted(parameters_NB.keys()):\n",
    "    print(\"%s: %r\" % (param_name, best_parameters[param_name]))"
   ]
  },
  {
   "cell_type": "code",
   "execution_count": 158,
   "metadata": {
    "collapsed": false
   },
   "outputs": [
    {
     "data": {
      "text/plain": [
       "0.80752173117519033"
      ]
     },
     "execution_count": 158,
     "metadata": {},
     "output_type": "execute_result"
    }
   ],
   "source": [
    "score"
   ]
  },
  {
   "cell_type": "code",
   "execution_count": 159,
   "metadata": {
    "collapsed": true
   },
   "outputs": [],
   "source": [
    "predicted_bin_NaiveBayes_optim_allfeatures = clf1.predict(X_test_allfeatures)"
   ]
  },
  {
   "cell_type": "markdown",
   "metadata": {},
   "source": [
    "### 2. Optimisation du classifieur SVM"
   ]
  },
  {
   "cell_type": "code",
   "execution_count": 151,
   "metadata": {
    "collapsed": false
   },
   "outputs": [
    {
     "data": {
      "text/plain": [
       "GridSearchCV(cv=None, error_score='raise',\n",
       "       estimator=SGDClassifier(alpha=0.0001, average=False, class_weight=None, epsilon=0.1,\n",
       "       eta0=0.0, fit_intercept=True, l1_ratio=0.15,\n",
       "       learning_rate='optimal', loss='hinge', n_iter=5, n_jobs=1,\n",
       "       penalty='l2', power_t=0.5, random_state=None, shuffle=True,\n",
       "       verbose=0, warm_start=False),\n",
       "       fit_params={}, iid=True, n_jobs=1,\n",
       "       param_grid={'alpha': [9.9999999999999995e-07, 2.1387755102040818e-05, 4.1775510204081632e-05, 6.2163265306122456e-05, 8.2551020408163267e-05, 0.00010293877551020408, 0.00012332653061224492, 0.00014371428571428573, 0.00016410204081632654, 0.00018448979591836735, 0.00020487755102040816, 0.000225265306...97961224489795926, 0.001], 'penalty': ['l2', 'l1', 'elasticnet'], 'loss': ['modified_huber', 'log']},\n",
       "       pre_dispatch='2*n_jobs', refit=True, scoring=None, verbose=0)"
      ]
     },
     "execution_count": 151,
     "metadata": {},
     "output_type": "execute_result"
    }
   ],
   "source": [
    "parameters_SVM = {'alpha':list(np.linspace(0.000001,0.001,50)),\n",
    "                  'loss':[\"modified_huber\",\"log\"],\n",
    "                  'penalty': [\"l2\", \"l1\",\"elasticnet\"],\n",
    "                 }\n",
    "clf2=grid_search.GridSearchCV(SGDClassifier(), parameters_SVM)\n",
    "clf2.fit(X_train_allfeatures, y_train_bin)"
   ]
  },
  {
   "cell_type": "code",
   "execution_count": 153,
   "metadata": {
    "collapsed": false,
    "scrolled": true
   },
   "outputs": [
    {
     "name": "stdout",
     "output_type": "stream",
     "text": [
      "alpha: 8.2551020408163267e-05\n",
      "loss: 'modified_huber'\n",
      "penalty: 'elasticnet'\n"
     ]
    }
   ],
   "source": [
    "best_parameters, score, _ = max(clf2.grid_scores_, key=lambda x: x[1])\n",
    "for param_name in sorted(parameters_SVM.keys()):\n",
    "    print(\"%s: %r\" % (param_name, best_parameters[param_name]))"
   ]
  },
  {
   "cell_type": "code",
   "execution_count": 152,
   "metadata": {
    "collapsed": true
   },
   "outputs": [],
   "source": [
    "predicted_bin_SVM_optim_allfeatures = clf2.predict(X_test_allfeatures)"
   ]
  },
  {
   "cell_type": "markdown",
   "metadata": {},
   "source": [
    "### Comparaison de performance entre classifieurs optimisés et non optimisés"
   ]
  },
  {
   "cell_type": "code",
   "execution_count": 160,
   "metadata": {
    "collapsed": false
   },
   "outputs": [
    {
     "data": {
      "text/html": [
       "<div>\n",
       "<table border=\"1\" class=\"dataframe\">\n",
       "  <thead>\n",
       "    <tr style=\"text-align: right;\">\n",
       "      <th></th>\n",
       "      <th>Accuracy</th>\n",
       "      <th>Precision</th>\n",
       "      <th>Recall</th>\n",
       "      <th>f1-score</th>\n",
       "    </tr>\n",
       "  </thead>\n",
       "  <tbody>\n",
       "    <tr>\n",
       "      <th>NaiveBayes-Basic</th>\n",
       "      <td>80.6%</td>\n",
       "      <td>80.4%</td>\n",
       "      <td>88.2%</td>\n",
       "      <td>84.1%</td>\n",
       "    </tr>\n",
       "    <tr>\n",
       "      <th>NaiveBayes-Optimized</th>\n",
       "      <td>80.6%</td>\n",
       "      <td>80.4%</td>\n",
       "      <td>88.2%</td>\n",
       "      <td>84.1%</td>\n",
       "    </tr>\n",
       "    <tr>\n",
       "      <th>SVM-Basic</th>\n",
       "      <td>80.6%</td>\n",
       "      <td>80.4%</td>\n",
       "      <td>88.2%</td>\n",
       "      <td>84.1%</td>\n",
       "    </tr>\n",
       "    <tr>\n",
       "      <th>SVM-Optimized</th>\n",
       "      <td>83.9%</td>\n",
       "      <td>83.8%</td>\n",
       "      <td>89.6%</td>\n",
       "      <td>86.6%</td>\n",
       "    </tr>\n",
       "  </tbody>\n",
       "</table>\n",
       "</div>"
      ],
      "text/plain": [
       "                     Accuracy Precision Recall f1-score\n",
       "NaiveBayes-Basic        80.6%     80.4%  88.2%    84.1%\n",
       "NaiveBayes-Optimized    80.6%     80.4%  88.2%    84.1%\n",
       "SVM-Basic               80.6%     80.4%  88.2%    84.1%\n",
       "SVM-Optimized           83.9%     83.8%  89.6%    86.6%"
      ]
     },
     "execution_count": 160,
     "metadata": {},
     "output_type": "execute_result"
    }
   ],
   "source": [
    "index_clf=[\"NaiveBayes-Basic\",\"NaiveBayes-Optimized\",\"SVM-Basic\",\"SVM-Optimized\"]\n",
    "predicted_clf=[predicted_bin_NaiveBayes_allfeatures, predicted_bin_NaiveBayes_optim_allfeatures,\n",
    "               predicted_bin_SVM_allfeatures, predicted_bin_SVM_optim_allfeatures]\n",
    "def percent_round1(x):\n",
    "    return(str((x*100).round(1))+\"%\")\n",
    "Accuracy_clf=[percent_round1(np.mean(x==y_test_bin)) for x in predicted_clf]\n",
    "Report_clf=[sklearn.metrics.precision_recall_fscore_support(y_test_bin, x) for x in predicted_clf]\n",
    "Precision_clf=[percent_round1(x[0][1]) for x in Report_clf]\n",
    "Recall_clf=[percent_round1(x[1][1]) for x in Report_clf]\n",
    "f1score_clf=[percent_round1(x[2][1]) for x in Report_clf]\n",
    "\n",
    "dic_clf = {'Accuracy' : pd.Series(Accuracy_clf, index=index_clf),\n",
    "     'Precision' : pd.Series(Precision_clf, index=index_clf),\n",
    "     'Recall' : pd.Series(Recall_clf, index=index_clf),\n",
    "     'f1-score': pd.Series(f1score_clf, index=index_clf),\n",
    "    }\n",
    "df_clf=pd.DataFrame(dic_clf)\n",
    "df_clf"
   ]
  },
  {
   "cell_type": "markdown",
   "metadata": {},
   "source": [
    "On voit que l'optimisation est sensible pour le classifieur SVM, qui dépasse maintenant le classifieur Naive Bayes. Cependant, le temps de calcul a été beaucoup plus long pour SVM que pour Naive Bayes."
   ]
  },
  {
   "cell_type": "markdown",
   "metadata": {},
   "source": [
    "## Analyse de la performance en fonction du nombre de mots"
   ]
  },
  {
   "cell_type": "code",
   "execution_count": 79,
   "metadata": {
    "collapsed": false
   },
   "outputs": [],
   "source": [
    "def createBins(x):\n",
    "    if x[\"countWordsReview\"] < 17:\n",
    "        return(17)\n",
    "    elif x[\"countWordsReview\"] < 30:\n",
    "        return(30)\n",
    "    elif x[\"countWordsReview\"] < 60:\n",
    "        return(60)\n",
    "    elif x[\"countWordsReview\"] < 100:\n",
    "        return(100)\n",
    "    elif x[\"countWordsReview\"] < 200:\n",
    "        return(200)\n",
    "    else:\n",
    "        return(300)"
   ]
  },
  {
   "cell_type": "code",
   "execution_count": 80,
   "metadata": {
    "collapsed": false
   },
   "outputs": [],
   "source": [
    "perf_number_words = pd.merge(pd.DataFrame(y_test_bin), pd.DataFrame(df_test[\"countWordsReview\"]), left_index=True, right_index=True)"
   ]
  },
  {
   "cell_type": "code",
   "execution_count": 81,
   "metadata": {
    "collapsed": true
   },
   "outputs": [],
   "source": [
    "perf_number_words = perf_number_words.reset_index()\n",
    "perf_number_words = perf_number_words.drop('index', axis = 1)"
   ]
  },
  {
   "cell_type": "code",
   "execution_count": 82,
   "metadata": {
    "collapsed": false
   },
   "outputs": [],
   "source": [
    "x_predicted_bin = pd.DataFrame(predicted_bin_NaiveBayes_optim_allfeatures)"
   ]
  },
  {
   "cell_type": "code",
   "execution_count": 83,
   "metadata": {
    "collapsed": true
   },
   "outputs": [],
   "source": [
    "perf_number_words[\"predicted\"] = x_predicted_bin"
   ]
  },
  {
   "cell_type": "code",
   "execution_count": 84,
   "metadata": {
    "collapsed": false
   },
   "outputs": [],
   "source": [
    "perf_number_words[\"bin\"] = perf_number_words.apply(createBins, axis = 1)"
   ]
  },
  {
   "cell_type": "code",
   "execution_count": 85,
   "metadata": {
    "collapsed": false
   },
   "outputs": [],
   "source": [
    "def calaccuracy(x):\n",
    "    return(1-abs(int(x[\"overall\"])-int(x[\"predicted\"])))"
   ]
  },
  {
   "cell_type": "code",
   "execution_count": 86,
   "metadata": {
    "collapsed": false
   },
   "outputs": [],
   "source": [
    "perf_number_words[\"accuracy\"] = perf_number_words.apply(calaccuracy, axis = 1)"
   ]
  },
  {
   "cell_type": "code",
   "execution_count": 87,
   "metadata": {
    "collapsed": false
   },
   "outputs": [],
   "source": [
    "def pourcentage(x):\n",
    "    return(str((x[\"accuracy\"]*100).round(1))+\"%\")"
   ]
  },
  {
   "cell_type": "code",
   "execution_count": 89,
   "metadata": {
    "collapsed": false
   },
   "outputs": [
    {
     "data": {
      "text/html": [
       "<div>\n",
       "<table border=\"1\" class=\"dataframe\">\n",
       "  <thead>\n",
       "    <tr style=\"text-align: right;\">\n",
       "      <th></th>\n",
       "      <th>bin</th>\n",
       "      <th>countWordsReview</th>\n",
       "      <th>accuracy</th>\n",
       "    </tr>\n",
       "  </thead>\n",
       "  <tbody>\n",
       "    <tr>\n",
       "      <th>0</th>\n",
       "      <td>17</td>\n",
       "      <td>8.667513</td>\n",
       "      <td>88.4%</td>\n",
       "    </tr>\n",
       "    <tr>\n",
       "      <th>1</th>\n",
       "      <td>30</td>\n",
       "      <td>23.410642</td>\n",
       "      <td>80.6%</td>\n",
       "    </tr>\n",
       "    <tr>\n",
       "      <th>2</th>\n",
       "      <td>60</td>\n",
       "      <td>42.368137</td>\n",
       "      <td>79.0%</td>\n",
       "    </tr>\n",
       "    <tr>\n",
       "      <th>3</th>\n",
       "      <td>100</td>\n",
       "      <td>76.923658</td>\n",
       "      <td>78.3%</td>\n",
       "    </tr>\n",
       "    <tr>\n",
       "      <th>4</th>\n",
       "      <td>200</td>\n",
       "      <td>138.866076</td>\n",
       "      <td>76.8%</td>\n",
       "    </tr>\n",
       "    <tr>\n",
       "      <th>5</th>\n",
       "      <td>300</td>\n",
       "      <td>366.937513</td>\n",
       "      <td>73.2%</td>\n",
       "    </tr>\n",
       "  </tbody>\n",
       "</table>\n",
       "</div>"
      ],
      "text/plain": [
       "   bin  countWordsReview accuracy\n",
       "0   17          8.667513    88.4%\n",
       "1   30         23.410642    80.6%\n",
       "2   60         42.368137    79.0%\n",
       "3  100         76.923658    78.3%\n",
       "4  200        138.866076    76.8%\n",
       "5  300        366.937513    73.2%"
      ]
     },
     "execution_count": 89,
     "metadata": {},
     "output_type": "execute_result"
    }
   ],
   "source": [
    "result = perf_number_words.groupby([\"bin\"], as_index=False).agg(np.mean)\n",
    "result[\"accuracy\"] = result.apply(pourcentage, axis = 1)\n",
    "result"
   ]
  },
  {
   "cell_type": "markdown",
   "metadata": {},
   "source": [
    "## Analyse des mots qui jouent un rôle prépondérant dans la prédiction de l'algorithme Naive Bayes"
   ]
  },
  {
   "cell_type": "code",
   "execution_count": 90,
   "metadata": {
    "collapsed": true
   },
   "outputs": [],
   "source": [
    "corpus_train_reviewText=list(df_train[\"reviewText\"].astype(str))\n",
    "X_train_tfidf_reviewText = tfidf_vect_stopword.fit_transform(corpus_train_reviewText)"
   ]
  },
  {
   "cell_type": "code",
   "execution_count": 91,
   "metadata": {
    "collapsed": true
   },
   "outputs": [],
   "source": [
    "clf = MultinomialNB().fit(X_train_tfidf_reviewText, y_train.astype('category'))"
   ]
  },
  {
   "cell_type": "code",
   "execution_count": 94,
   "metadata": {
    "collapsed": false
   },
   "outputs": [],
   "source": [
    "def show_most_informative_features(vectorizer, clf, n=20):\n",
    "    feature_names = tfidf_vect_stopword.get_feature_names()\n",
    "    coefs_with_fns = sorted(zip(clf.coef_[0], feature_names))\n",
    "    top = zip(coefs_with_fns[:n], coefs_with_fns[:-(n + 1):-1])\n",
    "    for (coef_1, fn_1), (coef_2, fn_2) in top:\n",
    "        print(\"\\t%.4f\\t%-15s\\t\\t%.4f\\t%-15s\" % (coef_1, fn_1,coef_2, fn_2))"
   ]
  },
  {
   "cell_type": "code",
   "execution_count": 95,
   "metadata": {
    "collapsed": false
   },
   "outputs": [
    {
     "name": "stdout",
     "output_type": "stream",
     "text": [
      "\t-11.8523\tatmospheric    \t\t-5.2188\tone            \n",
      "\t-11.8523\tbluesy         \t\t-5.2297\tproduct        \n",
      "\t-11.8523\tchoruses       \t\t-5.3016\twork           \n",
      "\t-11.8523\tcollaboration  \t\t-5.3333\twould          \n",
      "\t-11.8523\tconcerti       \t\t-5.4444\tget            \n",
      "\t-11.8523\temotionally    \t\t-5.4648\tmoney          \n",
      "\t-11.8523\texcellence     \t\t-5.4687\tbuy            \n",
      "\t-11.8523\thaunting       \t\t-5.5691\teven           \n",
      "\t-11.8523\tjoseph         \t\t-5.5816\tguitar         \n",
      "\t-11.8523\tplayful        \t\t-5.6445\treturn         \n",
      "\t-11.8523\tpoem           \t\t-5.6828\tback           \n",
      "\t-11.8523\tstravinsky     \t\t-5.7193\tlike           \n",
      "\t-11.8523\tstrengths      \t\t-5.7322\tbought         \n",
      "\t-11.8523\tsubdued        \t\t-5.7453\twaste          \n",
      "\t-11.8523\tsuperbly       \t\t-5.7514\titem           \n",
      "\t-11.8324\texpressive     \t\t-5.7939\ttime           \n",
      "\t-11.8303\tstrauss        \t\t-5.8250\tgot            \n",
      "\t-11.8282\t1963           \t\t-5.8309\tsound          \n",
      "\t-11.8234\targuably       \t\t-5.8320\tamazon         \n",
      "\t-11.8228\twaltz          \t\t-5.8432\tuse            \n"
     ]
    }
   ],
   "source": [
    "show_most_informative_features(X_train_tfidf_reviewText, clf, n = 20)"
   ]
  },
  {
   "cell_type": "markdown",
   "metadata": {},
   "source": [
    "## Utilisation du modèle sur des données de reviews de la catégorie \"Baby\""
   ]
  },
  {
   "cell_type": "markdown",
   "metadata": {},
   "source": [
    "On applique le modèle qui a fait l'apprentissage sur les reviews des musical instruments sur les reviews des produits de la catégorie \"Baby\"."
   ]
  },
  {
   "cell_type": "code",
   "execution_count": 97,
   "metadata": {
    "collapsed": true
   },
   "outputs": [],
   "source": [
    "data1=[]\n",
    "filepath=\"reviews_Baby.json\"\n",
    "with open(filepath) as f:\n",
    "    for line in f:\n",
    "        data1.append(json.loads(line))\n",
    "df_baby=pd.DataFrame(data1)"
   ]
  },
  {
   "cell_type": "code",
   "execution_count": 98,
   "metadata": {
    "collapsed": true
   },
   "outputs": [],
   "source": [
    "y_baby = df_baby[\"overall\"]\n",
    "df_baby = df_baby.drop(\"overall\",axis=1,inplace=False)\n",
    "df_baby[\"countWordsReview\"] = df_baby[\"reviewText\"].astype(str).apply(countWords)\n",
    "df_baby[\"countWordsSummary\"] = df_baby[\"summary\"].astype(str).apply(countWords)"
   ]
  },
  {
   "cell_type": "code",
   "execution_count": 106,
   "metadata": {
    "collapsed": false
   },
   "outputs": [
    {
     "data": {
      "text/plain": [
       "(915448, 6419)"
      ]
     },
     "execution_count": 106,
     "metadata": {},
     "output_type": "execute_result"
    }
   ],
   "source": [
    "corpus_baby_reviewText=list(df_baby[\"reviewText\"].astype(str))\n",
    "corpus_baby_summary=list(df_baby[\"summary\"].astype(str))\n",
    "X_baby_tfidf_reviewText = tfidf_vect_stopword.transform(corpus_baby_reviewText)\n",
    "X_baby_tfidf_reviewText.shape"
   ]
  },
  {
   "cell_type": "code",
   "execution_count": 108,
   "metadata": {
    "collapsed": true
   },
   "outputs": [],
   "source": [
    "X_baby_tfidf_summary = tfidf_vect_stopword.transform(corpus_baby_summary)\n",
    "df_baby[\"Weekday\"] = df_baby[\"unixReviewTime\"].apply(lambda x: datetime.strftime(datetime.fromtimestamp(x),'%a')).astype('category')\n",
    "df_baby[\"Month\"] = df_baby[\"unixReviewTime\"].apply(lambda x: datetime.strftime(datetime.fromtimestamp(x),'%m')).astype('category')\n",
    "X_baby_countWords=normalize(df_baby[[\"countWordsReview\",\"countWordsSummary\"]].astype(float),axis=0)\n",
    "dic_baby_weekdays = pd.DataFrame(df_baby[\"Weekday\"]).to_dict('records')\n",
    "X_baby_weekdays = dic_vec.fit_transform(dic_baby_weekdays)\n",
    "dic_baby_months = pd.DataFrame(df_baby[\"Month\"]).to_dict('records')\n",
    "X_baby_months = dic_vec.fit_transform(dic_baby_months)"
   ]
  },
  {
   "cell_type": "code",
   "execution_count": 109,
   "metadata": {
    "collapsed": true
   },
   "outputs": [],
   "source": [
    "X_baby_alltext=hstack([X_baby_tfidf_reviewText, X_baby_tfidf_summary])\n",
    "X_baby_allfeatures = hstack([X_baby_alltext,X_baby_countWords, X_baby_weekdays, X_baby_months])"
   ]
  },
  {
   "cell_type": "code",
   "execution_count": 110,
   "metadata": {
    "collapsed": false
   },
   "outputs": [
    {
     "data": {
      "text/plain": [
       "(915448, 7219)"
      ]
     },
     "execution_count": 110,
     "metadata": {},
     "output_type": "execute_result"
    }
   ],
   "source": [
    "X_baby_allfeatures.shape"
   ]
  },
  {
   "cell_type": "code",
   "execution_count": 111,
   "metadata": {
    "collapsed": false
   },
   "outputs": [],
   "source": [
    "predicted_bin_SVM_optim_baby = clf2.predict(X_baby_allfeatures)"
   ]
  },
  {
   "cell_type": "code",
   "execution_count": 112,
   "metadata": {
    "collapsed": true
   },
   "outputs": [],
   "source": [
    "y_baby_bin=y_baby.apply(bin_transformation).astype(\"category\")"
   ]
  },
  {
   "cell_type": "code",
   "execution_count": 113,
   "metadata": {
    "collapsed": false
   },
   "outputs": [
    {
     "data": {
      "text/plain": [
       "81.799999999999997"
      ]
     },
     "execution_count": 113,
     "metadata": {},
     "output_type": "execute_result"
    }
   ],
   "source": [
    "(np.mean(predicted_bin_SVM_optim_baby == y_baby_bin)*100).round(1)"
   ]
  },
  {
   "cell_type": "markdown",
   "metadata": {},
   "source": [
    "L'apprentissage a été fait sur des reviews de produits d'une autre catégorie, mais les résultats obtenus par ce modèle sont aussi bon que sur l'échantillon test des reviews de produits de la catégorie \"Musical Instruments\"."
   ]
  }
 ],
 "metadata": {
  "kernelspec": {
   "display_name": "Python 3",
   "language": "python",
   "name": "python3"
  },
  "language_info": {
   "codemirror_mode": {
    "name": "ipython",
    "version": 3
   },
   "file_extension": ".py",
   "mimetype": "text/x-python",
   "name": "python",
   "nbconvert_exporter": "python",
   "pygments_lexer": "ipython3",
   "version": "3.4.3"
  }
 },
 "nbformat": 4,
 "nbformat_minor": 0
}
