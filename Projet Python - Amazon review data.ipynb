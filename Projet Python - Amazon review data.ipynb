{
 "cells": [
  {
   "cell_type": "markdown",
   "metadata": {},
   "source": [
    "# Chargement des données"
   ]
  },
  {
   "cell_type": "markdown",
   "metadata": {},
   "source": [
    "Les données complètes sont disponibles sur le site http://jmcauley.ucsd.edu/data/amazon/links.html. Pour commencer, on se concentre sur des bases de données pour des catégories spécifiques de produit, afin d'avoir une taille raisonnable."
   ]
  },
  {
   "cell_type": "code",
   "execution_count": 23,
   "metadata": {
    "collapsed": false
   },
   "outputs": [],
   "source": [
    "import os\n",
    "import json\n",
    "import gzip\n",
    "import pandas as pd\n",
    "import numpy as np\n",
    "import matplotlib\n",
    "import matplotlib.pyplot as plt\n",
    "import numpy as np\n",
    "import ipywidgets as widgets\n",
    "from IPython.display import display\n",
    "import statistics as stat\n",
    "from io import StringIO\n",
    "import nltk\n",
    "import sklearn"
   ]
  },
  {
   "cell_type": "markdown",
   "metadata": {},
   "source": [
    "Tout d'abord, on sélectionne la catégorie de produit à étudier:"
   ]
  },
  {
   "cell_type": "code",
   "execution_count": 24,
   "metadata": {
    "collapsed": false
   },
   "outputs": [],
   "source": [
    "category_options={\n",
    "    \"Musical Instruments\": \"reviews_Musical_Instruments.json.gz\",\n",
    "    \"Baby\": \"reviews_Baby.json.gz\",\n",
    "    \"Movies and TV\": \"reviews_Movies_and_TV.json.gz\",\n",
    "}\n",
    "dropdown = widgets.Dropdown(options=category_options, description=\"Catégorie de produit à étudier\")\n",
    "display(dropdown)"
   ]
  },
  {
   "cell_type": "markdown",
   "metadata": {},
   "source": [
    "Ensuite, on décompresse le fichier pour obtenir un fichier en format json"
   ]
  },
  {
   "cell_type": "code",
   "execution_count": 25,
   "metadata": {
    "collapsed": false
   },
   "outputs": [],
   "source": [
    "if(not(os.path.isfile(dropdown.value[:-3]))):\n",
    "    inputFile = gzip.open(dropdown.value, 'rb')\n",
    "    outputFile = open(dropdown.value[:-3], 'wb')\n",
    "    outputFile.write(inputFile.read())\n",
    "    inputFile.close()\n",
    "    outputFile.close()"
   ]
  },
  {
   "cell_type": "markdown",
   "metadata": {},
   "source": [
    "On la transforme en Pandas DataFrame "
   ]
  },
  {
   "cell_type": "code",
   "execution_count": 26,
   "metadata": {
    "collapsed": false
   },
   "outputs": [],
   "source": [
    "data=[]\n",
    "filepath=dropdown.value[:-3]\n",
    "with open(filepath) as f:\n",
    "    for line in f:\n",
    "        data.append(json.loads(line))\n",
    "df=pd.DataFrame(data)"
   ]
  },
  {
   "cell_type": "code",
   "execution_count": 27,
   "metadata": {
    "collapsed": false
   },
   "outputs": [
    {
     "data": {
      "text/html": [
       "<div>\n",
       "<table border=\"1\" class=\"dataframe\">\n",
       "  <thead>\n",
       "    <tr style=\"text-align: right;\">\n",
       "      <th></th>\n",
       "      <th>asin</th>\n",
       "      <th>helpful</th>\n",
       "      <th>overall</th>\n",
       "      <th>reviewText</th>\n",
       "      <th>reviewTime</th>\n",
       "      <th>reviewerID</th>\n",
       "      <th>reviewerName</th>\n",
       "      <th>summary</th>\n",
       "      <th>unixReviewTime</th>\n",
       "    </tr>\n",
       "  </thead>\n",
       "  <tbody>\n",
       "    <tr>\n",
       "      <th>0</th>\n",
       "      <td>0006428320</td>\n",
       "      <td>[0, 0]</td>\n",
       "      <td>3</td>\n",
       "      <td>The portfolio is fine except for the fact that...</td>\n",
       "      <td>03 11, 2014</td>\n",
       "      <td>A1YS9MDZP93857</td>\n",
       "      <td>John Taylor</td>\n",
       "      <td>Parts missing</td>\n",
       "      <td>1394496000</td>\n",
       "    </tr>\n",
       "    <tr>\n",
       "      <th>1</th>\n",
       "      <td>0014072149</td>\n",
       "      <td>[0, 0]</td>\n",
       "      <td>5</td>\n",
       "      <td>If you are a serious violin student on a budge...</td>\n",
       "      <td>06 6, 2013</td>\n",
       "      <td>A3TS466QBAWB9D</td>\n",
       "      <td>Silver Pencil</td>\n",
       "      <td>Perform it with a friend, today!</td>\n",
       "      <td>1370476800</td>\n",
       "    </tr>\n",
       "    <tr>\n",
       "      <th>2</th>\n",
       "      <td>0041291905</td>\n",
       "      <td>[0, 0]</td>\n",
       "      <td>5</td>\n",
       "      <td>This is and excellent edition and perfectly tr...</td>\n",
       "      <td>10 14, 2013</td>\n",
       "      <td>A3BUDYITWUSIS7</td>\n",
       "      <td>joyce gabriel cornett</td>\n",
       "      <td>Vivalldi's Four Seasons</td>\n",
       "      <td>1381708800</td>\n",
       "    </tr>\n",
       "    <tr>\n",
       "      <th>3</th>\n",
       "      <td>0041913574</td>\n",
       "      <td>[0, 0]</td>\n",
       "      <td>5</td>\n",
       "      <td>Perfect for someone who is an opera fan or a w...</td>\n",
       "      <td>09 23, 2010</td>\n",
       "      <td>A19K10Z0D2NTZK</td>\n",
       "      <td>TexasCowboy</td>\n",
       "      <td>Full score: voice and orchestra</td>\n",
       "      <td>1285200000</td>\n",
       "    </tr>\n",
       "    <tr>\n",
       "      <th>4</th>\n",
       "      <td>0201891859</td>\n",
       "      <td>[0, 1]</td>\n",
       "      <td>1</td>\n",
       "      <td>How many Nocturnes does it contain? All of the...</td>\n",
       "      <td>10 17, 2012</td>\n",
       "      <td>A14X336IB4JD89</td>\n",
       "      <td>dfjm53</td>\n",
       "      <td>Unable to determine contents</td>\n",
       "      <td>1350432000</td>\n",
       "    </tr>\n",
       "  </tbody>\n",
       "</table>\n",
       "</div>"
      ],
      "text/plain": [
       "         asin helpful  overall  \\\n",
       "0  0006428320  [0, 0]        3   \n",
       "1  0014072149  [0, 0]        5   \n",
       "2  0041291905  [0, 0]        5   \n",
       "3  0041913574  [0, 0]        5   \n",
       "4  0201891859  [0, 1]        1   \n",
       "\n",
       "                                          reviewText   reviewTime  \\\n",
       "0  The portfolio is fine except for the fact that...  03 11, 2014   \n",
       "1  If you are a serious violin student on a budge...   06 6, 2013   \n",
       "2  This is and excellent edition and perfectly tr...  10 14, 2013   \n",
       "3  Perfect for someone who is an opera fan or a w...  09 23, 2010   \n",
       "4  How many Nocturnes does it contain? All of the...  10 17, 2012   \n",
       "\n",
       "       reviewerID           reviewerName                           summary  \\\n",
       "0  A1YS9MDZP93857            John Taylor                     Parts missing   \n",
       "1  A3TS466QBAWB9D          Silver Pencil  Perform it with a friend, today!   \n",
       "2  A3BUDYITWUSIS7  joyce gabriel cornett           Vivalldi's Four Seasons   \n",
       "3  A19K10Z0D2NTZK            TexasCowboy   Full score: voice and orchestra   \n",
       "4  A14X336IB4JD89                 dfjm53      Unable to determine contents   \n",
       "\n",
       "   unixReviewTime  \n",
       "0      1394496000  \n",
       "1      1370476800  \n",
       "2      1381708800  \n",
       "3      1285200000  \n",
       "4      1350432000  "
      ]
     },
     "execution_count": 27,
     "metadata": {},
     "output_type": "execute_result"
    }
   ],
   "source": [
    "df.head()"
   ]
  },
  {
   "cell_type": "markdown",
   "metadata": {},
   "source": [
    "# Séparation Training and Validation sets"
   ]
  },
  {
   "cell_type": "markdown",
   "metadata": {},
   "source": [
    "Avant de commencer toute analyse ou modélisation, il faut séparer l'échantillon d'entrainement et l'échantillon de validation. On procède comme suit:"
   ]
  },
  {
   "cell_type": "code",
   "execution_count": 28,
   "metadata": {
    "collapsed": false
   },
   "outputs": [
    {
     "name": "stdout",
     "output_type": "stream",
     "text": [
      "(400146, 9) (100037, 9)\n"
     ]
    }
   ],
   "source": [
    "from sklearn.cross_validation import train_test_split\n",
    "y = df[\"overall\"]\n",
    "X = df.drop(\"overall\",axis=1,inplace=False)\n",
    "X_train,X_test,y_train,y_test = train_test_split(X.index,y,test_size=0.2)\n",
    "df_train=pd.concat([X,y],axis=1).iloc[X_train] # return dataframe train\n",
    "df_test=pd.concat([X,y],axis=1).iloc[X_test] # return dataframe test\n",
    "print(df_train.shape, df_test.shape)"
   ]
  },
  {
   "cell_type": "markdown",
   "metadata": {},
   "source": [
    "# Analyse descriptive"
   ]
  },
  {
   "cell_type": "markdown",
   "metadata": {},
   "source": [
    "Regardons la structure de la table:"
   ]
  },
  {
   "cell_type": "code",
   "execution_count": 31,
   "metadata": {
    "collapsed": false
   },
   "outputs": [
    {
     "data": {
      "text/html": [
       "<div>\n",
       "<table border=\"1\" class=\"dataframe\">\n",
       "  <thead>\n",
       "    <tr style=\"text-align: right;\">\n",
       "      <th></th>\n",
       "      <th>asin</th>\n",
       "      <th>helpful</th>\n",
       "      <th>reviewText</th>\n",
       "      <th>reviewTime</th>\n",
       "      <th>reviewerID</th>\n",
       "      <th>reviewerName</th>\n",
       "      <th>summary</th>\n",
       "      <th>unixReviewTime</th>\n",
       "      <th>overall</th>\n",
       "    </tr>\n",
       "  </thead>\n",
       "  <tbody>\n",
       "    <tr>\n",
       "      <th>330832</th>\n",
       "      <td>B003VWJ2K8</td>\n",
       "      <td>[0, 0]</td>\n",
       "      <td>I didn't realize I didn't need a tuner when I ...</td>\n",
       "      <td>03 30, 2014</td>\n",
       "      <td>A17C4LDRSLHS24</td>\n",
       "      <td>Susan L. Rhudy \"SR\"</td>\n",
       "      <td>The FG700S Yamaha came with a tuner but I real...</td>\n",
       "      <td>1396137600</td>\n",
       "      <td>5</td>\n",
       "    </tr>\n",
       "    <tr>\n",
       "      <th>59651</th>\n",
       "      <td>B0002F585K</td>\n",
       "      <td>[2, 2]</td>\n",
       "      <td>Its a great fork for tuning with an amp, but w...</td>\n",
       "      <td>10 12, 2012</td>\n",
       "      <td>ASST5ZKL21LXJ</td>\n",
       "      <td>fender07</td>\n",
       "      <td>ok but can be better</td>\n",
       "      <td>1350000000</td>\n",
       "      <td>3</td>\n",
       "    </tr>\n",
       "    <tr>\n",
       "      <th>36349</th>\n",
       "      <td>B0002D0CIK</td>\n",
       "      <td>[0, 0]</td>\n",
       "      <td>Not too thick, not too thin (for me). Great fo...</td>\n",
       "      <td>07 6, 2014</td>\n",
       "      <td>A30ZB3Q3G0IPAK</td>\n",
       "      <td>Jeffrey Frank</td>\n",
       "      <td>Great thickness, great quality.</td>\n",
       "      <td>1404604800</td>\n",
       "      <td>5</td>\n",
       "    </tr>\n",
       "    <tr>\n",
       "      <th>261055</th>\n",
       "      <td>B0020M8FDU</td>\n",
       "      <td>[3, 4]</td>\n",
       "      <td>4/29/12-  I purchased a used Galveston Stratoc...</td>\n",
       "      <td>04 28, 2012</td>\n",
       "      <td>A31GQ2U36G30IG</td>\n",
       "      <td>Guitartec \"DBF\"</td>\n",
       "      <td>CLEARLY A STRAT COPY</td>\n",
       "      <td>1335571200</td>\n",
       "      <td>3</td>\n",
       "    </tr>\n",
       "    <tr>\n",
       "      <th>476625</th>\n",
       "      <td>B00D69U1B0</td>\n",
       "      <td>[1, 1]</td>\n",
       "      <td>This freaking adapter broke down in the first ...</td>\n",
       "      <td>08 27, 2013</td>\n",
       "      <td>A17PUUKO53QBMM</td>\n",
       "      <td>Ramn Zavala</td>\n",
       "      <td>Very Weak &amp; Poor Design</td>\n",
       "      <td>1377561600</td>\n",
       "      <td>1</td>\n",
       "    </tr>\n",
       "  </tbody>\n",
       "</table>\n",
       "</div>"
      ],
      "text/plain": [
       "              asin helpful                                         reviewText  \\\n",
       "330832  B003VWJ2K8  [0, 0]  I didn't realize I didn't need a tuner when I ...   \n",
       "59651   B0002F585K  [2, 2]  Its a great fork for tuning with an amp, but w...   \n",
       "36349   B0002D0CIK  [0, 0]  Not too thick, not too thin (for me). Great fo...   \n",
       "261055  B0020M8FDU  [3, 4]  4/29/12-  I purchased a used Galveston Stratoc...   \n",
       "476625  B00D69U1B0  [1, 1]  This freaking adapter broke down in the first ...   \n",
       "\n",
       "         reviewTime      reviewerID         reviewerName  \\\n",
       "330832  03 30, 2014  A17C4LDRSLHS24  Susan L. Rhudy \"SR\"   \n",
       "59651   10 12, 2012   ASST5ZKL21LXJ             fender07   \n",
       "36349    07 6, 2014  A30ZB3Q3G0IPAK        Jeffrey Frank   \n",
       "261055  04 28, 2012  A31GQ2U36G30IG      Guitartec \"DBF\"   \n",
       "476625  08 27, 2013  A17PUUKO53QBMM          Ramn Zavala   \n",
       "\n",
       "                                                  summary  unixReviewTime  \\\n",
       "330832  The FG700S Yamaha came with a tuner but I real...      1396137600   \n",
       "59651                                ok but can be better      1350000000   \n",
       "36349                     Great thickness, great quality.      1404604800   \n",
       "261055                               CLEARLY A STRAT COPY      1335571200   \n",
       "476625                            Very Weak & Poor Design      1377561600   \n",
       "\n",
       "        overall  \n",
       "330832        5  \n",
       "59651         3  \n",
       "36349         5  \n",
       "261055        3  \n",
       "476625        1  "
      ]
     },
     "execution_count": 31,
     "metadata": {},
     "output_type": "execute_result"
    }
   ],
   "source": [
    "df_train.head()"
   ]
  },
  {
   "cell_type": "markdown",
   "metadata": {},
   "source": [
    "Etudions les dimensions clés de la table:"
   ]
  },
  {
   "cell_type": "code",
   "execution_count": 32,
   "metadata": {
    "collapsed": false
   },
   "outputs": [
    {
     "name": "stdout",
     "output_type": "stream",
     "text": [
      "Le nombre total de reviews est: 400146\n",
      "Le nombre total de produits est: 74984\n",
      "Le nombre total de reviewers est: 283615\n",
      "Soit un nombre moyen de 5.3 reviews par produit\n",
      "Soit un nombre moyen de 1.4 reviews par reviewers\n"
     ]
    }
   ],
   "source": [
    "Nbreviews=len(df_train)\n",
    "Nbproducts=len(set(df_train[\"asin\"]))\n",
    "Nbreviewers=len(set(df_train[\"reviewerID\"]))\n",
    "print(\"Le nombre total de reviews est: \"+str(Nbreviews))\n",
    "print(\"Le nombre total de produits est: \"+str(Nbproducts))\n",
    "print(\"Le nombre total de reviewers est: \"+str(Nbreviewers))\n",
    "print(\"Soit un nombre moyen de \"+str(round(Nbreviews/Nbproducts,1))+ \" reviews par produit\")\n",
    "print(\"Soit un nombre moyen de \"+str(round(Nbreviews/Nbreviewers,1))+ \" reviews par reviewers\")"
   ]
  },
  {
   "cell_type": "markdown",
   "metadata": {},
   "source": [
    "Analysons la distribution des notes des reviews"
   ]
  },
  {
   "cell_type": "code",
   "execution_count": 33,
   "metadata": {
    "collapsed": false
   },
   "outputs": [
    {
     "name": "stdout",
     "output_type": "stream",
     "text": [
      "count    400146.00\n",
      "mean          4.24\n",
      "std           1.20\n",
      "min           1.00\n",
      "25%           4.00\n",
      "50%           5.00\n",
      "75%           5.00\n",
      "max           5.00\n",
      "Name: overall, dtype: float64\n"
     ]
    },
    {
     "data": {
      "image/png": "[encoded data removed]",
      "text/plain": [
       "<matplotlib.figure.Figure at 0x14e8c6e80>"
      ]
     },
     "metadata": {},
     "output_type": "display_data"
    }
   ],
   "source": [
    "print(df_train[\"overall\"].describe().round(2))\n",
    "%matplotlib inline \n",
    "a=[int(i) for i in df_train[\"overall\"]]\n",
    "bins=range(1,7)\n",
    "fig, ax = plt.subplots(1,1)\n",
    "ax.hist(a, bins=bins, align='left', color=\"grey\", rwidth=0.7)\n",
    "ax.set_xticks(bins[:-1])\n",
    "plt.title(\"Histogramme des notes des reviews\");\n",
    "plt.xlabel(\"Note\");\n",
    "plt.ylabel(\"Nombre de reviews\");"
   ]
  },
  {
   "cell_type": "markdown",
   "metadata": {},
   "source": [
    "Regardons la distribution des notes moyennes par produit. On constate que la distribution est moins \"skewed\" que précedemment."
   ]
  },
  {
   "cell_type": "code",
   "execution_count": 34,
   "metadata": {
    "collapsed": false
   },
   "outputs": [
    {
     "name": "stdout",
     "output_type": "stream",
     "text": [
      "count    74984.00\n",
      "mean         4.23\n",
      "std          1.00\n",
      "min          1.00\n",
      "25%          4.00\n",
      "50%          4.57\n",
      "75%          5.00\n",
      "max          5.00\n",
      "Name: overall, dtype: float64\n"
     ]
    },
    {
     "data": {
      "image/png": "[encoded data removed]",
      "text/plain": [
       "<matplotlib.figure.Figure at 0x14f50b898>"
      ]
     },
     "metadata": {},
     "output_type": "display_data"
    }
   ],
   "source": [
    "average_note_byproduct=df_train[[\"asin\",\"overall\"]].groupby(\"asin\", as_index=False).mean()\n",
    "print(average_note_byproduct[\"overall\"].describe().round(2))\n",
    "%matplotlib inline \n",
    "bins=range(1,7)\n",
    "fig, ax = plt.subplots(1,1)\n",
    "ax.hist(average_note_byproduct[\"overall\"], bins=bins, align='left', color=\"grey\", rwidth=0.7)\n",
    "ax.set_xticks(bins[:-1])\n",
    "plt.title(\"Histogramme des notes moyennes par produit\");\n",
    "plt.xlabel(\"Note\");\n",
    "plt.ylabel(\"Nombre de produits\");"
   ]
  },
  {
   "cell_type": "markdown",
   "metadata": {},
   "source": [
    "Regardons la distribution du nombre de reviews par utilisateur."
   ]
  },
  {
   "cell_type": "code",
   "execution_count": 35,
   "metadata": {
    "collapsed": false
   },
   "outputs": [
    {
     "name": "stdout",
     "output_type": "stream",
     "text": [
      "count    283615.00\n",
      "mean          1.41\n",
      "std           2.06\n",
      "min           1.00\n",
      "25%           1.00\n",
      "50%           1.00\n",
      "75%           1.00\n",
      "max         394.00\n",
      "dtype: float64\n"
     ]
    },
    {
     "data": {
      "image/png": "[encoded data removed]",
      "text/plain": [
       "<matplotlib.figure.Figure at 0x1585a2588>"
      ]
     },
     "metadata": {},
     "output_type": "display_data"
    }
   ],
   "source": [
    "import collections\n",
    "Nbreview_by_user=collections.Counter(df_train[\"reviewerID\"])\n",
    "print(pd.Series(Nbreview_by_user).describe().round(2))\n",
    "bins=range(1,10,1)\n",
    "a = np.clip(list(Nbreview_by_user.values()), 1, 10)\n",
    "fig, ax = plt.subplots(1,1)\n",
    "ax.hist(a, bins=bins, align='left', color=\"grey\", rwidth=0.7)\n",
    "plt.title(\"Histogramme du nombre de reviews par utilisateur\");\n",
    "plt.xlabel(\"Nombre de reviews\");\n",
    "plt.ylabel(\"Nombre d'utilisateurs\");"
   ]
  },
  {
   "cell_type": "markdown",
   "metadata": {},
   "source": [
    "Définissons la fonction de comptage du nombre de mots d'une review et appliquons la à nos données"
   ]
  },
  {
   "cell_type": "code",
   "execution_count": 36,
   "metadata": {
    "collapsed": true
   },
   "outputs": [],
   "source": [
    "def countWords(review):\n",
    "    return(len(review.split()))"
   ]
  },
  {
   "cell_type": "code",
   "execution_count": 37,
   "metadata": {
    "collapsed": false
   },
   "outputs": [],
   "source": [
    "df_train[\"countWordsReview\"] = df_train[\"reviewText\"].apply(countWords)\n",
    "df_test[\"countWordsReview\"] = df_test[\"reviewText\"].apply(countWords)\n",
    "df_train[\"countWordsSummary\"] = df_train[\"summary\"].apply(countWords)\n",
    "df_test[\"countWordsSummary\"] = df_test[\"summary\"].apply(countWords)"
   ]
  },
  {
   "cell_type": "markdown",
   "metadata": {},
   "source": [
    "Regardons la distribution du nombre de mots des reviews"
   ]
  },
  {
   "cell_type": "code",
   "execution_count": 38,
   "metadata": {
    "collapsed": false
   },
   "outputs": [
    {
     "name": "stdout",
     "output_type": "stream",
     "text": [
      "count    400146.00\n",
      "mean         88.02\n",
      "std         119.96\n",
      "min           0.00\n",
      "25%          28.00\n",
      "50%          49.00\n",
      "75%          99.00\n",
      "max        5977.00\n",
      "Name: countWordsReview, dtype: float64\n"
     ]
    }
   ],
   "source": [
    "print(df_train[\"countWordsReview\"].describe().round(2))"
   ]
  },
  {
   "cell_type": "code",
   "execution_count": 39,
   "metadata": {
    "collapsed": false
   },
   "outputs": [
    {
     "data": {
      "image/png": "[encoded data removed]",
      "text/plain": [
       "<matplotlib.figure.Figure at 0x18d9cb668>"
      ]
     },
     "metadata": {},
     "output_type": "display_data"
    }
   ],
   "source": [
    "%matplotlib inline \n",
    "bins=range(0,430,30)\n",
    "a = np.clip(df_train[\"countWordsReview\"], 0, 400)\n",
    "fig, ax = plt.subplots(1,1)\n",
    "ax.hist(a, bins=bins, align='left', color=\"grey\", rwidth=0.7)\n",
    "plt.title(\"Histogramme du nombre de mots par review\");\n",
    "plt.xlabel(\"Nombre de mots\");\n",
    "plt.ylabel(\"Nombre de reviews\");"
   ]
  },
  {
   "cell_type": "markdown",
   "metadata": {},
   "source": [
    "Maintenant regardons plus spécifiquement entre 0 et 100 mots"
   ]
  },
  {
   "cell_type": "code",
   "execution_count": 46,
   "metadata": {
    "collapsed": false
   },
   "outputs": [
    {
     "data": {
      "image/png": "[encoded data removed]",
      "text/plain": [
       "<matplotlib.figure.Figure at 0x158e38b00>"
      ]
     },
     "metadata": {},
     "output_type": "display_data"
    }
   ],
   "source": [
    "a = [s for s in df_train[\"countWordsReview\"] if s < 101]\n",
    "%matplotlib inline \n",
    "bins=range(0,100,5)\n",
    "fig, ax = plt.subplots(1,1)\n",
    "ax.hist(a, bins=bins, align='left', color=\"grey\", rwidth=0.7)\n",
    "plt.title(\"Histogramme du nombre de mots par review\");\n",
    "plt.xlabel(\"Nombre de mots\");\n",
    "plt.ylabel(\"Nombre de reviews\");"
   ]
  },
  {
   "cell_type": "code",
   "execution_count": 15,
   "metadata": {
    "collapsed": false
   },
   "outputs": [],
   "source": [
    "#buf = StringIO()\n",
    "#for i in range(df.shape[0]):\n",
    "    #buf.write(df[\"reviewText\"][i])"
   ]
  },
  {
   "cell_type": "markdown",
   "metadata": {},
   "source": [
    "En dernière étape, nous allons créer des variables pour le mois et le jour de la review, ce qui peut influencer la note."
   ]
  },
  {
   "cell_type": "code",
   "execution_count": 47,
   "metadata": {
    "collapsed": false
   },
   "outputs": [
    {
     "data": {
      "text/plain": [
       "330832    03\n",
       "59651     10\n",
       "36349     07\n",
       "261055    04\n",
       "476625    08\n",
       "Name: Month, dtype: category\n",
       "Categories (12, object): [01, 02, 03, 04, ..., 09, 10, 11, 12]"
      ]
     },
     "execution_count": 47,
     "metadata": {},
     "output_type": "execute_result"
    }
   ],
   "source": [
    "from datetime import datetime\n",
    "df_train[\"Month\"] = df_train[\"unixReviewTime\"].apply(lambda x: datetime.strftime(datetime.fromtimestamp(x),'%m')).astype('category')\n",
    "df_test[\"Month\"] = df_test[\"unixReviewTime\"].apply(lambda x: datetime.strftime(datetime.fromtimestamp(x),'%m')).astype('category')\n",
    "df_train[\"Month\"].head()"
   ]
  },
  {
   "cell_type": "code",
   "execution_count": 48,
   "metadata": {
    "collapsed": false
   },
   "outputs": [
    {
     "data": {
      "text/plain": [
       "330832    Sun\n",
       "59651     Fri\n",
       "36349     Sun\n",
       "261055    Sat\n",
       "476625    Tue\n",
       "Name: Weekday, dtype: category\n",
       "Categories (7, object): [Fri, Mon, Sat, Sun, Thu, Tue, Wed]"
      ]
     },
     "execution_count": 48,
     "metadata": {},
     "output_type": "execute_result"
    }
   ],
   "source": [
    "df_train[\"Weekday\"] = df_train[\"unixReviewTime\"].apply(lambda x: datetime.strftime(datetime.fromtimestamp(x),'%a')).astype('category')\n",
    "df_test[\"Weekday\"] = df_test[\"unixReviewTime\"].apply(lambda x: datetime.strftime(datetime.fromtimestamp(x),'%a')).astype('category')\n",
    "df_train[\"Weekday\"].head()"
   ]
  },
  {
   "cell_type": "markdown",
   "metadata": {},
   "source": [
    "# Préparation des données"
   ]
  },
  {
   "cell_type": "markdown",
   "metadata": {},
   "source": [
    "On prépare les données en utilisant la fonction `TfidfVectorizer` du package `sklearn`. Notons que nous utilisons les stopwords donnés par `nltk` pour réduire le nombre de mots."
   ]
  },
  {
   "cell_type": "code",
   "execution_count": 120,
   "metadata": {
    "collapsed": true
   },
   "outputs": [],
   "source": [
    "from sklearn.feature_extraction.text import TfidfVectorizer\n",
    "from nltk.corpus import stopwords\n",
    "tfidf_vect = TfidfVectorizer()\n",
    "tfidf_vect_stopword = TfidfVectorizer(stop_words= stopwords.words('english'))"
   ]
  },
  {
   "cell_type": "markdown",
   "metadata": {},
   "source": [
    "### 1. Pour le texte complet de la review"
   ]
  },
  {
   "cell_type": "markdown",
   "metadata": {},
   "source": [
    "a. Echantillon Train"
   ]
  },
  {
   "cell_type": "code",
   "execution_count": 123,
   "metadata": {
    "collapsed": false
   },
   "outputs": [
    {
     "data": {
      "text/plain": [
       "(400146, 220020)"
      ]
     },
     "execution_count": 123,
     "metadata": {},
     "output_type": "execute_result"
    }
   ],
   "source": [
    "corpus_train_reviewText=list(df_train[\"reviewText\"])\n",
    "X_train_tfidf_reviewText = tfidf_vect_stopword.fit_transform(corpus_train_reviewText)\n",
    "X_train_tfidf_reviewText.shape"
   ]
  },
  {
   "cell_type": "code",
   "execution_count": 51,
   "metadata": {
    "collapsed": false
   },
   "outputs": [],
   "source": [
    "#X_train_tfidf_reviewText = tfidf_vect.fit_transform(corpus_reviewText)\n",
    "#X_train_tfidf_reviewText.shape"
   ]
  },
  {
   "cell_type": "markdown",
   "metadata": {},
   "source": [
    "b. Echantillon Test"
   ]
  },
  {
   "cell_type": "code",
   "execution_count": 124,
   "metadata": {
    "collapsed": false
   },
   "outputs": [
    {
     "data": {
      "text/plain": [
       "(100037, 220020)"
      ]
     },
     "execution_count": 124,
     "metadata": {},
     "output_type": "execute_result"
    }
   ],
   "source": [
    "corpus_test_reviewText=list(df_test[\"reviewText\"])\n",
    "X_test_tfidf_reviewText = tfidf_vect_stopword.transform(corpus_test_reviewText)\n",
    "X_test_tfidf_reviewText.shape"
   ]
  },
  {
   "cell_type": "markdown",
   "metadata": {},
   "source": [
    "### 2. Pour le résumé de la review"
   ]
  },
  {
   "cell_type": "markdown",
   "metadata": {},
   "source": [
    "a. Echantillon Train"
   ]
  },
  {
   "cell_type": "code",
   "execution_count": 125,
   "metadata": {
    "collapsed": false
   },
   "outputs": [
    {
     "data": {
      "text/plain": [
       "(400146, 42014)"
      ]
     },
     "execution_count": 125,
     "metadata": {},
     "output_type": "execute_result"
    }
   ],
   "source": [
    "corpus_train_summary=list(df_train[\"summary\"])\n",
    "X_train_tfidf_summary = tfidf_vect_stopword.fit_transform(corpus_train_summary)\n",
    "X_train_tfidf_summary.shape"
   ]
  },
  {
   "cell_type": "markdown",
   "metadata": {},
   "source": [
    "b. Echantillon Test"
   ]
  },
  {
   "cell_type": "code",
   "execution_count": 126,
   "metadata": {
    "collapsed": false
   },
   "outputs": [
    {
     "data": {
      "text/plain": [
       "(100037, 42014)"
      ]
     },
     "execution_count": 126,
     "metadata": {},
     "output_type": "execute_result"
    }
   ],
   "source": [
    "corpus_test_summary=list(df_test[\"summary\"])\n",
    "X_test_tfidf_summary = tfidf_vect_stopword.transform(corpus_test_summary)\n",
    "X_test_tfidf_summary.shape"
   ]
  },
  {
   "cell_type": "markdown",
   "metadata": {},
   "source": [
    "### 3. Pour les autres features du dataframe"
   ]
  },
  {
   "cell_type": "markdown",
   "metadata": {},
   "source": [
    "a. Echantillon Train"
   ]
  },
  {
   "cell_type": "code",
   "execution_count": 127,
   "metadata": {
    "collapsed": false
   },
   "outputs": [
    {
     "name": "stdout",
     "output_type": "stream",
     "text": [
      "(400146, 2) (400146, 2) (400146, 4)\n"
     ]
    }
   ],
   "source": [
    "X_train_countWords=df_train[[\"countWordsReview\",\"countWordsSummary\"]].astype(int)\n",
    "X_train_dates=df_train[[\"Month\",\"Weekday\"]]\n",
    "X_train_otherfeatures=df_train[[\"countWordsReview\",\"countWordsSummary\",\"Month\",\"Weekday\"]]\n",
    "print(X_train_countWords.shape, X_train_dates.shape, X_train_otherfeatures.shape)"
   ]
  },
  {
   "cell_type": "markdown",
   "metadata": {},
   "source": [
    "b. Echantillon Test"
   ]
  },
  {
   "cell_type": "code",
   "execution_count": 128,
   "metadata": {
    "collapsed": false
   },
   "outputs": [
    {
     "name": "stdout",
     "output_type": "stream",
     "text": [
      "(100037, 2) (100037, 2) (100037, 4)\n"
     ]
    }
   ],
   "source": [
    "X_test_countWords=df_test[[\"countWordsReview\",\"countWordsSummary\"]].astype(int)\n",
    "X_test_dates=df_test[[\"Month\",\"Weekday\"]]\n",
    "X_test_otherfeatures=df_test[[\"countWordsReview\",\"countWordsSummary\",\"Month\",\"Weekday\"]]\n",
    "print(X_test_countWords.shape, X_test_dates.shape, X_test_otherfeatures.shape)"
   ]
  },
  {
   "cell_type": "markdown",
   "metadata": {},
   "source": [
    "### 4. Combinaison des features"
   ]
  },
  {
   "cell_type": "code",
   "execution_count": 129,
   "metadata": {
    "collapsed": false
   },
   "outputs": [
    {
     "ename": "ImportError",
     "evalue": "cannot import name 'HashingVectorizer'",
     "output_type": "error",
     "traceback": [
      "\u001b[0;31m---------------------------------------------------------------------------\u001b[0m",
      "\u001b[0;31mImportError\u001b[0m                               Traceback (most recent call last)",
      "\u001b[0;32m<ipython-input-129-7e2ff49003a8>\u001b[0m in \u001b[0;36m<module>\u001b[0;34m()\u001b[0m\n\u001b[1;32m      1\u001b[0m \u001b[0;31m# A possible approach that would require to construct pipelines\u001b[0m\u001b[0;34m\u001b[0m\u001b[0;34m\u001b[0m\u001b[0m\n\u001b[1;32m      2\u001b[0m \u001b[0;32mfrom\u001b[0m \u001b[0msklearn\u001b[0m\u001b[0;34m.\u001b[0m\u001b[0mpipeline\u001b[0m \u001b[0;32mimport\u001b[0m \u001b[0mFeatureUnion\u001b[0m\u001b[0;34m\u001b[0m\u001b[0m\n\u001b[0;32m----> 3\u001b[0;31m \u001b[0;32mfrom\u001b[0m \u001b[0msklearn\u001b[0m\u001b[0;34m.\u001b[0m\u001b[0mfeature_extraction\u001b[0m \u001b[0;32mimport\u001b[0m \u001b[0mHashingVectorizer\u001b[0m\u001b[0;34m\u001b[0m\u001b[0m\n\u001b[0m\u001b[1;32m      4\u001b[0m \u001b[0mhash_vect\u001b[0m \u001b[0;34m=\u001b[0m \u001b[0mHashingVectorizer\u001b[0m\u001b[0;34m(\u001b[0m\u001b[0;34m)\u001b[0m\u001b[0;34m\u001b[0m\u001b[0m\n",
      "\u001b[0;31mImportError\u001b[0m: cannot import name 'HashingVectorizer'"
     ]
    }
   ],
   "source": [
    "# A possible approach that would require to construct pipelines\n",
    "from sklearn.pipeline import FeatureUnion\n",
    "from sklearn.feature_extraction import HashingVectorizer\n",
    "hash_vect = HashingVectorizer()"
   ]
  },
  {
   "cell_type": "code",
   "execution_count": 130,
   "metadata": {
    "collapsed": true
   },
   "outputs": [],
   "source": [
    "from sklearn.feature_extraction import DictVectorizer\n",
    "dic_vec = DictVectorizer()"
   ]
  },
  {
   "cell_type": "markdown",
   "metadata": {},
   "source": [
    "a. Echantillon Train"
   ]
  },
  {
   "cell_type": "code",
   "execution_count": 131,
   "metadata": {
    "collapsed": false
   },
   "outputs": [
    {
     "name": "stdout",
     "output_type": "stream",
     "text": [
      "(400146, 262034)\n"
     ]
    }
   ],
   "source": [
    "from scipy.sparse import hstack\n",
    "X_train_alltext=hstack([X_train_tfidf_reviewText, X_train_tfidf_summary])\n",
    "print(X_train_alltext.shape)"
   ]
  },
  {
   "cell_type": "code",
   "execution_count": 132,
   "metadata": {
    "collapsed": false
   },
   "outputs": [
    {
     "data": {
      "text/plain": [
       "(400146, 262036)"
      ]
     },
     "execution_count": 132,
     "metadata": {},
     "output_type": "execute_result"
    }
   ],
   "source": [
    "X_train_textwordcount=hstack([X_train_tfidf_reviewText, X_train_tfidf_summary,X_train_countWords.astype(int)])\n",
    "X_train_textandwordcount.shape"
   ]
  },
  {
   "cell_type": "code",
   "execution_count": 133,
   "metadata": {
    "collapsed": false
   },
   "outputs": [
    {
     "data": {
      "text/plain": [
       "(400146, 7)"
      ]
     },
     "execution_count": 133,
     "metadata": {},
     "output_type": "execute_result"
    }
   ],
   "source": [
    "dic_train_weekdays = pd.DataFrame(X_train_otherfeatures[\"Weekday\"]).to_dict('records')\n",
    "from sklearn.feature_extraction import DictVectorizer\n",
    "vec = DictVectorizer()\n",
    "X_train_weekdays = vec.fit_transform(dic_train_weekdays)\n",
    "X_train_weekdays.shape"
   ]
  },
  {
   "cell_type": "code",
   "execution_count": 134,
   "metadata": {
    "collapsed": false
   },
   "outputs": [
    {
     "name": "stdout",
     "output_type": "stream",
     "text": [
      "(400146, 262043)\n"
     ]
    }
   ],
   "source": [
    "X_train_textandwordcountandweekdays = hstack([X_train_textandwordcount, X_train_weekdays])\n",
    "print(X_train_textandwordcountandweekdays.shape)"
   ]
  },
  {
   "cell_type": "code",
   "execution_count": 135,
   "metadata": {
    "collapsed": true
   },
   "outputs": [],
   "source": [
    "dic_train_months = pd.DataFrame(X_train_otherfeatures[\"Month\"]).to_dict('records')\n",
    "vec = DictVectorizer()\n",
    "X_train_months = vec.fit_transform(dic_train_months)"
   ]
  },
  {
   "cell_type": "code",
   "execution_count": 136,
   "metadata": {
    "collapsed": false
   },
   "outputs": [
    {
     "name": "stdout",
     "output_type": "stream",
     "text": [
      "(400146, 262055)\n"
     ]
    }
   ],
   "source": [
    "X_train_all = hstack([X_train_textandwordcountandweekdays, X_train_months])\n",
    "print(X_train_all.shape)"
   ]
  },
  {
   "cell_type": "code",
   "execution_count": 153,
   "metadata": {
    "collapsed": false
   },
   "outputs": [
    {
     "name": "stdout",
     "output_type": "stream",
     "text": [
      "(400146, 21)\n"
     ]
    }
   ],
   "source": [
    "X_train_supvariables = hstack([X_train_countWords.astype(int), X_train_weekdays, X_train_months])\n",
    "print(X_train_supvariables.shape)"
   ]
  },
  {
   "cell_type": "markdown",
   "metadata": {},
   "source": [
    "b. Echantillon Test"
   ]
  },
  {
   "cell_type": "code",
   "execution_count": 137,
   "metadata": {
    "collapsed": false
   },
   "outputs": [
    {
     "name": "stdout",
     "output_type": "stream",
     "text": [
      "(100037, 262034)\n"
     ]
    }
   ],
   "source": [
    "X_test_alltext=hstack([X_test_tfidf_reviewText, X_test_tfidf_summary])\n",
    "print(X_test_alltext.shape)"
   ]
  },
  {
   "cell_type": "code",
   "execution_count": 138,
   "metadata": {
    "collapsed": false
   },
   "outputs": [
    {
     "data": {
      "text/plain": [
       "(100037, 262036)"
      ]
     },
     "execution_count": 138,
     "metadata": {},
     "output_type": "execute_result"
    }
   ],
   "source": [
    "X_test_textandwordcount=hstack([X_test_tfidf_reviewText, X_test_tfidf_summary,X_test_countWords.astype(int)])\n",
    "X_test_textandwordcount.shape"
   ]
  },
  {
   "cell_type": "code",
   "execution_count": 139,
   "metadata": {
    "collapsed": false
   },
   "outputs": [
    {
     "data": {
      "text/plain": [
       "(100037, 7)"
      ]
     },
     "execution_count": 139,
     "metadata": {},
     "output_type": "execute_result"
    }
   ],
   "source": [
    "dic_test_weekdays = pd.DataFrame(X_test_otherfeatures[\"Weekday\"]).to_dict('records')\n",
    "vec = DictVectorizer()\n",
    "X_test_weekdays = vec.fit_transform(dic_test_weekdays)\n",
    "X_test_weekdays.shape"
   ]
  },
  {
   "cell_type": "code",
   "execution_count": 140,
   "metadata": {
    "collapsed": false
   },
   "outputs": [
    {
     "name": "stdout",
     "output_type": "stream",
     "text": [
      "(100037, 262043)\n"
     ]
    }
   ],
   "source": [
    "X_test_textandwordcountandweekdays = hstack([X_test_textandwordcount, X_test_weekdays])\n",
    "print(X_test_textandwordcountandweekdays.shape)"
   ]
  },
  {
   "cell_type": "code",
   "execution_count": 141,
   "metadata": {
    "collapsed": true
   },
   "outputs": [],
   "source": [
    "dic_test_months = pd.DataFrame(X_test_otherfeatures[\"Month\"]).to_dict('records')\n",
    "vec = DictVectorizer()\n",
    "X_test_months = vec.fit_transform(dic_test_months)"
   ]
  },
  {
   "cell_type": "code",
   "execution_count": 142,
   "metadata": {
    "collapsed": false
   },
   "outputs": [
    {
     "name": "stdout",
     "output_type": "stream",
     "text": [
      "(100037, 262055)\n"
     ]
    }
   ],
   "source": [
    "X_test_all = hstack([X_test_textandwordcountandweekdays, X_test_months])\n",
    "print(X_test_all.shape)"
   ]
  },
  {
   "cell_type": "code",
   "execution_count": 154,
   "metadata": {
    "collapsed": false
   },
   "outputs": [
    {
     "name": "stdout",
     "output_type": "stream",
     "text": [
      "(100037, 21)\n"
     ]
    }
   ],
   "source": [
    "X_test_supvariables = hstack([X_test_countWords.astype(int), X_test_weekdays, X_test_months])\n",
    "print(X_test_supvariables.shape)"
   ]
  },
  {
   "cell_type": "markdown",
   "metadata": {},
   "source": [
    "# Machine Learning"
   ]
  },
  {
   "cell_type": "markdown",
   "metadata": {},
   "source": [
    "### 1. Pour le texte complet de la review"
   ]
  },
  {
   "cell_type": "code",
   "execution_count": 149,
   "metadata": {
    "collapsed": false
   },
   "outputs": [],
   "source": [
    "from sklearn.naive_bayes import MultinomialNB\n",
    "clf = MultinomialNB().fit(X_train_tfidf_reviewText, y_train.astype('category'))\n",
    "predicted_reviewText = clf.predict(X_test_tfidf_reviewText)"
   ]
  },
  {
   "cell_type": "code",
   "execution_count": 77,
   "metadata": {
    "collapsed": false
   },
   "outputs": [],
   "source": [
    "from sklearn.linear_model import SGDClassifier\n",
    "SGDclass = SGDClassifier(loss='hinge', penalty='l2', alpha=1e-3, n_iter=5, random_state=42)\n",
    "clf2 = SGDclass.fit(X_train_tfidf_reviewText, y_train.astype('category'))\n",
    "predicted2_reviewText = clf2.predict(X_test_tfidf_reviewText)"
   ]
  },
  {
   "cell_type": "markdown",
   "metadata": {},
   "source": [
    "### 2. Pour le résumé de la review"
   ]
  },
  {
   "cell_type": "code",
   "execution_count": null,
   "metadata": {
    "collapsed": true
   },
   "outputs": [],
   "source": [
    "from sklearn.naive_bayes import MultinomialNB\n",
    "clf = MultinomialNB().fit(X_train_tfidf_summary, y_train.astype('category'))\n",
    "predicted_summary = clf.predict(X_test_tfidf_summary)"
   ]
  },
  {
   "cell_type": "code",
   "execution_count": null,
   "metadata": {
    "collapsed": true
   },
   "outputs": [],
   "source": [
    "from sklearn.linear_model import SGDClassifier\n",
    "SGDclass = SGDClassifier(loss='hinge', penalty='l2', alpha=1e-3, n_iter=5, random_state=42)\n",
    "clf2 = SGDclass.fit(X_train_tfidf_summary, y_train.astype('category'))\n",
    "predicted2_summary = clf2.predict(X_test_tfidf_summary)"
   ]
  },
  {
   "cell_type": "markdown",
   "metadata": {},
   "source": [
    "### 3. Résumé + Texte de la review"
   ]
  },
  {
   "cell_type": "code",
   "execution_count": null,
   "metadata": {
    "collapsed": true
   },
   "outputs": [],
   "source": [
    "from sklearn.naive_bayes import MultinomialNB\n",
    "clf = MultinomialNB().fit(X_train_alltext, y_train.astype('category'))\n",
    "predicted_summary = clf.predict(X_test_tfidf_alltext)"
   ]
  },
  {
   "cell_type": "code",
   "execution_count": null,
   "metadata": {
    "collapsed": true
   },
   "outputs": [],
   "source": [
    "from sklearn.linear_model import SGDClassifier\n",
    "SGDclass = SGDClassifier(loss='hinge', penalty='l2', alpha=1e-3, n_iter=5, random_state=42)\n",
    "clf2 = SGDclass.fit(X_train_alltext, y_train.astype('category'))\n",
    "predicted2_summary = clf2.predict(X_test_tfidf_alltext)"
   ]
  },
  {
   "cell_type": "markdown",
   "metadata": {},
   "source": [
    "### 4. Uniquement les variables supplémentaires"
   ]
  },
  {
   "cell_type": "code",
   "execution_count": 155,
   "metadata": {
    "collapsed": true
   },
   "outputs": [],
   "source": [
    "from sklearn.naive_bayes import MultinomialNB\n",
    "clf = MultinomialNB().fit(X_train_supvariables, y_train.astype('category'))\n",
    "predicted_supvariables = clf.predict(X_test_supvariables)"
   ]
  },
  {
   "cell_type": "code",
   "execution_count": null,
   "metadata": {
    "collapsed": true
   },
   "outputs": [],
   "source": [
    "from sklearn.linear_model import SGDClassifier\n",
    "SGDclass = SGDClassifier(loss='hinge', penalty='l2', alpha=1e-3, n_iter=5, random_state=42)\n",
    "clf2 = SGDclass.fit(X_train_supvariables, y_train.astype('category'))\n",
    "predicted2_supvariables = clf2.predict(X_test_supvariables)"
   ]
  },
  {
   "cell_type": "markdown",
   "metadata": {},
   "source": [
    "### 5. All features"
   ]
  },
  {
   "cell_type": "code",
   "execution_count": 67,
   "metadata": {
    "collapsed": true
   },
   "outputs": [],
   "source": [
    "from sklearn.naive_bayes import MultinomialNB\n",
    "clf = MultinomialNB().fit(X_train_all, y_train.astype('category'))\n",
    "predicted_all = clf.predict(X_test_all)"
   ]
  },
  {
   "cell_type": "code",
   "execution_count": 68,
   "metadata": {
    "collapsed": true
   },
   "outputs": [],
   "source": [
    "from sklearn.linear_model import SGDClassifier\n",
    "SGDclass = SGDClassifier(loss='hinge', penalty='l2', alpha=1e-3, n_iter=5, random_state=42)\n",
    "clf2 = SGDclass.fit(X_train_all, y_train.astype('category'))\n",
    "predicted2_all = clf2.predict(X_test_all)"
   ]
  },
  {
   "cell_type": "markdown",
   "metadata": {},
   "source": [
    "# Evaluation de la performance"
   ]
  },
  {
   "cell_type": "markdown",
   "metadata": {},
   "source": [
    "### 1. Pour le text complet de la review"
   ]
  },
  {
   "cell_type": "code",
   "execution_count": 156,
   "metadata": {
    "collapsed": false
   },
   "outputs": [
    {
     "data": {
      "text/plain": [
       "0.59430010895968488"
      ]
     },
     "execution_count": 156,
     "metadata": {},
     "output_type": "execute_result"
    }
   ],
   "source": [
    "np.mean(predicted_summary == y_test)"
   ]
  },
  {
   "cell_type": "code",
   "execution_count": 78,
   "metadata": {
    "collapsed": false
   },
   "outputs": [
    {
     "data": {
      "text/plain": [
       "0.62174995251756848"
      ]
     },
     "execution_count": 78,
     "metadata": {},
     "output_type": "execute_result"
    }
   ],
   "source": [
    "np.mean(predicted2_reviewText == y_test)"
   ]
  },
  {
   "cell_type": "code",
   "execution_count": 152,
   "metadata": {
    "collapsed": false
   },
   "outputs": [
    {
     "name": "stdout",
     "output_type": "stream",
     "text": [
      "             precision    recall  f1-score   support\n",
      "\n",
      "        1.0       0.81      0.27      0.41      7003\n",
      "        2.0       1.00      0.00      0.00      4488\n",
      "        3.0       0.53      0.02      0.04      7763\n",
      "        4.0       0.34      0.04      0.07     18803\n",
      "        5.0       0.65      1.00      0.79     61980\n",
      "\n",
      "avg / total       0.61      0.65      0.53    100037\n",
      "\n",
      "[[ 1902     0    18   186  4897]\n",
      " [  310     1    77   318  3782]\n",
      " [  102     0   166   844  6651]\n",
      " [   19     0    39   764 17981]\n",
      " [   15     0    13   143 61809]]\n"
     ]
    }
   ],
   "source": [
    "from sklearn import metrics\n",
    "print(metrics.classification_report(y_test, predicted_reviewText))\n",
    "print(metrics.confusion_matrix(y_test, predicted_reviewText))"
   ]
  },
  {
   "cell_type": "code",
   "execution_count": 80,
   "metadata": {
    "collapsed": false
   },
   "outputs": [
    {
     "name": "stdout",
     "output_type": "stream",
     "text": [
      "             precision    recall  f1-score   support\n",
      "\n",
      "        1.0       0.00      0.00      0.00      7136\n",
      "        2.0       0.00      0.00      0.00      4443\n",
      "        3.0       0.00      0.00      0.00      7660\n",
      "        4.0       0.00      0.00      0.00     18600\n",
      "        5.0       0.62      1.00      0.77     62198\n",
      "\n",
      "avg / total       0.39      0.62      0.48    100037\n",
      "\n",
      "[[    0     0     0     0  7136]\n",
      " [    0     0     0     0  4443]\n",
      " [    0     0     0     0  7660]\n",
      " [    0     0     0     0 18600]\n",
      " [    0     0     0     0 62198]]\n"
     ]
    },
    {
     "name": "stderr",
     "output_type": "stream",
     "text": [
      "D:\\Users\\acombess\\PythonENSAE\\python\\lib\\site-packages\\sklearn\\metrics\\classification.py:958: UndefinedMetricWarning: Precision and F-score are ill-defined and being set to 0.0 in labels with no predicted samples.\n",
      "  'precision', 'predicted', average, warn_for)\n"
     ]
    }
   ],
   "source": [
    "from sklearn import metrics\n",
    "print(metrics.classification_report(y_test, predicted2_reviewText))\n",
    "print(metrics.confusion_matrix(y_test, predicted2_reviewText))"
   ]
  },
  {
   "cell_type": "markdown",
   "metadata": {},
   "source": [
    "Then: draw multi class ROC Curve using this example: http://scikit-learn.org/stable/auto_examples/model_selection/plot_roc.html"
   ]
  },
  {
   "cell_type": "code",
   "execution_count": 87,
   "metadata": {
    "collapsed": false
   },
   "outputs": [
    {
     "name": "stdout",
     "output_type": "stream",
     "text": [
      "I bought this for my husband who is learning to play guitar.  It was very affordable for the package deal, and he was excited about it when it arrived in a cool custom box.  But right away, on the first use, the electronic tuner malfunctioned?  causing him to break a string.  Not a big enough complaint to bother returning it though, since he has another higher-end tuner that he prefers anyway.  He replaced the broken strings and hasn't had any problems since then.  He LOVES the little amp, and he can plug his acoustic-electric guitar into it as well.  All in all, a good deal for the price.\n",
      "------ We predict 5.0\n",
      "\n",
      "I bought the Pyle-Pro PDWM7300 Rack Mount system based upon the reviews I had read which were mostly favorable. I am a DJ and I have used this system now a couple of times and for what I need it for it has been great. While I use it mostly for talking at DJ events I have used it also for vocals in a live band scenario. In both situations the Pyle system has performed fantastic. I love the fact that the hand held mikes only require two AA batteries which makes it economical. For me the sound is crisp and clear and the power has been more than sufficient. It comes with a nice carrying case as well. Though it's not at the level of an ANVIL case, it still protects the whole system neatly. I haven't had any problems with range or interference either. This PYLE system is affordable, easy to use, light weight, reliable, and for me, has been a great product. If you're looking for an affordable and reliable wireless system, the Pyle-Pro system is worth the price.\n",
      "------ We predict 5.0\n",
      "\n",
      "This is a light guitar that's easy to play. Mine buzzed out of the box and needed setup work starting with the truss rod and then bridge height. But that's a must for any guitar and you're lucky of it's fine out of the box.I loved it's finish: a truly beautiful guitar. While it's made of a softer wood, it feels solid. But it's also very light and comfortable to hold. It's looks are modern, radically different from your average \"classic\" (to me old) looking electrics with lots of shiny bits on them.The reason I'm giving it only 4 stars is because of the quality of the tuners, or rather the lack of it. Their backlash is pretty high. This means that when you're counter-adjusting the tuners, it takes quite a bit of opposite turning for something to start happening. The result is a more frustrating tuning process of the guitar. This is a budget guitar, yet other budget guitars have better tuners.However, if you're willing to spend $30 more on some quality sealed tuners and accept the possibility of needing to widen the tuning holes to 3/8\", then the guitar will be much improved - all while keeping the price sub $200 for a modern looking guitar (I can't emphasize this enough). Since this is my 4th guitar, I just wasn't willing to do this yet again and ended up returning it. But this shouldn't stop you from buying it and happily owning it.\n",
      "------ We predict 5.0\n",
      "\n",
      "I bought this for my husband for Christmas and he loves it.  Any person who is a fan of Tom T Hall will enjoy this.\n",
      "------ We predict 5.0\n",
      "\n",
      "Would recommend this CD to anyone who likes modern Christian music - not the screaming kind or the old fashion gospels we grew up on.  I was getting this particular album for the song &#34;I Can Only Imagine&#34;.  However, it is not the version I was thinking of so was a bit disappointed, but I like these guys too and will play it also.  I found the quality and tone of this album to be very good - no problems.\n",
      "------ We predict 5.0\n",
      "\n"
     ]
    }
   ],
   "source": [
    "for i in range(0,5) :\n",
    "        print(str(corpus_test_reviewText[i]) +\"\\n\"+ \"------ We predict \"+ str(predicted_reviewText[i])+\"\\n\")"
   ]
  },
  {
   "cell_type": "markdown",
   "metadata": {},
   "source": [
    "### 2. Pour le résumé de la review"
   ]
  },
  {
   "cell_type": "code",
   "execution_count": null,
   "metadata": {
    "collapsed": true
   },
   "outputs": [],
   "source": [
    "#A remplir"
   ]
  },
  {
   "cell_type": "markdown",
   "metadata": {},
   "source": [
    "### 3. Pour la combinaison des features"
   ]
  },
  {
   "cell_type": "code",
   "execution_count": null,
   "metadata": {
    "collapsed": true
   },
   "outputs": [],
   "source": [
    "#A remplir"
   ]
  },
  {
   "cell_type": "markdown",
   "metadata": {},
   "source": [
    "# Analyse de la performance en fonction du nombre de mots"
   ]
  },
  {
   "cell_type": "code",
   "execution_count": 89,
   "metadata": {
    "collapsed": false
   },
   "outputs": [],
   "source": [
    "def createBins(x):\n",
    "    if x[\"countWordsReview\"] < 30:\n",
    "        return(30)\n",
    "    elif x[\"countWordsReview\"] < 100:\n",
    "        return(100)\n",
    "    elif x[\"countWordsReview\"] < 200:\n",
    "        return(200)\n",
    "    else:\n",
    "        return(300)"
   ]
  },
  {
   "cell_type": "code",
   "execution_count": 90,
   "metadata": {
    "collapsed": false
   },
   "outputs": [
    {
     "data": {
      "text/html": [
       "<div>\n",
       "<table border=\"1\" class=\"dataframe\">\n",
       "  <thead>\n",
       "    <tr style=\"text-align: right;\">\n",
       "      <th></th>\n",
       "      <th>overall</th>\n",
       "      <th>predicted</th>\n",
       "      <th>reviewText</th>\n",
       "      <th>countWordsReview</th>\n",
       "      <th>summary</th>\n",
       "      <th>countWordsSummary</th>\n",
       "      <th>qualite</th>\n",
       "      <th>bin</th>\n",
       "    </tr>\n",
       "  </thead>\n",
       "  <tbody>\n",
       "    <tr>\n",
       "      <th>451424</th>\n",
       "      <td>3</td>\n",
       "      <td>5</td>\n",
       "      <td>I bought this for my husband who is learning t...</td>\n",
       "      <td>108</td>\n",
       "      <td>Pretty good deal</td>\n",
       "      <td>3</td>\n",
       "      <td>2</td>\n",
       "      <td>200</td>\n",
       "    </tr>\n",
       "    <tr>\n",
       "      <th>358952</th>\n",
       "      <td>5</td>\n",
       "      <td>5</td>\n",
       "      <td>I bought the Pyle-Pro PDWM7300 Rack Mount syst...</td>\n",
       "      <td>182</td>\n",
       "      <td>Proven to be reliable</td>\n",
       "      <td>4</td>\n",
       "      <td>0</td>\n",
       "      <td>200</td>\n",
       "    </tr>\n",
       "    <tr>\n",
       "      <th>262820</th>\n",
       "      <td>4</td>\n",
       "      <td>5</td>\n",
       "      <td>This is a light guitar that's easy to play. Mi...</td>\n",
       "      <td>245</td>\n",
       "      <td>Good guitar with budget tuners</td>\n",
       "      <td>5</td>\n",
       "      <td>1</td>\n",
       "      <td>300</td>\n",
       "    </tr>\n",
       "    <tr>\n",
       "      <th>345225</th>\n",
       "      <td>5</td>\n",
       "      <td>5</td>\n",
       "      <td>I bought this for my husband for Christmas and...</td>\n",
       "      <td>25</td>\n",
       "      <td>FANTASTIC</td>\n",
       "      <td>1</td>\n",
       "      <td>0</td>\n",
       "      <td>30</td>\n",
       "    </tr>\n",
       "    <tr>\n",
       "      <th>485462</th>\n",
       "      <td>4</td>\n",
       "      <td>5</td>\n",
       "      <td>Would recommend this CD to anyone who likes mo...</td>\n",
       "      <td>80</td>\n",
       "      <td>good CD</td>\n",
       "      <td>2</td>\n",
       "      <td>1</td>\n",
       "      <td>100</td>\n",
       "    </tr>\n",
       "  </tbody>\n",
       "</table>\n",
       "</div>"
      ],
      "text/plain": [
       "        overall  predicted                                         reviewText  \\\n",
       "451424        3          5  I bought this for my husband who is learning t...   \n",
       "358952        5          5  I bought the Pyle-Pro PDWM7300 Rack Mount syst...   \n",
       "262820        4          5  This is a light guitar that's easy to play. Mi...   \n",
       "345225        5          5  I bought this for my husband for Christmas and...   \n",
       "485462        4          5  Would recommend this CD to anyone who likes mo...   \n",
       "\n",
       "        countWordsReview                         summary  countWordsSummary  \\\n",
       "451424               108                Pretty good deal                  3   \n",
       "358952               182           Proven to be reliable                  4   \n",
       "262820               245  Good guitar with budget tuners                  5   \n",
       "345225                25                       FANTASTIC                  1   \n",
       "485462                80                         good CD                  2   \n",
       "\n",
       "        qualite  bin  \n",
       "451424        2  200  \n",
       "358952        0  200  \n",
       "262820        1  300  \n",
       "345225        0   30  \n",
       "485462        1  100  "
      ]
     },
     "execution_count": 90,
     "metadata": {},
     "output_type": "execute_result"
    }
   ],
   "source": [
    "dfy = pd.DataFrame(y_test)\n",
    "dfy[\"predicted\"] = predicted_reviewText\n",
    "dfy[\"reviewText\"] = df_test[\"reviewText\"]\n",
    "dfy[\"countWordsReview\"] = dfy[\"reviewText\"].apply(countWords)\n",
    "dfy[\"summary\"] = df_test[\"summary\"]\n",
    "dfy[\"countWordsSummary\"] = dfy[\"summary\"].apply(countWords)\n",
    "dfy[\"qualite\"] = abs(predicted_reviewText - y_test)\n",
    "dfy[\"bin\"] = dfy.apply(createBins, axis = 1)\n",
    "dfy.head()"
   ]
  },
  {
   "cell_type": "code",
   "execution_count": 91,
   "metadata": {
    "collapsed": false
   },
   "outputs": [
    {
     "data": {
      "text/plain": [
       "0.592128104297304"
      ]
     },
     "execution_count": 91,
     "metadata": {},
     "output_type": "execute_result"
    }
   ],
   "source": [
    "np.mean(dfy[dfy.bin==30][\"qualite\"])"
   ]
  },
  {
   "cell_type": "code",
   "execution_count": 92,
   "metadata": {
    "collapsed": false
   },
   "outputs": [
    {
     "data": {
      "text/plain": [
       "75948.0"
      ]
     },
     "execution_count": 92,
     "metadata": {},
     "output_type": "execute_result"
    }
   ],
   "source": [
    "sum(abs(predicted_reviewText - y_test))"
   ]
  },
  {
   "cell_type": "markdown",
   "metadata": {},
   "source": [
    "# Bits of useless code (so far)"
   ]
  },
  {
   "cell_type": "code",
   "execution_count": 36,
   "metadata": {
    "collapsed": false
   },
   "outputs": [
    {
     "name": "stdout",
     "output_type": "stream",
     "text": [
      "{'this': 1.0, 'is': 1.0, 'strange': 1.4054651081081644, 'very': 1.0, 'nice': 1.4054651081081644}\n"
     ]
    }
   ],
   "source": [
    "#an example with another function TfidfVectorizer using frequency instead of count\n",
    "from sklearn.feature_extraction.text import TfidfVectorizer\n",
    "corpus = [\"This is very strange\",\n",
    "          \"This is very nice\"]\n",
    "vectorizer = TfidfVectorizer(min_df=1)\n",
    "X = vectorizer.fit_transform(corpus)\n",
    "idf = vectorizer.idf_\n",
    "print(dict(zip(vectorizer.get_feature_names(), idf)))"
   ]
  },
  {
   "cell_type": "code",
   "execution_count": 127,
   "metadata": {
    "collapsed": false
   },
   "outputs": [],
   "source": [
    "#Meh... Does not work yet\n",
    "#nltk.download()\n",
    "#all_words = nltk.FreqDist(w.lower() for w in nltk.word_tokenize(list(df[\"summary\"]))) Does not work yet"
   ]
  },
  {
   "cell_type": "markdown",
   "metadata": {},
   "source": [
    "- Evaluation de la performance pour les différents blocs de features\n",
    "- Normalisation du nombre de mots\n",
    "- Classification binaire + courbe de ROC\n",
    "- Analyse de la performance en fonction du nombre de mots"
   ]
  }
 ],
 "metadata": {
  "kernelspec": {
   "display_name": "Python 3",
   "language": "python",
   "name": "python3"
  },
  "language_info": {
   "codemirror_mode": {
    "name": "ipython",
    "version": 3
   },
   "file_extension": ".py",
   "mimetype": "text/x-python",
   "name": "python",
   "nbconvert_exporter": "python",
   "pygments_lexer": "ipython3",
   "version": "3.4.3"
  }
 },
 "nbformat": 4,
 "nbformat_minor": 0
}
