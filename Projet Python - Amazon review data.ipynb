{
 "cells": [
  {
   "cell_type": "markdown",
   "metadata": {},
   "source": [
    "# ENSAE Master Spécialisé Data Science - Projet Python de 1er semestre"
   ]
  },
  {
   "cell_type": "markdown",
   "metadata": {},
   "source": [
    "*Par Alexandre Combessie et Thibaut Duguet*"
   ]
  },
  {
   "cell_type": "markdown",
   "metadata": {},
   "source": [
    "## Chargement des données"
   ]
  },
  {
   "cell_type": "markdown",
   "metadata": {},
   "source": [
    "Les données complètes sont disponibles sur le site http://jmcauley.ucsd.edu/data/amazon/links.html. Pour commencer, on se concentre sur des bases de données pour des catégories spécifiques de produit, afin d'avoir une taille raisonnable."
   ]
  },
  {
   "cell_type": "code",
   "execution_count": 3,
   "metadata": {
    "collapsed": false
   },
   "outputs": [],
   "source": [
    "import os\n",
    "import json\n",
    "import gzip\n",
    "import pandas as pd\n",
    "import numpy as np\n",
    "import matplotlib\n",
    "import matplotlib.pyplot as plt\n",
    "import numpy as np\n",
    "import ipywidgets as widgets\n",
    "from IPython.display import display\n",
    "import statistics as stat\n",
    "from io import StringIO\n",
    "import nltk\n",
    "import sklearn"
   ]
  },
  {
   "cell_type": "markdown",
   "metadata": {},
   "source": [
    "Tout d'abord, on sélectionne la catégorie de produit à étudier:"
   ]
  },
  {
   "cell_type": "code",
   "execution_count": 4,
   "metadata": {
    "collapsed": false
   },
   "outputs": [],
   "source": [
    "category_options={\n",
    "    \"Musical Instruments\": \"reviews_Musical_Instruments.json.gz\",\n",
    "    \"Baby\": \"reviews_Baby.json.gz\",\n",
    "    \"Movies and TV\": \"reviews_Movies_and_TV.json.gz\",\n",
    "}\n",
    "dropdown = widgets.Dropdown(options=category_options, description=\"Catégorie de produit à étudier\")\n",
    "display(dropdown)"
   ]
  },
  {
   "cell_type": "markdown",
   "metadata": {},
   "source": [
    "Ensuite, on décompresse le fichier pour obtenir un fichier en format json"
   ]
  },
  {
   "cell_type": "code",
   "execution_count": 6,
   "metadata": {
    "collapsed": false
   },
   "outputs": [],
   "source": [
    "if(not(os.path.isfile(dropdown.value[:-3]))):\n",
    "    inputFile = gzip.open(dropdown.value, 'rb')\n",
    "    outputFile = open(dropdown.value[:-3], 'wb')\n",
    "    outputFile.write(inputFile.read())\n",
    "    inputFile.close()\n",
    "    outputFile.close()"
   ]
  },
  {
   "cell_type": "markdown",
   "metadata": {},
   "source": [
    "On la transforme en Pandas DataFrame "
   ]
  },
  {
   "cell_type": "code",
   "execution_count": 5,
   "metadata": {
    "collapsed": false
   },
   "outputs": [],
   "source": [
    "data=[]\n",
    "filepath=dropdown.value[:-3]\n",
    "with open(filepath) as f:\n",
    "    for line in f:\n",
    "        data.append(json.loads(line))\n",
    "df=pd.DataFrame(data)"
   ]
  },
  {
   "cell_type": "code",
   "execution_count": 12,
   "metadata": {
    "collapsed": false
   },
   "outputs": [
    {
     "data": {
      "text/html": [
       "<div>\n",
       "<table border=\"1\" class=\"dataframe\">\n",
       "  <thead>\n",
       "    <tr style=\"text-align: right;\">\n",
       "      <th></th>\n",
       "      <th>asin</th>\n",
       "      <th>helpful</th>\n",
       "      <th>overall</th>\n",
       "      <th>reviewText</th>\n",
       "      <th>reviewTime</th>\n",
       "      <th>reviewerID</th>\n",
       "      <th>reviewerName</th>\n",
       "      <th>summary</th>\n",
       "      <th>unixReviewTime</th>\n",
       "    </tr>\n",
       "  </thead>\n",
       "  <tbody>\n",
       "    <tr>\n",
       "      <th>0</th>\n",
       "      <td>0006428320</td>\n",
       "      <td>[0, 0]</td>\n",
       "      <td>3</td>\n",
       "      <td>The portfolio is fine except for the fact that...</td>\n",
       "      <td>03 11, 2014</td>\n",
       "      <td>A1YS9MDZP93857</td>\n",
       "      <td>John Taylor</td>\n",
       "      <td>Parts missing</td>\n",
       "      <td>1394496000</td>\n",
       "    </tr>\n",
       "    <tr>\n",
       "      <th>1</th>\n",
       "      <td>0014072149</td>\n",
       "      <td>[0, 0]</td>\n",
       "      <td>5</td>\n",
       "      <td>If you are a serious violin student on a budge...</td>\n",
       "      <td>06 6, 2013</td>\n",
       "      <td>A3TS466QBAWB9D</td>\n",
       "      <td>Silver Pencil</td>\n",
       "      <td>Perform it with a friend, today!</td>\n",
       "      <td>1370476800</td>\n",
       "    </tr>\n",
       "    <tr>\n",
       "      <th>2</th>\n",
       "      <td>0041291905</td>\n",
       "      <td>[0, 0]</td>\n",
       "      <td>5</td>\n",
       "      <td>This is and excellent edition and perfectly tr...</td>\n",
       "      <td>10 14, 2013</td>\n",
       "      <td>A3BUDYITWUSIS7</td>\n",
       "      <td>joyce gabriel cornett</td>\n",
       "      <td>Vivalldi's Four Seasons</td>\n",
       "      <td>1381708800</td>\n",
       "    </tr>\n",
       "    <tr>\n",
       "      <th>3</th>\n",
       "      <td>0041913574</td>\n",
       "      <td>[0, 0]</td>\n",
       "      <td>5</td>\n",
       "      <td>Perfect for someone who is an opera fan or a w...</td>\n",
       "      <td>09 23, 2010</td>\n",
       "      <td>A19K10Z0D2NTZK</td>\n",
       "      <td>TexasCowboy</td>\n",
       "      <td>Full score: voice and orchestra</td>\n",
       "      <td>1285200000</td>\n",
       "    </tr>\n",
       "    <tr>\n",
       "      <th>4</th>\n",
       "      <td>0201891859</td>\n",
       "      <td>[0, 1]</td>\n",
       "      <td>1</td>\n",
       "      <td>How many Nocturnes does it contain? All of the...</td>\n",
       "      <td>10 17, 2012</td>\n",
       "      <td>A14X336IB4JD89</td>\n",
       "      <td>dfjm53</td>\n",
       "      <td>Unable to determine contents</td>\n",
       "      <td>1350432000</td>\n",
       "    </tr>\n",
       "  </tbody>\n",
       "</table>\n",
       "</div>"
      ],
      "text/plain": [
       "         asin helpful  overall  \\\n",
       "0  0006428320  [0, 0]        3   \n",
       "1  0014072149  [0, 0]        5   \n",
       "2  0041291905  [0, 0]        5   \n",
       "3  0041913574  [0, 0]        5   \n",
       "4  0201891859  [0, 1]        1   \n",
       "\n",
       "                                          reviewText   reviewTime  \\\n",
       "0  The portfolio is fine except for the fact that...  03 11, 2014   \n",
       "1  If you are a serious violin student on a budge...   06 6, 2013   \n",
       "2  This is and excellent edition and perfectly tr...  10 14, 2013   \n",
       "3  Perfect for someone who is an opera fan or a w...  09 23, 2010   \n",
       "4  How many Nocturnes does it contain? All of the...  10 17, 2012   \n",
       "\n",
       "       reviewerID           reviewerName                           summary  \\\n",
       "0  A1YS9MDZP93857            John Taylor                     Parts missing   \n",
       "1  A3TS466QBAWB9D          Silver Pencil  Perform it with a friend, today!   \n",
       "2  A3BUDYITWUSIS7  joyce gabriel cornett           Vivalldi's Four Seasons   \n",
       "3  A19K10Z0D2NTZK            TexasCowboy   Full score: voice and orchestra   \n",
       "4  A14X336IB4JD89                 dfjm53      Unable to determine contents   \n",
       "\n",
       "   unixReviewTime  \n",
       "0      1394496000  \n",
       "1      1370476800  \n",
       "2      1381708800  \n",
       "3      1285200000  \n",
       "4      1350432000  "
      ]
     },
     "execution_count": 12,
     "metadata": {},
     "output_type": "execute_result"
    }
   ],
   "source": [
    "df.head()"
   ]
  },
  {
   "cell_type": "markdown",
   "metadata": {},
   "source": [
    "## Séparation Training and Validation sets"
   ]
  },
  {
   "cell_type": "markdown",
   "metadata": {},
   "source": [
    "Avant de commencer toute analyse ou modélisation, il faut séparer l'échantillon d'entrainement et l'échantillon de validation. On procède comme suit:"
   ]
  },
  {
   "cell_type": "code",
   "execution_count": 6,
   "metadata": {
    "collapsed": false
   },
   "outputs": [
    {
     "name": "stdout",
     "output_type": "stream",
     "text": [
      "(400146, 9) (100037, 9)\n"
     ]
    }
   ],
   "source": [
    "from sklearn.cross_validation import train_test_split\n",
    "y = df[\"overall\"]\n",
    "X = df.drop(\"overall\",axis=1,inplace=False)\n",
    "X_train,X_test,y_train,y_test = train_test_split(X.index,y,test_size=0.2)\n",
    "df_train=pd.concat([X,y],axis=1).iloc[X_train] # return dataframe train\n",
    "df_test=pd.concat([X,y],axis=1).iloc[X_test] # return dataframe test\n",
    "print(df_train.shape, df_test.shape)"
   ]
  },
  {
   "cell_type": "markdown",
   "metadata": {},
   "source": [
    "## Analyse descriptive"
   ]
  },
  {
   "cell_type": "markdown",
   "metadata": {},
   "source": [
    "Regardons la structure de la table:"
   ]
  },
  {
   "cell_type": "code",
   "execution_count": 10,
   "metadata": {
    "collapsed": false
   },
   "outputs": [
    {
     "data": {
      "text/html": [
       "<div>\n",
       "<table border=\"1\" class=\"dataframe\">\n",
       "  <thead>\n",
       "    <tr style=\"text-align: right;\">\n",
       "      <th></th>\n",
       "      <th>asin</th>\n",
       "      <th>helpful</th>\n",
       "      <th>reviewText</th>\n",
       "      <th>reviewTime</th>\n",
       "      <th>reviewerID</th>\n",
       "      <th>reviewerName</th>\n",
       "      <th>summary</th>\n",
       "      <th>unixReviewTime</th>\n",
       "      <th>overall</th>\n",
       "    </tr>\n",
       "  </thead>\n",
       "  <tbody>\n",
       "    <tr>\n",
       "      <th>466007</th>\n",
       "      <td>B002VUCB6S</td>\n",
       "      <td>[0, 0]</td>\n",
       "      <td>We love the car seat! We think that it was an ...</td>\n",
       "      <td>07 3, 2011</td>\n",
       "      <td>A36AP2W6NHIE22</td>\n",
       "      <td>Dragon</td>\n",
       "      <td>purple</td>\n",
       "      <td>1309651200</td>\n",
       "      <td>5</td>\n",
       "    </tr>\n",
       "    <tr>\n",
       "      <th>44028</th>\n",
       "      <td>B00007DWDZ</td>\n",
       "      <td>[0, 0]</td>\n",
       "      <td>I went through three of these pumps with my la...</td>\n",
       "      <td>01 30, 2009</td>\n",
       "      <td>A1N07L9HY2Y6LE</td>\n",
       "      <td>Adrienne K. Weighall</td>\n",
       "      <td>If you need to pump on a regular basis, don't ...</td>\n",
       "      <td>1233273600</td>\n",
       "      <td>2</td>\n",
       "    </tr>\n",
       "    <tr>\n",
       "      <th>859001</th>\n",
       "      <td>B00BEVF1VC</td>\n",
       "      <td>[0, 0]</td>\n",
       "      <td>I bought this seat for a tall slender 3 yr old...</td>\n",
       "      <td>04 11, 2014</td>\n",
       "      <td>A3AQNBL36B8WGQ</td>\n",
       "      <td>Janine H</td>\n",
       "      <td>Great all around seat ~ worth the $$$</td>\n",
       "      <td>1397174400</td>\n",
       "      <td>5</td>\n",
       "    </tr>\n",
       "    <tr>\n",
       "      <th>548494</th>\n",
       "      <td>B003SWZVG0</td>\n",
       "      <td>[1, 1]</td>\n",
       "      <td>I first used this bottle brush for my eldest s...</td>\n",
       "      <td>01 23, 2012</td>\n",
       "      <td>AS3JX5GLRYISL</td>\n",
       "      <td>Ardencie</td>\n",
       "      <td>Pretty darn good</td>\n",
       "      <td>1327276800</td>\n",
       "      <td>4</td>\n",
       "    </tr>\n",
       "    <tr>\n",
       "      <th>258952</th>\n",
       "      <td>B000YDDF6O</td>\n",
       "      <td>[0, 0]</td>\n",
       "      <td>i  was pleased with this item, wasy grip and i...</td>\n",
       "      <td>01 14, 2013</td>\n",
       "      <td>A30ZR1R8AUB5EG</td>\n",
       "      <td>NaN</td>\n",
       "      <td>baby toy</td>\n",
       "      <td>1358121600</td>\n",
       "      <td>4</td>\n",
       "    </tr>\n",
       "  </tbody>\n",
       "</table>\n",
       "</div>"
      ],
      "text/plain": [
       "              asin helpful                                         reviewText  \\\n",
       "466007  B002VUCB6S  [0, 0]  We love the car seat! We think that it was an ...   \n",
       "44028   B00007DWDZ  [0, 0]  I went through three of these pumps with my la...   \n",
       "859001  B00BEVF1VC  [0, 0]  I bought this seat for a tall slender 3 yr old...   \n",
       "548494  B003SWZVG0  [1, 1]  I first used this bottle brush for my eldest s...   \n",
       "258952  B000YDDF6O  [0, 0]  i  was pleased with this item, wasy grip and i...   \n",
       "\n",
       "         reviewTime      reviewerID          reviewerName  \\\n",
       "466007   07 3, 2011  A36AP2W6NHIE22                Dragon   \n",
       "44028   01 30, 2009  A1N07L9HY2Y6LE  Adrienne K. Weighall   \n",
       "859001  04 11, 2014  A3AQNBL36B8WGQ              Janine H   \n",
       "548494  01 23, 2012   AS3JX5GLRYISL              Ardencie   \n",
       "258952  01 14, 2013  A30ZR1R8AUB5EG                   NaN   \n",
       "\n",
       "                                                  summary  unixReviewTime  \\\n",
       "466007                                             purple      1309651200   \n",
       "44028   If you need to pump on a regular basis, don't ...      1233273600   \n",
       "859001              Great all around seat ~ worth the $$$      1397174400   \n",
       "548494                                   Pretty darn good      1327276800   \n",
       "258952                                           baby toy      1358121600   \n",
       "\n",
       "        overall  \n",
       "466007        5  \n",
       "44028         2  \n",
       "859001        5  \n",
       "548494        4  \n",
       "258952        4  "
      ]
     },
     "execution_count": 10,
     "metadata": {},
     "output_type": "execute_result"
    }
   ],
   "source": [
    "df_train.head()"
   ]
  },
  {
   "cell_type": "markdown",
   "metadata": {},
   "source": [
    "Etudions les dimensions clés de la table:"
   ]
  },
  {
   "cell_type": "code",
   "execution_count": 11,
   "metadata": {
    "collapsed": false
   },
   "outputs": [
    {
     "name": "stdout",
     "output_type": "stream",
     "text": [
      "Le nombre total de reviews est: 732358\n",
      "Le nombre total de produits est: 59337\n",
      "Le nombre total de reviewers est: 451833\n",
      "Soit un nombre moyen de 12.3 reviews par produit\n",
      "Soit un nombre moyen de 1.6 reviews par reviewers\n"
     ]
    }
   ],
   "source": [
    "Nbreviews=len(df_train)\n",
    "Nbproducts=len(set(df_train[\"asin\"]))\n",
    "Nbreviewers=len(set(df_train[\"reviewerID\"]))\n",
    "print(\"Le nombre total de reviews est: \"+str(Nbreviews))\n",
    "print(\"Le nombre total de produits est: \"+str(Nbproducts))\n",
    "print(\"Le nombre total de reviewers est: \"+str(Nbreviewers))\n",
    "print(\"Soit un nombre moyen de \"+str(round(Nbreviews/Nbproducts,1))+ \" reviews par produit\")\n",
    "print(\"Soit un nombre moyen de \"+str(round(Nbreviews/Nbreviewers,1))+ \" reviews par reviewers\")"
   ]
  },
  {
   "cell_type": "markdown",
   "metadata": {},
   "source": [
    "Analysons la distribution des notes des reviews"
   ]
  },
  {
   "cell_type": "code",
   "execution_count": 12,
   "metadata": {
    "collapsed": false
   },
   "outputs": [
    {
     "name": "stdout",
     "output_type": "stream",
     "text": [
      "count    732358.00\n",
      "mean          4.12\n",
      "std           1.29\n",
      "min           1.00\n",
      "25%           4.00\n",
      "50%           5.00\n",
      "75%           5.00\n",
      "max           5.00\n",
      "Name: overall, dtype: float64\n"
     ]
    },
    {
     "data": {
      "image/png": "[encoded data removed]",
      "text/plain": [
       "<matplotlib.figure.Figure at 0x7ccbef28>"
      ]
     },
     "metadata": {},
     "output_type": "display_data"
    }
   ],
   "source": [
    "print(df_train[\"overall\"].describe().round(2))\n",
    "%matplotlib inline \n",
    "a=[int(i) for i in df_train[\"overall\"]]\n",
    "bins=range(1,7)\n",
    "fig, ax = plt.subplots(1,1)\n",
    "ax.hist(a, bins=bins, align='left', color=\"grey\", rwidth=0.7)\n",
    "ax.set_xticks(bins[:-1])\n",
    "plt.title(\"Histogramme des notes des reviews\");\n",
    "plt.xlabel(\"Note\");\n",
    "plt.ylabel(\"Nombre de reviews\");"
   ]
  },
  {
   "cell_type": "markdown",
   "metadata": {},
   "source": [
    "Regardons la distribution des notes moyennes par produit. On constate que la distribution est moins \"skewed\" que précedemment."
   ]
  },
  {
   "cell_type": "code",
   "execution_count": 13,
   "metadata": {
    "collapsed": false
   },
   "outputs": [
    {
     "name": "stdout",
     "output_type": "stream",
     "text": [
      "count    59337.00\n",
      "mean         4.06\n",
      "std          1.04\n",
      "min          1.00\n",
      "25%          3.56\n",
      "50%          4.33\n",
      "75%          5.00\n",
      "max          5.00\n",
      "Name: overall, dtype: float64\n"
     ]
    },
    {
     "data": {
      "image/png": "[encoded data removed]",
      "text/plain": [
       "<matplotlib.figure.Figure at 0x7d625c88>"
      ]
     },
     "metadata": {},
     "output_type": "display_data"
    }
   ],
   "source": [
    "average_note_byproduct=df_train[[\"asin\",\"overall\"]].groupby(\"asin\", as_index=False).mean()\n",
    "print(average_note_byproduct[\"overall\"].describe().round(2))\n",
    "%matplotlib inline \n",
    "bins=range(1,7)\n",
    "fig, ax = plt.subplots(1,1)\n",
    "ax.hist(average_note_byproduct[\"overall\"], bins=bins, align='left', color=\"grey\", rwidth=0.7)\n",
    "ax.set_xticks(bins[:-1])\n",
    "plt.title(\"Histogramme des notes moyennes par produit\");\n",
    "plt.xlabel(\"Note\");\n",
    "plt.ylabel(\"Nombre de produits\");"
   ]
  },
  {
   "cell_type": "markdown",
   "metadata": {},
   "source": [
    "Regardons la distribution du nombre de reviews par utilisateur."
   ]
  },
  {
   "cell_type": "code",
   "execution_count": 14,
   "metadata": {
    "collapsed": false
   },
   "outputs": [
    {
     "name": "stdout",
     "output_type": "stream",
     "text": [
      "count    451833.00\n",
      "mean          1.62\n",
      "std           1.85\n",
      "min           1.00\n",
      "25%           1.00\n",
      "50%           1.00\n",
      "75%           2.00\n",
      "max         129.00\n",
      "dtype: float64\n"
     ]
    },
    {
     "data": {
      "image/png": "[encoded data removed]",
      "text/plain": [
       "<matplotlib.figure.Figure at 0x7d3f9e48>"
      ]
     },
     "metadata": {},
     "output_type": "display_data"
    }
   ],
   "source": [
    "import collections\n",
    "Nbreview_by_user=collections.Counter(df_train[\"reviewerID\"])\n",
    "print(pd.Series(Nbreview_by_user).describe().round(2))\n",
    "bins=range(1,10,1)\n",
    "a = np.clip(list(Nbreview_by_user.values()), 1, 10)\n",
    "fig, ax = plt.subplots(1,1)\n",
    "ax.hist(a, bins=bins, align='left', color=\"grey\", rwidth=0.7)\n",
    "plt.title(\"Histogramme du nombre de reviews par utilisateur\");\n",
    "plt.xlabel(\"Nombre de reviews\");\n",
    "plt.ylabel(\"Nombre d'utilisateurs\");"
   ]
  },
  {
   "cell_type": "markdown",
   "metadata": {},
   "source": [
    "Définissons la fonction de comptage du nombre de mots d'une review et appliquons la à nos données"
   ]
  },
  {
   "cell_type": "code",
   "execution_count": 13,
   "metadata": {
    "collapsed": true
   },
   "outputs": [],
   "source": [
    "def countWords(review):\n",
    "    return(len(review.split()))"
   ]
  },
  {
   "cell_type": "code",
   "execution_count": 14,
   "metadata": {
    "collapsed": false
   },
   "outputs": [],
   "source": [
    "df_train[\"countWordsReview\"] = df_train[\"reviewText\"].apply(countWords)\n",
    "df_test[\"countWordsReview\"] = df_test[\"reviewText\"].apply(countWords)\n",
    "df_train[\"countWordsSummary\"] = df_train[\"summary\"].apply(countWords)\n",
    "df_test[\"countWordsSummary\"] = df_test[\"summary\"].apply(countWords)"
   ]
  },
  {
   "cell_type": "markdown",
   "metadata": {},
   "source": [
    "Regardons la distribution du nombre de mots des reviews"
   ]
  },
  {
   "cell_type": "code",
   "execution_count": 17,
   "metadata": {
    "collapsed": false
   },
   "outputs": [
    {
     "name": "stdout",
     "output_type": "stream",
     "text": [
      "count    732358.00\n",
      "mean         81.87\n",
      "std          87.11\n",
      "min           0.00\n",
      "25%          31.00\n",
      "50%          55.00\n",
      "75%         100.00\n",
      "max        4546.00\n",
      "Name: countWordsReview, dtype: float64\n"
     ]
    }
   ],
   "source": [
    "print(df_train[\"countWordsReview\"].describe().round(2))"
   ]
  },
  {
   "cell_type": "code",
   "execution_count": 18,
   "metadata": {
    "collapsed": false
   },
   "outputs": [
    {
     "data": {
      "image/png": "[encoded data removed]",
      "text/plain": [
       "<matplotlib.figure.Figure at 0x7d67c6d8>"
      ]
     },
     "metadata": {},
     "output_type": "display_data"
    }
   ],
   "source": [
    "%matplotlib inline \n",
    "bins=range(0,430,30)\n",
    "a = np.clip(df_train[\"countWordsReview\"], 0, 400)\n",
    "fig, ax = plt.subplots(1,1)\n",
    "ax.hist(a, bins=bins, align='left', color=\"grey\", rwidth=0.7)\n",
    "plt.title(\"Histogramme du nombre de mots par review\");\n",
    "plt.xlabel(\"Nombre de mots\");\n",
    "plt.ylabel(\"Nombre de reviews\");"
   ]
  },
  {
   "cell_type": "markdown",
   "metadata": {},
   "source": [
    "Maintenant regardons plus spécifiquement entre 0 et 100 mots"
   ]
  },
  {
   "cell_type": "code",
   "execution_count": 19,
   "metadata": {
    "collapsed": false
   },
   "outputs": [
    {
     "data": {
      "image/png": "[encoded data removed]",
      "text/plain": [
       "<matplotlib.figure.Figure at 0x7d400ba8>"
      ]
     },
     "metadata": {},
     "output_type": "display_data"
    }
   ],
   "source": [
    "a = [s for s in df_train[\"countWordsReview\"] if s < 101]\n",
    "%matplotlib inline \n",
    "bins=range(0,100,5)\n",
    "fig, ax = plt.subplots(1,1)\n",
    "ax.hist(a, bins=bins, align='left', color=\"grey\", rwidth=0.7)\n",
    "plt.title(\"Histogramme du nombre de mots par review\");\n",
    "plt.xlabel(\"Nombre de mots\");\n",
    "plt.ylabel(\"Nombre de reviews\");"
   ]
  },
  {
   "cell_type": "markdown",
   "metadata": {},
   "source": [
    "## Préparation des données"
   ]
  },
  {
   "cell_type": "markdown",
   "metadata": {},
   "source": [
    "On prépare les données de texte en utilisant la fonction `TfidfVectorizer` du package `sklearn`. Notons que nous utilisons les stopwords donnés par `nltk` pour réduire le nombre de mots."
   ]
  },
  {
   "cell_type": "code",
   "execution_count": 15,
   "metadata": {
    "collapsed": true
   },
   "outputs": [],
   "source": [
    "from sklearn.feature_extraction.text import TfidfVectorizer\n",
    "from nltk.corpus import stopwords\n",
    "tfidf_vect = TfidfVectorizer()\n",
    "tfidf_vect_stopword = TfidfVectorizer(stop_words= stopwords.words('english'))"
   ]
  },
  {
   "cell_type": "markdown",
   "metadata": {},
   "source": [
    "### 1. Texte complet de la review"
   ]
  },
  {
   "cell_type": "markdown",
   "metadata": {},
   "source": [
    "#### a. Echantillon Train"
   ]
  },
  {
   "cell_type": "code",
   "execution_count": 16,
   "metadata": {
    "collapsed": false
   },
   "outputs": [
    {
     "data": {
      "text/plain": [
       "(400146, 219182)"
      ]
     },
     "execution_count": 16,
     "metadata": {},
     "output_type": "execute_result"
    }
   ],
   "source": [
    "corpus_train_reviewText=list(df_train[\"reviewText\"])\n",
    "X_train_tfidf_reviewText = tfidf_vect_stopword.fit_transform(corpus_train_reviewText)\n",
    "X_train_tfidf_reviewText.shape"
   ]
  },
  {
   "cell_type": "markdown",
   "metadata": {},
   "source": [
    "#### b. Echantillon Test"
   ]
  },
  {
   "cell_type": "code",
   "execution_count": 17,
   "metadata": {
    "collapsed": false
   },
   "outputs": [
    {
     "data": {
      "text/plain": [
       "(100037, 219182)"
      ]
     },
     "execution_count": 17,
     "metadata": {},
     "output_type": "execute_result"
    }
   ],
   "source": [
    "corpus_test_reviewText=list(df_test[\"reviewText\"])\n",
    "X_test_tfidf_reviewText = tfidf_vect_stopword.transform(corpus_test_reviewText)\n",
    "X_test_tfidf_reviewText.shape"
   ]
  },
  {
   "cell_type": "markdown",
   "metadata": {},
   "source": [
    "### 2. Texte du résumé de la review"
   ]
  },
  {
   "cell_type": "markdown",
   "metadata": {},
   "source": [
    "#### a. Echantillon Train"
   ]
  },
  {
   "cell_type": "code",
   "execution_count": 18,
   "metadata": {
    "collapsed": false
   },
   "outputs": [
    {
     "data": {
      "text/plain": [
       "(400146, 41874)"
      ]
     },
     "execution_count": 18,
     "metadata": {},
     "output_type": "execute_result"
    }
   ],
   "source": [
    "corpus_train_summary=list(df_train[\"summary\"])\n",
    "X_train_tfidf_summary = tfidf_vect_stopword.fit_transform(corpus_train_summary)\n",
    "X_train_tfidf_summary.shape"
   ]
  },
  {
   "cell_type": "markdown",
   "metadata": {},
   "source": [
    "#### b. Echantillon Test"
   ]
  },
  {
   "cell_type": "code",
   "execution_count": 19,
   "metadata": {
    "collapsed": false
   },
   "outputs": [
    {
     "data": {
      "text/plain": [
       "(100037, 41874)"
      ]
     },
     "execution_count": 19,
     "metadata": {},
     "output_type": "execute_result"
    }
   ],
   "source": [
    "corpus_test_summary=list(df_test[\"summary\"])\n",
    "X_test_tfidf_summary = tfidf_vect_stopword.transform(corpus_test_summary)\n",
    "X_test_tfidf_summary.shape"
   ]
  },
  {
   "cell_type": "markdown",
   "metadata": {},
   "source": [
    "### 3. Features supplémentaires"
   ]
  },
  {
   "cell_type": "markdown",
   "metadata": {},
   "source": [
    "Nous allons créer des variables pour le mois et le jour de la review, ce qui peut influencer la note."
   ]
  },
  {
   "cell_type": "code",
   "execution_count": 20,
   "metadata": {
    "collapsed": false
   },
   "outputs": [
    {
     "data": {
      "text/plain": [
       "10056     Mon\n",
       "56463     Mon\n",
       "274241    Thu\n",
       "269301    Tue\n",
       "396082    Fri\n",
       "Name: Weekday, dtype: category\n",
       "Categories (7, object): [Fri, Mon, Sat, Sun, Thu, Tue, Wed]"
      ]
     },
     "execution_count": 20,
     "metadata": {},
     "output_type": "execute_result"
    }
   ],
   "source": [
    "from datetime import datetime\n",
    "df_train[\"Weekday\"] = df_train[\"unixReviewTime\"].apply(lambda x: datetime.strftime(datetime.fromtimestamp(x),'%a')).astype('category')\n",
    "df_test[\"Weekday\"] = df_test[\"unixReviewTime\"].apply(lambda x: datetime.strftime(datetime.fromtimestamp(x),'%a')).astype('category')\n",
    "df_train[\"Weekday\"].head()"
   ]
  },
  {
   "cell_type": "code",
   "execution_count": 21,
   "metadata": {
    "collapsed": false
   },
   "outputs": [
    {
     "data": {
      "text/plain": [
       "10056     03\n",
       "56463     11\n",
       "274241    07\n",
       "269301    09\n",
       "396082    04\n",
       "Name: Month, dtype: category\n",
       "Categories (12, object): [01, 02, 03, 04, ..., 09, 10, 11, 12]"
      ]
     },
     "execution_count": 21,
     "metadata": {},
     "output_type": "execute_result"
    }
   ],
   "source": [
    "df_train[\"Month\"] = df_train[\"unixReviewTime\"].apply(lambda x: datetime.strftime(datetime.fromtimestamp(x),'%m')).astype('category')\n",
    "df_test[\"Month\"] = df_test[\"unixReviewTime\"].apply(lambda x: datetime.strftime(datetime.fromtimestamp(x),'%m')).astype('category')\n",
    "df_train[\"Month\"].head()"
   ]
  },
  {
   "cell_type": "code",
   "execution_count": 22,
   "metadata": {
    "collapsed": true
   },
   "outputs": [],
   "source": [
    "from sklearn.feature_extraction import DictVectorizer\n",
    "dic_vec = DictVectorizer()"
   ]
  },
  {
   "cell_type": "markdown",
   "metadata": {},
   "source": [
    "#### a. Echantillon Train"
   ]
  },
  {
   "cell_type": "code",
   "execution_count": 118,
   "metadata": {
    "collapsed": false
   },
   "outputs": [
    {
     "name": "stdout",
     "output_type": "stream",
     "text": [
      "(400146, 2)\n"
     ]
    }
   ],
   "source": [
    "from sklearn.preprocessing import normalize\n",
    "X_train_countWords=normalize(df_train[[\"countWordsReview\",\"countWordsSummary\"]].astype(float),axis=0)\n",
    "print(X_train_countWords.shape)"
   ]
  },
  {
   "cell_type": "code",
   "execution_count": 114,
   "metadata": {
    "collapsed": false
   },
   "outputs": [
    {
     "data": {
      "text/plain": [
       "(400146, 7)"
      ]
     },
     "execution_count": 114,
     "metadata": {},
     "output_type": "execute_result"
    }
   ],
   "source": [
    "dic_train_weekdays = pd.DataFrame(df_train[\"Weekday\"]).to_dict('records')\n",
    "X_train_weekdays = dic_vec.fit_transform(dic_train_weekdays)\n",
    "X_train_weekdays.shape"
   ]
  },
  {
   "cell_type": "code",
   "execution_count": 115,
   "metadata": {
    "collapsed": false
   },
   "outputs": [
    {
     "data": {
      "text/plain": [
       "(400146, 12)"
      ]
     },
     "execution_count": 115,
     "metadata": {},
     "output_type": "execute_result"
    }
   ],
   "source": [
    "dic_train_months = pd.DataFrame(df_train[\"Month\"]).to_dict('records')\n",
    "X_train_months = dic_vec.fit_transform(dic_train_months)\n",
    "X_train_months.shape"
   ]
  },
  {
   "cell_type": "markdown",
   "metadata": {},
   "source": [
    "#### b. Echantillon Test"
   ]
  },
  {
   "cell_type": "code",
   "execution_count": 119,
   "metadata": {
    "collapsed": false
   },
   "outputs": [
    {
     "name": "stdout",
     "output_type": "stream",
     "text": [
      "(100037, 2)\n"
     ]
    }
   ],
   "source": [
    "from sklearn.preprocessing import normalize\n",
    "X_test_countWords=normalize(df_test[[\"countWordsReview\",\"countWordsSummary\"]].astype(float),axis=0)\n",
    "print(X_test_countWords.shape)"
   ]
  },
  {
   "cell_type": "code",
   "execution_count": 27,
   "metadata": {
    "collapsed": false
   },
   "outputs": [
    {
     "data": {
      "text/plain": [
       "(100037, 7)"
      ]
     },
     "execution_count": 27,
     "metadata": {},
     "output_type": "execute_result"
    }
   ],
   "source": [
    "dic_test_weekdays = pd.DataFrame(X_test_otherfeatures[\"Weekday\"]).to_dict('records')\n",
    "X_test_weekdays = dic_vec.fit_transform(dic_test_weekdays)\n",
    "X_test_weekdays.shape"
   ]
  },
  {
   "cell_type": "code",
   "execution_count": 28,
   "metadata": {
    "collapsed": false
   },
   "outputs": [
    {
     "data": {
      "text/plain": [
       "(100037, 12)"
      ]
     },
     "execution_count": 28,
     "metadata": {},
     "output_type": "execute_result"
    }
   ],
   "source": [
    "dic_test_months = pd.DataFrame(X_test_otherfeatures[\"Month\"]).to_dict('records')\n",
    "X_test_months = dic_vec.fit_transform(dic_test_months)\n",
    "X_test_months.shape"
   ]
  },
  {
   "cell_type": "markdown",
   "metadata": {},
   "source": [
    "### 4. Combinaison de toutes les features"
   ]
  },
  {
   "cell_type": "markdown",
   "metadata": {},
   "source": [
    "#### a. Echantillon Train"
   ]
  },
  {
   "cell_type": "code",
   "execution_count": 120,
   "metadata": {
    "collapsed": false
   },
   "outputs": [
    {
     "name": "stdout",
     "output_type": "stream",
     "text": [
      "(400146, 261056)\n"
     ]
    }
   ],
   "source": [
    "from scipy.sparse import hstack\n",
    "X_train_alltext=hstack([X_train_tfidf_reviewText, X_train_tfidf_summary])\n",
    "print(X_train_alltext.shape)"
   ]
  },
  {
   "cell_type": "code",
   "execution_count": 122,
   "metadata": {
    "collapsed": false
   },
   "outputs": [
    {
     "data": {
      "text/plain": [
       "(400146, 261058)"
      ]
     },
     "execution_count": 122,
     "metadata": {},
     "output_type": "execute_result"
    }
   ],
   "source": [
    "X_train_textwordcount=hstack([X_train_alltext,X_train_countWords])\n",
    "X_train_textwordcount.shape"
   ]
  },
  {
   "cell_type": "code",
   "execution_count": 123,
   "metadata": {
    "collapsed": false
   },
   "outputs": [
    {
     "name": "stdout",
     "output_type": "stream",
     "text": [
      "(400146, 261077)\n"
     ]
    }
   ],
   "source": [
    "X_train_allfeatures = hstack([X_train_textwordcount, X_train_weekdays, X_train_months])\n",
    "print(X_train_allfeatures.shape)"
   ]
  },
  {
   "cell_type": "code",
   "execution_count": 124,
   "metadata": {
    "collapsed": false
   },
   "outputs": [
    {
     "name": "stdout",
     "output_type": "stream",
     "text": [
      "(400146, 21)\n"
     ]
    }
   ],
   "source": [
    "X_train_supfeatures = hstack([X_train_countWords, X_train_weekdays, X_train_months])\n",
    "print(X_train_supfeatures.shape)"
   ]
  },
  {
   "cell_type": "markdown",
   "metadata": {},
   "source": [
    "#### b. Echantillon Test"
   ]
  },
  {
   "cell_type": "code",
   "execution_count": 34,
   "metadata": {
    "collapsed": false
   },
   "outputs": [
    {
     "name": "stdout",
     "output_type": "stream",
     "text": [
      "(100037, 261056)\n"
     ]
    }
   ],
   "source": [
    "X_test_alltext=hstack([X_test_tfidf_reviewText, X_test_tfidf_summary])\n",
    "print(X_test_alltext.shape)"
   ]
  },
  {
   "cell_type": "code",
   "execution_count": 125,
   "metadata": {
    "collapsed": false
   },
   "outputs": [
    {
     "data": {
      "text/plain": [
       "(100037, 261058)"
      ]
     },
     "execution_count": 125,
     "metadata": {},
     "output_type": "execute_result"
    }
   ],
   "source": [
    "X_test_textwordcount=hstack([X_test_alltext,X_test_countWords])\n",
    "X_test_textwordcount.shape"
   ]
  },
  {
   "cell_type": "code",
   "execution_count": 126,
   "metadata": {
    "collapsed": false
   },
   "outputs": [
    {
     "name": "stdout",
     "output_type": "stream",
     "text": [
      "(100037, 261077)\n"
     ]
    }
   ],
   "source": [
    "X_test_allfeatures = hstack([X_test_textwordcount, X_test_weekdays, X_test_months])\n",
    "print(X_test_allfeatures.shape)"
   ]
  },
  {
   "cell_type": "code",
   "execution_count": 127,
   "metadata": {
    "collapsed": false
   },
   "outputs": [
    {
     "name": "stdout",
     "output_type": "stream",
     "text": [
      "(100037, 21)\n"
     ]
    }
   ],
   "source": [
    "X_test_supfeatures = hstack([X_test_countWords, X_test_weekdays, X_test_months])\n",
    "print(X_test_supfeatures.shape)"
   ]
  },
  {
   "cell_type": "markdown",
   "metadata": {},
   "source": [
    "## Machine Learning"
   ]
  },
  {
   "cell_type": "markdown",
   "metadata": {},
   "source": [
    "En utilisant la librairie `sklearn`, nous allons appliquer les modèles suivants:\n",
    "- Naive Bayes avec modèle multinomial, \n",
    "- Support Vector Machines avec Stochastic Gradient Descent et fonction de perte logistique, \n",
    "- k-Nearest Neighbors. \n",
    "\n",
    "Nous avons essayé des Random Forests mais les calculs n'ont jamais pu aboutir, compte tenu du grand nombre de dimensions. Nous avons choisi un modèle Multinomial pour le Naive Bayes car il est bien adapté aux données (matrice sparse de grande dimension). Un modèle Naive Bayes gaussian n'est pas compatible avec les matrices sparses, et un modèle Naive Bayes Bernoulli ne peut prendre que des variables booléennes en entrée. Quant au choix de la fonction de perte logistique pour le modèle Support Vector Machines, c'est la seule fonction qui permet de calculer des probabilités sur les valeurs prédites et donc de déterminer le critère AUC."
   ]
  },
  {
   "cell_type": "markdown",
   "metadata": {},
   "source": [
    "### 1. Texte complet de la review"
   ]
  },
  {
   "cell_type": "code",
   "execution_count": 128,
   "metadata": {
    "collapsed": false
   },
   "outputs": [],
   "source": [
    "from sklearn.naive_bayes import MultinomialNB\n",
    "clf = MultinomialNB().fit(X_train_tfidf_reviewText, y_train.astype('category'))\n",
    "predicted_NaiveBayes_reviewText = clf.predict(X_test_tfidf_reviewText)"
   ]
  },
  {
   "cell_type": "code",
   "execution_count": 209,
   "metadata": {
    "collapsed": false
   },
   "outputs": [],
   "source": [
    "from sklearn.linear_model import SGDClassifier\n",
    "SGDclass = SGDClassifier(loss='log', penalty='l2', alpha=1e-3, n_iter=5, random_state=42)\n",
    "clf2 = SGDclass.fit(X_train_tfidf_reviewText, y_train.astype('category'))\n",
    "predicted_SVM_reviewText = clf2.predict(X_test_tfidf_reviewText)"
   ]
  },
  {
   "cell_type": "code",
   "execution_count": null,
   "metadata": {
    "collapsed": true
   },
   "outputs": [],
   "source": [
    "#Implementer kNN ici"
   ]
  },
  {
   "cell_type": "markdown",
   "metadata": {},
   "source": [
    "### 2. Texte du résumé de la review"
   ]
  },
  {
   "cell_type": "code",
   "execution_count": 130,
   "metadata": {
    "collapsed": true
   },
   "outputs": [],
   "source": [
    "from sklearn.naive_bayes import MultinomialNB\n",
    "clf = MultinomialNB().fit(X_train_tfidf_summary, y_train.astype('category'))\n",
    "predicted_NaiveBayes_summary = clf.predict(X_test_tfidf_summary)"
   ]
  },
  {
   "cell_type": "code",
   "execution_count": 210,
   "metadata": {
    "collapsed": true
   },
   "outputs": [],
   "source": [
    "from sklearn.linear_model import SGDClassifier\n",
    "clf2 = SGDclass.fit(X_train_tfidf_summary, y_train.astype('category'))\n",
    "predicted_SVM_summary = clf2.predict(X_test_tfidf_summary)"
   ]
  },
  {
   "cell_type": "code",
   "execution_count": null,
   "metadata": {
    "collapsed": true
   },
   "outputs": [],
   "source": [
    "#Implementer kNN ici"
   ]
  },
  {
   "cell_type": "markdown",
   "metadata": {},
   "source": [
    "### 3. Texte complet et résumé de la review"
   ]
  },
  {
   "cell_type": "code",
   "execution_count": 132,
   "metadata": {
    "collapsed": false
   },
   "outputs": [],
   "source": [
    "from sklearn.naive_bayes import MultinomialNB\n",
    "clf = MultinomialNB().fit(X_train_alltext, y_train.astype('category'))\n",
    "predicted_NaiveBayes_alltext = clf.predict(X_test_alltext)"
   ]
  },
  {
   "cell_type": "code",
   "execution_count": 211,
   "metadata": {
    "collapsed": false
   },
   "outputs": [],
   "source": [
    "from sklearn.linear_model import SGDClassifier\n",
    "clf2 = SGDclass.fit(X_train_alltext, y_train.astype('category'))\n",
    "predicted_SVM_alltext = clf2.predict(X_test_alltext)"
   ]
  },
  {
   "cell_type": "code",
   "execution_count": null,
   "metadata": {
    "collapsed": true
   },
   "outputs": [],
   "source": [
    "#Implementer kNN ici"
   ]
  },
  {
   "cell_type": "markdown",
   "metadata": {},
   "source": [
    "### 4. Features supplémentaires"
   ]
  },
  {
   "cell_type": "code",
   "execution_count": 134,
   "metadata": {
    "collapsed": true
   },
   "outputs": [],
   "source": [
    "from sklearn.naive_bayes import MultinomialNB\n",
    "clf = MultinomialNB().fit(X_train_supfeatures, y_train.astype('category'))\n",
    "predicted_NaiveBayes_supfeatures = clf.predict(X_test_supfeatures)"
   ]
  },
  {
   "cell_type": "code",
   "execution_count": 212,
   "metadata": {
    "collapsed": true
   },
   "outputs": [],
   "source": [
    "from sklearn.linear_model import SGDClassifier\n",
    "clf2 = SGDclass.fit(X_train_supfeatures, y_train.astype('category'))\n",
    "predicted_SVM_supfeatures = clf2.predict(X_test_supfeatures)"
   ]
  },
  {
   "cell_type": "code",
   "execution_count": null,
   "metadata": {
    "collapsed": true
   },
   "outputs": [],
   "source": [
    "#Implementer kNN ici"
   ]
  },
  {
   "cell_type": "markdown",
   "metadata": {},
   "source": [
    "### 5. Combinaison de toutes les features"
   ]
  },
  {
   "cell_type": "code",
   "execution_count": 136,
   "metadata": {
    "collapsed": false
   },
   "outputs": [],
   "source": [
    "from sklearn.naive_bayes import MultinomialNB\n",
    "clf = MultinomialNB().fit(X_train_allfeatures, y_train.astype('category'))\n",
    "predicted_NaiveBayes_allfeatures = clf.predict(X_test_allfeatures)"
   ]
  },
  {
   "cell_type": "code",
   "execution_count": 213,
   "metadata": {
    "collapsed": true
   },
   "outputs": [],
   "source": [
    "from sklearn.linear_model import SGDClassifier\n",
    "clf2 = SGDclass.fit(X_train_allfeatures, y_train.astype('category'))\n",
    "predicted_SVM_allfeatures = clf2.predict(X_test_allfeatures)"
   ]
  },
  {
   "cell_type": "code",
   "execution_count": null,
   "metadata": {
    "collapsed": true
   },
   "outputs": [],
   "source": [
    "#Implementer kNN ici"
   ]
  },
  {
   "cell_type": "markdown",
   "metadata": {},
   "source": [
    "# Evaluation de la performance"
   ]
  },
  {
   "cell_type": "markdown",
   "metadata": {},
   "source": [
    "### 1. Pour le texte complet de la review"
   ]
  },
  {
   "cell_type": "code",
   "execution_count": 214,
   "metadata": {
    "collapsed": false
   },
   "outputs": [
    {
     "name": "stdout",
     "output_type": "stream",
     "text": [
      "L'accuracy du classifieur Naive Bayes est de 61.9%\n",
      "L'accuracy du classifieur SVM est de 61.8%\n"
     ]
    }
   ],
   "source": [
    "print(\"L'accuracy du classifieur Naive Bayes est de \"+str((np.mean(predicted_NaiveBayes_reviewText == y_test)*100).round(1))+\"%\")\n",
    "print(\"L'accuracy du classifieur SVM est de \"+str((np.mean(predicted_SVM_reviewText == y_test)*100).round(1))+\"%\")"
   ]
  },
  {
   "cell_type": "code",
   "execution_count": 215,
   "metadata": {
    "collapsed": false
   },
   "outputs": [
    {
     "name": "stdout",
     "output_type": "stream",
     "text": [
      "Performance par classe du classifieur Naive Bayes \n",
      "              precision    recall  f1-score   support\n",
      "\n",
      "        1.0       0.92      0.01      0.02      6989\n",
      "        2.0       0.00      0.00      0.00      4542\n",
      "        3.0       0.00      0.00      0.00      7827\n",
      "        4.0       0.57      0.00      0.00     18825\n",
      "        5.0       0.62      1.00      0.76     61854\n",
      "\n",
      "avg / total       0.55      0.62      0.47    100037\n",
      "\n",
      "Performance par classe du classifieur SVM \n",
      "              precision    recall  f1-score   support\n",
      "\n",
      "        1.0       0.00      0.00      0.00      6989\n",
      "        2.0       0.00      0.00      0.00      4542\n",
      "        3.0       0.00      0.00      0.00      7827\n",
      "        4.0       0.00      0.00      0.00     18825\n",
      "        5.0       0.62      1.00      0.76     61854\n",
      "\n",
      "avg / total       0.38      0.62      0.47    100037\n",
      "\n"
     ]
    },
    {
     "name": "stderr",
     "output_type": "stream",
     "text": [
      "D:\\Users\\acombess\\PythonENSAE\\python\\lib\\site-packages\\sklearn\\metrics\\classification.py:958: UndefinedMetricWarning: Precision and F-score are ill-defined and being set to 0.0 in labels with no predicted samples.\n",
      "  'precision', 'predicted', average, warn_for)\n"
     ]
    }
   ],
   "source": [
    "print(\"Performance par classe du classifieur Naive Bayes \\n\",sklearn.metrics.classification_report(y_test, predicted_NaiveBayes_reviewText))\n",
    "print(\"Performance par classe du classifieur SVM \\n\",sklearn.metrics.classification_report(y_test, predicted_SVM_reviewText))"
   ]
  },
  {
   "cell_type": "code",
   "execution_count": 216,
   "metadata": {
    "collapsed": false
   },
   "outputs": [
    {
     "name": "stdout",
     "output_type": "stream",
     "text": [
      "Matrice de confusion du classifieur Naive Bayes \n",
      " [[   67     0     0     1  6921]\n",
      " [    3     0     0     1  4538]\n",
      " [    0     1     0     0  7826]\n",
      " [    1     0     1     8 18815]\n",
      " [    2     0     0     4 61848]]\n",
      "Matrice de confusion du classifieur SVM \n",
      " [[    0     0     0     0  6989]\n",
      " [    0     0     0     0  4542]\n",
      " [    0     0     0     0  7827]\n",
      " [    0     0     0     0 18825]\n",
      " [    0     0     0     0 61854]]\n"
     ]
    }
   ],
   "source": [
    "print(\"Matrice de confusion du classifieur Naive Bayes \\n\",sklearn.metrics.confusion_matrix(y_test, predicted_NaiveBayes_reviewText))\n",
    "print(\"Matrice de confusion du classifieur SVM \\n\",sklearn.metrics.confusion_matrix(y_test, predicted_SVM_reviewText))"
   ]
  },
  {
   "cell_type": "markdown",
   "metadata": {},
   "source": [
    "### 2. Pour le résumé de la review"
   ]
  },
  {
   "cell_type": "code",
   "execution_count": 217,
   "metadata": {
    "collapsed": false
   },
   "outputs": [
    {
     "name": "stdout",
     "output_type": "stream",
     "text": [
      "L'accuracy du classifieur Naive Bayes est de 66.0%\n",
      "L'accuracy du classifieur SVM est de 62.1%\n"
     ]
    }
   ],
   "source": [
    "print(\"L'accuracy du classifieur Naive Bayes est de \"+str((np.mean(predicted_NaiveBayes_summary == y_test)*100).round(1))+\"%\")\n",
    "print(\"L'accuracy du classifieur SVM est de \"+str((np.mean(predicted_SVM_summary == y_test)*100).round(1))+\"%\")"
   ]
  },
  {
   "cell_type": "code",
   "execution_count": 218,
   "metadata": {
    "collapsed": false
   },
   "outputs": [
    {
     "name": "stdout",
     "output_type": "stream",
     "text": [
      "Performance par classe du classifieur Naive Bayes \n",
      "              precision    recall  f1-score   support\n",
      "\n",
      "        1.0       0.66      0.40      0.49      6989\n",
      "        2.0       0.30      0.00      0.01      4542\n",
      "        3.0       0.51      0.11      0.18      7827\n",
      "        4.0       0.40      0.08      0.13     18825\n",
      "        5.0       0.67      0.99      0.80     61854\n",
      "\n",
      "avg / total       0.59      0.66      0.57    100037\n",
      "\n",
      "Performance par classe du classifieur SVM \n",
      "              precision    recall  f1-score   support\n",
      "\n",
      "        1.0       0.00      0.00      0.00      6989\n",
      "        2.0       0.00      0.00      0.00      4542\n",
      "        3.0       0.68      0.03      0.05      7827\n",
      "        4.0       0.41      0.03      0.05     18825\n",
      "        5.0       0.62      0.99      0.77     61854\n",
      "\n",
      "avg / total       0.51      0.62      0.49    100037\n",
      "\n"
     ]
    },
    {
     "name": "stderr",
     "output_type": "stream",
     "text": [
      "D:\\Users\\acombess\\PythonENSAE\\python\\lib\\site-packages\\sklearn\\metrics\\classification.py:958: UndefinedMetricWarning: Precision and F-score are ill-defined and being set to 0.0 in labels with no predicted samples.\n",
      "  'precision', 'predicted', average, warn_for)\n"
     ]
    }
   ],
   "source": [
    "print(\"Performance par classe du classifieur Naive Bayes \\n\",sklearn.metrics.classification_report(y_test, predicted_NaiveBayes_summary))\n",
    "print(\"Performance par classe du classifieur SVM \\n\",sklearn.metrics.classification_report(y_test, predicted_SVM_summary))"
   ]
  },
  {
   "cell_type": "code",
   "execution_count": 219,
   "metadata": {
    "collapsed": false
   },
   "outputs": [
    {
     "name": "stdout",
     "output_type": "stream",
     "text": [
      "Matrice de confusion du classifieur Naive Bayes \n",
      " [[ 2761    20   161   266  3781]\n",
      " [  822    18   347   334  3021]\n",
      " [  341    15   863   940  5668]\n",
      " [  112     3   238  1413 17059]\n",
      " [  135     5    88   613 61013]]\n",
      "Matrice de confusion du classifieur SVM \n",
      " [[    0     0     1    60  6928]\n",
      " [    0     0    32    39  4471]\n",
      " [    0     0   210   170  7447]\n",
      " [    0     0    51   474 18300]\n",
      " [    0     0    16   425 61413]]\n"
     ]
    }
   ],
   "source": [
    "print(\"Matrice de confusion du classifieur Naive Bayes \\n\",sklearn.metrics.confusion_matrix(y_test, predicted_NaiveBayes_summary))\n",
    "print(\"Matrice de confusion du classifieur SVM \\n\",sklearn.metrics.confusion_matrix(y_test, predicted_SVM_summary))"
   ]
  },
  {
   "cell_type": "markdown",
   "metadata": {},
   "source": [
    "### 3. Texte complet et résumé de la review"
   ]
  },
  {
   "cell_type": "code",
   "execution_count": 220,
   "metadata": {
    "collapsed": false
   },
   "outputs": [
    {
     "name": "stdout",
     "output_type": "stream",
     "text": [
      "L'accuracy du classifieur Naive Bayes est de 64.5%\n",
      "L'accuracy du classifieur SVM est de 62.5%\n"
     ]
    }
   ],
   "source": [
    "print(\"L'accuracy du classifieur Naive Bayes est de \"+str((np.mean(predicted_NaiveBayes_alltext == y_test)*100).round(1))+\"%\")\n",
    "print(\"L'accuracy du classifieur SVM est de \"+str((np.mean(predicted_SVM_alltext == y_test)*100).round(1))+\"%\")"
   ]
  },
  {
   "cell_type": "code",
   "execution_count": 221,
   "metadata": {
    "collapsed": false
   },
   "outputs": [
    {
     "name": "stdout",
     "output_type": "stream",
     "text": [
      "Performance par classe du classifieur Naive Bayes \n",
      "              precision    recall  f1-score   support\n",
      "\n",
      "        1.0       0.81      0.28      0.42      6989\n",
      "        2.0       0.00      0.00      0.00      4542\n",
      "        3.0       0.58      0.02      0.05      7827\n",
      "        4.0       0.33      0.04      0.07     18825\n",
      "        5.0       0.65      1.00      0.79     61854\n",
      "\n",
      "avg / total       0.56      0.65      0.53    100037\n",
      "\n",
      "Performance par classe du classifieur SVM \n",
      "              precision    recall  f1-score   support\n",
      "\n",
      "        1.0       0.94      0.03      0.05      6989\n",
      "        2.0       0.00      0.00      0.00      4542\n",
      "        3.0       0.68      0.03      0.06      7827\n",
      "        4.0       0.47      0.04      0.07     18825\n",
      "        5.0       0.63      0.99      0.77     61854\n",
      "\n",
      "avg / total       0.59      0.63      0.50    100037\n",
      "\n"
     ]
    },
    {
     "name": "stderr",
     "output_type": "stream",
     "text": [
      "D:\\Users\\acombess\\PythonENSAE\\python\\lib\\site-packages\\sklearn\\metrics\\classification.py:958: UndefinedMetricWarning: Precision and F-score are ill-defined and being set to 0.0 in labels with no predicted samples.\n",
      "  'precision', 'predicted', average, warn_for)\n"
     ]
    }
   ],
   "source": [
    "print(\"Performance par classe du classifieur Naive Bayes \\n\",sklearn.metrics.classification_report(y_test, predicted_NaiveBayes_alltext))\n",
    "print(\"Performance par classe du classifieur SVM \\n\",sklearn.metrics.classification_report(y_test, predicted_SVM_alltext))"
   ]
  },
  {
   "cell_type": "code",
   "execution_count": 222,
   "metadata": {
    "collapsed": false
   },
   "outputs": [
    {
     "name": "stdout",
     "output_type": "stream",
     "text": [
      "Matrice de confusion du classifieur Naive Bayes \n",
      " [[ 1962     0    13   205  4809]\n",
      " [  334     0    81   323  3804]\n",
      " [  101     1   191   843  6691]\n",
      " [   15     0    35   735 18040]\n",
      " [   17     1    10   145 61681]]\n",
      "Matrice de confusion du classifieur SVM \n",
      " [[  178     0     1    75  6735]\n",
      " [   10     0    36    60  4436]\n",
      " [    2     0   230   251  7344]\n",
      " [    0     0    56   665 18104]\n",
      " [    0     0    13   364 61477]]\n"
     ]
    }
   ],
   "source": [
    "print(\"Matrice de confusion du classifieur Naive Bayes \\n\",sklearn.metrics.confusion_matrix(y_test, predicted_NaiveBayes_alltext))\n",
    "print(\"Matrice de confusion du classifieur SVM \\n\",sklearn.metrics.confusion_matrix(y_test, predicted_SVM_alltext))"
   ]
  },
  {
   "cell_type": "markdown",
   "metadata": {},
   "source": [
    "### 4. Features supplémentaires"
   ]
  },
  {
   "cell_type": "code",
   "execution_count": 223,
   "metadata": {
    "collapsed": false
   },
   "outputs": [
    {
     "name": "stdout",
     "output_type": "stream",
     "text": [
      "L'accuracy du classifieur Naive Bayes est de 61.8%\n",
      "L'accuracy du classifieur SVM est de 61.8%\n"
     ]
    }
   ],
   "source": [
    "print(\"L'accuracy du classifieur Naive Bayes est de \"+str((np.mean(predicted_NaiveBayes_supfeatures == y_test)*100).round(1))+\"%\")\n",
    "print(\"L'accuracy du classifieur SVM est de \"+str((np.mean(predicted_SVM_supfeatures == y_test)*100).round(1))+\"%\")"
   ]
  },
  {
   "cell_type": "code",
   "execution_count": 224,
   "metadata": {
    "collapsed": false
   },
   "outputs": [
    {
     "name": "stdout",
     "output_type": "stream",
     "text": [
      "Performance par classe du classifieur Naive Bayes \n",
      "              precision    recall  f1-score   support\n",
      "\n",
      "        1.0       0.00      0.00      0.00      6989\n",
      "        2.0       0.00      0.00      0.00      4542\n",
      "        3.0       0.00      0.00      0.00      7827\n",
      "        4.0       0.00      0.00      0.00     18825\n",
      "        5.0       0.62      1.00      0.76     61854\n",
      "\n",
      "avg / total       0.38      0.62      0.47    100037\n",
      "\n",
      "Performance par classe du classifieur SVM \n",
      "              precision    recall  f1-score   support\n",
      "\n",
      "        1.0       0.00      0.00      0.00      6989\n",
      "        2.0       0.00      0.00      0.00      4542\n",
      "        3.0       0.00      0.00      0.00      7827\n",
      "        4.0       0.00      0.00      0.00     18825\n",
      "        5.0       0.62      1.00      0.76     61854\n",
      "\n",
      "avg / total       0.38      0.62      0.47    100037\n",
      "\n"
     ]
    },
    {
     "name": "stderr",
     "output_type": "stream",
     "text": [
      "D:\\Users\\acombess\\PythonENSAE\\python\\lib\\site-packages\\sklearn\\metrics\\classification.py:958: UndefinedMetricWarning: Precision and F-score are ill-defined and being set to 0.0 in labels with no predicted samples.\n",
      "  'precision', 'predicted', average, warn_for)\n"
     ]
    }
   ],
   "source": [
    "print(\"Performance par classe du classifieur Naive Bayes \\n\",sklearn.metrics.classification_report(y_test, predicted_NaiveBayes_supfeatures))\n",
    "print(\"Performance par classe du classifieur SVM \\n\",sklearn.metrics.classification_report(y_test, predicted_SVM_supfeatures))"
   ]
  },
  {
   "cell_type": "code",
   "execution_count": 225,
   "metadata": {
    "collapsed": false
   },
   "outputs": [
    {
     "name": "stdout",
     "output_type": "stream",
     "text": [
      "Matrice de confusion du classifieur Naive Bayes \n",
      " [[    0     0     0     0  6989]\n",
      " [    0     0     0     0  4542]\n",
      " [    0     0     0     0  7827]\n",
      " [    0     0     0     0 18825]\n",
      " [    0     0     0     0 61854]]\n",
      "Matrice de confusion du classifieur SVM \n",
      " [[    0     0     0     0  6989]\n",
      " [    0     0     0     0  4542]\n",
      " [    0     0     0     0  7827]\n",
      " [    0     0     0     0 18825]\n",
      " [    0     0     0     0 61854]]\n"
     ]
    }
   ],
   "source": [
    "print(\"Matrice de confusion du classifieur Naive Bayes \\n\",sklearn.metrics.confusion_matrix(y_test, predicted_NaiveBayes_supfeatures))\n",
    "print(\"Matrice de confusion du classifieur SVM \\n\",sklearn.metrics.confusion_matrix(y_test, predicted_SVM_supfeatures))"
   ]
  },
  {
   "cell_type": "markdown",
   "metadata": {},
   "source": [
    "On constate qu'il s'agit d'un classifieur sans intérêt, car il ne prédit que des 5."
   ]
  },
  {
   "cell_type": "markdown",
   "metadata": {},
   "source": [
    "### 3. Pour la combinaison des features"
   ]
  },
  {
   "cell_type": "code",
   "execution_count": 226,
   "metadata": {
    "collapsed": false
   },
   "outputs": [
    {
     "name": "stdout",
     "output_type": "stream",
     "text": [
      "L'accuracy du classifieur Naive Bayes est de 64.0%\n",
      "L'accuracy du classifieur SVM est de 62.5%\n"
     ]
    }
   ],
   "source": [
    "print(\"L'accuracy du classifieur Naive Bayes est de \"+str((np.mean(predicted_NaiveBayes_allfeatures == y_test)*100).round(1))+\"%\")\n",
    "print(\"L'accuracy du classifieur SVM est de \"+str((np.mean(predicted_SVM_allfeatures == y_test)*100).round(1))+\"%\")"
   ]
  },
  {
   "cell_type": "code",
   "execution_count": 227,
   "metadata": {
    "collapsed": false
   },
   "outputs": [
    {
     "name": "stdout",
     "output_type": "stream",
     "text": [
      "Performance par classe du classifieur Naive Bayes \n",
      "              precision    recall  f1-score   support\n",
      "\n",
      "        1.0       0.83      0.23      0.36      6989\n",
      "        2.0       0.00      0.00      0.00      4542\n",
      "        3.0       0.55      0.01      0.02      7827\n",
      "        4.0       0.30      0.03      0.06     18825\n",
      "        5.0       0.64      1.00      0.78     61854\n",
      "\n",
      "avg / total       0.56      0.64      0.52    100037\n",
      "\n",
      "Performance par classe du classifieur SVM \n",
      "              precision    recall  f1-score   support\n",
      "\n",
      "        1.0       0.93      0.03      0.05      6989\n",
      "        2.0       0.00      0.00      0.00      4542\n",
      "        3.0       0.69      0.03      0.06      7827\n",
      "        4.0       0.47      0.04      0.07     18825\n",
      "        5.0       0.63      0.99      0.77     61854\n",
      "\n",
      "avg / total       0.59      0.63      0.50    100037\n",
      "\n"
     ]
    },
    {
     "name": "stderr",
     "output_type": "stream",
     "text": [
      "D:\\Users\\acombess\\PythonENSAE\\python\\lib\\site-packages\\sklearn\\metrics\\classification.py:958: UndefinedMetricWarning: Precision and F-score are ill-defined and being set to 0.0 in labels with no predicted samples.\n",
      "  'precision', 'predicted', average, warn_for)\n"
     ]
    }
   ],
   "source": [
    "print(\"Performance par classe du classifieur Naive Bayes \\n\",sklearn.metrics.classification_report(y_test, predicted_NaiveBayes_allfeatures))\n",
    "print(\"Performance par classe du classifieur SVM \\n\",sklearn.metrics.classification_report(y_test, predicted_SVM_allfeatures))"
   ]
  },
  {
   "cell_type": "code",
   "execution_count": 228,
   "metadata": {
    "collapsed": false
   },
   "outputs": [
    {
     "name": "stdout",
     "output_type": "stream",
     "text": [
      "Matrice de confusion du classifieur Naive Bayes \n",
      " [[ 1620     0     6   186  5177]\n",
      " [  242     0    49   315  3936]\n",
      " [   62     1    94   817  6853]\n",
      " [   12     0    18   603 18192]\n",
      " [   10     0     3   110 61731]]\n",
      "Matrice de confusion du classifieur SVM \n",
      " [[  189     0     1    73  6726]\n",
      " [   11     0    35    57  4439]\n",
      " [    3     0   233   251  7340]\n",
      " [    0     0    57   659 18109]\n",
      " [    0     0    13   363 61478]]\n"
     ]
    }
   ],
   "source": [
    "print(\"Matrice de confusion du classifieur Naive Bayes \\n\",sklearn.metrics.confusion_matrix(y_test, predicted_NaiveBayes_allfeatures))\n",
    "print(\"Matrice de confusion du classifieur SVM \\n\",sklearn.metrics.confusion_matrix(y_test, predicted_SVM_allfeatures))"
   ]
  },
  {
   "cell_type": "markdown",
   "metadata": {},
   "source": [
    "## Simplification du problème en classification binaire"
   ]
  },
  {
   "cell_type": "markdown",
   "metadata": {},
   "source": [
    "En étudiant les matrices de confusion obtenues, on voit qu'il est difficile de prédire distinctement les notes entre 1 et 4. Nous allons donc nous ramener à un sous-problème de classification binaire, c'est-à-dire de prédire si la note sera de 5 ou non."
   ]
  },
  {
   "cell_type": "code",
   "execution_count": 98,
   "metadata": {
    "collapsed": false
   },
   "outputs": [],
   "source": [
    "def bin_transformation(x):\n",
    "    if x==5:\n",
    "        return(\"5\")\n",
    "    else:\n",
    "        return(\"1-4\")"
   ]
  },
  {
   "cell_type": "code",
   "execution_count": 159,
   "metadata": {
    "collapsed": false
   },
   "outputs": [],
   "source": [
    "y_train_bin=y_train.apply(bin_transformation).astype(\"category\")\n",
    "y_test_bin=y_test.apply(bin_transformation).astype(\"category\")"
   ]
  },
  {
   "cell_type": "markdown",
   "metadata": {},
   "source": [
    "On ré-entraîne tous les classifieurs pour ce problème binaire:"
   ]
  },
  {
   "cell_type": "code",
   "execution_count": 231,
   "metadata": {
    "collapsed": false
   },
   "outputs": [],
   "source": [
    "#Texte complet de la review\n",
    "clf = MultinomialNB().fit(X_train_tfidf_reviewText, y_train_bin)\n",
    "predicted_bin_NaiveBayes_reviewText = clf.predict(X_test_tfidf_reviewText)\n",
    "clf2 = SGDclass.fit(X_train_tfidf_reviewText, y_train_bin)\n",
    "predicted_bin_SVM_reviewText = clf2.predict(X_test_tfidf_reviewText)\n",
    "#Texte du résumé de la review\n",
    "clf = MultinomialNB().fit(X_train_tfidf_summary, y_train_bin)\n",
    "predicted_bin_NaiveBayes_summary = clf.predict(X_test_tfidf_summary)\n",
    "clf2 = SGDclass.fit(X_train_tfidf_summary, y_train_bin)\n",
    "predicted_bin_SVM_summary = clf2.predict(X_test_tfidf_summary)\n",
    "#Texte complet et résumé de la review\n",
    "clf = MultinomialNB().fit(X_train_alltext, y_train_bin)\n",
    "predicted_bin_NaiveBayes_alltext = clf.predict(X_test_alltext)\n",
    "clf2 = SGDclass.fit(X_train_alltext, y_train_bin)\n",
    "predicted_bin_SVM_alltext = clf2.predict(X_test_alltext)\n",
    "#Features supplémentaires\n",
    "clf = MultinomialNB().fit(X_train_supfeatures, y_train_bin)\n",
    "predicted_bin_NaiveBayes_supfeatures = clf.predict(X_test_supfeatures)\n",
    "clf2 = SGDclass.fit(X_train_supfeatures, y_train_bin)\n",
    "predicted_bin_SVM_supfeatures = clf2.predict(X_test_supfeatures)\n",
    "#Combinaison de toutes les features\n",
    "clf = MultinomialNB().fit(X_train_allfeatures, y_train_bin)\n",
    "predicted_bin_NaiveBayes_allfeatures = clf.predict(X_test_allfeatures)\n",
    "clf2 = SGDclass.fit(X_train_allfeatures, y_train_bin)\n",
    "predicted_bin_SVM_allfeatures = clf.predict(X_test_allfeatures)"
   ]
  },
  {
   "cell_type": "markdown",
   "metadata": {},
   "source": [
    "Maintenant on peut réévaluer l'ensemble des classifieurs sur nos features. Notons qu'on calcule les indicateurs Precision, Recall et f1-score pour le label \"5\" uniquement étant donné que le problème est binaire."
   ]
  },
  {
   "cell_type": "code",
   "execution_count": 232,
   "metadata": {
    "collapsed": false
   },
   "outputs": [
    {
     "name": "stderr",
     "output_type": "stream",
     "text": [
      "D:\\Users\\acombess\\PythonENSAE\\python\\lib\\site-packages\\sklearn\\metrics\\classification.py:958: UndefinedMetricWarning: Precision and F-score are ill-defined and being set to 0.0 in labels with no predicted samples.\n",
      "  'precision', 'predicted', average, warn_for)\n"
     ]
    },
    {
     "data": {
      "text/html": [
       "<div>\n",
       "<table border=\"1\" class=\"dataframe\">\n",
       "  <thead>\n",
       "    <tr style=\"text-align: right;\">\n",
       "      <th></th>\n",
       "      <th>Accuracy</th>\n",
       "      <th>Precision</th>\n",
       "      <th>Recall</th>\n",
       "      <th>f1-score</th>\n",
       "    </tr>\n",
       "  </thead>\n",
       "  <tbody>\n",
       "    <tr>\n",
       "      <th>ReviewText-NaiveBayes</th>\n",
       "      <td>67.0%</td>\n",
       "      <td>65.4%</td>\n",
       "      <td>99.0%</td>\n",
       "      <td>78.8%</td>\n",
       "    </tr>\n",
       "    <tr>\n",
       "      <th>ReviewText-SVM</th>\n",
       "      <td>67.0%</td>\n",
       "      <td>65.4%</td>\n",
       "      <td>99.0%</td>\n",
       "      <td>78.8%</td>\n",
       "    </tr>\n",
       "    <tr>\n",
       "      <th>Summary-NaiveBayes</th>\n",
       "      <td>74.4%</td>\n",
       "      <td>73.4%</td>\n",
       "      <td>91.8%</td>\n",
       "      <td>81.6%</td>\n",
       "    </tr>\n",
       "    <tr>\n",
       "      <th>Summary-SVM</th>\n",
       "      <td>67.3%</td>\n",
       "      <td>66.1%</td>\n",
       "      <td>96.8%</td>\n",
       "      <td>78.5%</td>\n",
       "    </tr>\n",
       "    <tr>\n",
       "      <th>Alltext-NaiveBayes</th>\n",
       "      <td>78.3%</td>\n",
       "      <td>76.3%</td>\n",
       "      <td>94.0%</td>\n",
       "      <td>84.3%</td>\n",
       "    </tr>\n",
       "    <tr>\n",
       "      <th>Alltext-SVM</th>\n",
       "      <td>74.2%</td>\n",
       "      <td>71.7%</td>\n",
       "      <td>96.1%</td>\n",
       "      <td>82.2%</td>\n",
       "    </tr>\n",
       "    <tr>\n",
       "      <th>Supfeatures-NaiveBayes</th>\n",
       "      <td>61.8%</td>\n",
       "      <td>61.8%</td>\n",
       "      <td>100.0%</td>\n",
       "      <td>76.4%</td>\n",
       "    </tr>\n",
       "    <tr>\n",
       "      <th>Supfeatures-SVM</th>\n",
       "      <td>61.8%</td>\n",
       "      <td>61.8%</td>\n",
       "      <td>100.0%</td>\n",
       "      <td>76.4%</td>\n",
       "    </tr>\n",
       "    <tr>\n",
       "      <th>Allfeatures-NaiveBayes</th>\n",
       "      <td>78.2%</td>\n",
       "      <td>76.1%</td>\n",
       "      <td>94.3%</td>\n",
       "      <td>84.2%</td>\n",
       "    </tr>\n",
       "    <tr>\n",
       "      <th>Allfeatures-SVM</th>\n",
       "      <td>78.2%</td>\n",
       "      <td>76.1%</td>\n",
       "      <td>94.3%</td>\n",
       "      <td>84.2%</td>\n",
       "    </tr>\n",
       "  </tbody>\n",
       "</table>\n",
       "</div>"
      ],
      "text/plain": [
       "                       Accuracy Precision  Recall f1-score\n",
       "ReviewText-NaiveBayes     67.0%     65.4%   99.0%    78.8%\n",
       "ReviewText-SVM            67.0%     65.4%   99.0%    78.8%\n",
       "Summary-NaiveBayes        74.4%     73.4%   91.8%    81.6%\n",
       "Summary-SVM               67.3%     66.1%   96.8%    78.5%\n",
       "Alltext-NaiveBayes        78.3%     76.3%   94.0%    84.3%\n",
       "Alltext-SVM               74.2%     71.7%   96.1%    82.2%\n",
       "Supfeatures-NaiveBayes    61.8%     61.8%  100.0%    76.4%\n",
       "Supfeatures-SVM           61.8%     61.8%  100.0%    76.4%\n",
       "Allfeatures-NaiveBayes    78.2%     76.1%   94.3%    84.2%\n",
       "Allfeatures-SVM           78.2%     76.1%   94.3%    84.2%"
      ]
     },
     "execution_count": 232,
     "metadata": {},
     "output_type": "execute_result"
    }
   ],
   "source": [
    "index_clf=[\"ReviewText-NaiveBayes\",\"ReviewText-SVM\",\"Summary-NaiveBayes\",\"Summary-SVM\",\n",
    "           \"Alltext-NaiveBayes\",\"Alltext-SVM\",\"Supfeatures-NaiveBayes\",\"Supfeatures-SVM\",\n",
    "          \"Allfeatures-NaiveBayes\",\"Allfeatures-SVM\"]\n",
    "predicted_clf=[predicted_bin_SVM_reviewText, predicted_bin_SVM_reviewText, \n",
    "              predicted_bin_NaiveBayes_summary, predicted_bin_SVM_summary,\n",
    "             predicted_bin_NaiveBayes_alltext, predicted_bin_SVM_alltext,\n",
    "             predicted_bin_NaiveBayes_supfeatures, predicted_bin_SVM_supfeatures,\n",
    "             predicted_bin_NaiveBayes_allfeatures, predicted_bin_SVM_allfeatures]\n",
    "def percent_round1(x):\n",
    "    return(str((x*100).round(1))+\"%\")\n",
    "Accuracy_clf=[percent_round1(np.mean(x==y_test_bin)) for x in predicted_clf]\n",
    "Report_clf=[sklearn.metrics.precision_recall_fscore_support(y_test_bin, x) for x in predicted_clf]\n",
    "Precision_clf=[percent_round1(x[0][1]) for x in Report_clf]\n",
    "Recall_clf=[percent_round1(x[1][1]) for x in Report_clf]\n",
    "f1score_clf=[percent_round1(x[2][1]) for x in Report_clf]\n",
    "\n",
    "dic_clf = {'Accuracy' : pd.Series(Accuracy_clf, index=index_clf),\n",
    "     'Precision' : pd.Series(Precision_clf, index=index_clf),\n",
    "     'Recall' : pd.Series(Recall_clf, index=index_clf),\n",
    "     'f1-score': pd.Series(f1score_clf, index=index_clf),\n",
    "    }\n",
    "df_clf=pd.DataFrame(dic_clf)\n",
    "df_clf"
   ]
  },
  {
   "cell_type": "markdown",
   "metadata": {},
   "source": [
    "On voit que le classifieur le plus performant est le **Naive Bayes sur tout le texte**, sans les features supplémentaires. L'ajout des features supplémentaires n'augmente pas particulièrement la performance, sauf pour le modèle SVM, qui reste cependant en dessous du NaiveBayes. De manière générale, la performance des classifieurs SVM est inférieure ou égale à celle des classifieurs Naive Bayes."
   ]
  },
  {
   "cell_type": "markdown",
   "metadata": {},
   "source": [
    "Enfin, pour évaluer la performance, nous allons tracer la courbe de ROC et évaluer le critère AUC. Pour faciliter la lisibilité du graphique, on élimine le classifieur uniquement sur les variables supplémentaires, car celui-ci ne prédit que des 5."
   ]
  },
  {
   "cell_type": "code",
   "execution_count": 233,
   "metadata": {
    "collapsed": false
   },
   "outputs": [],
   "source": [
    "#Texte complet de la review\n",
    "clf = MultinomialNB().fit(X_train_tfidf_reviewText, y_train_bin)\n",
    "probas_bin_NaiveBayes_reviewText = clf.predict_proba(X_test_tfidf_reviewText)[:,1]\n",
    "clf2 = SGDclass.fit(X_train_tfidf_reviewText, y_train_bin)\n",
    "probas_bin_SVM_reviewText = clf2.predict_proba(X_test_tfidf_reviewText)[:,1]\n",
    "#Texte du résumé de la review\n",
    "clf = MultinomialNB().fit(X_train_tfidf_summary, y_train_bin)\n",
    "probas_bin_NaiveBayes_summary = clf.predict_proba(X_test_tfidf_summary)[:,1]\n",
    "clf2 = SGDclass.fit(X_train_tfidf_summary, y_train_bin)\n",
    "probas_bin_SVM_summary = clf2.predict_proba(X_test_tfidf_summary)[:,1]\n",
    "#Texte complet et résumé de la review\n",
    "clf = MultinomialNB().fit(X_train_alltext, y_train_bin)\n",
    "probas_bin_NaiveBayes_alltext = clf.predict_proba(X_test_alltext)[:,1]\n",
    "clf2 = SGDclass.fit(X_train_alltext, y_train_bin)\n",
    "probas_bin_SVM_alltext = clf2.predict_proba(X_test_alltext)[:,1]\n",
    "#Combinaison de toutes les features\n",
    "clf = MultinomialNB().fit(X_train_allfeatures, y_train_bin)\n",
    "probas_bin_NaiveBayes_allfeatures = clf.predict_proba(X_test_allfeatures)[:,1]\n",
    "clf2 = SGDclass.fit(X_train_allfeatures, y_train_bin)\n",
    "probas_bin_SVM_allfeatures = clf.predict_proba(X_test_allfeatures)[:,1]"
   ]
  },
  {
   "cell_type": "code",
   "execution_count": 256,
   "metadata": {
    "collapsed": false
   },
   "outputs": [
    {
     "data": {
      "text/plain": [
       "<matplotlib.legend.Legend at 0x5a034c18>"
      ]
     },
     "execution_count": 256,
     "metadata": {},
     "output_type": "execute_result"
    },
    {
     "data": {
      "image/png": "[encoded data removed]",
      "text/plain": [
       "<matplotlib.figure.Figure at 0x59212358>"
      ]
     },
     "metadata": {},
     "output_type": "display_data"
    }
   ],
   "source": [
    "%matplotlib inline\n",
    "matplotlib.rcParams['figure.figsize'] = (10, 6)\n",
    "from sklearn.metrics import roc_curve, auc\n",
    "probas = [probas_bin_NaiveBayes_reviewText,probas_bin_SVM_reviewText,\n",
    "         probas_bin_NaiveBayes_summary, probas_bin_SVM_summary,\n",
    "         probas_bin_NaiveBayes_alltext, probas_bin_SVM_alltext,\n",
    "         probas_bin_NaiveBayes_allfeatures, probas_bin_SVM_allfeatures]\n",
    "labels=[\"ReviewText-NaiveBayes\",\"ReviewText-SVM\",\"Summary-NaiveBayes\",\"Summary-SVM\",\n",
    "        \"Alltext-NaiveBayes\",\"Alltext-SVM\",\"Allfeatures-NaiveBayes\",\"Allfeatures-SVM\"]\n",
    "fpr= [None] * len(probas)\n",
    "tpr=[None] * len(probas)\n",
    "thresholds=[None] * len(probas)\n",
    "roc_auc=[None] * len(probas)\n",
    "for i in range(len(probas)):    \n",
    "    fpr[i], tpr[i], thresholds[i] = metrics.roc_curve(y_test_bin.ravel(), probas[i], pos_label=\"5\")\n",
    "    roc_auc[i]=auc(fpr[i],tpr[i])\n",
    "    plt.plot(fpr[i], tpr[i], label=labels[i]+\" (AUC = %0.2f)\" % roc_auc[i])\n",
    "plt.plot([0, 1], [0, 1], 'k--')\n",
    "plt.xlim([0.0, 1.0])\n",
    "plt.ylim([0.0, 1.0])\n",
    "plt.xlabel('False Positive Rate')\n",
    "plt.ylabel('True Positive Rate')\n",
    "plt.title('Courbes de ROC (Receiver Operating characteristic)')\n",
    "plt.legend(loc=\"lower right\")"
   ]
  },
  {
   "cell_type": "markdown",
   "metadata": {},
   "source": [
    "On voit que l'apport des features supplémentaires n'importe qu'un petit gain d'AUC au classifieur SVM. Les modèles Naive Bayes sont toujours bien supérieurs en termes d'AUC aux modèles SVM."
   ]
  },
  {
   "cell_type": "markdown",
   "metadata": {},
   "source": [
    "## Optimisation des hyper-paramètres pour la classification binaire"
   ]
  },
  {
   "cell_type": "markdown",
   "metadata": {},
   "source": [
    "Nous allons nous concentrer ici sur l'optimisation des hyperparamètres de chacun des classifieurs sur l'intégralité des features."
   ]
  },
  {
   "cell_type": "markdown",
   "metadata": {},
   "source": [
    "### 1. Optimisation du classifieur Naive Bayes"
   ]
  },
  {
   "cell_type": "code",
   "execution_count": 289,
   "metadata": {
    "collapsed": false
   },
   "outputs": [
    {
     "data": {
      "text/plain": [
       "GridSearchCV(cv=None, error_score='raise',\n",
       "       estimator=MultinomialNB(alpha=1.0, class_prior=None, fit_prior=True),\n",
       "       fit_params={}, iid=True, loss_func=None, n_jobs=1,\n",
       "       param_grid={'alpha': [0.001, 0.20506122448979594, 0.40912244897959188, 0.61318367346938785, 0.81724489795918376, 1.0213061224489797, 1.2253673469387756, 1.4294285714285715, 1.6334897959183674, 1.8375510204081633, 2.0416122448979594, 2.2456734693877554, 2.4497346938775513, 2.6537959183673472, 2.85785...6938775510213, 9.1837551020408164, 9.3878163265306132, 9.5918775510204082, 9.795938775510205, 10.0]},\n",
       "       pre_dispatch='2*n_jobs', refit=True, score_func=None, scoring=None,\n",
       "       verbose=0)"
      ]
     },
     "execution_count": 289,
     "metadata": {},
     "output_type": "execute_result"
    }
   ],
   "source": [
    "from sklearn import grid_search\n",
    "parameters_NB = {'alpha':list(np.linspace(0.001,10,50))}\n",
    "clf1=grid_search.GridSearchCV(MultinomialNB(), parameters_NB)\n",
    "clf1.fit(X_train_allfeatures, y_train_bin)"
   ]
  },
  {
   "cell_type": "code",
   "execution_count": 290,
   "metadata": {
    "collapsed": true
   },
   "outputs": [],
   "source": [
    "predicted_bin_NaiveBayes_optim_allfeatures = clf1.predict(X_test_allfeatures)"
   ]
  },
  {
   "cell_type": "markdown",
   "metadata": {},
   "source": [
    "### 2. Optimisation du classifieur SVM"
   ]
  },
  {
   "cell_type": "code",
   "execution_count": 279,
   "metadata": {
    "collapsed": false
   },
   "outputs": [
    {
     "data": {
      "text/plain": [
       "GridSearchCV(cv=None, error_score='raise',\n",
       "       estimator=SGDClassifier(alpha=0.0001, average=False, class_weight=None, epsilon=0.1,\n",
       "       eta0=0.0, fit_intercept=True, l1_ratio=0.15,\n",
       "       learning_rate='optimal', loss='hinge', n_iter=5, n_jobs=1,\n",
       "       penalty='l2', power_t=0.5, random_state=None, shuffle=True,\n",
       "       verbose=0, warm_start=False),\n",
       "       fit_params={}, iid=True, loss_func=None, n_jobs=1,\n",
       "       param_grid={'loss': ['modified_huber', 'log'], 'alpha': [9.9999999999999995e-07, 2.1387755102040818e-05, 4.1775510204081632e-05, 6.2163265306122456e-05, 8.2551020408163267e-05, 0.00010293877551020408, 0.00012332653061224492, 0.00014371428571428573, 0.00016410204081632654, 0.00018448979591836735, 0.0...87764, 0.0009592244897959184, 0.00097961224489795926, 0.001], 'penalty': ['l2', 'l1', 'elasticnet']},\n",
       "       pre_dispatch='2*n_jobs', refit=True, score_func=None, scoring=None,\n",
       "       verbose=0)"
      ]
     },
     "execution_count": 279,
     "metadata": {},
     "output_type": "execute_result"
    }
   ],
   "source": [
    "parameters_SVM = {'alpha':list(np.linspace(0.000001,0.001,50)),\n",
    "                  'loss':[\"modified_huber\",\"log\"],\n",
    "                  'penalty': [\"l2\", \"l1\",\"elasticnet\"],\n",
    "                 }\n",
    "clf2=grid_search.GridSearchCV(SGDClassifier(), parameters_SVM)\n",
    "clf2.fit(X_train_allfeatures, y_train_bin)"
   ]
  },
  {
   "cell_type": "code",
   "execution_count": 287,
   "metadata": {
    "collapsed": true
   },
   "outputs": [],
   "source": [
    "predicted_bin_SVM_optim_allfeatures = clf2.predict(X_test_allfeatures)"
   ]
  },
  {
   "cell_type": "markdown",
   "metadata": {},
   "source": [
    "### 3. Optimisation du classifieur k-Nearest Neighbors"
   ]
  },
  {
   "cell_type": "code",
   "execution_count": 275,
   "metadata": {
    "collapsed": true
   },
   "outputs": [],
   "source": [
    "#A remplir"
   ]
  },
  {
   "cell_type": "markdown",
   "metadata": {},
   "source": [
    "### Comparaison de performance entre classifieurs optimisés et non optimisés"
   ]
  },
  {
   "cell_type": "code",
   "execution_count": 291,
   "metadata": {
    "collapsed": false
   },
   "outputs": [
    {
     "data": {
      "text/html": [
       "<div>\n",
       "<table border=\"1\" class=\"dataframe\">\n",
       "  <thead>\n",
       "    <tr style=\"text-align: right;\">\n",
       "      <th></th>\n",
       "      <th>Accuracy</th>\n",
       "      <th>Precision</th>\n",
       "      <th>Recall</th>\n",
       "      <th>f1-score</th>\n",
       "    </tr>\n",
       "  </thead>\n",
       "  <tbody>\n",
       "    <tr>\n",
       "      <th>NaiveBayes-Basic</th>\n",
       "      <td>78.2%</td>\n",
       "      <td>76.1%</td>\n",
       "      <td>94.3%</td>\n",
       "      <td>84.2%</td>\n",
       "    </tr>\n",
       "    <tr>\n",
       "      <th>NaiveBayes-Optimized</th>\n",
       "      <td>78.7%</td>\n",
       "      <td>77.9%</td>\n",
       "      <td>91.5%</td>\n",
       "      <td>84.2%</td>\n",
       "    </tr>\n",
       "    <tr>\n",
       "      <th>SVM-Basic</th>\n",
       "      <td>78.2%</td>\n",
       "      <td>76.1%</td>\n",
       "      <td>94.3%</td>\n",
       "      <td>84.2%</td>\n",
       "    </tr>\n",
       "    <tr>\n",
       "      <th>SVM-Optimized</th>\n",
       "      <td>81.3%</td>\n",
       "      <td>81.2%</td>\n",
       "      <td>90.8%</td>\n",
       "      <td>85.7%</td>\n",
       "    </tr>\n",
       "  </tbody>\n",
       "</table>\n",
       "</div>"
      ],
      "text/plain": [
       "                     Accuracy Precision Recall f1-score\n",
       "NaiveBayes-Basic        78.2%     76.1%  94.3%    84.2%\n",
       "NaiveBayes-Optimized    78.7%     77.9%  91.5%    84.2%\n",
       "SVM-Basic               78.2%     76.1%  94.3%    84.2%\n",
       "SVM-Optimized           81.3%     81.2%  90.8%    85.7%"
      ]
     },
     "execution_count": 291,
     "metadata": {},
     "output_type": "execute_result"
    }
   ],
   "source": [
    "index_clf=[\"NaiveBayes-Basic\",\"NaiveBayes-Optimized\",\"SVM-Basic\",\"SVM-Optimized\"]\n",
    "predicted_clf=[predicted_bin_NaiveBayes_allfeatures, predicted_bin_NaiveBayes_optim_allfeatures,\n",
    "               predicted_bin_SVM_allfeatures, predicted_bin_SVM_optim_allfeatures]\n",
    "def percent_round1(x):\n",
    "    return(str((x*100).round(1))+\"%\")\n",
    "Accuracy_clf=[percent_round1(np.mean(x==y_test_bin)) for x in predicted_clf]\n",
    "Report_clf=[sklearn.metrics.precision_recall_fscore_support(y_test_bin, x) for x in predicted_clf]\n",
    "Precision_clf=[percent_round1(x[0][1]) for x in Report_clf]\n",
    "Recall_clf=[percent_round1(x[1][1]) for x in Report_clf]\n",
    "f1score_clf=[percent_round1(x[2][1]) for x in Report_clf]\n",
    "\n",
    "dic_clf = {'Accuracy' : pd.Series(Accuracy_clf, index=index_clf),\n",
    "     'Precision' : pd.Series(Precision_clf, index=index_clf),\n",
    "     'Recall' : pd.Series(Recall_clf, index=index_clf),\n",
    "     'f1-score': pd.Series(f1score_clf, index=index_clf),\n",
    "    }\n",
    "df_clf=pd.DataFrame(dic_clf)\n",
    "df_clf"
   ]
  },
  {
   "cell_type": "markdown",
   "metadata": {},
   "source": [
    "On voit que l'optimisation est sensible pour le classifieur SVM, qui dépasse maintenant le classifieur Naive Bayes, sauf en termes de recall. Cependant, le temps de calcul a été beaucoup plus long pour SVM que pour Naive Bayes."
   ]
  },
  {
   "cell_type": "markdown",
   "metadata": {},
   "source": [
    "## Analyse de la performance en fonction du nombre de mots"
   ]
  },
  {
   "cell_type": "code",
   "execution_count": null,
   "metadata": {
    "collapsed": false
   },
   "outputs": [],
   "source": [
    "def createBins(x):\n",
    "    if x[\"countWordsReview\"] < 30:\n",
    "        return(30)\n",
    "    elif x[\"countWordsReview\"] < 100:\n",
    "        return(100)\n",
    "    elif x[\"countWordsReview\"] < 200:\n",
    "        return(200)\n",
    "    else:\n",
    "        return(300)"
   ]
  },
  {
   "cell_type": "code",
   "execution_count": null,
   "metadata": {
    "collapsed": false
   },
   "outputs": [],
   "source": [
    "dfy = pd.DataFrame(y_test)\n",
    "dfy[\"predicted\"] = predicted_reviewText\n",
    "dfy[\"reviewText\"] = df_test[\"reviewText\"]\n",
    "dfy[\"countWordsReview\"] = dfy[\"reviewText\"].apply(countWords)\n",
    "dfy[\"summary\"] = df_test[\"summary\"]\n",
    "dfy[\"countWordsSummary\"] = dfy[\"summary\"].apply(countWords)\n",
    "dfy[\"qualite\"] = abs(predicted_reviewText - y_test)\n",
    "dfy[\"bin\"] = dfy.apply(createBins, axis = 1)\n",
    "dfy.head()"
   ]
  },
  {
   "cell_type": "code",
   "execution_count": null,
   "metadata": {
    "collapsed": false
   },
   "outputs": [],
   "source": [
    "np.mean(dfy[dfy.bin==30][\"qualite\"])"
   ]
  },
  {
   "cell_type": "code",
   "execution_count": null,
   "metadata": {
    "collapsed": false
   },
   "outputs": [],
   "source": [
    "sum(abs(predicted_reviewText - y_test))"
   ]
  },
  {
   "cell_type": "markdown",
   "metadata": {},
   "source": [
    "## Bits of useless code (so far)"
   ]
  },
  {
   "cell_type": "code",
   "execution_count": null,
   "metadata": {
    "collapsed": false
   },
   "outputs": [],
   "source": [
    "#an example with another function TfidfVectorizer using frequency instead of count\n",
    "from sklearn.feature_extraction.text import TfidfVectorizer\n",
    "corpus = [\"This is very strange\",\n",
    "          \"This is very nice\"]\n",
    "vectorizer = TfidfVectorizer(min_df=1)\n",
    "X = vectorizer.fit_transform(corpus)\n",
    "idf = vectorizer.idf_\n",
    "print(dict(zip(vectorizer.get_feature_names(), idf)))"
   ]
  },
  {
   "cell_type": "code",
   "execution_count": null,
   "metadata": {
    "collapsed": false
   },
   "outputs": [],
   "source": [
    "# A possible approach that would require to construct pipelines\n",
    "from sklearn.pipeline import FeatureUnion\n",
    "from sklearn.feature_extraction import HashingVectorizer\n",
    "hash_vect = HashingVectorizer()"
   ]
  },
  {
   "cell_type": "code",
   "execution_count": null,
   "metadata": {
    "collapsed": false
   },
   "outputs": [],
   "source": [
    "for i in range(0,5) :\n",
    "        print(str(corpus_test_reviewText[i]) +\"\\n\"+ \"------ We predict \"+ str(predicted_reviewText[i])+\"\\n\")"
   ]
  },
  {
   "cell_type": "markdown",
   "metadata": {},
   "source": [
    "Then: draw multi class ROC Curve using this example: http://scikit-learn.org/stable/auto_examples/model_selection/plot_roc.html"
   ]
  },
  {
   "cell_type": "markdown",
   "metadata": {},
   "source": [
    "# Todo"
   ]
  },
  {
   "cell_type": "markdown",
   "metadata": {},
   "source": [
    "- Analyse de la performance en fonction du nombre de mots\n",
    "- Ajout d'un classifieur kNN\n",
    "- Analyse des features les plus importantes dans chaque modèle"
   ]
  }
 ],
 "metadata": {
  "kernelspec": {
   "display_name": "Python 3 (ENSAE)",
   "language": "python",
   "name": "python_3_ensae"
  },
  "language_info": {
   "codemirror_mode": {
    "name": "ipython",
    "version": 3
   },
   "file_extension": ".py",
   "mimetype": "text/x-python",
   "name": "python",
   "nbconvert_exporter": "python",
   "pygments_lexer": "ipython3",
   "version": "3.4.3"
  }
 },
 "nbformat": 4,
 "nbformat_minor": 0
}
