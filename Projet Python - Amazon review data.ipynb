{
 "cells": [
  {
   "cell_type": "markdown",
   "metadata": {},
   "source": [
    "# ENSAE Master Spécialisé Data Science - Projet Python de 1er semestre"
   ]
  },
  {
   "cell_type": "markdown",
   "metadata": {},
   "source": [
    "*Par Alexandre Combessie et Thibaut Duguet*"
   ]
  },
  {
   "cell_type": "markdown",
   "metadata": {},
   "source": [
    "## Chargement des données"
   ]
  },
  {
   "cell_type": "markdown",
   "metadata": {},
   "source": [
    "Les données complètes sont disponibles sur le site http://jmcauley.ucsd.edu/data/amazon/links.html. Pour commencer, on se concentre sur des bases de données pour des catégories spécifiques de produit, afin d'avoir une taille raisonnable."
   ]
  },
  {
   "cell_type": "code",
   "execution_count": 3,
   "metadata": {
    "collapsed": false
   },
   "outputs": [],
   "source": [
    "import os\n",
    "import json\n",
    "import gzip\n",
    "import pandas as pd\n",
    "import numpy as np\n",
    "import matplotlib\n",
    "import matplotlib.pyplot as plt\n",
    "import numpy as np\n",
    "import ipywidgets as widgets\n",
    "from IPython.display import display\n",
    "import statistics as stat\n",
    "from io import StringIO\n",
    "import nltk\n",
    "import sklearn"
   ]
  },
  {
   "cell_type": "markdown",
   "metadata": {},
   "source": [
    "Tout d'abord, on sélectionne la catégorie de produit à étudier:"
   ]
  },
  {
   "cell_type": "code",
   "execution_count": 4,
   "metadata": {
    "collapsed": false
   },
   "outputs": [],
   "source": [
    "category_options={\n",
    "    \"Musical Instruments\": \"reviews_Musical_Instruments.json.gz\",\n",
    "    \"Baby\": \"reviews_Baby.json.gz\",\n",
    "    \"Movies and TV\": \"reviews_Movies_and_TV.json.gz\",\n",
    "}\n",
    "dropdown = widgets.Dropdown(options=category_options, description=\"Catégorie de produit à étudier\")\n",
    "display(dropdown)"
   ]
  },
  {
   "cell_type": "markdown",
   "metadata": {},
   "source": [
    "Ensuite, on décompresse le fichier pour obtenir un fichier en format json"
   ]
  },
  {
   "cell_type": "code",
   "execution_count": 6,
   "metadata": {
    "collapsed": false
   },
   "outputs": [],
   "source": [
    "if(not(os.path.isfile(dropdown.value[:-3]))):\n",
    "    inputFile = gzip.open(dropdown.value, 'rb')\n",
    "    outputFile = open(dropdown.value[:-3], 'wb')\n",
    "    outputFile.write(inputFile.read())\n",
    "    inputFile.close()\n",
    "    outputFile.close()"
   ]
  },
  {
   "cell_type": "markdown",
   "metadata": {},
   "source": [
    "On la transforme en Pandas DataFrame "
   ]
  },
  {
   "cell_type": "code",
   "execution_count": 5,
   "metadata": {
    "collapsed": false
   },
   "outputs": [],
   "source": [
    "data=[]\n",
    "filepath=dropdown.value[:-3]\n",
    "with open(filepath) as f:\n",
    "    for line in f:\n",
    "        data.append(json.loads(line))\n",
    "df=pd.DataFrame(data)"
   ]
  },
  {
   "cell_type": "code",
   "execution_count": 12,
   "metadata": {
    "collapsed": false
   },
   "outputs": [
    {
     "data": {
      "text/html": [
       "<div>\n",
       "<table border=\"1\" class=\"dataframe\">\n",
       "  <thead>\n",
       "    <tr style=\"text-align: right;\">\n",
       "      <th></th>\n",
       "      <th>asin</th>\n",
       "      <th>helpful</th>\n",
       "      <th>overall</th>\n",
       "      <th>reviewText</th>\n",
       "      <th>reviewTime</th>\n",
       "      <th>reviewerID</th>\n",
       "      <th>reviewerName</th>\n",
       "      <th>summary</th>\n",
       "      <th>unixReviewTime</th>\n",
       "    </tr>\n",
       "  </thead>\n",
       "  <tbody>\n",
       "    <tr>\n",
       "      <th>0</th>\n",
       "      <td>0006428320</td>\n",
       "      <td>[0, 0]</td>\n",
       "      <td>3</td>\n",
       "      <td>The portfolio is fine except for the fact that...</td>\n",
       "      <td>03 11, 2014</td>\n",
       "      <td>A1YS9MDZP93857</td>\n",
       "      <td>John Taylor</td>\n",
       "      <td>Parts missing</td>\n",
       "      <td>1394496000</td>\n",
       "    </tr>\n",
       "    <tr>\n",
       "      <th>1</th>\n",
       "      <td>0014072149</td>\n",
       "      <td>[0, 0]</td>\n",
       "      <td>5</td>\n",
       "      <td>If you are a serious violin student on a budge...</td>\n",
       "      <td>06 6, 2013</td>\n",
       "      <td>A3TS466QBAWB9D</td>\n",
       "      <td>Silver Pencil</td>\n",
       "      <td>Perform it with a friend, today!</td>\n",
       "      <td>1370476800</td>\n",
       "    </tr>\n",
       "    <tr>\n",
       "      <th>2</th>\n",
       "      <td>0041291905</td>\n",
       "      <td>[0, 0]</td>\n",
       "      <td>5</td>\n",
       "      <td>This is and excellent edition and perfectly tr...</td>\n",
       "      <td>10 14, 2013</td>\n",
       "      <td>A3BUDYITWUSIS7</td>\n",
       "      <td>joyce gabriel cornett</td>\n",
       "      <td>Vivalldi's Four Seasons</td>\n",
       "      <td>1381708800</td>\n",
       "    </tr>\n",
       "    <tr>\n",
       "      <th>3</th>\n",
       "      <td>0041913574</td>\n",
       "      <td>[0, 0]</td>\n",
       "      <td>5</td>\n",
       "      <td>Perfect for someone who is an opera fan or a w...</td>\n",
       "      <td>09 23, 2010</td>\n",
       "      <td>A19K10Z0D2NTZK</td>\n",
       "      <td>TexasCowboy</td>\n",
       "      <td>Full score: voice and orchestra</td>\n",
       "      <td>1285200000</td>\n",
       "    </tr>\n",
       "    <tr>\n",
       "      <th>4</th>\n",
       "      <td>0201891859</td>\n",
       "      <td>[0, 1]</td>\n",
       "      <td>1</td>\n",
       "      <td>How many Nocturnes does it contain? All of the...</td>\n",
       "      <td>10 17, 2012</td>\n",
       "      <td>A14X336IB4JD89</td>\n",
       "      <td>dfjm53</td>\n",
       "      <td>Unable to determine contents</td>\n",
       "      <td>1350432000</td>\n",
       "    </tr>\n",
       "  </tbody>\n",
       "</table>\n",
       "</div>"
      ],
      "text/plain": [
       "         asin helpful  overall  \\\n",
       "0  0006428320  [0, 0]        3   \n",
       "1  0014072149  [0, 0]        5   \n",
       "2  0041291905  [0, 0]        5   \n",
       "3  0041913574  [0, 0]        5   \n",
       "4  0201891859  [0, 1]        1   \n",
       "\n",
       "                                          reviewText   reviewTime  \\\n",
       "0  The portfolio is fine except for the fact that...  03 11, 2014   \n",
       "1  If you are a serious violin student on a budge...   06 6, 2013   \n",
       "2  This is and excellent edition and perfectly tr...  10 14, 2013   \n",
       "3  Perfect for someone who is an opera fan or a w...  09 23, 2010   \n",
       "4  How many Nocturnes does it contain? All of the...  10 17, 2012   \n",
       "\n",
       "       reviewerID           reviewerName                           summary  \\\n",
       "0  A1YS9MDZP93857            John Taylor                     Parts missing   \n",
       "1  A3TS466QBAWB9D          Silver Pencil  Perform it with a friend, today!   \n",
       "2  A3BUDYITWUSIS7  joyce gabriel cornett           Vivalldi's Four Seasons   \n",
       "3  A19K10Z0D2NTZK            TexasCowboy   Full score: voice and orchestra   \n",
       "4  A14X336IB4JD89                 dfjm53      Unable to determine contents   \n",
       "\n",
       "   unixReviewTime  \n",
       "0      1394496000  \n",
       "1      1370476800  \n",
       "2      1381708800  \n",
       "3      1285200000  \n",
       "4      1350432000  "
      ]
     },
     "execution_count": 12,
     "metadata": {},
     "output_type": "execute_result"
    }
   ],
   "source": [
    "df.head()"
   ]
  },
  {
   "cell_type": "markdown",
   "metadata": {},
   "source": [
    "## Séparation Training and Validation sets"
   ]
  },
  {
   "cell_type": "markdown",
   "metadata": {},
   "source": [
    "Avant de commencer toute analyse ou modélisation, il faut séparer l'échantillon d'entrainement et l'échantillon de validation. On procède comme suit:"
   ]
  },
  {
   "cell_type": "code",
   "execution_count": 6,
   "metadata": {
    "collapsed": false
   },
   "outputs": [
    {
     "name": "stdout",
     "output_type": "stream",
     "text": [
      "(400146, 9) (100037, 9)\n"
     ]
    }
   ],
   "source": [
    "from sklearn.cross_validation import train_test_split\n",
    "y = df[\"overall\"]\n",
    "X = df.drop(\"overall\",axis=1,inplace=False)\n",
    "X_train,X_test,y_train,y_test = train_test_split(X.index,y,test_size=0.2)\n",
    "df_train=pd.concat([X,y],axis=1).iloc[X_train] # return dataframe train\n",
    "df_test=pd.concat([X,y],axis=1).iloc[X_test] # return dataframe test\n",
    "print(df_train.shape, df_test.shape)"
   ]
  },
  {
   "cell_type": "markdown",
   "metadata": {},
   "source": [
    "## Analyse descriptive"
   ]
  },
  {
   "cell_type": "markdown",
   "metadata": {},
   "source": [
    "Regardons la structure de la table:"
   ]
  },
  {
   "cell_type": "code",
   "execution_count": 10,
   "metadata": {
    "collapsed": false
   },
   "outputs": [
    {
     "data": {
      "text/html": [
       "<div>\n",
       "<table border=\"1\" class=\"dataframe\">\n",
       "  <thead>\n",
       "    <tr style=\"text-align: right;\">\n",
       "      <th></th>\n",
       "      <th>asin</th>\n",
       "      <th>helpful</th>\n",
       "      <th>reviewText</th>\n",
       "      <th>reviewTime</th>\n",
       "      <th>reviewerID</th>\n",
       "      <th>reviewerName</th>\n",
       "      <th>summary</th>\n",
       "      <th>unixReviewTime</th>\n",
       "      <th>overall</th>\n",
       "    </tr>\n",
       "  </thead>\n",
       "  <tbody>\n",
       "    <tr>\n",
       "      <th>466007</th>\n",
       "      <td>B002VUCB6S</td>\n",
       "      <td>[0, 0]</td>\n",
       "      <td>We love the car seat! We think that it was an ...</td>\n",
       "      <td>07 3, 2011</td>\n",
       "      <td>A36AP2W6NHIE22</td>\n",
       "      <td>Dragon</td>\n",
       "      <td>purple</td>\n",
       "      <td>1309651200</td>\n",
       "      <td>5</td>\n",
       "    </tr>\n",
       "    <tr>\n",
       "      <th>44028</th>\n",
       "      <td>B00007DWDZ</td>\n",
       "      <td>[0, 0]</td>\n",
       "      <td>I went through three of these pumps with my la...</td>\n",
       "      <td>01 30, 2009</td>\n",
       "      <td>A1N07L9HY2Y6LE</td>\n",
       "      <td>Adrienne K. Weighall</td>\n",
       "      <td>If you need to pump on a regular basis, don't ...</td>\n",
       "      <td>1233273600</td>\n",
       "      <td>2</td>\n",
       "    </tr>\n",
       "    <tr>\n",
       "      <th>859001</th>\n",
       "      <td>B00BEVF1VC</td>\n",
       "      <td>[0, 0]</td>\n",
       "      <td>I bought this seat for a tall slender 3 yr old...</td>\n",
       "      <td>04 11, 2014</td>\n",
       "      <td>A3AQNBL36B8WGQ</td>\n",
       "      <td>Janine H</td>\n",
       "      <td>Great all around seat ~ worth the $$$</td>\n",
       "      <td>1397174400</td>\n",
       "      <td>5</td>\n",
       "    </tr>\n",
       "    <tr>\n",
       "      <th>548494</th>\n",
       "      <td>B003SWZVG0</td>\n",
       "      <td>[1, 1]</td>\n",
       "      <td>I first used this bottle brush for my eldest s...</td>\n",
       "      <td>01 23, 2012</td>\n",
       "      <td>AS3JX5GLRYISL</td>\n",
       "      <td>Ardencie</td>\n",
       "      <td>Pretty darn good</td>\n",
       "      <td>1327276800</td>\n",
       "      <td>4</td>\n",
       "    </tr>\n",
       "    <tr>\n",
       "      <th>258952</th>\n",
       "      <td>B000YDDF6O</td>\n",
       "      <td>[0, 0]</td>\n",
       "      <td>i  was pleased with this item, wasy grip and i...</td>\n",
       "      <td>01 14, 2013</td>\n",
       "      <td>A30ZR1R8AUB5EG</td>\n",
       "      <td>NaN</td>\n",
       "      <td>baby toy</td>\n",
       "      <td>1358121600</td>\n",
       "      <td>4</td>\n",
       "    </tr>\n",
       "  </tbody>\n",
       "</table>\n",
       "</div>"
      ],
      "text/plain": [
       "              asin helpful                                         reviewText  \\\n",
       "466007  B002VUCB6S  [0, 0]  We love the car seat! We think that it was an ...   \n",
       "44028   B00007DWDZ  [0, 0]  I went through three of these pumps with my la...   \n",
       "859001  B00BEVF1VC  [0, 0]  I bought this seat for a tall slender 3 yr old...   \n",
       "548494  B003SWZVG0  [1, 1]  I first used this bottle brush for my eldest s...   \n",
       "258952  B000YDDF6O  [0, 0]  i  was pleased with this item, wasy grip and i...   \n",
       "\n",
       "         reviewTime      reviewerID          reviewerName  \\\n",
       "466007   07 3, 2011  A36AP2W6NHIE22                Dragon   \n",
       "44028   01 30, 2009  A1N07L9HY2Y6LE  Adrienne K. Weighall   \n",
       "859001  04 11, 2014  A3AQNBL36B8WGQ              Janine H   \n",
       "548494  01 23, 2012   AS3JX5GLRYISL              Ardencie   \n",
       "258952  01 14, 2013  A30ZR1R8AUB5EG                   NaN   \n",
       "\n",
       "                                                  summary  unixReviewTime  \\\n",
       "466007                                             purple      1309651200   \n",
       "44028   If you need to pump on a regular basis, don't ...      1233273600   \n",
       "859001              Great all around seat ~ worth the $$$      1397174400   \n",
       "548494                                   Pretty darn good      1327276800   \n",
       "258952                                           baby toy      1358121600   \n",
       "\n",
       "        overall  \n",
       "466007        5  \n",
       "44028         2  \n",
       "859001        5  \n",
       "548494        4  \n",
       "258952        4  "
      ]
     },
     "execution_count": 10,
     "metadata": {},
     "output_type": "execute_result"
    }
   ],
   "source": [
    "df_train.head()"
   ]
  },
  {
   "cell_type": "markdown",
   "metadata": {},
   "source": [
    "Etudions les dimensions clés de la table:"
   ]
  },
  {
   "cell_type": "code",
   "execution_count": 11,
   "metadata": {
    "collapsed": false
   },
   "outputs": [
    {
     "name": "stdout",
     "output_type": "stream",
     "text": [
      "Le nombre total de reviews est: 732358\n",
      "Le nombre total de produits est: 59337\n",
      "Le nombre total de reviewers est: 451833\n",
      "Soit un nombre moyen de 12.3 reviews par produit\n",
      "Soit un nombre moyen de 1.6 reviews par reviewers\n"
     ]
    }
   ],
   "source": [
    "Nbreviews=len(df_train)\n",
    "Nbproducts=len(set(df_train[\"asin\"]))\n",
    "Nbreviewers=len(set(df_train[\"reviewerID\"]))\n",
    "print(\"Le nombre total de reviews est: \"+str(Nbreviews))\n",
    "print(\"Le nombre total de produits est: \"+str(Nbproducts))\n",
    "print(\"Le nombre total de reviewers est: \"+str(Nbreviewers))\n",
    "print(\"Soit un nombre moyen de \"+str(round(Nbreviews/Nbproducts,1))+ \" reviews par produit\")\n",
    "print(\"Soit un nombre moyen de \"+str(round(Nbreviews/Nbreviewers,1))+ \" reviews par reviewers\")"
   ]
  },
  {
   "cell_type": "markdown",
   "metadata": {},
   "source": [
    "Analysons la distribution des notes des reviews"
   ]
  },
  {
   "cell_type": "code",
   "execution_count": 12,
   "metadata": {
    "collapsed": false
   },
   "outputs": [
    {
     "name": "stdout",
     "output_type": "stream",
     "text": [
      "count    732358.00\n",
      "mean          4.12\n",
      "std           1.29\n",
      "min           1.00\n",
      "25%           4.00\n",
      "50%           5.00\n",
      "75%           5.00\n",
      "max           5.00\n",
      "Name: overall, dtype: float64\n"
     ]
    },
    {
     "data": {
      "image/png": "[encoded data removed]",
      "text/plain": [
       "<matplotlib.figure.Figure at 0x7ccbef28>"
      ]
     },
     "metadata": {},
     "output_type": "display_data"
    }
   ],
   "source": [
    "print(df_train[\"overall\"].describe().round(2))\n",
    "%matplotlib inline \n",
    "a=[int(i) for i in df_train[\"overall\"]]\n",
    "bins=range(1,7)\n",
    "fig, ax = plt.subplots(1,1)\n",
    "ax.hist(a, bins=bins, align='left', color=\"grey\", rwidth=0.7)\n",
    "ax.set_xticks(bins[:-1])\n",
    "plt.title(\"Histogramme des notes des reviews\");\n",
    "plt.xlabel(\"Note\");\n",
    "plt.ylabel(\"Nombre de reviews\");"
   ]
  },
  {
   "cell_type": "markdown",
   "metadata": {},
   "source": [
    "Regardons la distribution des notes moyennes par produit. On constate que la distribution est moins \"skewed\" que précedemment."
   ]
  },
  {
   "cell_type": "code",
   "execution_count": 13,
   "metadata": {
    "collapsed": false
   },
   "outputs": [
    {
     "name": "stdout",
     "output_type": "stream",
     "text": [
      "count    59337.00\n",
      "mean         4.06\n",
      "std          1.04\n",
      "min          1.00\n",
      "25%          3.56\n",
      "50%          4.33\n",
      "75%          5.00\n",
      "max          5.00\n",
      "Name: overall, dtype: float64\n"
     ]
    },
    {
     "data": {
      "image/png": "[encoded data removed]",
      "text/plain": [
       "<matplotlib.figure.Figure at 0x7d625c88>"
      ]
     },
     "metadata": {},
     "output_type": "display_data"
    }
   ],
   "source": [
    "average_note_byproduct=df_train[[\"asin\",\"overall\"]].groupby(\"asin\", as_index=False).mean()\n",
    "print(average_note_byproduct[\"overall\"].describe().round(2))\n",
    "%matplotlib inline \n",
    "bins=range(1,7)\n",
    "fig, ax = plt.subplots(1,1)\n",
    "ax.hist(average_note_byproduct[\"overall\"], bins=bins, align='left', color=\"grey\", rwidth=0.7)\n",
    "ax.set_xticks(bins[:-1])\n",
    "plt.title(\"Histogramme des notes moyennes par produit\");\n",
    "plt.xlabel(\"Note\");\n",
    "plt.ylabel(\"Nombre de produits\");"
   ]
  },
  {
   "cell_type": "markdown",
   "metadata": {},
   "source": [
    "Regardons la distribution du nombre de reviews par utilisateur."
   ]
  },
  {
   "cell_type": "code",
   "execution_count": 14,
   "metadata": {
    "collapsed": false
   },
   "outputs": [
    {
     "name": "stdout",
     "output_type": "stream",
     "text": [
      "count    451833.00\n",
      "mean          1.62\n",
      "std           1.85\n",
      "min           1.00\n",
      "25%           1.00\n",
      "50%           1.00\n",
      "75%           2.00\n",
      "max         129.00\n",
      "dtype: float64\n"
     ]
    },
    {
     "data": {
      "image/png": "[encoded data removed]",
      "text/plain": [
       "<matplotlib.figure.Figure at 0x7d3f9e48>"
      ]
     },
     "metadata": {},
     "output_type": "display_data"
    }
   ],
   "source": [
    "import collections\n",
    "Nbreview_by_user=collections.Counter(df_train[\"reviewerID\"])\n",
    "print(pd.Series(Nbreview_by_user).describe().round(2))\n",
    "bins=range(1,10,1)\n",
    "a = np.clip(list(Nbreview_by_user.values()), 1, 10)\n",
    "fig, ax = plt.subplots(1,1)\n",
    "ax.hist(a, bins=bins, align='left', color=\"grey\", rwidth=0.7)\n",
    "plt.title(\"Histogramme du nombre de reviews par utilisateur\");\n",
    "plt.xlabel(\"Nombre de reviews\");\n",
    "plt.ylabel(\"Nombre d'utilisateurs\");"
   ]
  },
  {
   "cell_type": "markdown",
   "metadata": {},
   "source": [
    "Définissons la fonction de comptage du nombre de mots d'une review et appliquons la à nos données"
   ]
  },
  {
   "cell_type": "code",
   "execution_count": 13,
   "metadata": {
    "collapsed": true
   },
   "outputs": [],
   "source": [
    "def countWords(review):\n",
    "    return(len(review.split()))"
   ]
  },
  {
   "cell_type": "code",
   "execution_count": 14,
   "metadata": {
    "collapsed": false
   },
   "outputs": [],
   "source": [
    "df_train[\"countWordsReview\"] = df_train[\"reviewText\"].apply(countWords)\n",
    "df_test[\"countWordsReview\"] = df_test[\"reviewText\"].apply(countWords)\n",
    "df_train[\"countWordsSummary\"] = df_train[\"summary\"].apply(countWords)\n",
    "df_test[\"countWordsSummary\"] = df_test[\"summary\"].apply(countWords)"
   ]
  },
  {
   "cell_type": "markdown",
   "metadata": {},
   "source": [
    "Regardons la distribution du nombre de mots des reviews"
   ]
  },
  {
   "cell_type": "code",
   "execution_count": 17,
   "metadata": {
    "collapsed": false
   },
   "outputs": [
    {
     "name": "stdout",
     "output_type": "stream",
     "text": [
      "count    732358.00\n",
      "mean         81.87\n",
      "std          87.11\n",
      "min           0.00\n",
      "25%          31.00\n",
      "50%          55.00\n",
      "75%         100.00\n",
      "max        4546.00\n",
      "Name: countWordsReview, dtype: float64\n"
     ]
    }
   ],
   "source": [
    "print(df_train[\"countWordsReview\"].describe().round(2))"
   ]
  },
  {
   "cell_type": "code",
   "execution_count": 18,
   "metadata": {
    "collapsed": false
   },
   "outputs": [
    {
     "data": {
      "image/png": "[encoded data removed]",
      "text/plain": [
       "<matplotlib.figure.Figure at 0x7d67c6d8>"
      ]
     },
     "metadata": {},
     "output_type": "display_data"
    }
   ],
   "source": [
    "%matplotlib inline \n",
    "bins=range(0,430,30)\n",
    "a = np.clip(df_train[\"countWordsReview\"], 0, 400)\n",
    "fig, ax = plt.subplots(1,1)\n",
    "ax.hist(a, bins=bins, align='left', color=\"grey\", rwidth=0.7)\n",
    "plt.title(\"Histogramme du nombre de mots par review\");\n",
    "plt.xlabel(\"Nombre de mots\");\n",
    "plt.ylabel(\"Nombre de reviews\");"
   ]
  },
  {
   "cell_type": "markdown",
   "metadata": {},
   "source": [
    "Maintenant regardons plus spécifiquement entre 0 et 100 mots"
   ]
  },
  {
   "cell_type": "code",
   "execution_count": 19,
   "metadata": {
    "collapsed": false
   },
   "outputs": [
    {
     "data": {
      "image/png": "[encoded data removed]",
      "text/plain": [
       "<matplotlib.figure.Figure at 0x7d400ba8>"
      ]
     },
     "metadata": {},
     "output_type": "display_data"
    }
   ],
   "source": [
    "a = [s for s in df_train[\"countWordsReview\"] if s < 101]\n",
    "%matplotlib inline \n",
    "bins=range(0,100,5)\n",
    "fig, ax = plt.subplots(1,1)\n",
    "ax.hist(a, bins=bins, align='left', color=\"grey\", rwidth=0.7)\n",
    "plt.title(\"Histogramme du nombre de mots par review\");\n",
    "plt.xlabel(\"Nombre de mots\");\n",
    "plt.ylabel(\"Nombre de reviews\");"
   ]
  },
  {
   "cell_type": "markdown",
   "metadata": {},
   "source": [
    "## Préparation des données"
   ]
  },
  {
   "cell_type": "markdown",
   "metadata": {},
   "source": [
    "On prépare les données de texte en utilisant la fonction `TfidfVectorizer` du package `sklearn`. Notons que nous utilisons les stopwords donnés par `nltk` pour réduire le nombre de mots."
   ]
  },
  {
   "cell_type": "code",
   "execution_count": 15,
   "metadata": {
    "collapsed": true
   },
   "outputs": [],
   "source": [
    "from sklearn.feature_extraction.text import TfidfVectorizer\n",
    "from nltk.corpus import stopwords\n",
    "tfidf_vect = TfidfVectorizer()\n",
    "tfidf_vect_stopword = TfidfVectorizer(stop_words= stopwords.words('english'))"
   ]
  },
  {
   "cell_type": "markdown",
   "metadata": {},
   "source": [
    "### 1. Texte complet de la review"
   ]
  },
  {
   "cell_type": "markdown",
   "metadata": {},
   "source": [
    "#### a. Echantillon Train"
   ]
  },
  {
   "cell_type": "code",
   "execution_count": 16,
   "metadata": {
    "collapsed": false
   },
   "outputs": [
    {
     "data": {
      "text/plain": [
       "(400146, 219182)"
      ]
     },
     "execution_count": 16,
     "metadata": {},
     "output_type": "execute_result"
    }
   ],
   "source": [
    "corpus_train_reviewText=list(df_train[\"reviewText\"])\n",
    "X_train_tfidf_reviewText = tfidf_vect_stopword.fit_transform(corpus_train_reviewText)\n",
    "X_train_tfidf_reviewText.shape"
   ]
  },
  {
   "cell_type": "markdown",
   "metadata": {},
   "source": [
    "#### b. Echantillon Test"
   ]
  },
  {
   "cell_type": "code",
   "execution_count": 17,
   "metadata": {
    "collapsed": false
   },
   "outputs": [
    {
     "data": {
      "text/plain": [
       "(100037, 219182)"
      ]
     },
     "execution_count": 17,
     "metadata": {},
     "output_type": "execute_result"
    }
   ],
   "source": [
    "corpus_test_reviewText=list(df_test[\"reviewText\"])\n",
    "X_test_tfidf_reviewText = tfidf_vect_stopword.transform(corpus_test_reviewText)\n",
    "X_test_tfidf_reviewText.shape"
   ]
  },
  {
   "cell_type": "markdown",
   "metadata": {},
   "source": [
    "### 2. Texte du résumé de la review"
   ]
  },
  {
   "cell_type": "markdown",
   "metadata": {},
   "source": [
    "#### a. Echantillon Train"
   ]
  },
  {
   "cell_type": "code",
   "execution_count": 18,
   "metadata": {
    "collapsed": false
   },
   "outputs": [
    {
     "data": {
      "text/plain": [
       "(400146, 41874)"
      ]
     },
     "execution_count": 18,
     "metadata": {},
     "output_type": "execute_result"
    }
   ],
   "source": [
    "corpus_train_summary=list(df_train[\"summary\"])\n",
    "X_train_tfidf_summary = tfidf_vect_stopword.fit_transform(corpus_train_summary)\n",
    "X_train_tfidf_summary.shape"
   ]
  },
  {
   "cell_type": "markdown",
   "metadata": {},
   "source": [
    "#### b. Echantillon Test"
   ]
  },
  {
   "cell_type": "code",
   "execution_count": 19,
   "metadata": {
    "collapsed": false
   },
   "outputs": [
    {
     "data": {
      "text/plain": [
       "(100037, 41874)"
      ]
     },
     "execution_count": 19,
     "metadata": {},
     "output_type": "execute_result"
    }
   ],
   "source": [
    "corpus_test_summary=list(df_test[\"summary\"])\n",
    "X_test_tfidf_summary = tfidf_vect_stopword.transform(corpus_test_summary)\n",
    "X_test_tfidf_summary.shape"
   ]
  },
  {
   "cell_type": "markdown",
   "metadata": {},
   "source": [
    "### 3. Features supplémentaires"
   ]
  },
  {
   "cell_type": "markdown",
   "metadata": {},
   "source": [
    "Nous allons créer des variables pour le mois et le jour de la review, ce qui peut influencer la note."
   ]
  },
  {
   "cell_type": "code",
   "execution_count": 20,
   "metadata": {
    "collapsed": false
   },
   "outputs": [
    {
     "data": {
      "text/plain": [
       "10056     Mon\n",
       "56463     Mon\n",
       "274241    Thu\n",
       "269301    Tue\n",
       "396082    Fri\n",
       "Name: Weekday, dtype: category\n",
       "Categories (7, object): [Fri, Mon, Sat, Sun, Thu, Tue, Wed]"
      ]
     },
     "execution_count": 20,
     "metadata": {},
     "output_type": "execute_result"
    }
   ],
   "source": [
    "from datetime import datetime\n",
    "df_train[\"Weekday\"] = df_train[\"unixReviewTime\"].apply(lambda x: datetime.strftime(datetime.fromtimestamp(x),'%a')).astype('category')\n",
    "df_test[\"Weekday\"] = df_test[\"unixReviewTime\"].apply(lambda x: datetime.strftime(datetime.fromtimestamp(x),'%a')).astype('category')\n",
    "df_train[\"Weekday\"].head()"
   ]
  },
  {
   "cell_type": "code",
   "execution_count": 21,
   "metadata": {
    "collapsed": false
   },
   "outputs": [
    {
     "data": {
      "text/plain": [
       "10056     03\n",
       "56463     11\n",
       "274241    07\n",
       "269301    09\n",
       "396082    04\n",
       "Name: Month, dtype: category\n",
       "Categories (12, object): [01, 02, 03, 04, ..., 09, 10, 11, 12]"
      ]
     },
     "execution_count": 21,
     "metadata": {},
     "output_type": "execute_result"
    }
   ],
   "source": [
    "df_train[\"Month\"] = df_train[\"unixReviewTime\"].apply(lambda x: datetime.strftime(datetime.fromtimestamp(x),'%m')).astype('category')\n",
    "df_test[\"Month\"] = df_test[\"unixReviewTime\"].apply(lambda x: datetime.strftime(datetime.fromtimestamp(x),'%m')).astype('category')\n",
    "df_train[\"Month\"].head()"
   ]
  },
  {
   "cell_type": "code",
   "execution_count": 22,
   "metadata": {
    "collapsed": true
   },
   "outputs": [],
   "source": [
    "from sklearn.feature_extraction import DictVectorizer\n",
    "dic_vec = DictVectorizer()"
   ]
  },
  {
   "cell_type": "markdown",
   "metadata": {},
   "source": [
    "#### a. Echantillon Train"
   ]
  },
  {
   "cell_type": "code",
   "execution_count": 23,
   "metadata": {
    "collapsed": false
   },
   "outputs": [
    {
     "name": "stdout",
     "output_type": "stream",
     "text": [
      "(400146, 2) (400146, 2) (400146, 4)\n"
     ]
    }
   ],
   "source": [
    "X_train_countWords=df_train[[\"countWordsReview\",\"countWordsSummary\"]].astype(int)\n",
    "X_train_dates=df_train[[\"Month\",\"Weekday\"]]\n",
    "X_train_otherfeatures=df_train[[\"countWordsReview\",\"countWordsSummary\",\"Month\",\"Weekday\"]]\n",
    "print(X_train_countWords.shape, X_train_dates.shape, X_train_otherfeatures.shape)"
   ]
  },
  {
   "cell_type": "code",
   "execution_count": 24,
   "metadata": {
    "collapsed": false
   },
   "outputs": [
    {
     "data": {
      "text/plain": [
       "(400146, 7)"
      ]
     },
     "execution_count": 24,
     "metadata": {},
     "output_type": "execute_result"
    }
   ],
   "source": [
    "dic_train_weekdays = pd.DataFrame(X_train_otherfeatures[\"Weekday\"]).to_dict('records')\n",
    "X_train_weekdays = dic_vec.fit_transform(dic_train_weekdays)\n",
    "X_train_weekdays.shape"
   ]
  },
  {
   "cell_type": "code",
   "execution_count": 25,
   "metadata": {
    "collapsed": false
   },
   "outputs": [
    {
     "data": {
      "text/plain": [
       "(400146, 12)"
      ]
     },
     "execution_count": 25,
     "metadata": {},
     "output_type": "execute_result"
    }
   ],
   "source": [
    "dic_train_months = pd.DataFrame(X_train_otherfeatures[\"Month\"]).to_dict('records')\n",
    "X_train_months = dic_vec.fit_transform(dic_train_months)\n",
    "X_train_months.shape"
   ]
  },
  {
   "cell_type": "markdown",
   "metadata": {},
   "source": [
    "#### b. Echantillon Test"
   ]
  },
  {
   "cell_type": "code",
   "execution_count": 26,
   "metadata": {
    "collapsed": false
   },
   "outputs": [
    {
     "name": "stdout",
     "output_type": "stream",
     "text": [
      "(100037, 2) (100037, 2) (100037, 4)\n"
     ]
    }
   ],
   "source": [
    "X_test_countWords=df_test[[\"countWordsReview\",\"countWordsSummary\"]].astype(int)\n",
    "X_test_dates=df_test[[\"Month\",\"Weekday\"]]\n",
    "X_test_otherfeatures=df_test[[\"countWordsReview\",\"countWordsSummary\",\"Month\",\"Weekday\"]]\n",
    "print(X_test_countWords.shape, X_test_dates.shape, X_test_otherfeatures.shape)"
   ]
  },
  {
   "cell_type": "code",
   "execution_count": 27,
   "metadata": {
    "collapsed": false
   },
   "outputs": [
    {
     "data": {
      "text/plain": [
       "(100037, 7)"
      ]
     },
     "execution_count": 27,
     "metadata": {},
     "output_type": "execute_result"
    }
   ],
   "source": [
    "dic_test_weekdays = pd.DataFrame(X_test_otherfeatures[\"Weekday\"]).to_dict('records')\n",
    "X_test_weekdays = dic_vec.fit_transform(dic_test_weekdays)\n",
    "X_test_weekdays.shape"
   ]
  },
  {
   "cell_type": "code",
   "execution_count": 28,
   "metadata": {
    "collapsed": false
   },
   "outputs": [
    {
     "data": {
      "text/plain": [
       "(100037, 12)"
      ]
     },
     "execution_count": 28,
     "metadata": {},
     "output_type": "execute_result"
    }
   ],
   "source": [
    "dic_test_months = pd.DataFrame(X_test_otherfeatures[\"Month\"]).to_dict('records')\n",
    "X_test_months = dic_vec.fit_transform(dic_test_months)\n",
    "X_test_months.shape"
   ]
  },
  {
   "cell_type": "markdown",
   "metadata": {},
   "source": [
    "### 4. Combinaison de toutes les features"
   ]
  },
  {
   "cell_type": "markdown",
   "metadata": {},
   "source": [
    "#### a. Echantillon Train"
   ]
  },
  {
   "cell_type": "code",
   "execution_count": 29,
   "metadata": {
    "collapsed": false
   },
   "outputs": [
    {
     "name": "stdout",
     "output_type": "stream",
     "text": [
      "(400146, 261056)\n"
     ]
    }
   ],
   "source": [
    "from scipy.sparse import hstack\n",
    "X_train_alltext=hstack([X_train_tfidf_reviewText, X_train_tfidf_summary])\n",
    "print(X_train_alltext.shape)"
   ]
  },
  {
   "cell_type": "code",
   "execution_count": 30,
   "metadata": {
    "collapsed": false
   },
   "outputs": [
    {
     "data": {
      "text/plain": [
       "(400146, 261058)"
      ]
     },
     "execution_count": 30,
     "metadata": {},
     "output_type": "execute_result"
    }
   ],
   "source": [
    "X_train_textwordcount=hstack([X_train_alltext,X_train_countWords.astype(int)])\n",
    "X_train_textwordcount.shape"
   ]
  },
  {
   "cell_type": "code",
   "execution_count": 31,
   "metadata": {
    "collapsed": false
   },
   "outputs": [
    {
     "name": "stdout",
     "output_type": "stream",
     "text": [
      "(400146, 261077)\n"
     ]
    }
   ],
   "source": [
    "X_train_allfeatures = hstack([X_train_textwordcount, X_train_weekdays, X_train_months])\n",
    "print(X_train_allfeatures.shape)"
   ]
  },
  {
   "cell_type": "code",
   "execution_count": 33,
   "metadata": {
    "collapsed": false
   },
   "outputs": [
    {
     "name": "stdout",
     "output_type": "stream",
     "text": [
      "(400146, 21)\n"
     ]
    }
   ],
   "source": [
    "X_train_supfeatures = hstack([X_train_countWords.astype(int), X_train_weekdays, X_train_months])\n",
    "print(X_train_supfeatures.shape)"
   ]
  },
  {
   "cell_type": "markdown",
   "metadata": {},
   "source": [
    "#### b. Echantillon Test"
   ]
  },
  {
   "cell_type": "code",
   "execution_count": 34,
   "metadata": {
    "collapsed": false
   },
   "outputs": [
    {
     "name": "stdout",
     "output_type": "stream",
     "text": [
      "(100037, 261056)\n"
     ]
    }
   ],
   "source": [
    "X_test_alltext=hstack([X_test_tfidf_reviewText, X_test_tfidf_summary])\n",
    "print(X_test_alltext.shape)"
   ]
  },
  {
   "cell_type": "code",
   "execution_count": 35,
   "metadata": {
    "collapsed": false
   },
   "outputs": [
    {
     "data": {
      "text/plain": [
       "(100037, 261058)"
      ]
     },
     "execution_count": 35,
     "metadata": {},
     "output_type": "execute_result"
    }
   ],
   "source": [
    "X_test_textwordcount=hstack([X_test_alltext,X_test_countWords.astype(int)])\n",
    "X_test_textwordcount.shape"
   ]
  },
  {
   "cell_type": "code",
   "execution_count": 36,
   "metadata": {
    "collapsed": false
   },
   "outputs": [
    {
     "name": "stdout",
     "output_type": "stream",
     "text": [
      "(100037, 261077)\n"
     ]
    }
   ],
   "source": [
    "X_test_allfeatures = hstack([X_test_textwordcount, X_test_weekdays, X_test_months])\n",
    "print(X_test_allfeatures.shape)"
   ]
  },
  {
   "cell_type": "code",
   "execution_count": 37,
   "metadata": {
    "collapsed": false
   },
   "outputs": [
    {
     "name": "stdout",
     "output_type": "stream",
     "text": [
      "(100037, 21)\n"
     ]
    }
   ],
   "source": [
    "X_test_supfeatures = hstack([X_test_countWords.astype(int), X_test_weekdays, X_test_months])\n",
    "print(X_test_supfeatures.shape)"
   ]
  },
  {
   "cell_type": "markdown",
   "metadata": {},
   "source": [
    "## Machine Learning"
   ]
  },
  {
   "cell_type": "markdown",
   "metadata": {},
   "source": [
    "En utilisant la librairie `sklearn`, nous allons appliquer les modèles suivants:\n",
    "- Naive Bayes, \n",
    "- Support Vector Machines avec Stochastic Gradient Descent, \n",
    "- k-Nearest Neighbors. \n",
    "\n",
    "Nous avons essayé des Random Forests mais les calculs n'ont jamais pu aboutir, compte tenu du grand nombre de dimensions."
   ]
  },
  {
   "cell_type": "markdown",
   "metadata": {},
   "source": [
    "### 1. Texte complet de la review"
   ]
  },
  {
   "cell_type": "code",
   "execution_count": 60,
   "metadata": {
    "collapsed": false
   },
   "outputs": [],
   "source": [
    "from sklearn.naive_bayes import MultinomialNB\n",
    "clf = MultinomialNB().fit(X_train_tfidf_reviewText, y_train.astype('category'))\n",
    "predicted_NaiveBayes_reviewText = clf.predict(X_test_tfidf_reviewText)"
   ]
  },
  {
   "cell_type": "code",
   "execution_count": 61,
   "metadata": {
    "collapsed": false
   },
   "outputs": [],
   "source": [
    "from sklearn.linear_model import SGDClassifier\n",
    "SGDclass = SGDClassifier(loss='hinge', penalty='l2', alpha=1e-3, n_iter=5, random_state=42)\n",
    "clf2 = SGDclass.fit(X_train_tfidf_reviewText, y_train.astype('category'))\n",
    "predicted_SVM_reviewText = clf2.predict(X_test_tfidf_reviewText)"
   ]
  },
  {
   "cell_type": "markdown",
   "metadata": {},
   "source": [
    "### 2. Texte du résumé de la review"
   ]
  },
  {
   "cell_type": "code",
   "execution_count": 47,
   "metadata": {
    "collapsed": true
   },
   "outputs": [],
   "source": [
    "from sklearn.naive_bayes import MultinomialNB\n",
    "clf = MultinomialNB().fit(X_train_tfidf_summary, y_train.astype('category'))\n",
    "predicted_NaiveBayes_summary = clf.predict(X_test_tfidf_summary)"
   ]
  },
  {
   "cell_type": "code",
   "execution_count": 48,
   "metadata": {
    "collapsed": true
   },
   "outputs": [],
   "source": [
    "from sklearn.linear_model import SGDClassifier\n",
    "SGDclass = SGDClassifier(loss='hinge', penalty='l2', alpha=1e-3, n_iter=5, random_state=42)\n",
    "clf2 = SGDclass.fit(X_train_tfidf_summary, y_train.astype('category'))\n",
    "predicted_SVM_summary = clf2.predict(X_test_tfidf_summary)"
   ]
  },
  {
   "cell_type": "markdown",
   "metadata": {},
   "source": [
    "### 3. Texte complet et résumé de la review"
   ]
  },
  {
   "cell_type": "code",
   "execution_count": 49,
   "metadata": {
    "collapsed": false
   },
   "outputs": [],
   "source": [
    "from sklearn.naive_bayes import MultinomialNB\n",
    "clf = MultinomialNB().fit(X_train_alltext, y_train.astype('category'))\n",
    "predicted_NaiveBayes_alltext = clf.predict(X_test_alltext)"
   ]
  },
  {
   "cell_type": "code",
   "execution_count": 50,
   "metadata": {
    "collapsed": false
   },
   "outputs": [],
   "source": [
    "from sklearn.linear_model import SGDClassifier\n",
    "SGDclass = SGDClassifier(loss='hinge', penalty='l2', alpha=1e-3, n_iter=5, random_state=42)\n",
    "clf2 = SGDclass.fit(X_train_alltext, y_train.astype('category'))\n",
    "predicted_SVM_alltext = clf2.predict(X_test_alltext)"
   ]
  },
  {
   "cell_type": "markdown",
   "metadata": {},
   "source": [
    "### 4. Features supplémentaires"
   ]
  },
  {
   "cell_type": "code",
   "execution_count": 51,
   "metadata": {
    "collapsed": true
   },
   "outputs": [],
   "source": [
    "from sklearn.naive_bayes import MultinomialNB\n",
    "clf = MultinomialNB().fit(X_train_supfeatures, y_train.astype('category'))\n",
    "predicted_NaiveBayes_supfeatures = clf.predict(X_test_supfeatures)"
   ]
  },
  {
   "cell_type": "code",
   "execution_count": 52,
   "metadata": {
    "collapsed": true
   },
   "outputs": [],
   "source": [
    "from sklearn.linear_model import SGDClassifier\n",
    "SGDclass = SGDClassifier(loss='hinge', penalty='l2', alpha=1e-3, n_iter=5, random_state=42)\n",
    "clf2 = SGDclass.fit(X_train_supfeatures, y_train.astype('category'))\n",
    "predicted_SVM_supfeatures = clf2.predict(X_test_supfeatures)"
   ]
  },
  {
   "cell_type": "markdown",
   "metadata": {},
   "source": [
    "### 5. Combinaison de toutes les features"
   ]
  },
  {
   "cell_type": "code",
   "execution_count": 89,
   "metadata": {
    "collapsed": false
   },
   "outputs": [],
   "source": [
    "from sklearn.naive_bayes import MultinomialNB\n",
    "clf = MultinomialNB().fit(X_train_allfeatures, y_train.astype('category'))\n",
    "predicted_NaiveBayes_allfeatures = clf.predict(X_test_allfeatures)"
   ]
  },
  {
   "cell_type": "code",
   "execution_count": 88,
   "metadata": {
    "collapsed": true
   },
   "outputs": [],
   "source": [
    "from sklearn.linear_model import SGDClassifier\n",
    "SGDclass = SGDClassifier(loss='hinge', penalty='l2', alpha=1e-3, n_iter=5, random_state=42)\n",
    "clf2 = SGDclass.fit(X_train_allfeatures, y_train.astype('category'))\n",
    "predicted_SVM_allfeatures = clf2.predict(X_test_allfeatures)"
   ]
  },
  {
   "cell_type": "markdown",
   "metadata": {},
   "source": [
    "# Evaluation de la performance"
   ]
  },
  {
   "cell_type": "markdown",
   "metadata": {},
   "source": [
    "### 1. Pour le texte complet de la review"
   ]
  },
  {
   "cell_type": "code",
   "execution_count": 70,
   "metadata": {
    "collapsed": false
   },
   "outputs": [
    {
     "name": "stdout",
     "output_type": "stream",
     "text": [
      "L'accuracy du classifieur Naive Bayes est de 61.9%\n",
      "L'accuracy du classifieur SVM est de 61.9%\n"
     ]
    }
   ],
   "source": [
    "print(\"L'accuracy du classifieur Naive Bayes est de \"+str((np.mean(predicted_NaiveBayes_reviewText == y_test)*100).round(1))+\"%\")\n",
    "print(\"L'accuracy du classifieur SVM est de \"+str((np.mean(predicted_SVM_reviewText == y_test)*100).round(1))+\"%\")"
   ]
  },
  {
   "cell_type": "code",
   "execution_count": 71,
   "metadata": {
    "collapsed": false
   },
   "outputs": [
    {
     "name": "stdout",
     "output_type": "stream",
     "text": [
      "Performance par classe du classifieur Naive Bayes \n",
      "              precision    recall  f1-score   support\n",
      "\n",
      "        1.0       0.92      0.01      0.02      6989\n",
      "        2.0       0.00      0.00      0.00      4542\n",
      "        3.0       0.00      0.00      0.00      7827\n",
      "        4.0       0.57      0.00      0.00     18825\n",
      "        5.0       0.62      1.00      0.76     61854\n",
      "\n",
      "avg / total       0.55      0.62      0.47    100037\n",
      "\n",
      "Performance par classe du classifieur SVM \n",
      "              precision    recall  f1-score   support\n",
      "\n",
      "        1.0       0.80      0.00      0.01      6989\n",
      "        2.0       0.00      0.00      0.00      4542\n",
      "        3.0       0.00      0.00      0.00      7827\n",
      "        4.0       0.00      0.00      0.00     18825\n",
      "        5.0       0.62      1.00      0.76     61854\n",
      "\n",
      "avg / total       0.44      0.62      0.47    100037\n",
      "\n"
     ]
    },
    {
     "name": "stderr",
     "output_type": "stream",
     "text": [
      "D:\\Users\\acombess\\PythonENSAE\\python\\lib\\site-packages\\sklearn\\metrics\\classification.py:958: UndefinedMetricWarning: Precision and F-score are ill-defined and being set to 0.0 in labels with no predicted samples.\n",
      "  'precision', 'predicted', average, warn_for)\n"
     ]
    }
   ],
   "source": [
    "print(\"Performance par classe du classifieur Naive Bayes \\n\",sklearn.metrics.classification_report(y_test, predicted_NaiveBayes_reviewText))\n",
    "print(\"Performance par classe du classifieur SVM \\n\",sklearn.metrics.classification_report(y_test, predicted_SVM_reviewText))"
   ]
  },
  {
   "cell_type": "code",
   "execution_count": 72,
   "metadata": {
    "collapsed": false
   },
   "outputs": [
    {
     "name": "stdout",
     "output_type": "stream",
     "text": [
      "Matrice de confusion du classifieur Naive Bayes \n",
      " [[   67     0     0     1  6921]\n",
      " [    3     0     0     1  4538]\n",
      " [    0     1     0     0  7826]\n",
      " [    1     0     1     8 18815]\n",
      " [    2     0     0     4 61848]]\n",
      "Matrice de confusion du classifieur SVM \n",
      " [[   20     0     0     0  6969]\n",
      " [    3     0     0     0  4539]\n",
      " [    2     0     0     0  7825]\n",
      " [    0     0     0     0 18825]\n",
      " [    0     0     0     0 61854]]\n"
     ]
    }
   ],
   "source": [
    "print(\"Matrice de confusion du classifieur Naive Bayes \\n\",sklearn.metrics.confusion_matrix(y_test, predicted_NaiveBayes_reviewText))\n",
    "print(\"Matrice de confusion du classifieur SVM \\n\",sklearn.metrics.confusion_matrix(y_test, predicted_SVM_reviewText))"
   ]
  },
  {
   "cell_type": "markdown",
   "metadata": {},
   "source": [
    "### 2. Pour le résumé de la review"
   ]
  },
  {
   "cell_type": "code",
   "execution_count": 73,
   "metadata": {
    "collapsed": false
   },
   "outputs": [
    {
     "name": "stdout",
     "output_type": "stream",
     "text": [
      "L'accuracy du classifieur Naive Bayes est de 66.0%\n",
      "L'accuracy du classifieur SVM est de 62.9%\n"
     ]
    }
   ],
   "source": [
    "print(\"L'accuracy du classifieur Naive Bayes est de \"+str((np.mean(predicted_NaiveBayes_summary == y_test)*100).round(1))+\"%\")\n",
    "print(\"L'accuracy du classifieur SVM est de \"+str((np.mean(predicted_SVM_summary == y_test)*100).round(1))+\"%\")"
   ]
  },
  {
   "cell_type": "code",
   "execution_count": 75,
   "metadata": {
    "collapsed": false
   },
   "outputs": [
    {
     "name": "stdout",
     "output_type": "stream",
     "text": [
      "Performance par classe du classifieur Naive Bayes \n",
      "              precision    recall  f1-score   support\n",
      "\n",
      "        1.0       0.66      0.40      0.49      6989\n",
      "        2.0       0.30      0.00      0.01      4542\n",
      "        3.0       0.51      0.11      0.18      7827\n",
      "        4.0       0.40      0.08      0.13     18825\n",
      "        5.0       0.67      0.99      0.80     61854\n",
      "\n",
      "avg / total       0.59      0.66      0.57    100037\n",
      "\n",
      "Performance par classe du classifieur SVM \n",
      "              precision    recall  f1-score   support\n",
      "\n",
      "        1.0       0.67      0.08      0.14      6989\n",
      "        2.0       0.10      0.00      0.00      4542\n",
      "        3.0       0.66      0.06      0.11      7827\n",
      "        4.0       0.56      0.01      0.01     18825\n",
      "        5.0       0.63      1.00      0.77     61854\n",
      "\n",
      "avg / total       0.60      0.63      0.50    100037\n",
      "\n"
     ]
    }
   ],
   "source": [
    "print(\"Performance par classe du classifieur Naive Bayes \\n\",sklearn.metrics.classification_report(y_test, predicted_NaiveBayes_summary))\n",
    "print(\"Performance par classe du classifieur SVM \\n\",sklearn.metrics.classification_report(y_test, predicted_SVM_summary))"
   ]
  },
  {
   "cell_type": "code",
   "execution_count": 76,
   "metadata": {
    "collapsed": false
   },
   "outputs": [
    {
     "name": "stdout",
     "output_type": "stream",
     "text": [
      "Matrice de confusion du classifieur Naive Bayes \n",
      " [[ 2761    20   161   266  3781]\n",
      " [  822    18   347   334  3021]\n",
      " [  341    15   863   940  5668]\n",
      " [  112     3   238  1413 17059]\n",
      " [  135     5    88   613 61013]]\n",
      "Matrice de confusion du classifieur SVM \n",
      " [[  567     0     8     4  6410]\n",
      " [   99     1    78     6  4358]\n",
      " [   67     6   488    55  7211]\n",
      " [   84     2   137   124 18478]\n",
      " [   29     1    31    31 61762]]\n"
     ]
    }
   ],
   "source": [
    "print(\"Matrice de confusion du classifieur Naive Bayes \\n\",sklearn.metrics.confusion_matrix(y_test, predicted_NaiveBayes_summary))\n",
    "print(\"Matrice de confusion du classifieur SVM \\n\",sklearn.metrics.confusion_matrix(y_test, predicted_SVM_summary))"
   ]
  },
  {
   "cell_type": "markdown",
   "metadata": {},
   "source": [
    "### 3. Texte complet et résumé de la review"
   ]
  },
  {
   "cell_type": "code",
   "execution_count": 78,
   "metadata": {
    "collapsed": false
   },
   "outputs": [
    {
     "name": "stdout",
     "output_type": "stream",
     "text": [
      "L'accuracy du classifieur Naive Bayes est de 64.5%\n",
      "L'accuracy du classifieur SVM est de 64.1%\n"
     ]
    }
   ],
   "source": [
    "print(\"L'accuracy du classifieur Naive Bayes est de \"+str((np.mean(predicted_NaiveBayes_alltext == y_test)*100).round(1))+\"%\")\n",
    "print(\"L'accuracy du classifieur SVM est de \"+str((np.mean(predicted_SVM_alltext == y_test)*100).round(1))+\"%\")"
   ]
  },
  {
   "cell_type": "code",
   "execution_count": 80,
   "metadata": {
    "collapsed": false
   },
   "outputs": [
    {
     "name": "stdout",
     "output_type": "stream",
     "text": [
      "Performance par classe du classifieur Naive Bayes \n",
      "              precision    recall  f1-score   support\n",
      "\n",
      "        1.0       0.81      0.28      0.42      6989\n",
      "        2.0       0.00      0.00      0.00      4542\n",
      "        3.0       0.58      0.02      0.05      7827\n",
      "        4.0       0.33      0.04      0.07     18825\n",
      "        5.0       0.65      1.00      0.79     61854\n",
      "\n",
      "avg / total       0.56      0.65      0.53    100037\n",
      "\n",
      "Performance par classe du classifieur SVM \n",
      "              precision    recall  f1-score   support\n",
      "\n",
      "        1.0       0.73      0.21      0.33      6989\n",
      "        2.0       0.19      0.00      0.00      4542\n",
      "        3.0       0.65      0.08      0.14      7827\n",
      "        4.0       0.54      0.02      0.03     18825\n",
      "        5.0       0.64      1.00      0.78     61854\n",
      "\n",
      "avg / total       0.61      0.64      0.52    100037\n",
      "\n"
     ]
    }
   ],
   "source": [
    "print(\"Performance par classe du classifieur Naive Bayes \\n\",sklearn.metrics.classification_report(y_test, predicted_NaiveBayes_alltext))\n",
    "print(\"Performance par classe du classifieur SVM \\n\",sklearn.metrics.classification_report(y_test, predicted_SVM_alltext))"
   ]
  },
  {
   "cell_type": "code",
   "execution_count": 81,
   "metadata": {
    "collapsed": false
   },
   "outputs": [
    {
     "name": "stdout",
     "output_type": "stream",
     "text": [
      "Matrice de confusion du classifieur Naive Bayes \n",
      " [[ 1962     0    13   205  4809]\n",
      " [  334     0    81   323  3804]\n",
      " [  101     1   191   843  6691]\n",
      " [   15     0    35   735 18040]\n",
      " [   17     1    10   145 61681]]\n",
      "Matrice de confusion du classifieur SVM \n",
      " [[ 1471     3    18    25  5472]\n",
      " [  332     4   104    35  4067]\n",
      " [  135    13   617   140  6922]\n",
      " [   56     1   171   323 18274]\n",
      " [   29     0    36    74 61715]]\n"
     ]
    }
   ],
   "source": [
    "print(\"Matrice de confusion du classifieur Naive Bayes \\n\",sklearn.metrics.confusion_matrix(y_test, predicted_NaiveBayes_alltext))\n",
    "print(\"Matrice de confusion du classifieur SVM \\n\",sklearn.metrics.confusion_matrix(y_test, predicted_SVM_alltext))"
   ]
  },
  {
   "cell_type": "markdown",
   "metadata": {},
   "source": [
    "### 4. Features supplémentaires"
   ]
  },
  {
   "cell_type": "code",
   "execution_count": 83,
   "metadata": {
    "collapsed": false
   },
   "outputs": [
    {
     "name": "stdout",
     "output_type": "stream",
     "text": [
      "L'accuracy du classifieur Naive Bayes est de 59.5%\n",
      "L'accuracy du classifieur SVM est de 61.8%\n"
     ]
    }
   ],
   "source": [
    "print(\"L'accuracy du classifieur Naive Bayes est de \"+str((np.mean(predicted_NaiveBayes_supfeatures == y_test)*100).round(1))+\"%\")\n",
    "print(\"L'accuracy du classifieur SVM est de \"+str((np.mean(predicted_SVM_supfeatures == y_test)*100).round(1))+\"%\")"
   ]
  },
  {
   "cell_type": "code",
   "execution_count": 85,
   "metadata": {
    "collapsed": false
   },
   "outputs": [
    {
     "name": "stdout",
     "output_type": "stream",
     "text": [
      "Performance par classe du classifieur Naive Bayes \n",
      "              precision    recall  f1-score   support\n",
      "\n",
      "        1.0       0.00      0.00      0.00      6989\n",
      "        2.0       0.00      0.00      0.00      4542\n",
      "        3.0       0.00      0.00      0.00      7827\n",
      "        4.0       0.24      0.09      0.14     18825\n",
      "        5.0       0.62      0.93      0.75     61854\n",
      "\n",
      "avg / total       0.43      0.59      0.49    100037\n",
      "\n",
      "Performance par classe du classifieur SVM \n",
      "              precision    recall  f1-score   support\n",
      "\n",
      "        1.0       0.00      0.00      0.00      6989\n",
      "        2.0       0.00      0.00      0.00      4542\n",
      "        3.0       0.00      0.00      0.00      7827\n",
      "        4.0       0.00      0.00      0.00     18825\n",
      "        5.0       0.62      1.00      0.76     61854\n",
      "\n",
      "avg / total       0.38      0.62      0.47    100037\n",
      "\n"
     ]
    },
    {
     "name": "stderr",
     "output_type": "stream",
     "text": [
      "D:\\Users\\acombess\\PythonENSAE\\python\\lib\\site-packages\\sklearn\\metrics\\classification.py:958: UndefinedMetricWarning: Precision and F-score are ill-defined and being set to 0.0 in labels with no predicted samples.\n",
      "  'precision', 'predicted', average, warn_for)\n"
     ]
    }
   ],
   "source": [
    "print(\"Performance par classe du classifieur Naive Bayes \\n\",sklearn.metrics.classification_report(y_test, predicted_NaiveBayes_supfeatures))\n",
    "print(\"Performance par classe du classifieur SVM \\n\",sklearn.metrics.classification_report(y_test, predicted_SVM_supfeatures))"
   ]
  },
  {
   "cell_type": "code",
   "execution_count": 86,
   "metadata": {
    "collapsed": false
   },
   "outputs": [
    {
     "name": "stdout",
     "output_type": "stream",
     "text": [
      "Matrice de confusion du classifieur Naive Bayes \n",
      " [[    0     0     0   369  6620]\n",
      " [    0     0     0   377  4165]\n",
      " [    0     0     0   708  7119]\n",
      " [    1     0     0  1788 17036]\n",
      " [    0     0     0  4139 57715]]\n",
      "Matrice de confusion du classifieur SVM \n",
      " [[    0     0     0     0  6989]\n",
      " [    0     0     0     0  4542]\n",
      " [    0     0     0     0  7827]\n",
      " [    0     0     0     0 18825]\n",
      " [    0     0     0     0 61854]]\n"
     ]
    }
   ],
   "source": [
    "print(\"Matrice de confusion du classifieur Naive Bayes \\n\",sklearn.metrics.confusion_matrix(y_test, predicted_NaiveBayes_supfeatures))\n",
    "print(\"Matrice de confusion du classifieur SVM \\n\",sklearn.metrics.confusion_matrix(y_test, predicted_SVM_supfeatures))"
   ]
  },
  {
   "cell_type": "markdown",
   "metadata": {},
   "source": [
    "### 3. Pour la combinaison des features"
   ]
  },
  {
   "cell_type": "code",
   "execution_count": 90,
   "metadata": {
    "collapsed": false
   },
   "outputs": [
    {
     "name": "stdout",
     "output_type": "stream",
     "text": [
      "L'accuracy du classifieur Naive Bayes est de 63.8%\n",
      "L'accuracy du classifieur SVM est de 61.8%\n"
     ]
    }
   ],
   "source": [
    "print(\"L'accuracy du classifieur Naive Bayes est de \"+str((np.mean(predicted_NaiveBayes_allfeatures == y_test)*100).round(1))+\"%\")\n",
    "print(\"L'accuracy du classifieur SVM est de \"+str((np.mean(predicted_SVM_allfeatures == y_test)*100).round(1))+\"%\")"
   ]
  },
  {
   "cell_type": "code",
   "execution_count": 91,
   "metadata": {
    "collapsed": false
   },
   "outputs": [
    {
     "name": "stdout",
     "output_type": "stream",
     "text": [
      "Performance par classe du classifieur Naive Bayes \n",
      "              precision    recall  f1-score   support\n",
      "\n",
      "        1.0       0.78      0.20      0.32      6989\n",
      "        2.0       0.00      0.00      0.00      4542\n",
      "        3.0       0.58      0.02      0.05      7827\n",
      "        4.0       0.29      0.03      0.05     18825\n",
      "        5.0       0.64      1.00      0.78     61854\n",
      "\n",
      "avg / total       0.55      0.64      0.52    100037\n",
      "\n",
      "Performance par classe du classifieur SVM \n",
      "              precision    recall  f1-score   support\n",
      "\n",
      "        1.0       1.00      0.00      0.00      6989\n",
      "        2.0       0.00      0.00      0.00      4542\n",
      "        3.0       0.40      0.00      0.00      7827\n",
      "        4.0       0.73      0.00      0.00     18825\n",
      "        5.0       0.62      1.00      0.76     61854\n",
      "\n",
      "avg / total       0.62      0.62      0.47    100037\n",
      "\n"
     ]
    },
    {
     "name": "stderr",
     "output_type": "stream",
     "text": [
      "D:\\Users\\acombess\\PythonENSAE\\python\\lib\\site-packages\\sklearn\\metrics\\classification.py:958: UndefinedMetricWarning: Precision and F-score are ill-defined and being set to 0.0 in labels with no predicted samples.\n",
      "  'precision', 'predicted', average, warn_for)\n"
     ]
    }
   ],
   "source": [
    "print(\"Performance par classe du classifieur Naive Bayes \\n\",sklearn.metrics.classification_report(y_test, predicted_NaiveBayes_allfeatures))\n",
    "print(\"Performance par classe du classifieur SVM \\n\",sklearn.metrics.classification_report(y_test, predicted_SVM_allfeatures))"
   ]
  },
  {
   "cell_type": "code",
   "execution_count": 93,
   "metadata": {
    "collapsed": false
   },
   "outputs": [
    {
     "name": "stdout",
     "output_type": "stream",
     "text": [
      "Matrice de confusion du classifieur Naive Bayes \n",
      " [[ 1425     0     9   227  5328]\n",
      " [  246     0    74   271  3951]\n",
      " [   92     0   195   645  6895]\n",
      " [   23     0    50   508 18244]\n",
      " [   30     0    10    85 61729]]\n",
      "Matrice de confusion du classifieur SVM \n",
      " [[    1     0     0     0  6988]\n",
      " [    0     0     2     0  4540]\n",
      " [    0     0     2     0  7825]\n",
      " [    0     0     1     8 18816]\n",
      " [    0     0     0     3 61851]]\n"
     ]
    }
   ],
   "source": [
    "print(\"Matrice de confusion du classifieur Naive Bayes \\n\",sklearn.metrics.confusion_matrix(y_test, predicted_NaiveBayes_allfeatures))\n",
    "print(\"Matrice de confusion du classifieur SVM \\n\",sklearn.metrics.confusion_matrix(y_test, predicted_SVM_allfeatures))"
   ]
  },
  {
   "cell_type": "markdown",
   "metadata": {},
   "source": [
    "## Simplification du problème en classification binaire"
   ]
  },
  {
   "cell_type": "code",
   "execution_count": null,
   "metadata": {
    "collapsed": true
   },
   "outputs": [],
   "source": [
    "#X_train_bin\n",
    "#X_test_bin="
   ]
  },
  {
   "cell_type": "markdown",
   "metadata": {},
   "source": [
    "## Analyse de la performance en fonction du nombre de mots"
   ]
  },
  {
   "cell_type": "code",
   "execution_count": null,
   "metadata": {
    "collapsed": false
   },
   "outputs": [],
   "source": [
    "def createBins(x):\n",
    "    if x[\"countWordsReview\"] < 30:\n",
    "        return(30)\n",
    "    elif x[\"countWordsReview\"] < 100:\n",
    "        return(100)\n",
    "    elif x[\"countWordsReview\"] < 200:\n",
    "        return(200)\n",
    "    else:\n",
    "        return(300)"
   ]
  },
  {
   "cell_type": "code",
   "execution_count": null,
   "metadata": {
    "collapsed": false
   },
   "outputs": [],
   "source": [
    "dfy = pd.DataFrame(y_test)\n",
    "dfy[\"predicted\"] = predicted_reviewText\n",
    "dfy[\"reviewText\"] = df_test[\"reviewText\"]\n",
    "dfy[\"countWordsReview\"] = dfy[\"reviewText\"].apply(countWords)\n",
    "dfy[\"summary\"] = df_test[\"summary\"]\n",
    "dfy[\"countWordsSummary\"] = dfy[\"summary\"].apply(countWords)\n",
    "dfy[\"qualite\"] = abs(predicted_reviewText - y_test)\n",
    "dfy[\"bin\"] = dfy.apply(createBins, axis = 1)\n",
    "dfy.head()"
   ]
  },
  {
   "cell_type": "code",
   "execution_count": null,
   "metadata": {
    "collapsed": false
   },
   "outputs": [],
   "source": [
    "np.mean(dfy[dfy.bin==30][\"qualite\"])"
   ]
  },
  {
   "cell_type": "code",
   "execution_count": null,
   "metadata": {
    "collapsed": false
   },
   "outputs": [],
   "source": [
    "sum(abs(predicted_reviewText - y_test))"
   ]
  },
  {
   "cell_type": "markdown",
   "metadata": {},
   "source": [
    "## Bits of useless code (so far)"
   ]
  },
  {
   "cell_type": "code",
   "execution_count": null,
   "metadata": {
    "collapsed": false
   },
   "outputs": [],
   "source": [
    "#an example with another function TfidfVectorizer using frequency instead of count\n",
    "from sklearn.feature_extraction.text import TfidfVectorizer\n",
    "corpus = [\"This is very strange\",\n",
    "          \"This is very nice\"]\n",
    "vectorizer = TfidfVectorizer(min_df=1)\n",
    "X = vectorizer.fit_transform(corpus)\n",
    "idf = vectorizer.idf_\n",
    "print(dict(zip(vectorizer.get_feature_names(), idf)))"
   ]
  },
  {
   "cell_type": "code",
   "execution_count": null,
   "metadata": {
    "collapsed": false
   },
   "outputs": [],
   "source": [
    "# A possible approach that would require to construct pipelines\n",
    "from sklearn.pipeline import FeatureUnion\n",
    "from sklearn.feature_extraction import HashingVectorizer\n",
    "hash_vect = HashingVectorizer()"
   ]
  },
  {
   "cell_type": "code",
   "execution_count": null,
   "metadata": {
    "collapsed": false
   },
   "outputs": [],
   "source": [
    "for i in range(0,5) :\n",
    "        print(str(corpus_test_reviewText[i]) +\"\\n\"+ \"------ We predict \"+ str(predicted_reviewText[i])+\"\\n\")"
   ]
  },
  {
   "cell_type": "markdown",
   "metadata": {},
   "source": [
    "Then: draw multi class ROC Curve using this example: http://scikit-learn.org/stable/auto_examples/model_selection/plot_roc.html"
   ]
  },
  {
   "cell_type": "markdown",
   "metadata": {},
   "source": [
    "# Todo"
   ]
  },
  {
   "cell_type": "markdown",
   "metadata": {},
   "source": [
    "- Evaluation de la performance pour les différents blocs de features\n",
    "- Normalisation du nombre de mots\n",
    "- Classification binaire + courbe de ROC\n",
    "- Analyse de la performance en fonction du nombre de mots"
   ]
  }
 ],
 "metadata": {
  "kernelspec": {
   "display_name": "Python 3 (ENSAE)",
   "language": "python",
   "name": "python_3_ensae"
  },
  "language_info": {
   "codemirror_mode": {
    "name": "ipython",
    "version": 3
   },
   "file_extension": ".py",
   "mimetype": "text/x-python",
   "name": "python",
   "nbconvert_exporter": "python",
   "pygments_lexer": "ipython3",
   "version": "3.4.3"
  }
 },
 "nbformat": 4,
 "nbformat_minor": 0
}
